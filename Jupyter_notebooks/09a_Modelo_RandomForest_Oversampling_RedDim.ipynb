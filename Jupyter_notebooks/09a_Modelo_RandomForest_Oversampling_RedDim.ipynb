{
 "cells": [
  {
   "cell_type": "markdown",
   "metadata": {},
   "source": [
    "<img src=\"mbit_logo.png\" alt=\"drawing\" align=\"right\" style=\"float\" width=\"150\" height=\"150\"/>\n",
    "\n",
    "<font color=\"#D31525\"><h3 align=\"left\">Detección de fraude en transacciones financieras</h3></font>\n",
    "<font color=\"#2C3E50\"><h3 align=\"left\"> RANDOM FOREST + REDUCCIÓN DE ATRIBUTOS + UNDERSAMPLING </h3></font>"
   ]
  },
  {
   "cell_type": "markdown",
   "metadata": {},
   "source": [
    "## Importar librerias\n",
    "En esta primera parte del código, se realizan las llamadas a las librerías que se utilizarán en el Notebook:"
   ]
  },
  {
   "cell_type": "code",
   "execution_count": 16,
   "metadata": {},
   "outputs": [],
   "source": [
    "# Paquetes de manipulación de datos\n",
    "import pandas as pd\n",
    "import numpy as np\n",
    "import boto3\n",
    "\n",
    "# Ver el Log\n",
    "import logging, verboselogs\n",
    "\n",
    "# Paquetes de visualización\n",
    "import matplotlib.pyplot as plt\n",
    "import seaborn as sns\n",
    "\n",
    "# Paquetes para aplicar el modelo: Random Forest\n",
    "from sklearn.model_selection import GridSearchCV           # grid de parámetros definido\n",
    "from sklearn.model_selection import RandomizedSearchCV     # grid de parámetros aleatorios sobre una determinada\n",
    "import sklearn.metrics as metrics\n",
    "from sklearn.metrics import classification_report\n",
    "from sklearn.metrics import confusion_matrix\n",
    "from sklearn.model_selection import cross_validate\n",
    "from sklearn.metrics import roc_auc_score\n",
    "from sklearn.ensemble import RandomForestClassifier\n",
    "from sklearn.model_selection import train_test_split"
   ]
  },
  {
   "cell_type": "markdown",
   "metadata": {},
   "source": [
    "## Definición de funciones  \n",
    "A continuación, definimos una función que se encargará de hacer ajuste de parámetros del algoritmo, de acuerdo a los parámetros pasados como argumento, y que mostrará un informe con los resultados obtenidos."
   ]
  },
  {
   "cell_type": "code",
   "execution_count": 17,
   "metadata": {},
   "outputs": [],
   "source": [
    "def doGridSearch(model, grid, scores, X_train, y_train, X_test, y_test, columns, indices):\n",
    "    for score in scores:\n",
    "        print(\"# Tuning hyper-parameters for %s\" % score)\n",
    "        print()\n",
    "\n",
    "        clf=GridSearchCV(model, grid, cv=3, scoring='%s' % score, iid=False, verbose = 2)\n",
    "        clf.fit(X_train, y_train)\n",
    "\n",
    "        print(\"Best parameters set found on development set:\")\n",
    "        print()\n",
    "        print(clf.best_params_)\n",
    "        print()\n",
    "        print(\"Grid scores on development set:\")\n",
    "        print()\n",
    "\n",
    "        means=clf.cv_results_['mean_test_score']\n",
    "        stds =clf.cv_results_['std_test_score']\n",
    "\n",
    "        for mean, std, params in zip(means, stds, clf.cv_results_['params']):\n",
    "            print(\"%0.3f (+/-%0.03f) for %r\" % (mean, std * 2, params))\n",
    "        print()\n",
    "\n",
    "        print(\"Detailed classification report:\")\n",
    "        print()\n",
    "        print(\"The model is trained on the full development set.\")\n",
    "        print(\"The scores are computed on the full evaluation set.\")\n",
    "        print()\n",
    "        y_true, y_pred = y_test, clf.predict(X_test)\n",
    "        print(classification_report(y_true, y_pred))\n",
    "        print()\n",
    "\n",
    "        conf=pd.DataFrame(\n",
    "            confusion_matrix(y_test, y_pred),\n",
    "            columns=columns,\n",
    "            index  =indices\n",
    "        )\n",
    "        print(conf)\n",
    "        \n",
    "        return clf.best_estimator_"
   ]
  },
  {
   "cell_type": "markdown",
   "metadata": {},
   "source": [
    "## Importar DataSets\n",
    "Importamos los datasets Train-Test y Evaluación para los que se ha aplicado la reducción de atributos y submuestreo para ajustar la distribución de la clase mayoritaria."
   ]
  },
  {
   "cell_type": "code",
   "execution_count": 18,
   "metadata": {},
   "outputs": [],
   "source": [
    "s3 = boto3.client(\"s3\")\n",
    "\n",
    "# Seleccionamos el bucket con el que vamos a trabajar\n",
    "BUCKET_NAME = 'tfmfraud'"
   ]
  },
  {
   "cell_type": "markdown",
   "metadata": {},
   "source": [
    "## TrainTest"
   ]
  },
  {
   "cell_type": "code",
   "execution_count": 19,
   "metadata": {},
   "outputs": [],
   "source": [
    "# Descargamos el fichero del bucket de s3 a la máquina EC2 para poder trabajar con él.\n",
    "s3.download_file(Bucket = BUCKET_NAME, Key = 'train_test_over_dis.csv',Filename = '/tmp/train_test_over_dis.csv')"
   ]
  },
  {
   "cell_type": "code",
   "execution_count": 20,
   "metadata": {},
   "outputs": [],
   "source": [
    "#Leemos el fichero y lo metemos en un dataframe.\n",
    "trainTestDis = pd.read_csv('/tmp/train_test_over_dis.csv', dtype={'rank':'category'})"
   ]
  },
  {
   "cell_type": "code",
   "execution_count": 21,
   "metadata": {},
   "outputs": [
    {
     "name": "stdout",
     "output_type": "stream",
     "text": [
      "(470000, 9)\n"
     ]
    }
   ],
   "source": [
    "print (trainTestDis.shape)"
   ]
  },
  {
   "cell_type": "code",
   "execution_count": 22,
   "metadata": {},
   "outputs": [
    {
     "data": {
      "text/html": [
       "<div>\n",
       "<style scoped>\n",
       "    .dataframe tbody tr th:only-of-type {\n",
       "        vertical-align: middle;\n",
       "    }\n",
       "\n",
       "    .dataframe tbody tr th {\n",
       "        vertical-align: top;\n",
       "    }\n",
       "\n",
       "    .dataframe thead th {\n",
       "        text-align: right;\n",
       "    }\n",
       "</style>\n",
       "<table border=\"1\" class=\"dataframe\">\n",
       "  <thead>\n",
       "    <tr style=\"text-align: right;\">\n",
       "      <th></th>\n",
       "      <th>balanceOrig</th>\n",
       "      <th>balanceDest</th>\n",
       "      <th>newbalanceDest</th>\n",
       "      <th>amount</th>\n",
       "      <th>day</th>\n",
       "      <th>hours_day</th>\n",
       "      <th>type_TRANSFER</th>\n",
       "      <th>newbalanceOrig</th>\n",
       "      <th>isFraud</th>\n",
       "    </tr>\n",
       "  </thead>\n",
       "  <tbody>\n",
       "    <tr>\n",
       "      <th>0</th>\n",
       "      <td>181.0</td>\n",
       "      <td>0.0</td>\n",
       "      <td>0.0</td>\n",
       "      <td>181.0</td>\n",
       "      <td>1</td>\n",
       "      <td>1</td>\n",
       "      <td>1</td>\n",
       "      <td>0.0</td>\n",
       "      <td>1.0</td>\n",
       "    </tr>\n",
       "    <tr>\n",
       "      <th>1</th>\n",
       "      <td>181.0</td>\n",
       "      <td>-21182.0</td>\n",
       "      <td>0.0</td>\n",
       "      <td>181.0</td>\n",
       "      <td>1</td>\n",
       "      <td>1</td>\n",
       "      <td>0</td>\n",
       "      <td>0.0</td>\n",
       "      <td>1.0</td>\n",
       "    </tr>\n",
       "    <tr>\n",
       "      <th>2</th>\n",
       "      <td>2806.0</td>\n",
       "      <td>0.0</td>\n",
       "      <td>0.0</td>\n",
       "      <td>2806.0</td>\n",
       "      <td>1</td>\n",
       "      <td>1</td>\n",
       "      <td>1</td>\n",
       "      <td>0.0</td>\n",
       "      <td>1.0</td>\n",
       "    </tr>\n",
       "    <tr>\n",
       "      <th>3</th>\n",
       "      <td>2806.0</td>\n",
       "      <td>-26202.0</td>\n",
       "      <td>0.0</td>\n",
       "      <td>2806.0</td>\n",
       "      <td>1</td>\n",
       "      <td>1</td>\n",
       "      <td>0</td>\n",
       "      <td>0.0</td>\n",
       "      <td>1.0</td>\n",
       "    </tr>\n",
       "    <tr>\n",
       "      <th>4</th>\n",
       "      <td>20128.0</td>\n",
       "      <td>0.0</td>\n",
       "      <td>0.0</td>\n",
       "      <td>20128.0</td>\n",
       "      <td>1</td>\n",
       "      <td>1</td>\n",
       "      <td>1</td>\n",
       "      <td>0.0</td>\n",
       "      <td>1.0</td>\n",
       "    </tr>\n",
       "  </tbody>\n",
       "</table>\n",
       "</div>"
      ],
      "text/plain": [
       "   balanceOrig  balanceDest  newbalanceDest   amount  day  hours_day  \\\n",
       "0        181.0          0.0             0.0    181.0    1          1   \n",
       "1        181.0     -21182.0             0.0    181.0    1          1   \n",
       "2       2806.0          0.0             0.0   2806.0    1          1   \n",
       "3       2806.0     -26202.0             0.0   2806.0    1          1   \n",
       "4      20128.0          0.0             0.0  20128.0    1          1   \n",
       "\n",
       "   type_TRANSFER  newbalanceOrig  isFraud  \n",
       "0              1             0.0      1.0  \n",
       "1              0             0.0      1.0  \n",
       "2              1             0.0      1.0  \n",
       "3              0             0.0      1.0  \n",
       "4              1             0.0      1.0  "
      ]
     },
     "execution_count": 22,
     "metadata": {},
     "output_type": "execute_result"
    }
   ],
   "source": [
    "trainTestDis.head()"
   ]
  },
  {
   "cell_type": "code",
   "execution_count": 23,
   "metadata": {},
   "outputs": [
    {
     "data": {
      "text/plain": [
       "0.0    420800\n",
       "1.0     49200\n",
       "Name: isFraud, dtype: int64"
      ]
     },
     "execution_count": 23,
     "metadata": {},
     "output_type": "execute_result"
    }
   ],
   "source": [
    "pd.value_counts(trainTestDis['isFraud'])"
   ]
  },
  {
   "cell_type": "code",
   "execution_count": 24,
   "metadata": {},
   "outputs": [],
   "source": [
    "# Eliminar el fichero de la ruta tmp de la máquina EC2 para no ocupar espacio.\n",
    "!rm /tmp/train_test_over_dis.csv"
   ]
  },
  {
   "cell_type": "markdown",
   "metadata": {},
   "source": [
    "## Evaluacion"
   ]
  },
  {
   "cell_type": "code",
   "execution_count": 26,
   "metadata": {},
   "outputs": [],
   "source": [
    "# Descargamos el fichero del bucket de s3 a la máquina EC2 para poder trabajar con él.\n",
    "s3.download_file(Bucket = BUCKET_NAME, Key = 'eval_over_dis.csv',Filename = '/tmp/eval_over_dis.csv')"
   ]
  },
  {
   "cell_type": "code",
   "execution_count": 27,
   "metadata": {},
   "outputs": [],
   "source": [
    "#Leemos el fichero y lo metemos en un dataframe.\n",
    "evalDis = pd.read_csv('/tmp/eval_over_dis.csv', dtype={'rank':'category'})"
   ]
  },
  {
   "cell_type": "code",
   "execution_count": 28,
   "metadata": {},
   "outputs": [
    {
     "name": "stdout",
     "output_type": "stream",
     "text": [
      "(80000, 9)\n"
     ]
    }
   ],
   "source": [
    "print (evalDis.shape)"
   ]
  },
  {
   "cell_type": "code",
   "execution_count": 29,
   "metadata": {
    "scrolled": true
   },
   "outputs": [
    {
     "data": {
      "text/html": [
       "<div>\n",
       "<style scoped>\n",
       "    .dataframe tbody tr th:only-of-type {\n",
       "        vertical-align: middle;\n",
       "    }\n",
       "\n",
       "    .dataframe tbody tr th {\n",
       "        vertical-align: top;\n",
       "    }\n",
       "\n",
       "    .dataframe thead th {\n",
       "        text-align: right;\n",
       "    }\n",
       "</style>\n",
       "<table border=\"1\" class=\"dataframe\">\n",
       "  <thead>\n",
       "    <tr style=\"text-align: right;\">\n",
       "      <th></th>\n",
       "      <th>balanceOrig</th>\n",
       "      <th>balanceDest</th>\n",
       "      <th>newbalanceDest</th>\n",
       "      <th>amount</th>\n",
       "      <th>day</th>\n",
       "      <th>hours_day</th>\n",
       "      <th>type_TRANSFER</th>\n",
       "      <th>newbalanceOrig</th>\n",
       "      <th>isFraud</th>\n",
       "    </tr>\n",
       "  </thead>\n",
       "  <tbody>\n",
       "    <tr>\n",
       "      <th>0</th>\n",
       "      <td>8.318578e+06</td>\n",
       "      <td>8.318578e+06</td>\n",
       "      <td>8.574436e+06</td>\n",
       "      <td>8.318578e+06</td>\n",
       "      <td>9</td>\n",
       "      <td>20</td>\n",
       "      <td>0</td>\n",
       "      <td>0.0</td>\n",
       "      <td>1.0</td>\n",
       "    </tr>\n",
       "    <tr>\n",
       "      <th>1</th>\n",
       "      <td>3.207200e+05</td>\n",
       "      <td>3.207200e+05</td>\n",
       "      <td>1.368527e+06</td>\n",
       "      <td>3.207200e+05</td>\n",
       "      <td>29</td>\n",
       "      <td>5</td>\n",
       "      <td>0</td>\n",
       "      <td>0.0</td>\n",
       "      <td>1.0</td>\n",
       "    </tr>\n",
       "    <tr>\n",
       "      <th>2</th>\n",
       "      <td>2.480947e+06</td>\n",
       "      <td>0.000000e+00</td>\n",
       "      <td>0.000000e+00</td>\n",
       "      <td>2.480947e+06</td>\n",
       "      <td>6</td>\n",
       "      <td>13</td>\n",
       "      <td>1</td>\n",
       "      <td>0.0</td>\n",
       "      <td>1.0</td>\n",
       "    </tr>\n",
       "    <tr>\n",
       "      <th>3</th>\n",
       "      <td>3.607461e+04</td>\n",
       "      <td>0.000000e+00</td>\n",
       "      <td>0.000000e+00</td>\n",
       "      <td>3.607461e+04</td>\n",
       "      <td>8</td>\n",
       "      <td>19</td>\n",
       "      <td>1</td>\n",
       "      <td>0.0</td>\n",
       "      <td>1.0</td>\n",
       "    </tr>\n",
       "    <tr>\n",
       "      <th>4</th>\n",
       "      <td>2.727997e+04</td>\n",
       "      <td>0.000000e+00</td>\n",
       "      <td>0.000000e+00</td>\n",
       "      <td>2.727997e+04</td>\n",
       "      <td>18</td>\n",
       "      <td>7</td>\n",
       "      <td>1</td>\n",
       "      <td>0.0</td>\n",
       "      <td>1.0</td>\n",
       "    </tr>\n",
       "  </tbody>\n",
       "</table>\n",
       "</div>"
      ],
      "text/plain": [
       "    balanceOrig   balanceDest  newbalanceDest        amount  day  hours_day  \\\n",
       "0  8.318578e+06  8.318578e+06    8.574436e+06  8.318578e+06    9         20   \n",
       "1  3.207200e+05  3.207200e+05    1.368527e+06  3.207200e+05   29          5   \n",
       "2  2.480947e+06  0.000000e+00    0.000000e+00  2.480947e+06    6         13   \n",
       "3  3.607461e+04  0.000000e+00    0.000000e+00  3.607461e+04    8         19   \n",
       "4  2.727997e+04  0.000000e+00    0.000000e+00  2.727997e+04   18          7   \n",
       "\n",
       "   type_TRANSFER  newbalanceOrig  isFraud  \n",
       "0              0             0.0      1.0  \n",
       "1              0             0.0      1.0  \n",
       "2              1             0.0      1.0  \n",
       "3              1             0.0      1.0  \n",
       "4              1             0.0      1.0  "
      ]
     },
     "execution_count": 29,
     "metadata": {},
     "output_type": "execute_result"
    }
   ],
   "source": [
    "evalDis.head()"
   ]
  },
  {
   "cell_type": "code",
   "execution_count": 30,
   "metadata": {},
   "outputs": [
    {
     "data": {
      "text/plain": [
       "0.0    79200\n",
       "1.0      800\n",
       "Name: isFraud, dtype: int64"
      ]
     },
     "execution_count": 30,
     "metadata": {},
     "output_type": "execute_result"
    }
   ],
   "source": [
    "pd.value_counts(evalDis['isFraud'])"
   ]
  },
  {
   "cell_type": "code",
   "execution_count": 31,
   "metadata": {},
   "outputs": [],
   "source": [
    "# Eliminar el fichero de la ruta tmp de la máquina EC2 para no ocupar espacio.\n",
    "!rm /tmp/eval_over_dis.csv"
   ]
  },
  {
   "cell_type": "markdown",
   "metadata": {},
   "source": [
    "## Random Forest\n",
    "En este caso, para el modelo de Random Forest no es necesario aplicar normalización en los datos puesto que este tipo de modelos no se ven afectados por los ordenes de magnitud de los atributos."
   ]
  },
  {
   "cell_type": "markdown",
   "metadata": {},
   "source": [
    "### Entrenamiento y test del modelo"
   ]
  },
  {
   "cell_type": "code",
   "execution_count": 32,
   "metadata": {},
   "outputs": [],
   "source": [
    "# Para iniciar con el modelo, separamos en X las variables independientes y en Y la variable dependiente:\n",
    "y = trainTestDis.loc[:, 'isFraud'].values\n",
    "X = trainTestDis.drop(columns=['isFraud']).values"
   ]
  },
  {
   "cell_type": "code",
   "execution_count": 33,
   "metadata": {},
   "outputs": [
    {
     "data": {
      "text/plain": [
       "((329000, 8), (141000, 8), (329000,), (141000,))"
      ]
     },
     "execution_count": 33,
     "metadata": {},
     "output_type": "execute_result"
    }
   ],
   "source": [
    "# Creamos los conjuntos de entrenamiento y test:\n",
    "seed = 7\n",
    "X_train, X_test, y_train, y_test = train_test_split(X, y, test_size=0.3, random_state=seed)\n",
    "\n",
    "# Verificamos los tamaños de los df:\n",
    "X_train.shape, X_test.shape, y_train.shape, y_test.shape"
   ]
  },
  {
   "cell_type": "code",
   "execution_count": 18,
   "metadata": {},
   "outputs": [],
   "source": [
    "# Creamos la malla de parámetros con los que se evaluará el algoritmo Random Forest\n",
    "    # n_estimators --> numero de arboles de decision del modelo\n",
    "    # max_features --> numero de elementos que va a utilizar el RandomForest\n",
    "    # max depth --> Numero máximo de profundidad del arbol ( numero de niveles)\n",
    "tuned_parameters={'n_estimators': [10, 50, 100, 200, 500],\n",
    "                  'max_features': ['auto', 'sqrt', 0.5, 0.7, 0.9, None],\n",
    "                  'max_depth'   : [5,10, 15,20]}"
   ]
  },
  {
   "cell_type": "code",
   "execution_count": 21,
   "metadata": {},
   "outputs": [
    {
     "name": "stdout",
     "output_type": "stream",
     "text": [
      "# Tuning hyper-parameters for recall\n",
      "\n",
      "Fitting 3 folds for each of 120 candidates, totalling 360 fits\n",
      "[CV] max_depth=5, max_features=auto, n_estimators=10 .................\n"
     ]
    },
    {
     "name": "stderr",
     "output_type": "stream",
     "text": [
      "[Parallel(n_jobs=1)]: Using backend SequentialBackend with 1 concurrent workers.\n"
     ]
    },
    {
     "name": "stdout",
     "output_type": "stream",
     "text": [
      "[CV] .. max_depth=5, max_features=auto, n_estimators=10, total=   1.3s\n",
      "[CV] max_depth=5, max_features=auto, n_estimators=10 .................\n"
     ]
    },
    {
     "name": "stderr",
     "output_type": "stream",
     "text": [
      "[Parallel(n_jobs=1)]: Done   1 out of   1 | elapsed:    1.3s remaining:    0.0s\n"
     ]
    },
    {
     "name": "stdout",
     "output_type": "stream",
     "text": [
      "[CV] .. max_depth=5, max_features=auto, n_estimators=10, total=   1.5s\n",
      "[CV] max_depth=5, max_features=auto, n_estimators=10 .................\n",
      "[CV] .. max_depth=5, max_features=auto, n_estimators=10, total=   1.5s\n",
      "[CV] max_depth=5, max_features=auto, n_estimators=50 .................\n",
      "[CV] .. max_depth=5, max_features=auto, n_estimators=50, total=   7.0s\n",
      "[CV] max_depth=5, max_features=auto, n_estimators=50 .................\n",
      "[CV] .. max_depth=5, max_features=auto, n_estimators=50, total=   6.9s\n",
      "[CV] max_depth=5, max_features=auto, n_estimators=50 .................\n",
      "[CV] .. max_depth=5, max_features=auto, n_estimators=50, total=   6.9s\n",
      "[CV] max_depth=5, max_features=auto, n_estimators=100 ................\n",
      "[CV] . max_depth=5, max_features=auto, n_estimators=100, total=  13.6s\n",
      "[CV] max_depth=5, max_features=auto, n_estimators=100 ................\n",
      "[CV] . max_depth=5, max_features=auto, n_estimators=100, total=  13.6s\n",
      "[CV] max_depth=5, max_features=auto, n_estimators=100 ................\n",
      "[CV] . max_depth=5, max_features=auto, n_estimators=100, total=  13.9s\n",
      "[CV] max_depth=5, max_features=auto, n_estimators=200 ................\n",
      "[CV] . max_depth=5, max_features=auto, n_estimators=200, total=  27.1s\n",
      "[CV] max_depth=5, max_features=auto, n_estimators=200 ................\n",
      "[CV] . max_depth=5, max_features=auto, n_estimators=200, total=  27.0s\n",
      "[CV] max_depth=5, max_features=auto, n_estimators=200 ................\n",
      "[CV] . max_depth=5, max_features=auto, n_estimators=200, total=  27.8s\n",
      "[CV] max_depth=5, max_features=auto, n_estimators=500 ................\n",
      "[CV] . max_depth=5, max_features=auto, n_estimators=500, total= 1.1min\n",
      "[CV] max_depth=5, max_features=auto, n_estimators=500 ................\n",
      "[CV] . max_depth=5, max_features=auto, n_estimators=500, total= 1.2min\n",
      "[CV] max_depth=5, max_features=auto, n_estimators=500 ................\n",
      "[CV] . max_depth=5, max_features=auto, n_estimators=500, total= 1.2min\n",
      "[CV] max_depth=5, max_features=sqrt, n_estimators=10 .................\n",
      "[CV] .. max_depth=5, max_features=sqrt, n_estimators=10, total=   1.6s\n",
      "[CV] max_depth=5, max_features=sqrt, n_estimators=10 .................\n",
      "[CV] .. max_depth=5, max_features=sqrt, n_estimators=10, total=   1.6s\n",
      "[CV] max_depth=5, max_features=sqrt, n_estimators=10 .................\n",
      "[CV] .. max_depth=5, max_features=sqrt, n_estimators=10, total=   1.5s\n",
      "[CV] max_depth=5, max_features=sqrt, n_estimators=50 .................\n",
      "[CV] .. max_depth=5, max_features=sqrt, n_estimators=50, total=   6.9s\n",
      "[CV] max_depth=5, max_features=sqrt, n_estimators=50 .................\n",
      "[CV] .. max_depth=5, max_features=sqrt, n_estimators=50, total=   7.0s\n",
      "[CV] max_depth=5, max_features=sqrt, n_estimators=50 .................\n",
      "[CV] .. max_depth=5, max_features=sqrt, n_estimators=50, total=   6.7s\n",
      "[CV] max_depth=5, max_features=sqrt, n_estimators=100 ................\n",
      "[CV] . max_depth=5, max_features=sqrt, n_estimators=100, total=  13.5s\n",
      "[CV] max_depth=5, max_features=sqrt, n_estimators=100 ................\n",
      "[CV] . max_depth=5, max_features=sqrt, n_estimators=100, total=  13.9s\n",
      "[CV] max_depth=5, max_features=sqrt, n_estimators=100 ................\n",
      "[CV] . max_depth=5, max_features=sqrt, n_estimators=100, total=  13.4s\n",
      "[CV] max_depth=5, max_features=sqrt, n_estimators=200 ................\n",
      "[CV] . max_depth=5, max_features=sqrt, n_estimators=200, total=  28.7s\n",
      "[CV] max_depth=5, max_features=sqrt, n_estimators=200 ................\n",
      "[CV] . max_depth=5, max_features=sqrt, n_estimators=200, total=  29.3s\n",
      "[CV] max_depth=5, max_features=sqrt, n_estimators=200 ................\n",
      "[CV] . max_depth=5, max_features=sqrt, n_estimators=200, total=  28.9s\n",
      "[CV] max_depth=5, max_features=sqrt, n_estimators=500 ................\n",
      "[CV] . max_depth=5, max_features=sqrt, n_estimators=500, total= 1.2min\n",
      "[CV] max_depth=5, max_features=sqrt, n_estimators=500 ................\n",
      "[CV] . max_depth=5, max_features=sqrt, n_estimators=500, total= 1.2min\n",
      "[CV] max_depth=5, max_features=sqrt, n_estimators=500 ................\n",
      "[CV] . max_depth=5, max_features=sqrt, n_estimators=500, total= 1.1min\n",
      "[CV] max_depth=5, max_features=0.5, n_estimators=10 ..................\n",
      "[CV] ... max_depth=5, max_features=0.5, n_estimators=10, total=   2.6s\n",
      "[CV] max_depth=5, max_features=0.5, n_estimators=10 ..................\n",
      "[CV] ... max_depth=5, max_features=0.5, n_estimators=10, total=   2.6s\n",
      "[CV] max_depth=5, max_features=0.5, n_estimators=10 ..................\n",
      "[CV] ... max_depth=5, max_features=0.5, n_estimators=10, total=   2.6s\n",
      "[CV] max_depth=5, max_features=0.5, n_estimators=50 ..................\n",
      "[CV] ... max_depth=5, max_features=0.5, n_estimators=50, total=  12.7s\n",
      "[CV] max_depth=5, max_features=0.5, n_estimators=50 ..................\n",
      "[CV] ... max_depth=5, max_features=0.5, n_estimators=50, total=  12.6s\n",
      "[CV] max_depth=5, max_features=0.5, n_estimators=50 ..................\n",
      "[CV] ... max_depth=5, max_features=0.5, n_estimators=50, total=  12.2s\n",
      "[CV] max_depth=5, max_features=0.5, n_estimators=100 .................\n",
      "[CV] .. max_depth=5, max_features=0.5, n_estimators=100, total=  25.7s\n",
      "[CV] max_depth=5, max_features=0.5, n_estimators=100 .................\n",
      "[CV] .. max_depth=5, max_features=0.5, n_estimators=100, total=  25.1s\n",
      "[CV] max_depth=5, max_features=0.5, n_estimators=100 .................\n",
      "[CV] .. max_depth=5, max_features=0.5, n_estimators=100, total=  24.2s\n",
      "[CV] max_depth=5, max_features=0.5, n_estimators=200 .................\n",
      "[CV] .. max_depth=5, max_features=0.5, n_estimators=200, total=  49.4s\n",
      "[CV] max_depth=5, max_features=0.5, n_estimators=200 .................\n",
      "[CV] .. max_depth=5, max_features=0.5, n_estimators=200, total=  51.0s\n",
      "[CV] max_depth=5, max_features=0.5, n_estimators=200 .................\n",
      "[CV] .. max_depth=5, max_features=0.5, n_estimators=200, total=  49.4s\n",
      "[CV] max_depth=5, max_features=0.5, n_estimators=500 .................\n",
      "[CV] .. max_depth=5, max_features=0.5, n_estimators=500, total= 2.0min\n",
      "[CV] max_depth=5, max_features=0.5, n_estimators=500 .................\n",
      "[CV] .. max_depth=5, max_features=0.5, n_estimators=500, total= 2.0min\n",
      "[CV] max_depth=5, max_features=0.5, n_estimators=500 .................\n",
      "[CV] .. max_depth=5, max_features=0.5, n_estimators=500, total= 2.0min\n",
      "[CV] max_depth=5, max_features=0.7, n_estimators=10 ..................\n",
      "[CV] ... max_depth=5, max_features=0.7, n_estimators=10, total=   3.1s\n",
      "[CV] max_depth=5, max_features=0.7, n_estimators=10 ..................\n",
      "[CV] ... max_depth=5, max_features=0.7, n_estimators=10, total=   3.0s\n",
      "[CV] max_depth=5, max_features=0.7, n_estimators=10 ..................\n",
      "[CV] ... max_depth=5, max_features=0.7, n_estimators=10, total=   3.0s\n",
      "[CV] max_depth=5, max_features=0.7, n_estimators=50 ..................\n",
      "[CV] ... max_depth=5, max_features=0.7, n_estimators=50, total=  14.8s\n",
      "[CV] max_depth=5, max_features=0.7, n_estimators=50 ..................\n",
      "[CV] ... max_depth=5, max_features=0.7, n_estimators=50, total=  14.8s\n",
      "[CV] max_depth=5, max_features=0.7, n_estimators=50 ..................\n",
      "[CV] ... max_depth=5, max_features=0.7, n_estimators=50, total=  15.0s\n",
      "[CV] max_depth=5, max_features=0.7, n_estimators=100 .................\n",
      "[CV] .. max_depth=5, max_features=0.7, n_estimators=100, total=  29.5s\n",
      "[CV] max_depth=5, max_features=0.7, n_estimators=100 .................\n",
      "[CV] .. max_depth=5, max_features=0.7, n_estimators=100, total=  30.0s\n",
      "[CV] max_depth=5, max_features=0.7, n_estimators=100 .................\n",
      "[CV] .. max_depth=5, max_features=0.7, n_estimators=100, total=  29.2s\n",
      "[CV] max_depth=5, max_features=0.7, n_estimators=200 .................\n",
      "[CV] .. max_depth=5, max_features=0.7, n_estimators=200, total=  59.6s\n",
      "[CV] max_depth=5, max_features=0.7, n_estimators=200 .................\n",
      "[CV] .. max_depth=5, max_features=0.7, n_estimators=200, total=  58.7s\n",
      "[CV] max_depth=5, max_features=0.7, n_estimators=200 .................\n",
      "[CV] .. max_depth=5, max_features=0.7, n_estimators=200, total= 1.0min\n",
      "[CV] max_depth=5, max_features=0.7, n_estimators=500 .................\n",
      "[CV] .. max_depth=5, max_features=0.7, n_estimators=500, total= 2.4min\n",
      "[CV] max_depth=5, max_features=0.7, n_estimators=500 .................\n",
      "[CV] .. max_depth=5, max_features=0.7, n_estimators=500, total= 2.4min\n",
      "[CV] max_depth=5, max_features=0.7, n_estimators=500 .................\n"
     ]
    },
    {
     "name": "stdout",
     "output_type": "stream",
     "text": [
      "[CV] .. max_depth=5, max_features=0.7, n_estimators=500, total= 2.5min\n",
      "[CV] max_depth=5, max_features=0.9, n_estimators=10 ..................\n",
      "[CV] ... max_depth=5, max_features=0.9, n_estimators=10, total=   4.2s\n",
      "[CV] max_depth=5, max_features=0.9, n_estimators=10 ..................\n",
      "[CV] ... max_depth=5, max_features=0.9, n_estimators=10, total=   4.2s\n",
      "[CV] max_depth=5, max_features=0.9, n_estimators=10 ..................\n",
      "[CV] ... max_depth=5, max_features=0.9, n_estimators=10, total=   4.1s\n",
      "[CV] max_depth=5, max_features=0.9, n_estimators=50 ..................\n",
      "[CV] ... max_depth=5, max_features=0.9, n_estimators=50, total=  20.4s\n",
      "[CV] max_depth=5, max_features=0.9, n_estimators=50 ..................\n",
      "[CV] ... max_depth=5, max_features=0.9, n_estimators=50, total=  20.5s\n",
      "[CV] max_depth=5, max_features=0.9, n_estimators=50 ..................\n",
      "[CV] ... max_depth=5, max_features=0.9, n_estimators=50, total=  20.5s\n",
      "[CV] max_depth=5, max_features=0.9, n_estimators=100 .................\n",
      "[CV] .. max_depth=5, max_features=0.9, n_estimators=100, total=  40.1s\n",
      "[CV] max_depth=5, max_features=0.9, n_estimators=100 .................\n",
      "[CV] .. max_depth=5, max_features=0.9, n_estimators=100, total=  40.3s\n",
      "[CV] max_depth=5, max_features=0.9, n_estimators=100 .................\n",
      "[CV] .. max_depth=5, max_features=0.9, n_estimators=100, total=  39.8s\n",
      "[CV] max_depth=5, max_features=0.9, n_estimators=200 .................\n",
      "[CV] .. max_depth=5, max_features=0.9, n_estimators=200, total= 1.3min\n",
      "[CV] max_depth=5, max_features=0.9, n_estimators=200 .................\n",
      "[CV] .. max_depth=5, max_features=0.9, n_estimators=200, total= 1.3min\n",
      "[CV] max_depth=5, max_features=0.9, n_estimators=200 .................\n",
      "[CV] .. max_depth=5, max_features=0.9, n_estimators=200, total= 1.3min\n",
      "[CV] max_depth=5, max_features=0.9, n_estimators=500 .................\n",
      "[CV] .. max_depth=5, max_features=0.9, n_estimators=500, total= 3.4min\n",
      "[CV] max_depth=5, max_features=0.9, n_estimators=500 .................\n",
      "[CV] .. max_depth=5, max_features=0.9, n_estimators=500, total= 3.4min\n",
      "[CV] max_depth=5, max_features=0.9, n_estimators=500 .................\n",
      "[CV] .. max_depth=5, max_features=0.9, n_estimators=500, total= 3.4min\n",
      "[CV] max_depth=5, max_features=None, n_estimators=10 .................\n",
      "[CV] .. max_depth=5, max_features=None, n_estimators=10, total=   4.7s\n",
      "[CV] max_depth=5, max_features=None, n_estimators=10 .................\n",
      "[CV] .. max_depth=5, max_features=None, n_estimators=10, total=   4.6s\n",
      "[CV] max_depth=5, max_features=None, n_estimators=10 .................\n",
      "[CV] .. max_depth=5, max_features=None, n_estimators=10, total=   4.6s\n",
      "[CV] max_depth=5, max_features=None, n_estimators=50 .................\n",
      "[CV] .. max_depth=5, max_features=None, n_estimators=50, total=  23.1s\n",
      "[CV] max_depth=5, max_features=None, n_estimators=50 .................\n",
      "[CV] .. max_depth=5, max_features=None, n_estimators=50, total=  23.0s\n",
      "[CV] max_depth=5, max_features=None, n_estimators=50 .................\n",
      "[CV] .. max_depth=5, max_features=None, n_estimators=50, total=  22.9s\n",
      "[CV] max_depth=5, max_features=None, n_estimators=100 ................\n",
      "[CV] . max_depth=5, max_features=None, n_estimators=100, total=  45.9s\n",
      "[CV] max_depth=5, max_features=None, n_estimators=100 ................\n",
      "[CV] . max_depth=5, max_features=None, n_estimators=100, total=  45.2s\n",
      "[CV] max_depth=5, max_features=None, n_estimators=100 ................\n",
      "[CV] . max_depth=5, max_features=None, n_estimators=100, total=  45.5s\n",
      "[CV] max_depth=5, max_features=None, n_estimators=200 ................\n",
      "[CV] . max_depth=5, max_features=None, n_estimators=200, total= 1.5min\n",
      "[CV] max_depth=5, max_features=None, n_estimators=200 ................\n",
      "[CV] . max_depth=5, max_features=None, n_estimators=200, total= 1.5min\n",
      "[CV] max_depth=5, max_features=None, n_estimators=200 ................\n",
      "[CV] . max_depth=5, max_features=None, n_estimators=200, total= 1.5min\n",
      "[CV] max_depth=5, max_features=None, n_estimators=500 ................\n",
      "[CV] . max_depth=5, max_features=None, n_estimators=500, total= 3.8min\n",
      "[CV] max_depth=5, max_features=None, n_estimators=500 ................\n",
      "[CV] . max_depth=5, max_features=None, n_estimators=500, total= 3.8min\n",
      "[CV] max_depth=5, max_features=None, n_estimators=500 ................\n",
      "[CV] . max_depth=5, max_features=None, n_estimators=500, total= 3.8min\n",
      "[CV] max_depth=10, max_features=auto, n_estimators=10 ................\n",
      "[CV] . max_depth=10, max_features=auto, n_estimators=10, total=   2.4s\n",
      "[CV] max_depth=10, max_features=auto, n_estimators=10 ................\n",
      "[CV] . max_depth=10, max_features=auto, n_estimators=10, total=   2.4s\n",
      "[CV] max_depth=10, max_features=auto, n_estimators=10 ................\n",
      "[CV] . max_depth=10, max_features=auto, n_estimators=10, total=   2.4s\n",
      "[CV] max_depth=10, max_features=auto, n_estimators=50 ................\n",
      "[CV] . max_depth=10, max_features=auto, n_estimators=50, total=  11.8s\n",
      "[CV] max_depth=10, max_features=auto, n_estimators=50 ................\n",
      "[CV] . max_depth=10, max_features=auto, n_estimators=50, total=  11.7s\n",
      "[CV] max_depth=10, max_features=auto, n_estimators=50 ................\n",
      "[CV] . max_depth=10, max_features=auto, n_estimators=50, total=  11.7s\n",
      "[CV] max_depth=10, max_features=auto, n_estimators=100 ...............\n",
      "[CV]  max_depth=10, max_features=auto, n_estimators=100, total=  23.4s\n",
      "[CV] max_depth=10, max_features=auto, n_estimators=100 ...............\n",
      "[CV]  max_depth=10, max_features=auto, n_estimators=100, total=  23.3s\n",
      "[CV] max_depth=10, max_features=auto, n_estimators=100 ...............\n",
      "[CV]  max_depth=10, max_features=auto, n_estimators=100, total=  23.3s\n",
      "[CV] max_depth=10, max_features=auto, n_estimators=200 ...............\n",
      "[CV]  max_depth=10, max_features=auto, n_estimators=200, total=  47.2s\n",
      "[CV] max_depth=10, max_features=auto, n_estimators=200 ...............\n",
      "[CV]  max_depth=10, max_features=auto, n_estimators=200, total=  46.5s\n",
      "[CV] max_depth=10, max_features=auto, n_estimators=200 ...............\n",
      "[CV]  max_depth=10, max_features=auto, n_estimators=200, total=  46.3s\n",
      "[CV] max_depth=10, max_features=auto, n_estimators=500 ...............\n",
      "[CV]  max_depth=10, max_features=auto, n_estimators=500, total= 1.9min\n",
      "[CV] max_depth=10, max_features=auto, n_estimators=500 ...............\n",
      "[CV]  max_depth=10, max_features=auto, n_estimators=500, total= 2.0min\n",
      "[CV] max_depth=10, max_features=auto, n_estimators=500 ...............\n",
      "[CV]  max_depth=10, max_features=auto, n_estimators=500, total= 1.9min\n",
      "[CV] max_depth=10, max_features=sqrt, n_estimators=10 ................\n",
      "[CV] . max_depth=10, max_features=sqrt, n_estimators=10, total=   2.5s\n",
      "[CV] max_depth=10, max_features=sqrt, n_estimators=10 ................\n",
      "[CV] . max_depth=10, max_features=sqrt, n_estimators=10, total=   2.3s\n",
      "[CV] max_depth=10, max_features=sqrt, n_estimators=10 ................\n",
      "[CV] . max_depth=10, max_features=sqrt, n_estimators=10, total=   2.4s\n",
      "[CV] max_depth=10, max_features=sqrt, n_estimators=50 ................\n",
      "[CV] . max_depth=10, max_features=sqrt, n_estimators=50, total=  11.5s\n",
      "[CV] max_depth=10, max_features=sqrt, n_estimators=50 ................\n",
      "[CV] . max_depth=10, max_features=sqrt, n_estimators=50, total=  12.0s\n",
      "[CV] max_depth=10, max_features=sqrt, n_estimators=50 ................\n",
      "[CV] . max_depth=10, max_features=sqrt, n_estimators=50, total=  11.6s\n",
      "[CV] max_depth=10, max_features=sqrt, n_estimators=100 ...............\n",
      "[CV]  max_depth=10, max_features=sqrt, n_estimators=100, total=  24.0s\n",
      "[CV] max_depth=10, max_features=sqrt, n_estimators=100 ...............\n",
      "[CV]  max_depth=10, max_features=sqrt, n_estimators=100, total=  24.0s\n",
      "[CV] max_depth=10, max_features=sqrt, n_estimators=100 ...............\n",
      "[CV]  max_depth=10, max_features=sqrt, n_estimators=100, total=  23.5s\n",
      "[CV] max_depth=10, max_features=sqrt, n_estimators=200 ...............\n",
      "[CV]  max_depth=10, max_features=sqrt, n_estimators=200, total=  46.3s\n",
      "[CV] max_depth=10, max_features=sqrt, n_estimators=200 ...............\n",
      "[CV]  max_depth=10, max_features=sqrt, n_estimators=200, total=  47.7s\n",
      "[CV] max_depth=10, max_features=sqrt, n_estimators=200 ...............\n",
      "[CV]  max_depth=10, max_features=sqrt, n_estimators=200, total=  46.4s\n",
      "[CV] max_depth=10, max_features=sqrt, n_estimators=500 ...............\n"
     ]
    },
    {
     "name": "stdout",
     "output_type": "stream",
     "text": [
      "[CV]  max_depth=10, max_features=sqrt, n_estimators=500, total= 1.9min\n",
      "[CV] max_depth=10, max_features=sqrt, n_estimators=500 ...............\n",
      "[CV]  max_depth=10, max_features=sqrt, n_estimators=500, total= 2.0min\n",
      "[CV] max_depth=10, max_features=sqrt, n_estimators=500 ...............\n",
      "[CV]  max_depth=10, max_features=sqrt, n_estimators=500, total= 1.9min\n",
      "[CV] max_depth=10, max_features=0.5, n_estimators=10 .................\n",
      "[CV] .. max_depth=10, max_features=0.5, n_estimators=10, total=   4.4s\n",
      "[CV] max_depth=10, max_features=0.5, n_estimators=10 .................\n",
      "[CV] .. max_depth=10, max_features=0.5, n_estimators=10, total=   4.4s\n",
      "[CV] max_depth=10, max_features=0.5, n_estimators=10 .................\n",
      "[CV] .. max_depth=10, max_features=0.5, n_estimators=10, total=   4.4s\n",
      "[CV] max_depth=10, max_features=0.5, n_estimators=50 .................\n",
      "[CV] .. max_depth=10, max_features=0.5, n_estimators=50, total=  21.3s\n",
      "[CV] max_depth=10, max_features=0.5, n_estimators=50 .................\n",
      "[CV] .. max_depth=10, max_features=0.5, n_estimators=50, total=  21.9s\n",
      "[CV] max_depth=10, max_features=0.5, n_estimators=50 .................\n",
      "[CV] .. max_depth=10, max_features=0.5, n_estimators=50, total=  21.1s\n",
      "[CV] max_depth=10, max_features=0.5, n_estimators=100 ................\n",
      "[CV] . max_depth=10, max_features=0.5, n_estimators=100, total=  42.5s\n",
      "[CV] max_depth=10, max_features=0.5, n_estimators=100 ................\n",
      "[CV] . max_depth=10, max_features=0.5, n_estimators=100, total=  43.0s\n",
      "[CV] max_depth=10, max_features=0.5, n_estimators=100 ................\n",
      "[CV] . max_depth=10, max_features=0.5, n_estimators=100, total=  42.3s\n",
      "[CV] max_depth=10, max_features=0.5, n_estimators=200 ................\n",
      "[CV] . max_depth=10, max_features=0.5, n_estimators=200, total= 1.4min\n",
      "[CV] max_depth=10, max_features=0.5, n_estimators=200 ................\n",
      "[CV] . max_depth=10, max_features=0.5, n_estimators=200, total= 1.4min\n",
      "[CV] max_depth=10, max_features=0.5, n_estimators=200 ................\n",
      "[CV] . max_depth=10, max_features=0.5, n_estimators=200, total= 1.4min\n",
      "[CV] max_depth=10, max_features=0.5, n_estimators=500 ................\n",
      "[CV] . max_depth=10, max_features=0.5, n_estimators=500, total= 3.5min\n",
      "[CV] max_depth=10, max_features=0.5, n_estimators=500 ................\n",
      "[CV] . max_depth=10, max_features=0.5, n_estimators=500, total= 3.5min\n",
      "[CV] max_depth=10, max_features=0.5, n_estimators=500 ................\n",
      "[CV] . max_depth=10, max_features=0.5, n_estimators=500, total= 3.6min\n",
      "[CV] max_depth=10, max_features=0.7, n_estimators=10 .................\n",
      "[CV] .. max_depth=10, max_features=0.7, n_estimators=10, total=   5.1s\n",
      "[CV] max_depth=10, max_features=0.7, n_estimators=10 .................\n",
      "[CV] .. max_depth=10, max_features=0.7, n_estimators=10, total=   5.3s\n",
      "[CV] max_depth=10, max_features=0.7, n_estimators=10 .................\n",
      "[CV] .. max_depth=10, max_features=0.7, n_estimators=10, total=   5.4s\n",
      "[CV] max_depth=10, max_features=0.7, n_estimators=50 .................\n",
      "[CV] .. max_depth=10, max_features=0.7, n_estimators=50, total=  26.2s\n",
      "[CV] max_depth=10, max_features=0.7, n_estimators=50 .................\n",
      "[CV] .. max_depth=10, max_features=0.7, n_estimators=50, total=  26.3s\n",
      "[CV] max_depth=10, max_features=0.7, n_estimators=50 .................\n",
      "[CV] .. max_depth=10, max_features=0.7, n_estimators=50, total=  26.0s\n",
      "[CV] max_depth=10, max_features=0.7, n_estimators=100 ................\n",
      "[CV] . max_depth=10, max_features=0.7, n_estimators=100, total=  52.4s\n",
      "[CV] max_depth=10, max_features=0.7, n_estimators=100 ................\n",
      "[CV] . max_depth=10, max_features=0.7, n_estimators=100, total=  53.1s\n",
      "[CV] max_depth=10, max_features=0.7, n_estimators=100 ................\n",
      "[CV] . max_depth=10, max_features=0.7, n_estimators=100, total=  51.8s\n",
      "[CV] max_depth=10, max_features=0.7, n_estimators=200 ................\n",
      "[CV] . max_depth=10, max_features=0.7, n_estimators=200, total= 1.7min\n",
      "[CV] max_depth=10, max_features=0.7, n_estimators=200 ................\n",
      "[CV] . max_depth=10, max_features=0.7, n_estimators=200, total= 1.7min\n",
      "[CV] max_depth=10, max_features=0.7, n_estimators=200 ................\n",
      "[CV] . max_depth=10, max_features=0.7, n_estimators=200, total= 1.7min\n",
      "[CV] max_depth=10, max_features=0.7, n_estimators=500 ................\n",
      "[CV] . max_depth=10, max_features=0.7, n_estimators=500, total= 4.4min\n",
      "[CV] max_depth=10, max_features=0.7, n_estimators=500 ................\n",
      "[CV] . max_depth=10, max_features=0.7, n_estimators=500, total= 4.4min\n",
      "[CV] max_depth=10, max_features=0.7, n_estimators=500 ................\n",
      "[CV] . max_depth=10, max_features=0.7, n_estimators=500, total= 4.4min\n",
      "[CV] max_depth=10, max_features=0.9, n_estimators=10 .................\n",
      "[CV] .. max_depth=10, max_features=0.9, n_estimators=10, total=   7.5s\n",
      "[CV] max_depth=10, max_features=0.9, n_estimators=10 .................\n",
      "[CV] .. max_depth=10, max_features=0.9, n_estimators=10, total=   7.5s\n",
      "[CV] max_depth=10, max_features=0.9, n_estimators=10 .................\n",
      "[CV] .. max_depth=10, max_features=0.9, n_estimators=10, total=   7.3s\n",
      "[CV] max_depth=10, max_features=0.9, n_estimators=50 .................\n",
      "[CV] .. max_depth=10, max_features=0.9, n_estimators=50, total=  36.2s\n",
      "[CV] max_depth=10, max_features=0.9, n_estimators=50 .................\n",
      "[CV] .. max_depth=10, max_features=0.9, n_estimators=50, total=  36.3s\n",
      "[CV] max_depth=10, max_features=0.9, n_estimators=50 .................\n",
      "[CV] .. max_depth=10, max_features=0.9, n_estimators=50, total=  35.8s\n",
      "[CV] max_depth=10, max_features=0.9, n_estimators=100 ................\n",
      "[CV] . max_depth=10, max_features=0.9, n_estimators=100, total= 1.2min\n",
      "[CV] max_depth=10, max_features=0.9, n_estimators=100 ................\n",
      "[CV] . max_depth=10, max_features=0.9, n_estimators=100, total= 1.2min\n",
      "[CV] max_depth=10, max_features=0.9, n_estimators=100 ................\n",
      "[CV] . max_depth=10, max_features=0.9, n_estimators=100, total= 1.2min\n",
      "[CV] max_depth=10, max_features=0.9, n_estimators=200 ................\n",
      "[CV] . max_depth=10, max_features=0.9, n_estimators=200, total= 2.4min\n",
      "[CV] max_depth=10, max_features=0.9, n_estimators=200 ................\n",
      "[CV] . max_depth=10, max_features=0.9, n_estimators=200, total= 2.4min\n",
      "[CV] max_depth=10, max_features=0.9, n_estimators=200 ................\n",
      "[CV] . max_depth=10, max_features=0.9, n_estimators=200, total= 2.4min\n",
      "[CV] max_depth=10, max_features=0.9, n_estimators=500 ................\n",
      "[CV] . max_depth=10, max_features=0.9, n_estimators=500, total= 6.0min\n",
      "[CV] max_depth=10, max_features=0.9, n_estimators=500 ................\n",
      "[CV] . max_depth=10, max_features=0.9, n_estimators=500, total= 6.0min\n",
      "[CV] max_depth=10, max_features=0.9, n_estimators=500 ................\n",
      "[CV] . max_depth=10, max_features=0.9, n_estimators=500, total= 6.0min\n",
      "[CV] max_depth=10, max_features=None, n_estimators=10 ................\n",
      "[CV] . max_depth=10, max_features=None, n_estimators=10, total=   8.3s\n",
      "[CV] max_depth=10, max_features=None, n_estimators=10 ................\n",
      "[CV] . max_depth=10, max_features=None, n_estimators=10, total=   8.2s\n",
      "[CV] max_depth=10, max_features=None, n_estimators=10 ................\n",
      "[CV] . max_depth=10, max_features=None, n_estimators=10, total=   8.2s\n",
      "[CV] max_depth=10, max_features=None, n_estimators=50 ................\n",
      "[CV] . max_depth=10, max_features=None, n_estimators=50, total=  40.9s\n",
      "[CV] max_depth=10, max_features=None, n_estimators=50 ................\n",
      "[CV] . max_depth=10, max_features=None, n_estimators=50, total=  40.5s\n",
      "[CV] max_depth=10, max_features=None, n_estimators=50 ................\n",
      "[CV] . max_depth=10, max_features=None, n_estimators=50, total=  41.1s\n",
      "[CV] max_depth=10, max_features=None, n_estimators=100 ...............\n",
      "[CV]  max_depth=10, max_features=None, n_estimators=100, total= 1.4min\n",
      "[CV] max_depth=10, max_features=None, n_estimators=100 ...............\n",
      "[CV]  max_depth=10, max_features=None, n_estimators=100, total= 1.4min\n",
      "[CV] max_depth=10, max_features=None, n_estimators=100 ...............\n",
      "[CV]  max_depth=10, max_features=None, n_estimators=100, total= 1.4min\n",
      "[CV] max_depth=10, max_features=None, n_estimators=200 ...............\n",
      "[CV]  max_depth=10, max_features=None, n_estimators=200, total= 2.8min\n",
      "[CV] max_depth=10, max_features=None, n_estimators=200 ...............\n"
     ]
    },
    {
     "name": "stdout",
     "output_type": "stream",
     "text": [
      "[CV]  max_depth=10, max_features=None, n_estimators=200, total= 2.8min\n",
      "[CV] max_depth=10, max_features=None, n_estimators=200 ...............\n",
      "[CV]  max_depth=10, max_features=None, n_estimators=200, total= 2.7min\n",
      "[CV] max_depth=10, max_features=None, n_estimators=500 ...............\n",
      "[CV]  max_depth=10, max_features=None, n_estimators=500, total= 6.8min\n",
      "[CV] max_depth=10, max_features=None, n_estimators=500 ...............\n",
      "[CV]  max_depth=10, max_features=None, n_estimators=500, total= 6.8min\n",
      "[CV] max_depth=10, max_features=None, n_estimators=500 ...............\n",
      "[CV]  max_depth=10, max_features=None, n_estimators=500, total= 6.8min\n",
      "[CV] max_depth=15, max_features=auto, n_estimators=10 ................\n",
      "[CV] . max_depth=15, max_features=auto, n_estimators=10, total=   3.1s\n",
      "[CV] max_depth=15, max_features=auto, n_estimators=10 ................\n",
      "[CV] . max_depth=15, max_features=auto, n_estimators=10, total=   2.9s\n",
      "[CV] max_depth=15, max_features=auto, n_estimators=10 ................\n",
      "[CV] . max_depth=15, max_features=auto, n_estimators=10, total=   2.9s\n",
      "[CV] max_depth=15, max_features=auto, n_estimators=50 ................\n",
      "[CV] . max_depth=15, max_features=auto, n_estimators=50, total=  14.6s\n",
      "[CV] max_depth=15, max_features=auto, n_estimators=50 ................\n",
      "[CV] . max_depth=15, max_features=auto, n_estimators=50, total=  14.3s\n",
      "[CV] max_depth=15, max_features=auto, n_estimators=50 ................\n",
      "[CV] . max_depth=15, max_features=auto, n_estimators=50, total=  14.5s\n",
      "[CV] max_depth=15, max_features=auto, n_estimators=100 ...............\n",
      "[CV]  max_depth=15, max_features=auto, n_estimators=100, total=  29.4s\n",
      "[CV] max_depth=15, max_features=auto, n_estimators=100 ...............\n",
      "[CV]  max_depth=15, max_features=auto, n_estimators=100, total=  28.7s\n",
      "[CV] max_depth=15, max_features=auto, n_estimators=100 ...............\n",
      "[CV]  max_depth=15, max_features=auto, n_estimators=100, total=  28.4s\n",
      "[CV] max_depth=15, max_features=auto, n_estimators=200 ...............\n",
      "[CV]  max_depth=15, max_features=auto, n_estimators=200, total=  57.4s\n",
      "[CV] max_depth=15, max_features=auto, n_estimators=200 ...............\n",
      "[CV]  max_depth=15, max_features=auto, n_estimators=200, total=  58.9s\n",
      "[CV] max_depth=15, max_features=auto, n_estimators=200 ...............\n",
      "[CV]  max_depth=15, max_features=auto, n_estimators=200, total=  59.1s\n",
      "[CV] max_depth=15, max_features=auto, n_estimators=500 ...............\n",
      "[CV]  max_depth=15, max_features=auto, n_estimators=500, total= 2.4min\n",
      "[CV] max_depth=15, max_features=auto, n_estimators=500 ...............\n",
      "[CV]  max_depth=15, max_features=auto, n_estimators=500, total= 2.4min\n",
      "[CV] max_depth=15, max_features=auto, n_estimators=500 ...............\n",
      "[CV]  max_depth=15, max_features=auto, n_estimators=500, total= 2.4min\n",
      "[CV] max_depth=15, max_features=sqrt, n_estimators=10 ................\n",
      "[CV] . max_depth=15, max_features=sqrt, n_estimators=10, total=   2.9s\n",
      "[CV] max_depth=15, max_features=sqrt, n_estimators=10 ................\n",
      "[CV] . max_depth=15, max_features=sqrt, n_estimators=10, total=   2.8s\n",
      "[CV] max_depth=15, max_features=sqrt, n_estimators=10 ................\n",
      "[CV] . max_depth=15, max_features=sqrt, n_estimators=10, total=   2.8s\n",
      "[CV] max_depth=15, max_features=sqrt, n_estimators=50 ................\n",
      "[CV] . max_depth=15, max_features=sqrt, n_estimators=50, total=  15.2s\n",
      "[CV] max_depth=15, max_features=sqrt, n_estimators=50 ................\n",
      "[CV] . max_depth=15, max_features=sqrt, n_estimators=50, total=  14.2s\n",
      "[CV] max_depth=15, max_features=sqrt, n_estimators=50 ................\n",
      "[CV] . max_depth=15, max_features=sqrt, n_estimators=50, total=  14.4s\n",
      "[CV] max_depth=15, max_features=sqrt, n_estimators=100 ...............\n",
      "[CV]  max_depth=15, max_features=sqrt, n_estimators=100, total=  29.4s\n",
      "[CV] max_depth=15, max_features=sqrt, n_estimators=100 ...............\n",
      "[CV]  max_depth=15, max_features=sqrt, n_estimators=100, total=  29.6s\n",
      "[CV] max_depth=15, max_features=sqrt, n_estimators=100 ...............\n",
      "[CV]  max_depth=15, max_features=sqrt, n_estimators=100, total=  28.9s\n",
      "[CV] max_depth=15, max_features=sqrt, n_estimators=200 ...............\n",
      "[CV]  max_depth=15, max_features=sqrt, n_estimators=200, total=  56.7s\n",
      "[CV] max_depth=15, max_features=sqrt, n_estimators=200 ...............\n",
      "[CV]  max_depth=15, max_features=sqrt, n_estimators=200, total=  58.7s\n",
      "[CV] max_depth=15, max_features=sqrt, n_estimators=200 ...............\n",
      "[CV]  max_depth=15, max_features=sqrt, n_estimators=200, total=  58.0s\n",
      "[CV] max_depth=15, max_features=sqrt, n_estimators=500 ...............\n",
      "[CV]  max_depth=15, max_features=sqrt, n_estimators=500, total= 2.4min\n",
      "[CV] max_depth=15, max_features=sqrt, n_estimators=500 ...............\n",
      "[CV]  max_depth=15, max_features=sqrt, n_estimators=500, total= 2.4min\n",
      "[CV] max_depth=15, max_features=sqrt, n_estimators=500 ...............\n",
      "[CV]  max_depth=15, max_features=sqrt, n_estimators=500, total= 2.4min\n",
      "[CV] max_depth=15, max_features=0.5, n_estimators=10 .................\n",
      "[CV] .. max_depth=15, max_features=0.5, n_estimators=10, total=   5.1s\n",
      "[CV] max_depth=15, max_features=0.5, n_estimators=10 .................\n",
      "[CV] .. max_depth=15, max_features=0.5, n_estimators=10, total=   5.3s\n",
      "[CV] max_depth=15, max_features=0.5, n_estimators=10 .................\n",
      "[CV] .. max_depth=15, max_features=0.5, n_estimators=10, total=   5.5s\n",
      "[CV] max_depth=15, max_features=0.5, n_estimators=50 .................\n",
      "[CV] .. max_depth=15, max_features=0.5, n_estimators=50, total=  25.8s\n",
      "[CV] max_depth=15, max_features=0.5, n_estimators=50 .................\n",
      "[CV] .. max_depth=15, max_features=0.5, n_estimators=50, total=  26.1s\n",
      "[CV] max_depth=15, max_features=0.5, n_estimators=50 .................\n",
      "[CV] .. max_depth=15, max_features=0.5, n_estimators=50, total=  25.7s\n",
      "[CV] max_depth=15, max_features=0.5, n_estimators=100 ................\n",
      "[CV] . max_depth=15, max_features=0.5, n_estimators=100, total=  51.5s\n",
      "[CV] max_depth=15, max_features=0.5, n_estimators=100 ................\n",
      "[CV] . max_depth=15, max_features=0.5, n_estimators=100, total=  51.5s\n",
      "[CV] max_depth=15, max_features=0.5, n_estimators=100 ................\n",
      "[CV] . max_depth=15, max_features=0.5, n_estimators=100, total=  52.3s\n",
      "[CV] max_depth=15, max_features=0.5, n_estimators=200 ................\n",
      "[CV] . max_depth=15, max_features=0.5, n_estimators=200, total= 1.7min\n",
      "[CV] max_depth=15, max_features=0.5, n_estimators=200 ................\n",
      "[CV] . max_depth=15, max_features=0.5, n_estimators=200, total= 1.7min\n",
      "[CV] max_depth=15, max_features=0.5, n_estimators=200 ................\n",
      "[CV] . max_depth=15, max_features=0.5, n_estimators=200, total= 1.7min\n",
      "[CV] max_depth=15, max_features=0.5, n_estimators=500 ................\n",
      "[CV] . max_depth=15, max_features=0.5, n_estimators=500, total= 4.3min\n",
      "[CV] max_depth=15, max_features=0.5, n_estimators=500 ................\n",
      "[CV] . max_depth=15, max_features=0.5, n_estimators=500, total= 4.3min\n",
      "[CV] max_depth=15, max_features=0.5, n_estimators=500 ................\n",
      "[CV] . max_depth=15, max_features=0.5, n_estimators=500, total= 4.3min\n",
      "[CV] max_depth=15, max_features=0.7, n_estimators=10 .................\n",
      "[CV] .. max_depth=15, max_features=0.7, n_estimators=10, total=   6.4s\n",
      "[CV] max_depth=15, max_features=0.7, n_estimators=10 .................\n",
      "[CV] .. max_depth=15, max_features=0.7, n_estimators=10, total=   6.5s\n",
      "[CV] max_depth=15, max_features=0.7, n_estimators=10 .................\n",
      "[CV] .. max_depth=15, max_features=0.7, n_estimators=10, total=   6.3s\n",
      "[CV] max_depth=15, max_features=0.7, n_estimators=50 .................\n",
      "[CV] .. max_depth=15, max_features=0.7, n_estimators=50, total=  32.2s\n",
      "[CV] max_depth=15, max_features=0.7, n_estimators=50 .................\n",
      "[CV] .. max_depth=15, max_features=0.7, n_estimators=50, total=  32.1s\n",
      "[CV] max_depth=15, max_features=0.7, n_estimators=50 .................\n",
      "[CV] .. max_depth=15, max_features=0.7, n_estimators=50, total=  31.1s\n",
      "[CV] max_depth=15, max_features=0.7, n_estimators=100 ................\n",
      "[CV] . max_depth=15, max_features=0.7, n_estimators=100, total= 1.1min\n",
      "[CV] max_depth=15, max_features=0.7, n_estimators=100 ................\n",
      "[CV] . max_depth=15, max_features=0.7, n_estimators=100, total= 1.1min\n",
      "[CV] max_depth=15, max_features=0.7, n_estimators=100 ................\n"
     ]
    },
    {
     "name": "stdout",
     "output_type": "stream",
     "text": [
      "[CV] . max_depth=15, max_features=0.7, n_estimators=100, total= 1.0min\n",
      "[CV] max_depth=15, max_features=0.7, n_estimators=200 ................\n",
      "[CV] . max_depth=15, max_features=0.7, n_estimators=200, total= 2.1min\n",
      "[CV] max_depth=15, max_features=0.7, n_estimators=200 ................\n",
      "[CV] . max_depth=15, max_features=0.7, n_estimators=200, total= 2.1min\n",
      "[CV] max_depth=15, max_features=0.7, n_estimators=200 ................\n",
      "[CV] . max_depth=15, max_features=0.7, n_estimators=200, total= 2.1min\n",
      "[CV] max_depth=15, max_features=0.7, n_estimators=500 ................\n",
      "[CV] . max_depth=15, max_features=0.7, n_estimators=500, total= 5.3min\n",
      "[CV] max_depth=15, max_features=0.7, n_estimators=500 ................\n",
      "[CV] . max_depth=15, max_features=0.7, n_estimators=500, total= 5.3min\n",
      "[CV] max_depth=15, max_features=0.7, n_estimators=500 ................\n",
      "[CV] . max_depth=15, max_features=0.7, n_estimators=500, total= 5.2min\n",
      "[CV] max_depth=15, max_features=0.9, n_estimators=10 .................\n",
      "[CV] .. max_depth=15, max_features=0.9, n_estimators=10, total=   8.9s\n",
      "[CV] max_depth=15, max_features=0.9, n_estimators=10 .................\n",
      "[CV] .. max_depth=15, max_features=0.9, n_estimators=10, total=   8.6s\n",
      "[CV] max_depth=15, max_features=0.9, n_estimators=10 .................\n",
      "[CV] .. max_depth=15, max_features=0.9, n_estimators=10, total=   8.5s\n",
      "[CV] max_depth=15, max_features=0.9, n_estimators=50 .................\n",
      "[CV] .. max_depth=15, max_features=0.9, n_estimators=50, total=  43.4s\n",
      "[CV] max_depth=15, max_features=0.9, n_estimators=50 .................\n",
      "[CV] .. max_depth=15, max_features=0.9, n_estimators=50, total=  43.8s\n",
      "[CV] max_depth=15, max_features=0.9, n_estimators=50 .................\n",
      "[CV] .. max_depth=15, max_features=0.9, n_estimators=50, total=  44.2s\n",
      "[CV] max_depth=15, max_features=0.9, n_estimators=100 ................\n",
      "[CV] . max_depth=15, max_features=0.9, n_estimators=100, total= 1.4min\n",
      "[CV] max_depth=15, max_features=0.9, n_estimators=100 ................\n",
      "[CV] . max_depth=15, max_features=0.9, n_estimators=100, total= 1.4min\n",
      "[CV] max_depth=15, max_features=0.9, n_estimators=100 ................\n",
      "[CV] . max_depth=15, max_features=0.9, n_estimators=100, total= 1.4min\n",
      "[CV] max_depth=15, max_features=0.9, n_estimators=200 ................\n",
      "[CV] . max_depth=15, max_features=0.9, n_estimators=200, total= 2.9min\n",
      "[CV] max_depth=15, max_features=0.9, n_estimators=200 ................\n",
      "[CV] . max_depth=15, max_features=0.9, n_estimators=200, total= 2.9min\n",
      "[CV] max_depth=15, max_features=0.9, n_estimators=200 ................\n",
      "[CV] . max_depth=15, max_features=0.9, n_estimators=200, total= 2.9min\n",
      "[CV] max_depth=15, max_features=0.9, n_estimators=500 ................\n",
      "[CV] . max_depth=15, max_features=0.9, n_estimators=500, total= 7.3min\n",
      "[CV] max_depth=15, max_features=0.9, n_estimators=500 ................\n",
      "[CV] . max_depth=15, max_features=0.9, n_estimators=500, total= 7.2min\n",
      "[CV] max_depth=15, max_features=0.9, n_estimators=500 ................\n",
      "[CV] . max_depth=15, max_features=0.9, n_estimators=500, total= 7.1min\n",
      "[CV] max_depth=15, max_features=None, n_estimators=10 ................\n",
      "[CV] . max_depth=15, max_features=None, n_estimators=10, total=  10.2s\n",
      "[CV] max_depth=15, max_features=None, n_estimators=10 ................\n",
      "[CV] . max_depth=15, max_features=None, n_estimators=10, total=   9.7s\n",
      "[CV] max_depth=15, max_features=None, n_estimators=10 ................\n",
      "[CV] . max_depth=15, max_features=None, n_estimators=10, total=  10.1s\n",
      "[CV] max_depth=15, max_features=None, n_estimators=50 ................\n",
      "[CV] . max_depth=15, max_features=None, n_estimators=50, total=  50.0s\n",
      "[CV] max_depth=15, max_features=None, n_estimators=50 ................\n",
      "[CV] . max_depth=15, max_features=None, n_estimators=50, total=  49.1s\n",
      "[CV] max_depth=15, max_features=None, n_estimators=50 ................\n",
      "[CV] . max_depth=15, max_features=None, n_estimators=50, total=  50.4s\n",
      "[CV] max_depth=15, max_features=None, n_estimators=100 ...............\n",
      "[CV]  max_depth=15, max_features=None, n_estimators=100, total= 1.7min\n",
      "[CV] max_depth=15, max_features=None, n_estimators=100 ...............\n",
      "[CV]  max_depth=15, max_features=None, n_estimators=100, total= 1.6min\n",
      "[CV] max_depth=15, max_features=None, n_estimators=100 ...............\n",
      "[CV]  max_depth=15, max_features=None, n_estimators=100, total= 1.6min\n",
      "[CV] max_depth=15, max_features=None, n_estimators=200 ...............\n",
      "[CV]  max_depth=15, max_features=None, n_estimators=200, total= 3.3min\n",
      "[CV] max_depth=15, max_features=None, n_estimators=200 ...............\n",
      "[CV]  max_depth=15, max_features=None, n_estimators=200, total= 3.3min\n",
      "[CV] max_depth=15, max_features=None, n_estimators=200 ...............\n",
      "[CV]  max_depth=15, max_features=None, n_estimators=200, total= 3.2min\n",
      "[CV] max_depth=15, max_features=None, n_estimators=500 ...............\n",
      "[CV]  max_depth=15, max_features=None, n_estimators=500, total= 8.4min\n",
      "[CV] max_depth=15, max_features=None, n_estimators=500 ...............\n",
      "[CV]  max_depth=15, max_features=None, n_estimators=500, total= 8.0min\n",
      "[CV] max_depth=15, max_features=None, n_estimators=500 ...............\n",
      "[CV]  max_depth=15, max_features=None, n_estimators=500, total= 8.1min\n",
      "[CV] max_depth=20, max_features=auto, n_estimators=10 ................\n",
      "[CV] . max_depth=20, max_features=auto, n_estimators=10, total=   3.2s\n",
      "[CV] max_depth=20, max_features=auto, n_estimators=10 ................\n",
      "[CV] . max_depth=20, max_features=auto, n_estimators=10, total=   3.3s\n",
      "[CV] max_depth=20, max_features=auto, n_estimators=10 ................\n",
      "[CV] . max_depth=20, max_features=auto, n_estimators=10, total=   3.2s\n",
      "[CV] max_depth=20, max_features=auto, n_estimators=50 ................\n",
      "[CV] . max_depth=20, max_features=auto, n_estimators=50, total=  16.2s\n",
      "[CV] max_depth=20, max_features=auto, n_estimators=50 ................\n",
      "[CV] . max_depth=20, max_features=auto, n_estimators=50, total=  15.8s\n",
      "[CV] max_depth=20, max_features=auto, n_estimators=50 ................\n",
      "[CV] . max_depth=20, max_features=auto, n_estimators=50, total=  15.5s\n",
      "[CV] max_depth=20, max_features=auto, n_estimators=100 ...............\n",
      "[CV]  max_depth=20, max_features=auto, n_estimators=100, total=  30.9s\n",
      "[CV] max_depth=20, max_features=auto, n_estimators=100 ...............\n",
      "[CV]  max_depth=20, max_features=auto, n_estimators=100, total=  31.8s\n",
      "[CV] max_depth=20, max_features=auto, n_estimators=100 ...............\n",
      "[CV]  max_depth=20, max_features=auto, n_estimators=100, total=  31.9s\n",
      "[CV] max_depth=20, max_features=auto, n_estimators=200 ...............\n",
      "[CV]  max_depth=20, max_features=auto, n_estimators=200, total= 1.0min\n",
      "[CV] max_depth=20, max_features=auto, n_estimators=200 ...............\n",
      "[CV]  max_depth=20, max_features=auto, n_estimators=200, total= 1.0min\n",
      "[CV] max_depth=20, max_features=auto, n_estimators=200 ...............\n",
      "[CV]  max_depth=20, max_features=auto, n_estimators=200, total= 1.0min\n",
      "[CV] max_depth=20, max_features=auto, n_estimators=500 ...............\n",
      "[CV]  max_depth=20, max_features=auto, n_estimators=500, total= 2.6min\n",
      "[CV] max_depth=20, max_features=auto, n_estimators=500 ...............\n",
      "[CV]  max_depth=20, max_features=auto, n_estimators=500, total= 2.6min\n",
      "[CV] max_depth=20, max_features=auto, n_estimators=500 ...............\n",
      "[CV]  max_depth=20, max_features=auto, n_estimators=500, total= 2.6min\n",
      "[CV] max_depth=20, max_features=sqrt, n_estimators=10 ................\n",
      "[CV] . max_depth=20, max_features=sqrt, n_estimators=10, total=   3.0s\n",
      "[CV] max_depth=20, max_features=sqrt, n_estimators=10 ................\n",
      "[CV] . max_depth=20, max_features=sqrt, n_estimators=10, total=   2.9s\n",
      "[CV] max_depth=20, max_features=sqrt, n_estimators=10 ................\n",
      "[CV] . max_depth=20, max_features=sqrt, n_estimators=10, total=   3.3s\n",
      "[CV] max_depth=20, max_features=sqrt, n_estimators=50 ................\n",
      "[CV] . max_depth=20, max_features=sqrt, n_estimators=50, total=  15.4s\n",
      "[CV] max_depth=20, max_features=sqrt, n_estimators=50 ................\n",
      "[CV] . max_depth=20, max_features=sqrt, n_estimators=50, total=  15.1s\n",
      "[CV] max_depth=20, max_features=sqrt, n_estimators=50 ................\n",
      "[CV] . max_depth=20, max_features=sqrt, n_estimators=50, total=  15.8s\n",
      "[CV] max_depth=20, max_features=sqrt, n_estimators=100 ...............\n"
     ]
    },
    {
     "name": "stdout",
     "output_type": "stream",
     "text": [
      "[CV]  max_depth=20, max_features=sqrt, n_estimators=100, total=  31.2s\n",
      "[CV] max_depth=20, max_features=sqrt, n_estimators=100 ...............\n",
      "[CV]  max_depth=20, max_features=sqrt, n_estimators=100, total=  31.6s\n",
      "[CV] max_depth=20, max_features=sqrt, n_estimators=100 ...............\n",
      "[CV]  max_depth=20, max_features=sqrt, n_estimators=100, total=  33.0s\n",
      "[CV] max_depth=20, max_features=sqrt, n_estimators=200 ...............\n",
      "[CV]  max_depth=20, max_features=sqrt, n_estimators=200, total= 1.1min\n",
      "[CV] max_depth=20, max_features=sqrt, n_estimators=200 ...............\n",
      "[CV]  max_depth=20, max_features=sqrt, n_estimators=200, total= 1.0min\n",
      "[CV] max_depth=20, max_features=sqrt, n_estimators=200 ...............\n",
      "[CV]  max_depth=20, max_features=sqrt, n_estimators=200, total= 1.1min\n",
      "[CV] max_depth=20, max_features=sqrt, n_estimators=500 ...............\n",
      "[CV]  max_depth=20, max_features=sqrt, n_estimators=500, total= 2.6min\n",
      "[CV] max_depth=20, max_features=sqrt, n_estimators=500 ...............\n",
      "[CV]  max_depth=20, max_features=sqrt, n_estimators=500, total= 2.6min\n",
      "[CV] max_depth=20, max_features=sqrt, n_estimators=500 ...............\n",
      "[CV]  max_depth=20, max_features=sqrt, n_estimators=500, total= 2.6min\n",
      "[CV] max_depth=20, max_features=0.5, n_estimators=10 .................\n",
      "[CV] .. max_depth=20, max_features=0.5, n_estimators=10, total=   5.6s\n",
      "[CV] max_depth=20, max_features=0.5, n_estimators=10 .................\n",
      "[CV] .. max_depth=20, max_features=0.5, n_estimators=10, total=   5.1s\n",
      "[CV] max_depth=20, max_features=0.5, n_estimators=10 .................\n",
      "[CV] .. max_depth=20, max_features=0.5, n_estimators=10, total=   5.4s\n",
      "[CV] max_depth=20, max_features=0.5, n_estimators=50 .................\n",
      "[CV] .. max_depth=20, max_features=0.5, n_estimators=50, total=  27.8s\n",
      "[CV] max_depth=20, max_features=0.5, n_estimators=50 .................\n",
      "[CV] .. max_depth=20, max_features=0.5, n_estimators=50, total=  27.8s\n",
      "[CV] max_depth=20, max_features=0.5, n_estimators=50 .................\n",
      "[CV] .. max_depth=20, max_features=0.5, n_estimators=50, total=  27.5s\n",
      "[CV] max_depth=20, max_features=0.5, n_estimators=100 ................\n",
      "[CV] . max_depth=20, max_features=0.5, n_estimators=100, total=  53.4s\n",
      "[CV] max_depth=20, max_features=0.5, n_estimators=100 ................\n",
      "[CV] . max_depth=20, max_features=0.5, n_estimators=100, total=  53.0s\n",
      "[CV] max_depth=20, max_features=0.5, n_estimators=100 ................\n",
      "[CV] . max_depth=20, max_features=0.5, n_estimators=100, total=  52.1s\n",
      "[CV] max_depth=20, max_features=0.5, n_estimators=200 ................\n",
      "[CV] . max_depth=20, max_features=0.5, n_estimators=200, total= 1.8min\n",
      "[CV] max_depth=20, max_features=0.5, n_estimators=200 ................\n",
      "[CV] . max_depth=20, max_features=0.5, n_estimators=200, total= 1.8min\n",
      "[CV] max_depth=20, max_features=0.5, n_estimators=200 ................\n",
      "[CV] . max_depth=20, max_features=0.5, n_estimators=200, total= 1.8min\n",
      "[CV] max_depth=20, max_features=0.5, n_estimators=500 ................\n",
      "[CV] . max_depth=20, max_features=0.5, n_estimators=500, total= 4.4min\n",
      "[CV] max_depth=20, max_features=0.5, n_estimators=500 ................\n",
      "[CV] . max_depth=20, max_features=0.5, n_estimators=500, total= 4.5min\n",
      "[CV] max_depth=20, max_features=0.5, n_estimators=500 ................\n",
      "[CV] . max_depth=20, max_features=0.5, n_estimators=500, total= 4.4min\n",
      "[CV] max_depth=20, max_features=0.7, n_estimators=10 .................\n",
      "[CV] .. max_depth=20, max_features=0.7, n_estimators=10, total=   6.2s\n",
      "[CV] max_depth=20, max_features=0.7, n_estimators=10 .................\n",
      "[CV] .. max_depth=20, max_features=0.7, n_estimators=10, total=   6.3s\n",
      "[CV] max_depth=20, max_features=0.7, n_estimators=10 .................\n",
      "[CV] .. max_depth=20, max_features=0.7, n_estimators=10, total=   6.4s\n",
      "[CV] max_depth=20, max_features=0.7, n_estimators=50 .................\n",
      "[CV] .. max_depth=20, max_features=0.7, n_estimators=50, total=  32.6s\n",
      "[CV] max_depth=20, max_features=0.7, n_estimators=50 .................\n",
      "[CV] .. max_depth=20, max_features=0.7, n_estimators=50, total=  33.3s\n",
      "[CV] max_depth=20, max_features=0.7, n_estimators=50 .................\n",
      "[CV] .. max_depth=20, max_features=0.7, n_estimators=50, total=  32.5s\n",
      "[CV] max_depth=20, max_features=0.7, n_estimators=100 ................\n",
      "[CV] . max_depth=20, max_features=0.7, n_estimators=100, total= 1.1min\n",
      "[CV] max_depth=20, max_features=0.7, n_estimators=100 ................\n",
      "[CV] . max_depth=20, max_features=0.7, n_estimators=100, total= 1.1min\n",
      "[CV] max_depth=20, max_features=0.7, n_estimators=100 ................\n",
      "[CV] . max_depth=20, max_features=0.7, n_estimators=100, total= 1.1min\n",
      "[CV] max_depth=20, max_features=0.7, n_estimators=200 ................\n",
      "[CV] . max_depth=20, max_features=0.7, n_estimators=200, total= 2.2min\n",
      "[CV] max_depth=20, max_features=0.7, n_estimators=200 ................\n",
      "[CV] . max_depth=20, max_features=0.7, n_estimators=200, total= 2.2min\n",
      "[CV] max_depth=20, max_features=0.7, n_estimators=200 ................\n",
      "[CV] . max_depth=20, max_features=0.7, n_estimators=200, total= 2.2min\n",
      "[CV] max_depth=20, max_features=0.7, n_estimators=500 ................\n",
      "[CV] . max_depth=20, max_features=0.7, n_estimators=500, total= 5.4min\n",
      "[CV] max_depth=20, max_features=0.7, n_estimators=500 ................\n",
      "[CV] . max_depth=20, max_features=0.7, n_estimators=500, total= 5.3min\n",
      "[CV] max_depth=20, max_features=0.7, n_estimators=500 ................\n",
      "[CV] . max_depth=20, max_features=0.7, n_estimators=500, total= 5.3min\n",
      "[CV] max_depth=20, max_features=0.9, n_estimators=10 .................\n",
      "[CV] .. max_depth=20, max_features=0.9, n_estimators=10, total=   8.6s\n",
      "[CV] max_depth=20, max_features=0.9, n_estimators=10 .................\n",
      "[CV] .. max_depth=20, max_features=0.9, n_estimators=10, total=   8.7s\n",
      "[CV] max_depth=20, max_features=0.9, n_estimators=10 .................\n",
      "[CV] .. max_depth=20, max_features=0.9, n_estimators=10, total=   8.6s\n",
      "[CV] max_depth=20, max_features=0.9, n_estimators=50 .................\n",
      "[CV] .. max_depth=20, max_features=0.9, n_estimators=50, total=  44.5s\n",
      "[CV] max_depth=20, max_features=0.9, n_estimators=50 .................\n",
      "[CV] .. max_depth=20, max_features=0.9, n_estimators=50, total=  44.7s\n",
      "[CV] max_depth=20, max_features=0.9, n_estimators=50 .................\n",
      "[CV] .. max_depth=20, max_features=0.9, n_estimators=50, total=  43.3s\n",
      "[CV] max_depth=20, max_features=0.9, n_estimators=100 ................\n",
      "[CV] . max_depth=20, max_features=0.9, n_estimators=100, total= 1.5min\n",
      "[CV] max_depth=20, max_features=0.9, n_estimators=100 ................\n",
      "[CV] . max_depth=20, max_features=0.9, n_estimators=100, total= 1.4min\n",
      "[CV] max_depth=20, max_features=0.9, n_estimators=100 ................\n",
      "[CV] . max_depth=20, max_features=0.9, n_estimators=100, total= 1.4min\n",
      "[CV] max_depth=20, max_features=0.9, n_estimators=200 ................\n",
      "[CV] . max_depth=20, max_features=0.9, n_estimators=200, total= 3.0min\n",
      "[CV] max_depth=20, max_features=0.9, n_estimators=200 ................\n",
      "[CV] . max_depth=20, max_features=0.9, n_estimators=200, total= 2.9min\n",
      "[CV] max_depth=20, max_features=0.9, n_estimators=200 ................\n",
      "[CV] . max_depth=20, max_features=0.9, n_estimators=200, total= 2.8min\n",
      "[CV] max_depth=20, max_features=0.9, n_estimators=500 ................\n",
      "[CV] . max_depth=20, max_features=0.9, n_estimators=500, total= 7.4min\n",
      "[CV] max_depth=20, max_features=0.9, n_estimators=500 ................\n",
      "[CV] . max_depth=20, max_features=0.9, n_estimators=500, total= 7.2min\n",
      "[CV] max_depth=20, max_features=0.9, n_estimators=500 ................\n",
      "[CV] . max_depth=20, max_features=0.9, n_estimators=500, total= 7.2min\n",
      "[CV] max_depth=20, max_features=None, n_estimators=10 ................\n",
      "[CV] . max_depth=20, max_features=None, n_estimators=10, total=  10.5s\n",
      "[CV] max_depth=20, max_features=None, n_estimators=10 ................\n",
      "[CV] . max_depth=20, max_features=None, n_estimators=10, total=  10.1s\n",
      "[CV] max_depth=20, max_features=None, n_estimators=10 ................\n",
      "[CV] . max_depth=20, max_features=None, n_estimators=10, total=   9.9s\n",
      "[CV] max_depth=20, max_features=None, n_estimators=50 ................\n",
      "[CV] . max_depth=20, max_features=None, n_estimators=50, total=  51.3s\n",
      "[CV] max_depth=20, max_features=None, n_estimators=50 ................\n"
     ]
    },
    {
     "name": "stdout",
     "output_type": "stream",
     "text": [
      "[CV] . max_depth=20, max_features=None, n_estimators=50, total=  49.2s\n",
      "[CV] max_depth=20, max_features=None, n_estimators=50 ................\n",
      "[CV] . max_depth=20, max_features=None, n_estimators=50, total=  49.4s\n",
      "[CV] max_depth=20, max_features=None, n_estimators=100 ...............\n",
      "[CV]  max_depth=20, max_features=None, n_estimators=100, total= 1.7min\n",
      "[CV] max_depth=20, max_features=None, n_estimators=100 ...............\n",
      "[CV]  max_depth=20, max_features=None, n_estimators=100, total= 1.7min\n",
      "[CV] max_depth=20, max_features=None, n_estimators=100 ...............\n",
      "[CV]  max_depth=20, max_features=None, n_estimators=100, total= 1.6min\n",
      "[CV] max_depth=20, max_features=None, n_estimators=200 ...............\n",
      "[CV]  max_depth=20, max_features=None, n_estimators=200, total= 3.4min\n",
      "[CV] max_depth=20, max_features=None, n_estimators=200 ...............\n",
      "[CV]  max_depth=20, max_features=None, n_estimators=200, total= 3.2min\n",
      "[CV] max_depth=20, max_features=None, n_estimators=200 ...............\n",
      "[CV]  max_depth=20, max_features=None, n_estimators=200, total= 3.3min\n",
      "[CV] max_depth=20, max_features=None, n_estimators=500 ...............\n",
      "[CV]  max_depth=20, max_features=None, n_estimators=500, total= 8.4min\n",
      "[CV] max_depth=20, max_features=None, n_estimators=500 ...............\n",
      "[CV]  max_depth=20, max_features=None, n_estimators=500, total= 8.2min\n",
      "[CV] max_depth=20, max_features=None, n_estimators=500 ...............\n",
      "[CV]  max_depth=20, max_features=None, n_estimators=500, total= 8.1min\n"
     ]
    },
    {
     "name": "stderr",
     "output_type": "stream",
     "text": [
      "[Parallel(n_jobs=1)]: Done 360 out of 360 | elapsed: 510.7min finished\n",
      "/home/ec2-user/anaconda3/lib/python3.7/site-packages/sklearn/model_selection/_search.py:849: FutureWarning: The parameter 'iid' is deprecated in 0.22 and will be removed in 0.24.\n",
      "  \"removed in 0.24.\", FutureWarning\n"
     ]
    },
    {
     "name": "stdout",
     "output_type": "stream",
     "text": [
      "Best parameters set found on development set:\n",
      "\n",
      "{'max_depth': 20, 'max_features': 0.9, 'n_estimators': 200}\n",
      "\n",
      "Grid scores on development set:\n",
      "\n",
      "0.809 (+/-0.019) for {'max_depth': 5, 'max_features': 'auto', 'n_estimators': 10}\n",
      "0.824 (+/-0.009) for {'max_depth': 5, 'max_features': 'auto', 'n_estimators': 50}\n",
      "0.830 (+/-0.006) for {'max_depth': 5, 'max_features': 'auto', 'n_estimators': 100}\n",
      "0.826 (+/-0.006) for {'max_depth': 5, 'max_features': 'auto', 'n_estimators': 200}\n",
      "0.824 (+/-0.007) for {'max_depth': 5, 'max_features': 'auto', 'n_estimators': 500}\n",
      "0.812 (+/-0.025) for {'max_depth': 5, 'max_features': 'sqrt', 'n_estimators': 10}\n",
      "0.826 (+/-0.009) for {'max_depth': 5, 'max_features': 'sqrt', 'n_estimators': 50}\n",
      "0.826 (+/-0.001) for {'max_depth': 5, 'max_features': 'sqrt', 'n_estimators': 100}\n",
      "0.827 (+/-0.004) for {'max_depth': 5, 'max_features': 'sqrt', 'n_estimators': 200}\n",
      "0.825 (+/-0.005) for {'max_depth': 5, 'max_features': 'sqrt', 'n_estimators': 500}\n",
      "0.842 (+/-0.006) for {'max_depth': 5, 'max_features': 0.5, 'n_estimators': 10}\n",
      "0.843 (+/-0.004) for {'max_depth': 5, 'max_features': 0.5, 'n_estimators': 50}\n",
      "0.841 (+/-0.003) for {'max_depth': 5, 'max_features': 0.5, 'n_estimators': 100}\n",
      "0.841 (+/-0.003) for {'max_depth': 5, 'max_features': 0.5, 'n_estimators': 200}\n",
      "0.842 (+/-0.004) for {'max_depth': 5, 'max_features': 0.5, 'n_estimators': 500}\n",
      "0.844 (+/-0.002) for {'max_depth': 5, 'max_features': 0.7, 'n_estimators': 10}\n",
      "0.842 (+/-0.003) for {'max_depth': 5, 'max_features': 0.7, 'n_estimators': 50}\n",
      "0.843 (+/-0.004) for {'max_depth': 5, 'max_features': 0.7, 'n_estimators': 100}\n",
      "0.842 (+/-0.004) for {'max_depth': 5, 'max_features': 0.7, 'n_estimators': 200}\n",
      "0.842 (+/-0.004) for {'max_depth': 5, 'max_features': 0.7, 'n_estimators': 500}\n",
      "0.841 (+/-0.005) for {'max_depth': 5, 'max_features': 0.9, 'n_estimators': 10}\n",
      "0.841 (+/-0.006) for {'max_depth': 5, 'max_features': 0.9, 'n_estimators': 50}\n",
      "0.841 (+/-0.007) for {'max_depth': 5, 'max_features': 0.9, 'n_estimators': 100}\n",
      "0.841 (+/-0.006) for {'max_depth': 5, 'max_features': 0.9, 'n_estimators': 200}\n",
      "0.841 (+/-0.006) for {'max_depth': 5, 'max_features': 0.9, 'n_estimators': 500}\n",
      "0.847 (+/-0.014) for {'max_depth': 5, 'max_features': None, 'n_estimators': 10}\n",
      "0.842 (+/-0.007) for {'max_depth': 5, 'max_features': None, 'n_estimators': 50}\n",
      "0.841 (+/-0.005) for {'max_depth': 5, 'max_features': None, 'n_estimators': 100}\n",
      "0.842 (+/-0.004) for {'max_depth': 5, 'max_features': None, 'n_estimators': 200}\n",
      "0.842 (+/-0.005) for {'max_depth': 5, 'max_features': None, 'n_estimators': 500}\n",
      "0.876 (+/-0.008) for {'max_depth': 10, 'max_features': 'auto', 'n_estimators': 10}\n",
      "0.872 (+/-0.010) for {'max_depth': 10, 'max_features': 'auto', 'n_estimators': 50}\n",
      "0.875 (+/-0.005) for {'max_depth': 10, 'max_features': 'auto', 'n_estimators': 100}\n",
      "0.877 (+/-0.006) for {'max_depth': 10, 'max_features': 'auto', 'n_estimators': 200}\n",
      "0.876 (+/-0.005) for {'max_depth': 10, 'max_features': 'auto', 'n_estimators': 500}\n",
      "0.872 (+/-0.015) for {'max_depth': 10, 'max_features': 'sqrt', 'n_estimators': 10}\n",
      "0.875 (+/-0.005) for {'max_depth': 10, 'max_features': 'sqrt', 'n_estimators': 50}\n",
      "0.875 (+/-0.005) for {'max_depth': 10, 'max_features': 'sqrt', 'n_estimators': 100}\n",
      "0.877 (+/-0.007) for {'max_depth': 10, 'max_features': 'sqrt', 'n_estimators': 200}\n",
      "0.876 (+/-0.005) for {'max_depth': 10, 'max_features': 'sqrt', 'n_estimators': 500}\n",
      "0.903 (+/-0.004) for {'max_depth': 10, 'max_features': 0.5, 'n_estimators': 10}\n",
      "0.909 (+/-0.003) for {'max_depth': 10, 'max_features': 0.5, 'n_estimators': 50}\n",
      "0.909 (+/-0.003) for {'max_depth': 10, 'max_features': 0.5, 'n_estimators': 100}\n",
      "0.907 (+/-0.004) for {'max_depth': 10, 'max_features': 0.5, 'n_estimators': 200}\n",
      "0.908 (+/-0.003) for {'max_depth': 10, 'max_features': 0.5, 'n_estimators': 500}\n",
      "0.918 (+/-0.008) for {'max_depth': 10, 'max_features': 0.7, 'n_estimators': 10}\n",
      "0.918 (+/-0.001) for {'max_depth': 10, 'max_features': 0.7, 'n_estimators': 50}\n",
      "0.917 (+/-0.005) for {'max_depth': 10, 'max_features': 0.7, 'n_estimators': 100}\n",
      "0.917 (+/-0.003) for {'max_depth': 10, 'max_features': 0.7, 'n_estimators': 200}\n",
      "0.917 (+/-0.003) for {'max_depth': 10, 'max_features': 0.7, 'n_estimators': 500}\n",
      "0.929 (+/-0.007) for {'max_depth': 10, 'max_features': 0.9, 'n_estimators': 10}\n",
      "0.928 (+/-0.005) for {'max_depth': 10, 'max_features': 0.9, 'n_estimators': 50}\n",
      "0.927 (+/-0.003) for {'max_depth': 10, 'max_features': 0.9, 'n_estimators': 100}\n",
      "0.927 (+/-0.004) for {'max_depth': 10, 'max_features': 0.9, 'n_estimators': 200}\n",
      "0.927 (+/-0.004) for {'max_depth': 10, 'max_features': 0.9, 'n_estimators': 500}\n",
      "0.930 (+/-0.005) for {'max_depth': 10, 'max_features': None, 'n_estimators': 10}\n",
      "0.930 (+/-0.002) for {'max_depth': 10, 'max_features': None, 'n_estimators': 50}\n",
      "0.931 (+/-0.003) for {'max_depth': 10, 'max_features': None, 'n_estimators': 100}\n",
      "0.930 (+/-0.005) for {'max_depth': 10, 'max_features': None, 'n_estimators': 200}\n",
      "0.930 (+/-0.003) for {'max_depth': 10, 'max_features': None, 'n_estimators': 500}\n",
      "0.935 (+/-0.004) for {'max_depth': 15, 'max_features': 'auto', 'n_estimators': 10}\n",
      "0.930 (+/-0.010) for {'max_depth': 15, 'max_features': 'auto', 'n_estimators': 50}\n",
      "0.931 (+/-0.005) for {'max_depth': 15, 'max_features': 'auto', 'n_estimators': 100}\n",
      "0.931 (+/-0.005) for {'max_depth': 15, 'max_features': 'auto', 'n_estimators': 200}\n",
      "0.931 (+/-0.004) for {'max_depth': 15, 'max_features': 'auto', 'n_estimators': 500}\n",
      "0.931 (+/-0.012) for {'max_depth': 15, 'max_features': 'sqrt', 'n_estimators': 10}\n",
      "0.933 (+/-0.008) for {'max_depth': 15, 'max_features': 'sqrt', 'n_estimators': 50}\n",
      "0.929 (+/-0.003) for {'max_depth': 15, 'max_features': 'sqrt', 'n_estimators': 100}\n",
      "0.931 (+/-0.002) for {'max_depth': 15, 'max_features': 'sqrt', 'n_estimators': 200}\n",
      "0.932 (+/-0.005) for {'max_depth': 15, 'max_features': 'sqrt', 'n_estimators': 500}\n",
      "0.963 (+/-0.004) for {'max_depth': 15, 'max_features': 0.5, 'n_estimators': 10}\n",
      "0.968 (+/-0.006) for {'max_depth': 15, 'max_features': 0.5, 'n_estimators': 50}\n",
      "0.968 (+/-0.002) for {'max_depth': 15, 'max_features': 0.5, 'n_estimators': 100}\n",
      "0.968 (+/-0.003) for {'max_depth': 15, 'max_features': 0.5, 'n_estimators': 200}\n",
      "0.967 (+/-0.005) for {'max_depth': 15, 'max_features': 0.5, 'n_estimators': 500}\n",
      "0.971 (+/-0.006) for {'max_depth': 15, 'max_features': 0.7, 'n_estimators': 10}\n",
      "0.976 (+/-0.004) for {'max_depth': 15, 'max_features': 0.7, 'n_estimators': 50}\n",
      "0.976 (+/-0.003) for {'max_depth': 15, 'max_features': 0.7, 'n_estimators': 100}\n",
      "0.975 (+/-0.003) for {'max_depth': 15, 'max_features': 0.7, 'n_estimators': 200}\n",
      "0.976 (+/-0.004) for {'max_depth': 15, 'max_features': 0.7, 'n_estimators': 500}\n",
      "0.980 (+/-0.002) for {'max_depth': 15, 'max_features': 0.9, 'n_estimators': 10}\n",
      "0.982 (+/-0.004) for {'max_depth': 15, 'max_features': 0.9, 'n_estimators': 50}\n",
      "0.983 (+/-0.003) for {'max_depth': 15, 'max_features': 0.9, 'n_estimators': 100}\n",
      "0.982 (+/-0.004) for {'max_depth': 15, 'max_features': 0.9, 'n_estimators': 200}\n",
      "0.983 (+/-0.004) for {'max_depth': 15, 'max_features': 0.9, 'n_estimators': 500}\n",
      "0.981 (+/-0.004) for {'max_depth': 15, 'max_features': None, 'n_estimators': 10}\n",
      "0.983 (+/-0.004) for {'max_depth': 15, 'max_features': None, 'n_estimators': 50}\n",
      "0.984 (+/-0.004) for {'max_depth': 15, 'max_features': None, 'n_estimators': 100}\n",
      "0.984 (+/-0.004) for {'max_depth': 15, 'max_features': None, 'n_estimators': 200}\n",
      "0.984 (+/-0.004) for {'max_depth': 15, 'max_features': None, 'n_estimators': 500}\n",
      "0.962 (+/-0.011) for {'max_depth': 20, 'max_features': 'auto', 'n_estimators': 10}\n",
      "0.967 (+/-0.010) for {'max_depth': 20, 'max_features': 'auto', 'n_estimators': 50}\n",
      "0.967 (+/-0.005) for {'max_depth': 20, 'max_features': 'auto', 'n_estimators': 100}\n",
      "0.968 (+/-0.004) for {'max_depth': 20, 'max_features': 'auto', 'n_estimators': 200}\n",
      "0.967 (+/-0.006) for {'max_depth': 20, 'max_features': 'auto', 'n_estimators': 500}\n",
      "0.964 (+/-0.009) for {'max_depth': 20, 'max_features': 'sqrt', 'n_estimators': 10}\n",
      "0.966 (+/-0.003) for {'max_depth': 20, 'max_features': 'sqrt', 'n_estimators': 50}\n",
      "0.968 (+/-0.002) for {'max_depth': 20, 'max_features': 'sqrt', 'n_estimators': 100}\n",
      "0.967 (+/-0.004) for {'max_depth': 20, 'max_features': 'sqrt', 'n_estimators': 200}\n",
      "0.967 (+/-0.005) for {'max_depth': 20, 'max_features': 'sqrt', 'n_estimators': 500}\n",
      "0.981 (+/-0.005) for {'max_depth': 20, 'max_features': 0.5, 'n_estimators': 10}\n",
      "0.984 (+/-0.005) for {'max_depth': 20, 'max_features': 0.5, 'n_estimators': 50}\n",
      "0.984 (+/-0.003) for {'max_depth': 20, 'max_features': 0.5, 'n_estimators': 100}\n",
      "0.984 (+/-0.003) for {'max_depth': 20, 'max_features': 0.5, 'n_estimators': 200}\n",
      "0.985 (+/-0.004) for {'max_depth': 20, 'max_features': 0.5, 'n_estimators': 500}\n",
      "0.983 (+/-0.002) for {'max_depth': 20, 'max_features': 0.7, 'n_estimators': 10}\n",
      "0.986 (+/-0.003) for {'max_depth': 20, 'max_features': 0.7, 'n_estimators': 50}\n",
      "0.987 (+/-0.004) for {'max_depth': 20, 'max_features': 0.7, 'n_estimators': 100}\n",
      "0.987 (+/-0.004) for {'max_depth': 20, 'max_features': 0.7, 'n_estimators': 200}\n",
      "0.987 (+/-0.004) for {'max_depth': 20, 'max_features': 0.7, 'n_estimators': 500}\n",
      "0.986 (+/-0.001) for {'max_depth': 20, 'max_features': 0.9, 'n_estimators': 10}\n",
      "0.988 (+/-0.002) for {'max_depth': 20, 'max_features': 0.9, 'n_estimators': 50}\n",
      "0.988 (+/-0.003) for {'max_depth': 20, 'max_features': 0.9, 'n_estimators': 100}\n",
      "0.989 (+/-0.002) for {'max_depth': 20, 'max_features': 0.9, 'n_estimators': 200}\n",
      "0.989 (+/-0.002) for {'max_depth': 20, 'max_features': 0.9, 'n_estimators': 500}\n",
      "0.985 (+/-0.001) for {'max_depth': 20, 'max_features': None, 'n_estimators': 10}\n",
      "0.988 (+/-0.002) for {'max_depth': 20, 'max_features': None, 'n_estimators': 50}\n",
      "0.988 (+/-0.002) for {'max_depth': 20, 'max_features': None, 'n_estimators': 100}\n",
      "0.989 (+/-0.001) for {'max_depth': 20, 'max_features': None, 'n_estimators': 200}\n",
      "0.989 (+/-0.002) for {'max_depth': 20, 'max_features': None, 'n_estimators': 500}\n",
      "\n",
      "Detailed classification report:\n",
      "\n",
      "The model is trained on the full development set.\n",
      "The scores are computed on the full evaluation set.\n",
      "\n"
     ]
    },
    {
     "name": "stdout",
     "output_type": "stream",
     "text": [
      "              precision    recall  f1-score   support\n",
      "\n",
      "         0.0       1.00      1.00      1.00    126109\n",
      "         1.0       0.99      0.99      0.99     14891\n",
      "\n",
      "    accuracy                           1.00    141000\n",
      "   macro avg       0.99      0.99      0.99    141000\n",
      "weighted avg       1.00      1.00      1.00    141000\n",
      "\n",
      "\n",
      "        Predicted 0  Predicted 1\n",
      "True 0       125892          217\n",
      "True 1          127        14764\n"
     ]
    }
   ],
   "source": [
    "# Ejecutamos el modelo sobre los datos:\n",
    "randomForestUnderRedDim = doGridSearch(RandomForestClassifier(),\n",
    "                          tuned_parameters, \n",
    "                          ['recall'],\n",
    "                          X_train, y_train, X_test, y_test,\n",
    "                          ['Predicted 0', 'Predicted 1'], ['True 0', 'True 1'])"
   ]
  },
  {
   "cell_type": "markdown",
   "metadata": {},
   "source": [
    "{'max_depth': 20, 'max_features': 0.9, 'n_estimators': 200}"
   ]
  },
  {
   "cell_type": "code",
   "execution_count": 34,
   "metadata": {},
   "outputs": [],
   "source": [
    "randomForestUnderRedDim = RandomForestClassifier(n_estimators=200, max_depth=20,max_features=0.9)"
   ]
  },
  {
   "cell_type": "code",
   "execution_count": 35,
   "metadata": {},
   "outputs": [
    {
     "data": {
      "text/plain": [
       "RandomForestClassifier(max_depth=20, max_features=0.9, n_estimators=200)"
      ]
     },
     "execution_count": 35,
     "metadata": {},
     "output_type": "execute_result"
    }
   ],
   "source": [
    "randomForestUnderRedDim.fit(X_train, y_train)"
   ]
  },
  {
   "cell_type": "code",
   "execution_count": 22,
   "metadata": {},
   "outputs": [
    {
     "data": {
      "text/plain": [
       "(0.9999848024316109, 0.9975602836879433)"
      ]
     },
     "execution_count": 22,
     "metadata": {},
     "output_type": "execute_result"
    }
   ],
   "source": [
    "randomForestUnderRedDim.score(X_train, y_train), randomForestUnderRedDim.score(X_test, y_test)"
   ]
  },
  {
   "cell_type": "code",
   "execution_count": 23,
   "metadata": {},
   "outputs": [],
   "source": [
    "randomForestUnderRedDim_pred = randomForestUnderRedDim.predict(X_test)"
   ]
  },
  {
   "cell_type": "code",
   "execution_count": 24,
   "metadata": {},
   "outputs": [
    {
     "data": {
      "text/html": [
       "<div>\n",
       "<style scoped>\n",
       "    .dataframe tbody tr th:only-of-type {\n",
       "        vertical-align: middle;\n",
       "    }\n",
       "\n",
       "    .dataframe tbody tr th {\n",
       "        vertical-align: top;\n",
       "    }\n",
       "\n",
       "    .dataframe thead th {\n",
       "        text-align: right;\n",
       "    }\n",
       "</style>\n",
       "<table border=\"1\" class=\"dataframe\">\n",
       "  <thead>\n",
       "    <tr style=\"text-align: right;\">\n",
       "      <th></th>\n",
       "      <th>0_pred</th>\n",
       "      <th>1_pred</th>\n",
       "    </tr>\n",
       "  </thead>\n",
       "  <tbody>\n",
       "    <tr>\n",
       "      <th>0_true</th>\n",
       "      <td>125892</td>\n",
       "      <td>217</td>\n",
       "    </tr>\n",
       "    <tr>\n",
       "      <th>1_true</th>\n",
       "      <td>127</td>\n",
       "      <td>14764</td>\n",
       "    </tr>\n",
       "  </tbody>\n",
       "</table>\n",
       "</div>"
      ],
      "text/plain": [
       "        0_pred  1_pred\n",
       "0_true  125892     217\n",
       "1_true     127   14764"
      ]
     },
     "execution_count": 24,
     "metadata": {},
     "output_type": "execute_result"
    }
   ],
   "source": [
    "# Matriz de confusión\n",
    "cm=confusion_matrix(y_test, randomForestUnderRedDim_pred)\n",
    "pd.DataFrame(cm, index=('0_true','1_true'), columns=('0_pred','1_pred'))"
   ]
  },
  {
   "cell_type": "code",
   "execution_count": 25,
   "metadata": {},
   "outputs": [
    {
     "name": "stdout",
     "output_type": "stream",
     "text": [
      "              precision    recall  f1-score   support\n",
      "\n",
      "         0.0       1.00      1.00      1.00    126109\n",
      "         1.0       0.99      0.99      0.99     14891\n",
      "\n",
      "    accuracy                           1.00    141000\n",
      "   macro avg       0.99      0.99      0.99    141000\n",
      "weighted avg       1.00      1.00      1.00    141000\n",
      "\n"
     ]
    }
   ],
   "source": [
    "# Podemos ver un informe más completo del clasificador con la métrica classification_report:\n",
    "print(classification_report(y_test, randomForestUnderRedDim_pred))"
   ]
  },
  {
   "cell_type": "markdown",
   "metadata": {},
   "source": [
    "donde,  \n",
    "`precision` es la especificidad: TP/(TP+FN) (positivos predichos sobre el total de positivos)  \n",
    "`recall` es el Valor predictivo positivo: TP/(TP+FP) (acierto de los predichos como positivos)  \n",
    "`support` indica el número de muestras en cada clase en el conjunto de test (suma por filas en la matriz de confusión)"
   ]
  },
  {
   "cell_type": "code",
   "execution_count": 26,
   "metadata": {},
   "outputs": [
    {
     "data": {
      "image/png": "[encoded data removed]",
      "text/plain": [
       "<Figure size 432x288 with 1 Axes>"
      ]
     },
     "metadata": {
      "needs_background": "light"
     },
     "output_type": "display_data"
    }
   ],
   "source": [
    "# Área bajo la curva ROC:  \n",
    "    # Para calcular el área bajo la curva ROC (AUC) es necesario obtener\n",
    "    # la probabilidad de salida del clasificador con `predict_proba`\n",
    "prediccion_prob = randomForestUnderRedDim.predict_proba(X_test)\n",
    "#la primera columna corresponde a la etiqueta 'N'\n",
    "#Es necesario convertir los True Labels a un array lógico (1 para etiqueta N)\n",
    "roc_auc_score((y_test==0), prediccion_prob[:,0])\n",
    "\n",
    "probs = randomForestUnderRedDim.predict_proba(X_test)\n",
    "preds = probs[:,1]\n",
    "fpr, tpr, threshold = metrics.roc_curve(y_test, preds)\n",
    "roc_auc = metrics.auc(fpr, tpr)\n",
    "\n",
    "plt.title('Receiver Operating Characteristic')\n",
    "plt.plot(fpr, tpr, 'b', label = 'AUC = %0.2f' % roc_auc)\n",
    "plt.legend(loc = 'lower right')\n",
    "plt.plot([0, 1], [0, 1],'r--')\n",
    "plt.xlim([0, 1])\n",
    "plt.ylim([0, 1])\n",
    "plt.ylabel('True Positive Rate')\n",
    "plt.xlabel('False Positive Rate')\n",
    "plt.show()"
   ]
  },
  {
   "cell_type": "markdown",
   "metadata": {},
   "source": [
    "### Clasificación de nuevos valores \n",
    "Aplicamos el modelo al dataframe de evaluación:"
   ]
  },
  {
   "cell_type": "code",
   "execution_count": 27,
   "metadata": {},
   "outputs": [],
   "source": [
    "# Para iniciar con el modelo, separamos en X las variables independientes y en Y la variable dependiente:\n",
    "evaly = evalDis.loc[:, 'isFraud'].values\n",
    "evalX = evalDis.drop(columns=['isFraud']).values"
   ]
  },
  {
   "cell_type": "code",
   "execution_count": 28,
   "metadata": {},
   "outputs": [
    {
     "data": {
      "text/plain": [
       "0.998175"
      ]
     },
     "execution_count": 28,
     "metadata": {},
     "output_type": "execute_result"
    }
   ],
   "source": [
    "# Aplicamos el modelo\n",
    "randomForestUnderRedDim.score(evalX, evaly)"
   ]
  },
  {
   "cell_type": "code",
   "execution_count": 29,
   "metadata": {},
   "outputs": [],
   "source": [
    "# Calculamos la predicción\n",
    "predEval = randomForestUnderRedDim.predict(evalX)"
   ]
  },
  {
   "cell_type": "code",
   "execution_count": 30,
   "metadata": {},
   "outputs": [
    {
     "data": {
      "text/html": [
       "<div>\n",
       "<style scoped>\n",
       "    .dataframe tbody tr th:only-of-type {\n",
       "        vertical-align: middle;\n",
       "    }\n",
       "\n",
       "    .dataframe tbody tr th {\n",
       "        vertical-align: top;\n",
       "    }\n",
       "\n",
       "    .dataframe thead th {\n",
       "        text-align: right;\n",
       "    }\n",
       "</style>\n",
       "<table border=\"1\" class=\"dataframe\">\n",
       "  <thead>\n",
       "    <tr style=\"text-align: right;\">\n",
       "      <th></th>\n",
       "      <th>0_pred</th>\n",
       "      <th>1_pred</th>\n",
       "    </tr>\n",
       "  </thead>\n",
       "  <tbody>\n",
       "    <tr>\n",
       "      <th>0_true</th>\n",
       "      <td>79059</td>\n",
       "      <td>141</td>\n",
       "    </tr>\n",
       "    <tr>\n",
       "      <th>1_true</th>\n",
       "      <td>5</td>\n",
       "      <td>795</td>\n",
       "    </tr>\n",
       "  </tbody>\n",
       "</table>\n",
       "</div>"
      ],
      "text/plain": [
       "        0_pred  1_pred\n",
       "0_true   79059     141\n",
       "1_true       5     795"
      ]
     },
     "execution_count": 30,
     "metadata": {},
     "output_type": "execute_result"
    }
   ],
   "source": [
    "# Matriz de confusión\n",
    "cm=confusion_matrix(evaly, predEval)\n",
    "pd.DataFrame(cm, index=('0_true','1_true'), columns=('0_pred','1_pred'))"
   ]
  },
  {
   "cell_type": "code",
   "execution_count": 31,
   "metadata": {},
   "outputs": [
    {
     "name": "stdout",
     "output_type": "stream",
     "text": [
      "              precision    recall  f1-score   support\n",
      "\n",
      "         0.0       1.00      1.00      1.00     79200\n",
      "         1.0       0.85      0.99      0.92       800\n",
      "\n",
      "    accuracy                           1.00     80000\n",
      "   macro avg       0.92      1.00      0.96     80000\n",
      "weighted avg       1.00      1.00      1.00     80000\n",
      "\n"
     ]
    }
   ],
   "source": [
    "pru = np.where(predEval > 0.4,1,0)\n",
    "print(classification_report(evaly, pru))"
   ]
  },
  {
   "cell_type": "code",
   "execution_count": 32,
   "metadata": {},
   "outputs": [
    {
     "data": {
      "image/png": "[encoded data removed]",
      "text/plain": [
       "<Figure size 432x288 with 1 Axes>"
      ]
     },
     "metadata": {
      "needs_background": "light"
     },
     "output_type": "display_data"
    }
   ],
   "source": [
    "# Curva ROC\n",
    "probs_eval = randomForestUnderRedDim.predict_proba(evalX)\n",
    "preds_eval = probs_eval[:,1]\n",
    "fpr_eval, tpr_eval, threshold_eval = metrics.roc_curve(evaly, preds_eval)\n",
    "roc_auc_eval = metrics.auc(fpr_eval, tpr_eval)\n",
    "\n",
    "plt.title('Receiver Operating Characteristic')\n",
    "plt.plot(fpr_eval, tpr_eval, 'b', label = 'AUC = %0.2f' % roc_auc_eval)\n",
    "plt.legend(loc = 'lower right')\n",
    "plt.plot([0, 1], [0, 1],'r--')\n",
    "plt.xlim([0, 1])\n",
    "plt.ylim([0, 1])\n",
    "plt.ylabel('True Positive Rate')\n",
    "plt.xlabel('False Positive Rate')\n",
    "plt.show()"
   ]
  },
  {
   "cell_type": "markdown",
   "metadata": {},
   "source": [
    "## Guardamos la predicción\n",
    "Guardamos la predicción realizada en el dataframe de Evaluación:"
   ]
  },
  {
   "cell_type": "code",
   "execution_count": 33,
   "metadata": {},
   "outputs": [
    {
     "data": {
      "text/html": [
       "<div>\n",
       "<style scoped>\n",
       "    .dataframe tbody tr th:only-of-type {\n",
       "        vertical-align: middle;\n",
       "    }\n",
       "\n",
       "    .dataframe tbody tr th {\n",
       "        vertical-align: top;\n",
       "    }\n",
       "\n",
       "    .dataframe thead th {\n",
       "        text-align: right;\n",
       "    }\n",
       "</style>\n",
       "<table border=\"1\" class=\"dataframe\">\n",
       "  <thead>\n",
       "    <tr style=\"text-align: right;\">\n",
       "      <th></th>\n",
       "      <th>balanceOrig</th>\n",
       "      <th>balanceDest</th>\n",
       "      <th>newbalanceDest</th>\n",
       "      <th>amount</th>\n",
       "      <th>day</th>\n",
       "      <th>hours_day</th>\n",
       "      <th>type_TRANSFER</th>\n",
       "      <th>newbalanceOrig</th>\n",
       "      <th>isFraud</th>\n",
       "      <th>RFUnderRedDim_pred</th>\n",
       "    </tr>\n",
       "  </thead>\n",
       "  <tbody>\n",
       "    <tr>\n",
       "      <th>0</th>\n",
       "      <td>8.318578e+06</td>\n",
       "      <td>8.318578e+06</td>\n",
       "      <td>8.574436e+06</td>\n",
       "      <td>8.318578e+06</td>\n",
       "      <td>9</td>\n",
       "      <td>20</td>\n",
       "      <td>0</td>\n",
       "      <td>0.0</td>\n",
       "      <td>1.0</td>\n",
       "      <td>1.0</td>\n",
       "    </tr>\n",
       "    <tr>\n",
       "      <th>1</th>\n",
       "      <td>3.207200e+05</td>\n",
       "      <td>3.207200e+05</td>\n",
       "      <td>1.368527e+06</td>\n",
       "      <td>3.207200e+05</td>\n",
       "      <td>29</td>\n",
       "      <td>5</td>\n",
       "      <td>0</td>\n",
       "      <td>0.0</td>\n",
       "      <td>1.0</td>\n",
       "      <td>1.0</td>\n",
       "    </tr>\n",
       "    <tr>\n",
       "      <th>2</th>\n",
       "      <td>2.480947e+06</td>\n",
       "      <td>0.000000e+00</td>\n",
       "      <td>0.000000e+00</td>\n",
       "      <td>2.480947e+06</td>\n",
       "      <td>6</td>\n",
       "      <td>13</td>\n",
       "      <td>1</td>\n",
       "      <td>0.0</td>\n",
       "      <td>1.0</td>\n",
       "      <td>1.0</td>\n",
       "    </tr>\n",
       "    <tr>\n",
       "      <th>3</th>\n",
       "      <td>3.607461e+04</td>\n",
       "      <td>0.000000e+00</td>\n",
       "      <td>0.000000e+00</td>\n",
       "      <td>3.607461e+04</td>\n",
       "      <td>8</td>\n",
       "      <td>19</td>\n",
       "      <td>1</td>\n",
       "      <td>0.0</td>\n",
       "      <td>1.0</td>\n",
       "      <td>1.0</td>\n",
       "    </tr>\n",
       "    <tr>\n",
       "      <th>4</th>\n",
       "      <td>2.727997e+04</td>\n",
       "      <td>0.000000e+00</td>\n",
       "      <td>0.000000e+00</td>\n",
       "      <td>2.727997e+04</td>\n",
       "      <td>18</td>\n",
       "      <td>7</td>\n",
       "      <td>1</td>\n",
       "      <td>0.0</td>\n",
       "      <td>1.0</td>\n",
       "      <td>1.0</td>\n",
       "    </tr>\n",
       "  </tbody>\n",
       "</table>\n",
       "</div>"
      ],
      "text/plain": [
       "    balanceOrig   balanceDest  newbalanceDest        amount  day  hours_day  \\\n",
       "0  8.318578e+06  8.318578e+06    8.574436e+06  8.318578e+06    9         20   \n",
       "1  3.207200e+05  3.207200e+05    1.368527e+06  3.207200e+05   29          5   \n",
       "2  2.480947e+06  0.000000e+00    0.000000e+00  2.480947e+06    6         13   \n",
       "3  3.607461e+04  0.000000e+00    0.000000e+00  3.607461e+04    8         19   \n",
       "4  2.727997e+04  0.000000e+00    0.000000e+00  2.727997e+04   18          7   \n",
       "\n",
       "   type_TRANSFER  newbalanceOrig  isFraud  RFUnderRedDim_pred  \n",
       "0              0             0.0      1.0                 1.0  \n",
       "1              0             0.0      1.0                 1.0  \n",
       "2              1             0.0      1.0                 1.0  \n",
       "3              1             0.0      1.0                 1.0  \n",
       "4              1             0.0      1.0                 1.0  "
      ]
     },
     "execution_count": 33,
     "metadata": {},
     "output_type": "execute_result"
    }
   ],
   "source": [
    "predRF = pd.DataFrame(predEval, columns = [\"RFUnderRedDim_pred\"])\n",
    "modelResult = pd.concat([evalDis, predRF[\"RFUnderRedDim_pred\"]],axis = 1)\n",
    "modelResult.head()"
   ]
  },
  {
   "cell_type": "code",
   "execution_count": 34,
   "metadata": {},
   "outputs": [
    {
     "data": {
      "text/html": [
       "<div>\n",
       "<style scoped>\n",
       "    .dataframe tbody tr th:only-of-type {\n",
       "        vertical-align: middle;\n",
       "    }\n",
       "\n",
       "    .dataframe tbody tr th {\n",
       "        vertical-align: top;\n",
       "    }\n",
       "\n",
       "    .dataframe thead th {\n",
       "        text-align: right;\n",
       "    }\n",
       "</style>\n",
       "<table border=\"1\" class=\"dataframe\">\n",
       "  <thead>\n",
       "    <tr style=\"text-align: right;\">\n",
       "      <th>RFUnderRedDim_pred</th>\n",
       "      <th>0.0</th>\n",
       "      <th>1.0</th>\n",
       "      <th>All</th>\n",
       "    </tr>\n",
       "    <tr>\n",
       "      <th>isFraud</th>\n",
       "      <th></th>\n",
       "      <th></th>\n",
       "      <th></th>\n",
       "    </tr>\n",
       "  </thead>\n",
       "  <tbody>\n",
       "    <tr>\n",
       "      <th>0.0</th>\n",
       "      <td>79059</td>\n",
       "      <td>141</td>\n",
       "      <td>79200</td>\n",
       "    </tr>\n",
       "    <tr>\n",
       "      <th>1.0</th>\n",
       "      <td>5</td>\n",
       "      <td>795</td>\n",
       "      <td>800</td>\n",
       "    </tr>\n",
       "    <tr>\n",
       "      <th>All</th>\n",
       "      <td>79064</td>\n",
       "      <td>936</td>\n",
       "      <td>80000</td>\n",
       "    </tr>\n",
       "  </tbody>\n",
       "</table>\n",
       "</div>"
      ],
      "text/plain": [
       "RFUnderRedDim_pred    0.0  1.0    All\n",
       "isFraud                              \n",
       "0.0                 79059  141  79200\n",
       "1.0                     5  795    800\n",
       "All                 79064  936  80000"
      ]
     },
     "execution_count": 34,
     "metadata": {},
     "output_type": "execute_result"
    }
   ],
   "source": [
    "pd.crosstab(index=modelResult['isFraud'],columns=modelResult['RFUnderRedDim_pred'], margins=True)"
   ]
  },
  {
   "cell_type": "code",
   "execution_count": 35,
   "metadata": {},
   "outputs": [],
   "source": [
    "modelResult.to_csv('/tmp/eval_over_dis_pred_rf.csv', index = False)"
   ]
  },
  {
   "cell_type": "code",
   "execution_count": 36,
   "metadata": {},
   "outputs": [],
   "source": [
    "s3.upload_file(Bucket = BUCKET_NAME, Key = 'eval_over_dis_pred_rf.csv', Filename = '/tmp/eval_over_dis_pred_rf.csv')"
   ]
  },
  {
   "cell_type": "code",
   "execution_count": 37,
   "metadata": {},
   "outputs": [],
   "source": [
    "# Eliminar el fichero de la ruta tmp de la máquina EC2 para no ocupar espacio.\n",
    "!rm /tmp/eval_over_dis_pred_rf.csv"
   ]
  },
  {
   "cell_type": "markdown",
   "metadata": {},
   "source": [
    "## Guardamos el modelo\n"
   ]
  },
  {
   "cell_type": "code",
   "execution_count": 10,
   "metadata": {},
   "outputs": [],
   "source": [
    "modelFinal = RandomForestClassifier(n_estimators=200, max_depth=20,max_features=0.9)"
   ]
  },
  {
   "cell_type": "code",
   "execution_count": 13,
   "metadata": {},
   "outputs": [
    {
     "data": {
      "text/plain": [
       "RandomForestClassifier(max_depth=20, max_features=0.9, n_estimators=200)"
      ]
     },
     "execution_count": 13,
     "metadata": {},
     "output_type": "execute_result"
    }
   ],
   "source": [
    "modelFinal.fit(X_train, y_train)"
   ]
  },
  {
   "cell_type": "code",
   "execution_count": 14,
   "metadata": {},
   "outputs": [
    {
     "data": {
      "text/plain": [
       "['Fraud_Model.joblib']"
      ]
     },
     "execution_count": 14,
     "metadata": {},
     "output_type": "execute_result"
    }
   ],
   "source": [
    "from joblib import dump\n",
    "\n",
    "dump(modelFinal, \"Fraud_Model.joblib\")"
   ]
  },
  {
   "cell_type": "markdown",
   "metadata": {},
   "source": [
    "Probamos que el modelos se ha guardado correctamente."
   ]
  },
  {
   "cell_type": "code",
   "execution_count": 15,
   "metadata": {},
   "outputs": [
    {
     "data": {
      "text/plain": [
       "RandomForestClassifier(max_depth=20, max_features=0.9, n_estimators=200)"
      ]
     },
     "execution_count": 15,
     "metadata": {},
     "output_type": "execute_result"
    }
   ],
   "source": [
    "from joblib import load\n",
    "model = load(\"Fraud_Model.joblib\")\n",
    "model"
   ]
  },
  {
   "cell_type": "code",
   "execution_count": null,
   "metadata": {},
   "outputs": [],
   "source": []
  }
 ],
 "metadata": {
  "kernelspec": {
   "display_name": "Python 3",
   "language": "python",
   "name": "python3"
  },
  "language_info": {
   "codemirror_mode": {
    "name": "ipython",
    "version": 3
   },
   "file_extension": ".py",
   "mimetype": "text/x-python",
   "name": "python",
   "nbconvert_exporter": "python",
   "pygments_lexer": "ipython3",
   "version": "3.7.7"
  }
 },
 "nbformat": 4,
 "nbformat_minor": 2
}
