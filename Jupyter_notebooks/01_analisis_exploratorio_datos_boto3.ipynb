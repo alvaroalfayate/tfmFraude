{
 "cells": [
  {
   "cell_type": "markdown",
   "metadata": {},
   "source": [
    "<img src=\"mbit_logo.png\" alt=\"drawing\" align=\"right\" style=\"float\" width=\"150\" height=\"150\"/>\n",
    "\n",
    "<font color=\"#D31525\"><h3 align=\"left\">Detección de fraude en transacciones financieras</h3></font>\n",
    "<font color=\"#2C3E50\"><h3 align=\"left\">ANÁLISIS EXPLORATORIO DE DATOS (EDA)</h3></font>"
   ]
  },
  {
   "cell_type": "markdown",
   "metadata": {},
   "source": [
    "## Importar librerias"
   ]
  },
  {
   "cell_type": "markdown",
   "metadata": {},
   "source": [
    "En esta primera parte del código, se realizan las llamadas a las librerías:"
   ]
  },
  {
   "cell_type": "code",
   "execution_count": 1,
   "metadata": {},
   "outputs": [],
   "source": [
    "# Paquetes de manipulación de datos\n",
    "import pandas as pd\n",
    "import numpy as np\n",
    "import boto3\n",
    "\n",
    "# Paquetes de visualización\n",
    "import matplotlib.pyplot as plt\n",
    "import seaborn as sns"
   ]
  },
  {
   "cell_type": "markdown",
   "metadata": {},
   "source": [
    "## Importar DataSet"
   ]
  },
  {
   "cell_type": "markdown",
   "metadata": {},
   "source": [
    "Para desarrollar la iniciativa, se ha elegido un dataset generado a partir del simulador **PaySim**, que genera conjuntos de datos sintéticos similares a los conjuntos de datos reales de las transacciones de dinero móvil. PaySim utiliza datos agregados para generar un conjunto de datos sintéticos que se asemeje al funcionamiento normal de las transacciones y además inyecte comportamientos maliciosos.\n",
    "\n",
    "En este caso, la muestra extraída corresponde a 1 mes de un servicio de dinero móvil implementado en un país africano.\n",
    "\n",
    "*PaySim first paper of the simulator:\n",
    "E. A. Lopez-Rojas , A. Elmir, and S. Axelsson. \"PaySim: A financial mobile money simulator for fraud detection\". In: The 28th European Modeling and Simulation Symposium-EMSS, Larnaca, Cyprus. 2016*"
   ]
  },
  {
   "cell_type": "code",
   "execution_count": 2,
   "metadata": {},
   "outputs": [],
   "source": [
    "s3 = boto3.client(\"s3\")"
   ]
  },
  {
   "cell_type": "code",
   "execution_count": 3,
   "metadata": {},
   "outputs": [],
   "source": [
    "# Metemos en la variable res, el nombre de todos los buckets que tenemos en nuestra máquina de AWS\n",
    "res = s3.list_buckets()"
   ]
  },
  {
   "cell_type": "code",
   "execution_count": 4,
   "metadata": {},
   "outputs": [
    {
     "data": {
      "text/plain": [
       "[{'Name': 'aasmbitschool',\n",
       "  'CreationDate': datetime.datetime(2020, 3, 23, 18, 17, 50, tzinfo=tzlocal())},\n",
       " {'Name': 'tfmfraud',\n",
       "  'CreationDate': datetime.datetime(2020, 8, 12, 10, 27, 52, tzinfo=tzlocal())}]"
      ]
     },
     "execution_count": 4,
     "metadata": {},
     "output_type": "execute_result"
    }
   ],
   "source": [
    "# Mostramos los distintos buckets que tenemos en S3\n",
    "res[\"Buckets\"]"
   ]
  },
  {
   "cell_type": "code",
   "execution_count": 5,
   "metadata": {},
   "outputs": [],
   "source": [
    "# Seleccionamos el bucket con el que vamos a trabajar\n",
    "BUCKET_NAME = 'tfmfraud'"
   ]
  },
  {
   "cell_type": "code",
   "execution_count": 6,
   "metadata": {},
   "outputs": [
    {
     "data": {
      "text/plain": [
       "{'ResponseMetadata': {'RequestId': 'CDBC40E8ED64C575',\n",
       "  'HostId': 'TzjQFzWIMMyZ+KXbH/JN46slNJ9dDMa5lhX4/EARVA9SyhxzUjru0NSQQlA/mTHSe1d19BbrCMk=',\n",
       "  'HTTPStatusCode': 200,\n",
       "  'HTTPHeaders': {'x-amz-id-2': 'TzjQFzWIMMyZ+KXbH/JN46slNJ9dDMa5lhX4/EARVA9SyhxzUjru0NSQQlA/mTHSe1d19BbrCMk=',\n",
       "   'x-amz-request-id': 'CDBC40E8ED64C575',\n",
       "   'date': 'Wed, 12 Aug 2020 16:33:40 GMT',\n",
       "   'x-amz-bucket-region': 'us-east-1',\n",
       "   'content-type': 'application/xml',\n",
       "   'transfer-encoding': 'chunked',\n",
       "   'server': 'AmazonS3'},\n",
       "  'RetryAttempts': 0},\n",
       " 'IsTruncated': False,\n",
       " 'Marker': '',\n",
       " 'Contents': [{'Key': 'dataset_v0.csv',\n",
       "   'LastModified': datetime.datetime(2020, 8, 12, 10, 43, 49, tzinfo=tzlocal()),\n",
       "   'ETag': '\"3ad3f545cf41c2d46802c39d6c6e6d3e-29\"',\n",
       "   'Size': 493534783,\n",
       "   'StorageClass': 'STANDARD',\n",
       "   'Owner': {'DisplayName': 'awslabsc0w601512t1581883282',\n",
       "    'ID': 'd79b5e3eed7c637ad447a28498162e365200293b12dd2095a264060d2a7898d4'}},\n",
       "  {'Key': 'df_dirty.csv',\n",
       "   'LastModified': datetime.datetime(2020, 8, 12, 15, 49, 43, tzinfo=tzlocal()),\n",
       "   'ETag': '\"364f45ce6e5e23d7328bf58cd57a2eea-65\"',\n",
       "   'Size': 537169505,\n",
       "   'StorageClass': 'STANDARD',\n",
       "   'Owner': {'DisplayName': 'awslabsc0w601512t1581883282',\n",
       "    'ID': 'd79b5e3eed7c637ad447a28498162e365200293b12dd2095a264060d2a7898d4'}}],\n",
       " 'Name': 'tfmfraud',\n",
       " 'Prefix': '',\n",
       " 'MaxKeys': 1000,\n",
       " 'EncodingType': 'url'}"
      ]
     },
     "execution_count": 6,
     "metadata": {},
     "output_type": "execute_result"
    }
   ],
   "source": [
    "# Listamos los ficheros que tenemos dentro del bucket que hemos solucionado.\n",
    "s3.list_objects(Bucket = BUCKET_NAME)"
   ]
  },
  {
   "cell_type": "code",
   "execution_count": 7,
   "metadata": {},
   "outputs": [],
   "source": [
    "# Descargamos el fichero del bucket de s3 a la máquina EC2 para poder trabajar con él.\n",
    "s3.download_file(Bucket = BUCKET_NAME, Key = 'df_dirty.csv',Filename = '/tmp/df_dirty.csv')"
   ]
  },
  {
   "cell_type": "code",
   "execution_count": 8,
   "metadata": {},
   "outputs": [
    {
     "name": "stdout",
     "output_type": "stream",
     "text": [
      "dataset_v0.csv\r\n",
      "df_dirty.csv\r\n",
      "systemd-private-6c440eefc28c4d319793e82277e9b4cc-chronyd.service-MUrd4O\r\n"
     ]
    }
   ],
   "source": [
    "# Listamos los ficheros que hay en la ruta /tmp. Esta ruta es donde hemos descargado nuestro fichero de s3\n",
    "!ls /tmp"
   ]
  },
  {
   "cell_type": "code",
   "execution_count": 15,
   "metadata": {},
   "outputs": [],
   "source": [
    "#Leemos el fichero y lo metemos en un dataframe.\n",
    "df_dirty = pd.read_csv('/tmp/df_dirty.csv', dtype={'rank':'category'})"
   ]
  },
  {
   "cell_type": "markdown",
   "metadata": {},
   "source": [
    "## Análisis Exploratorio de Datos (EDA)"
   ]
  },
  {
   "cell_type": "markdown",
   "metadata": {},
   "source": [
    "El análisis exploratorio tiene como objetivo identificar las características del dataframe, tales como: outliers, missing, discontinuidades, concentraciones de valores, etc. Para ello vamos a seguir diferentes estudios sobre los datos:\n",
    "* *Estudio de la dimensión del dataframe*\n",
    "* *Estudio de datos perdidos*\n",
    "* *Estudio de duplicidades*\n",
    "* *Estudio de datos de tipo outlier en variables continuas*\n",
    "* *Estudio de datos de tipo outlier en variables discretas*\n",
    "* *Estudio de datos de tipo outlier en la variable type*\n",
    "* *Identificación de campos/variables con un único valor*"
   ]
  },
  {
   "cell_type": "markdown",
   "metadata": {},
   "source": [
    "### Análisis Exploratorio de Datos (EDA)"
   ]
  },
  {
   "cell_type": "markdown",
   "metadata": {},
   "source": [
    "En primer lugar, tomamos **sensibilidad del dataset de trabajo** y obtenemos una muestra de los datos:"
   ]
  },
  {
   "cell_type": "code",
   "execution_count": 16,
   "metadata": {},
   "outputs": [
    {
     "name": "stdout",
     "output_type": "stream",
     "text": [
      "Tamaño dataset del dataset: (6617125, 11)\n",
      "Número de variables/predictores (columnas): 11\n",
      "Número de registros (instancias/filas): 6617125\n"
     ]
    }
   ],
   "source": [
    "print(\"Tamaño dataset del dataset:\", df_dirty.shape)\n",
    "print(\"Número de variables/predictores (columnas):\", df_dirty.shape[1])\n",
    "print(\"Número de registros (instancias/filas):\", df_dirty.shape[0])"
   ]
  },
  {
   "cell_type": "code",
   "execution_count": 17,
   "metadata": {},
   "outputs": [
    {
     "data": {
      "text/html": [
       "<div>\n",
       "<style scoped>\n",
       "    .dataframe tbody tr th:only-of-type {\n",
       "        vertical-align: middle;\n",
       "    }\n",
       "\n",
       "    .dataframe tbody tr th {\n",
       "        vertical-align: top;\n",
       "    }\n",
       "\n",
       "    .dataframe thead th {\n",
       "        text-align: right;\n",
       "    }\n",
       "</style>\n",
       "<table border=\"1\" class=\"dataframe\">\n",
       "  <thead>\n",
       "    <tr style=\"text-align: right;\">\n",
       "      <th></th>\n",
       "      <th>step</th>\n",
       "      <th>type</th>\n",
       "      <th>amount</th>\n",
       "      <th>nameOrig</th>\n",
       "      <th>oldbalanceOrg</th>\n",
       "      <th>newbalanceOrig</th>\n",
       "      <th>nameDest</th>\n",
       "      <th>oldbalanceDest</th>\n",
       "      <th>newbalanceDest</th>\n",
       "      <th>isFraud</th>\n",
       "      <th>isFlaggedFraud</th>\n",
       "    </tr>\n",
       "  </thead>\n",
       "  <tbody>\n",
       "    <tr>\n",
       "      <th>0</th>\n",
       "      <td>1</td>\n",
       "      <td>PAYMENT</td>\n",
       "      <td>9839.64</td>\n",
       "      <td>C1231006815</td>\n",
       "      <td>170136.00</td>\n",
       "      <td>160296.36</td>\n",
       "      <td>M1979787155</td>\n",
       "      <td>0.0</td>\n",
       "      <td>0.00</td>\n",
       "      <td>0.0</td>\n",
       "      <td>0.0</td>\n",
       "    </tr>\n",
       "    <tr>\n",
       "      <th>1</th>\n",
       "      <td>1</td>\n",
       "      <td>PAYMENT</td>\n",
       "      <td>1864.28</td>\n",
       "      <td>C1666544295</td>\n",
       "      <td>21249.00</td>\n",
       "      <td>19384.72</td>\n",
       "      <td>M2044282225</td>\n",
       "      <td>0.0</td>\n",
       "      <td>0.00</td>\n",
       "      <td>0.0</td>\n",
       "      <td>0.0</td>\n",
       "    </tr>\n",
       "    <tr>\n",
       "      <th>2</th>\n",
       "      <td>1</td>\n",
       "      <td>TRANSFER</td>\n",
       "      <td>181.00</td>\n",
       "      <td>C1305486145</td>\n",
       "      <td>181.00</td>\n",
       "      <td>0.00</td>\n",
       "      <td>C553264065</td>\n",
       "      <td>0.0</td>\n",
       "      <td>0.00</td>\n",
       "      <td>1.0</td>\n",
       "      <td>0.0</td>\n",
       "    </tr>\n",
       "    <tr>\n",
       "      <th>3</th>\n",
       "      <td>1</td>\n",
       "      <td>CASH_OUT</td>\n",
       "      <td>181.00</td>\n",
       "      <td>C840083671</td>\n",
       "      <td>181.00</td>\n",
       "      <td>0.00</td>\n",
       "      <td>C38997010</td>\n",
       "      <td>21182.0</td>\n",
       "      <td>0.00</td>\n",
       "      <td>1.0</td>\n",
       "      <td>0.0</td>\n",
       "    </tr>\n",
       "    <tr>\n",
       "      <th>4</th>\n",
       "      <td>1</td>\n",
       "      <td>PAYMENT</td>\n",
       "      <td>11668.14</td>\n",
       "      <td>C2048537720</td>\n",
       "      <td>41554.00</td>\n",
       "      <td>29885.86</td>\n",
       "      <td>M1230701703</td>\n",
       "      <td>0.0</td>\n",
       "      <td>0.00</td>\n",
       "      <td>0.0</td>\n",
       "      <td>0.0</td>\n",
       "    </tr>\n",
       "    <tr>\n",
       "      <th>5</th>\n",
       "      <td>1</td>\n",
       "      <td>PAYMENT</td>\n",
       "      <td>7817.71</td>\n",
       "      <td>C90045638</td>\n",
       "      <td>53860.00</td>\n",
       "      <td>46042.29</td>\n",
       "      <td>M573487274</td>\n",
       "      <td>0.0</td>\n",
       "      <td>0.00</td>\n",
       "      <td>0.0</td>\n",
       "      <td>0.0</td>\n",
       "    </tr>\n",
       "    <tr>\n",
       "      <th>6</th>\n",
       "      <td>1</td>\n",
       "      <td>PAYMENT</td>\n",
       "      <td>7107.77</td>\n",
       "      <td>C154988899</td>\n",
       "      <td>183195.00</td>\n",
       "      <td>176087.23</td>\n",
       "      <td>M408069119</td>\n",
       "      <td>0.0</td>\n",
       "      <td>0.00</td>\n",
       "      <td>0.0</td>\n",
       "      <td>0.0</td>\n",
       "    </tr>\n",
       "    <tr>\n",
       "      <th>7</th>\n",
       "      <td>1</td>\n",
       "      <td>PAYMENT</td>\n",
       "      <td>7861.64</td>\n",
       "      <td>C1912850431</td>\n",
       "      <td>176087.23</td>\n",
       "      <td>168225.59</td>\n",
       "      <td>M633326333</td>\n",
       "      <td>0.0</td>\n",
       "      <td>0.00</td>\n",
       "      <td>0.0</td>\n",
       "      <td>0.0</td>\n",
       "    </tr>\n",
       "    <tr>\n",
       "      <th>8</th>\n",
       "      <td>1</td>\n",
       "      <td>PAYMENT</td>\n",
       "      <td>4024.36</td>\n",
       "      <td>C1265012928</td>\n",
       "      <td>2671.00</td>\n",
       "      <td>0.00</td>\n",
       "      <td>M1176932104</td>\n",
       "      <td>0.0</td>\n",
       "      <td>0.00</td>\n",
       "      <td>0.0</td>\n",
       "      <td>0.0</td>\n",
       "    </tr>\n",
       "    <tr>\n",
       "      <th>9</th>\n",
       "      <td>1</td>\n",
       "      <td>DEBIT</td>\n",
       "      <td>5337.77</td>\n",
       "      <td>C712410124</td>\n",
       "      <td>41720.00</td>\n",
       "      <td>36382.23</td>\n",
       "      <td>C195600860</td>\n",
       "      <td>41898.0</td>\n",
       "      <td>40348.79</td>\n",
       "      <td>0.0</td>\n",
       "      <td>0.0</td>\n",
       "    </tr>\n",
       "  </tbody>\n",
       "</table>\n",
       "</div>"
      ],
      "text/plain": [
       "   step      type    amount     nameOrig  oldbalanceOrg  newbalanceOrig  \\\n",
       "0     1   PAYMENT   9839.64  C1231006815      170136.00       160296.36   \n",
       "1     1   PAYMENT   1864.28  C1666544295       21249.00        19384.72   \n",
       "2     1  TRANSFER    181.00  C1305486145         181.00            0.00   \n",
       "3     1  CASH_OUT    181.00   C840083671         181.00            0.00   \n",
       "4     1   PAYMENT  11668.14  C2048537720       41554.00        29885.86   \n",
       "5     1   PAYMENT   7817.71    C90045638       53860.00        46042.29   \n",
       "6     1   PAYMENT   7107.77   C154988899      183195.00       176087.23   \n",
       "7     1   PAYMENT   7861.64  C1912850431      176087.23       168225.59   \n",
       "8     1   PAYMENT   4024.36  C1265012928        2671.00            0.00   \n",
       "9     1     DEBIT   5337.77   C712410124       41720.00        36382.23   \n",
       "\n",
       "      nameDest  oldbalanceDest  newbalanceDest  isFraud  isFlaggedFraud  \n",
       "0  M1979787155             0.0            0.00      0.0             0.0  \n",
       "1  M2044282225             0.0            0.00      0.0             0.0  \n",
       "2   C553264065             0.0            0.00      1.0             0.0  \n",
       "3    C38997010         21182.0            0.00      1.0             0.0  \n",
       "4  M1230701703             0.0            0.00      0.0             0.0  \n",
       "5   M573487274             0.0            0.00      0.0             0.0  \n",
       "6   M408069119             0.0            0.00      0.0             0.0  \n",
       "7   M633326333             0.0            0.00      0.0             0.0  \n",
       "8  M1176932104             0.0            0.00      0.0             0.0  \n",
       "9   C195600860         41898.0        40348.79      0.0             0.0  "
      ]
     },
     "execution_count": 17,
     "metadata": {},
     "output_type": "execute_result"
    }
   ],
   "source": [
    "df_dirty.head(10)"
   ]
  },
  {
   "cell_type": "markdown",
   "metadata": {},
   "source": [
    "Para simular el servicio de dinero móvil, se necesitan simular adecuadamente los diferentes tipos de transacciones que el sistema soporta. En el simulador **PaySim** se ha decidido cubrir 5 de los tipos de transacciones más importantes: CASH-IN, CASH-OUT, DEBIT, PAYMENT y TRANSFER. Estas categorías se recogen en la variable *type*:\n",
    "* CASH-IN - Proceso de aumentar el balance de una cuenta pagando en efectivo a un comerciante\n",
    "* CASH-OUT - Proceso opuesto a CASH-IN. Supone retirar dinero de la cuenta de un comerciante, disminuyendo el balance de la misma\n",
    "* DEBIT - Similar a CASH-OUT. Consiste en enviar el dinero del servicio de dinero móvil a una cuenta bancaria\n",
    "* PAYMENT - Proceso de pagar por bienes o servicios a los comerciantes que disminuye el saldo de la cuenta y aumenta el saldo del receptor\n",
    "* TRASNFER - Proceso de enviar dinero a otro usuario del servicio a través de la plataforma de dinero móvil"
   ]
  },
  {
   "cell_type": "markdown",
   "metadata": {},
   "source": [
    "Adicionalmente, el dataset cuenta con 9 variables más que determinan el movimiento financiero:\n",
    "* *Amount* - Importe de la operación en moneda local\n",
    "* *nameOrig* - Cliente que inició la operación\n",
    "* *oldbalanceOrig* - Saldo inicial antes de la transacción en la cuenta de origen\n",
    "* *newbalanceOrig* - Nuevo saldo después de la transacción en la cuenta de origen\n",
    "* *nameDest* - Cliente destinatario de la operación\n",
    "* *oldbalanceDest* - Saldo inicial del receptor antes de la transacción\n",
    "* *newbalanceDest* - Nuevo saldo del receptor después de la transacción\n",
    "* *isFraud* - Indicador de transacción realizadas por agentes fraudulentos\n",
    "* *isFlaggedFraud* - Indicador de transacción ilegal. El modelo de negocio tiene como objetivo controlar las transferencias masivas de una cuenta a otra y marca los intentos ilegales. Un intento ilegal en este conjunto de datos es un intento de transferir más de 200.000 en una sola transacción."
   ]
  },
  {
   "cell_type": "markdown",
   "metadata": {},
   "source": [
    "Y una variable que indica el momento de tiempo en que se realizó el movimiento, *step*. Esta variable mapea 1 hora de tiempo real. El dataset contiene información de 31 días, por lo que en el data set encontramos 743 steps."
   ]
  },
  {
   "cell_type": "markdown",
   "metadata": {},
   "source": [
    "Una vez conocida la estructura del dataframe, continuamos realizando el análisis, identificando la **tipología de las variables**:"
   ]
  },
  {
   "cell_type": "code",
   "execution_count": 18,
   "metadata": {},
   "outputs": [
    {
     "data": {
      "text/plain": [
       "step                int64\n",
       "type               object\n",
       "amount            float64\n",
       "nameOrig           object\n",
       "oldbalanceOrg     float64\n",
       "newbalanceOrig    float64\n",
       "nameDest           object\n",
       "oldbalanceDest    float64\n",
       "newbalanceDest    float64\n",
       "isFraud           float64\n",
       "isFlaggedFraud    float64\n",
       "dtype: object"
      ]
     },
     "execution_count": 18,
     "metadata": {},
     "output_type": "execute_result"
    }
   ],
   "source": [
    "df_dirty.dtypes"
   ]
  },
  {
   "cell_type": "markdown",
   "metadata": {},
   "source": [
    "Para analizar la calidad del dataset, es necesario evaluar el volumen de datos ausentes, outliers, filas duplicadas, variables con un unico valor, etc. que se realizarán en los próximos pasos."
   ]
  },
  {
   "cell_type": "markdown",
   "metadata": {},
   "source": [
    "### Estudio de datos perdidos"
   ]
  },
  {
   "cell_type": "markdown",
   "metadata": {},
   "source": [
    "En primer lugar, evaluamos la existencia de datos missing ejecutando el siguiente comando:"
   ]
  },
  {
   "cell_type": "code",
   "execution_count": 19,
   "metadata": {},
   "outputs": [
    {
     "data": {
      "text/plain": [
       "True"
      ]
     },
     "execution_count": 19,
     "metadata": {},
     "output_type": "execute_result"
    }
   ],
   "source": [
    "df_dirty.isnull().values.any()"
   ]
  },
  {
   "cell_type": "markdown",
   "metadata": {},
   "source": [
    "El comando `.any()`, nos devolverá *True* si hay algún valor NaN en nuestro DataFrame.  \n",
    "\n",
    "Una vez identificada la existencia de datos perdios, analizamos el total de datos perdidos que se encuentran en el dataframe, respondiendo a las siguientes preguntas:"
   ]
  },
  {
   "cell_type": "markdown",
   "metadata": {},
   "source": [
    "* ¿Qué volumen total de datos missing hay en el dataset?"
   ]
  },
  {
   "cell_type": "code",
   "execution_count": 20,
   "metadata": {},
   "outputs": [
    {
     "data": {
      "text/plain": [
       "229775"
      ]
     },
     "execution_count": 20,
     "metadata": {},
     "output_type": "execute_result"
    }
   ],
   "source": [
    "df_dirty.isnull().sum().sum()"
   ]
  },
  {
   "cell_type": "markdown",
   "metadata": {},
   "source": [
    "* ¿Cuál es la distribución de valores perdidos por columna?"
   ]
  },
  {
   "cell_type": "code",
   "execution_count": 21,
   "metadata": {},
   "outputs": [],
   "source": [
    "def missing_values_table(df):\n",
    "    mis_val = df.isnull().sum()\n",
    "    mis_val_percent = 100 * df.isnull().sum() / len(df)\n",
    "    mis_val_table = pd.concat([mis_val, mis_val_percent], axis=1)\n",
    "    mis_val_table_ren_columns = mis_val_table.rename(\n",
    "        columns = {0 : 'Valores Missing', 1 : '% Total Valores'})\n",
    "    mis_val_table_ren_columns = mis_val_table_ren_columns[\n",
    "        mis_val_table_ren_columns.iloc[:,1] != 0].sort_values(\n",
    "        '% Total Valores', ascending=False).round(1)\n",
    "    print (\"El data frame contiene \" + str(df.shape[1]) + \" columnas.\\n\"      \n",
    "           \"Hay \" + str(mis_val_table_ren_columns.shape[0]) +\n",
    "           \" columnas que tienen valores perdidos.\")\n",
    "    return mis_val_table_ren_columns"
   ]
  },
  {
   "cell_type": "code",
   "execution_count": 22,
   "metadata": {},
   "outputs": [
    {
     "name": "stdout",
     "output_type": "stream",
     "text": [
      "El data frame contiene 11 columnas.\n",
      "Hay 9 columnas que tienen valores perdidos.\n"
     ]
    },
    {
     "data": {
      "text/html": [
       "<div>\n",
       "<style scoped>\n",
       "    .dataframe tbody tr th:only-of-type {\n",
       "        vertical-align: middle;\n",
       "    }\n",
       "\n",
       "    .dataframe tbody tr th {\n",
       "        vertical-align: top;\n",
       "    }\n",
       "\n",
       "    .dataframe thead th {\n",
       "        text-align: right;\n",
       "    }\n",
       "</style>\n",
       "<table border=\"1\" class=\"dataframe\">\n",
       "  <thead>\n",
       "    <tr style=\"text-align: right;\">\n",
       "      <th></th>\n",
       "      <th>Valores Missing</th>\n",
       "      <th>% Total Valores</th>\n",
       "    </tr>\n",
       "  </thead>\n",
       "  <tbody>\n",
       "    <tr>\n",
       "      <th>nameOrig</th>\n",
       "      <td>25811</td>\n",
       "      <td>0.4</td>\n",
       "    </tr>\n",
       "    <tr>\n",
       "      <th>oldbalanceOrg</th>\n",
       "      <td>25691</td>\n",
       "      <td>0.4</td>\n",
       "    </tr>\n",
       "    <tr>\n",
       "      <th>nameDest</th>\n",
       "      <td>25585</td>\n",
       "      <td>0.4</td>\n",
       "    </tr>\n",
       "    <tr>\n",
       "      <th>isFlaggedFraud</th>\n",
       "      <td>25580</td>\n",
       "      <td>0.4</td>\n",
       "    </tr>\n",
       "    <tr>\n",
       "      <th>amount</th>\n",
       "      <td>25469</td>\n",
       "      <td>0.4</td>\n",
       "    </tr>\n",
       "    <tr>\n",
       "      <th>oldbalanceDest</th>\n",
       "      <td>25452</td>\n",
       "      <td>0.4</td>\n",
       "    </tr>\n",
       "    <tr>\n",
       "      <th>newbalanceDest</th>\n",
       "      <td>25450</td>\n",
       "      <td>0.4</td>\n",
       "    </tr>\n",
       "    <tr>\n",
       "      <th>isFraud</th>\n",
       "      <td>25419</td>\n",
       "      <td>0.4</td>\n",
       "    </tr>\n",
       "    <tr>\n",
       "      <th>newbalanceOrig</th>\n",
       "      <td>25318</td>\n",
       "      <td>0.4</td>\n",
       "    </tr>\n",
       "  </tbody>\n",
       "</table>\n",
       "</div>"
      ],
      "text/plain": [
       "                Valores Missing  % Total Valores\n",
       "nameOrig                  25811              0.4\n",
       "oldbalanceOrg             25691              0.4\n",
       "nameDest                  25585              0.4\n",
       "isFlaggedFraud            25580              0.4\n",
       "amount                    25469              0.4\n",
       "oldbalanceDest            25452              0.4\n",
       "newbalanceDest            25450              0.4\n",
       "isFraud                   25419              0.4\n",
       "newbalanceOrig            25318              0.4"
      ]
     },
     "execution_count": 22,
     "metadata": {},
     "output_type": "execute_result"
    }
   ],
   "source": [
    "missing_values_table(df_dirty)"
   ]
  },
  {
   "cell_type": "markdown",
   "metadata": {},
   "source": [
    "* ¿Qué porcentaje de valores missing hay con respecto al total de valores?"
   ]
  },
  {
   "cell_type": "code",
   "execution_count": 23,
   "metadata": {},
   "outputs": [
    {
     "data": {
      "text/plain": [
       "0.31567540833271795"
      ]
     },
     "execution_count": 23,
     "metadata": {},
     "output_type": "execute_result"
    }
   ],
   "source": [
    "#Calculamos el total de datos:\n",
    "total_cells = np.product(df_dirty.shape)\n",
    "#Calculamos el total de valores missing, sumando todos los valores de la variable que contiene los missing para cada columna:\n",
    "missing_values_count = df_dirty.isnull().sum()\n",
    "total_missing = missing_values_count.sum()\n",
    "# Calculamos el porcentaje de valores perdidos con respecto al total de valores del dataframe:\n",
    "(total_missing/total_cells)*100"
   ]
  },
  {
   "cell_type": "markdown",
   "metadata": {},
   "source": [
    "El 31,56% (229.775 celdas) de los valores del dataframe son missing. Lo importante una vez hemos detectado la existencia de datos missing es determinar qué hacer con ellos.Para ello, debemos de analizar la distribución de estos datos en el dataframe para así poder determinar si se eliminan o se imputan.  \n",
    "\n",
    "Para afinar en nuestra búsqueda del valor NaN perdido podemos extraer las filas que contengan valores NaN:"
   ]
  },
  {
   "cell_type": "code",
   "execution_count": 24,
   "metadata": {},
   "outputs": [
    {
     "name": "stdout",
     "output_type": "stream",
     "text": [
      "Número de registros (instancias/filas): 156227\n"
     ]
    }
   ],
   "source": [
    "nan_rows = df_dirty[df_dirty.isnull().any(1)]\n",
    "print(\"Número de registros (instancias/filas):\", nan_rows.shape[0])"
   ]
  },
  {
   "cell_type": "markdown",
   "metadata": {},
   "source": [
    "Puesto que unicamente encontramos 156.227 filas con valores missing, lo que corresponde a un 2,4% del total de filas del dataframe original, procedemos a eliminar esas filas:"
   ]
  },
  {
   "cell_type": "code",
   "execution_count": 25,
   "metadata": {},
   "outputs": [
    {
     "name": "stdout",
     "output_type": "stream",
     "text": [
      "Número de registros (instancias/filas): 6460898\n"
     ]
    }
   ],
   "source": [
    "df_sin_nan = df_dirty.dropna(how='any')\n",
    "print(\"Número de registros (instancias/filas):\", df_sin_nan.shape[0])"
   ]
  },
  {
   "cell_type": "markdown",
   "metadata": {},
   "source": [
    "Nuestro nuevo dataframe, limpio de missing, contiene 6.460.898 de filas. Comprobamos si existen valores missing:"
   ]
  },
  {
   "cell_type": "code",
   "execution_count": 26,
   "metadata": {},
   "outputs": [
    {
     "data": {
      "text/plain": [
       "False"
      ]
     },
     "execution_count": 26,
     "metadata": {},
     "output_type": "execute_result"
    }
   ],
   "source": [
    "df_sin_nan.isnull().values.any()"
   ]
  },
  {
   "cell_type": "markdown",
   "metadata": {},
   "source": [
    "Nuestro dataframe ya está limpio de datos perdidos."
   ]
  },
  {
   "cell_type": "markdown",
   "metadata": {},
   "source": [
    "### Estudio de duplicidades"
   ]
  },
  {
   "cell_type": "markdown",
   "metadata": {},
   "source": [
    "El siguiente paso, consiste en identificar la existencia de filas duplicadas. En primer lugar, evaluamos la existencia de filas duplicadas (registro completo). Para ello, ejecutamos el siguiente comando:"
   ]
  },
  {
   "cell_type": "code",
   "execution_count": 27,
   "metadata": {},
   "outputs": [
    {
     "data": {
      "text/plain": [
       "98278"
      ]
     },
     "execution_count": 27,
     "metadata": {},
     "output_type": "execute_result"
    }
   ],
   "source": [
    "df_sin_nan.duplicated().sum()"
   ]
  },
  {
   "cell_type": "markdown",
   "metadata": {},
   "source": [
    "Existen 98.278 (1,5% del total) filas duplicadas en el daframe. Eliminamos estas filas:"
   ]
  },
  {
   "cell_type": "code",
   "execution_count": 28,
   "metadata": {},
   "outputs": [
    {
     "name": "stdout",
     "output_type": "stream",
     "text": [
      "Número de registros (instancias/filas): 6362620\n"
     ]
    }
   ],
   "source": [
    "df_sin_duplicados = df_sin_nan.drop_duplicates()\n",
    "print(\"Número de registros (instancias/filas):\", df_sin_duplicados.shape[0])"
   ]
  },
  {
   "cell_type": "markdown",
   "metadata": {},
   "source": [
    "El nuevo dataset contiene 6.362.620 registros."
   ]
  },
  {
   "cell_type": "markdown",
   "metadata": {},
   "source": [
    "### Estudio de datos de tipo outlier en variables continuas"
   ]
  },
  {
   "cell_type": "markdown",
   "metadata": {},
   "source": [
    "Para identificar outliers en las variables, pintamos los gráficos boxplot de las variable continuas: *amount*, *oldbalanceOrg*, *newbalanceOrig*, *oldbalanceDest*, *newbalanceDest*."
   ]
  },
  {
   "cell_type": "markdown",
   "metadata": {},
   "source": [
    " * **Boxplot para la variable amount**"
   ]
  },
  {
   "cell_type": "code",
   "execution_count": 29,
   "metadata": {
    "scrolled": true
   },
   "outputs": [
    {
     "data": {
      "image/png": "[encoded data removed]",
      "text/plain": [
       "<Figure size 504x360 with 1 Axes>"
      ]
     },
     "metadata": {
      "needs_background": "light"
     },
     "output_type": "display_data"
    }
   ],
   "source": [
    "plt.figure(figsize=(7,5))\n",
    "sns.boxplot(data = df_sin_duplicados['amount'])\n",
    "plt.axhline(y=np.mean(df_sin_duplicados['amount']) + 3*np.std(df_sin_duplicados['amount']), color='r')\n",
    "plt.axhline(y=np.mean(df_sin_duplicados['amount']) - 3*np.std(df_sin_duplicados['amount']), color='r')\n",
    "plt.show()"
   ]
  },
  {
   "cell_type": "markdown",
   "metadata": {},
   "source": [
    "Como se puede observar, aplicando los límites mediante el cálculo de la desviación seis sigma (±3 veces la desviación típica), la variable *amount* (Importe de la operación en moneda local) toma valores positivos y presenta outliers. Al tratarse de un dataset con posibles transacciones fraudulentas, es normal que esta variable contenga datos atípicos (correspondientes a transacciones de cantidades monetarias altas). Al no encontrar valores negativos, caso que sí podríamos considerar outlier, no nos interesa trabajar sobre estos valores ya que el objeto de este trabajo es aprender a identificar y predecir. posibles transacciones fraudulentas."
   ]
  },
  {
   "cell_type": "markdown",
   "metadata": {},
   "source": [
    " * **Boxplot para la variable oldbalanceOrg**"
   ]
  },
  {
   "cell_type": "code",
   "execution_count": 30,
   "metadata": {},
   "outputs": [
    {
     "data": {
      "image/png": "[encoded data removed]",
      "text/plain": [
       "<Figure size 504x360 with 1 Axes>"
      ]
     },
     "metadata": {
      "needs_background": "light"
     },
     "output_type": "display_data"
    }
   ],
   "source": [
    "plt.figure(figsize=(7,5))\n",
    "sns.boxplot(data = df_sin_duplicados['oldbalanceOrg'])\n",
    "plt.axhline(y=np.mean(df_sin_duplicados['oldbalanceOrg']) + 3*np.std(df_sin_duplicados['oldbalanceOrg']), color='r')\n",
    "plt.axhline(y=np.mean(df_sin_duplicados['oldbalanceOrg']) - 3*np.std(df_sin_duplicados['oldbalanceOrg']), color='r')\n",
    "plt.show()"
   ]
  },
  {
   "cell_type": "markdown",
   "metadata": {},
   "source": [
    "Como se puede observar, aplicando los límites mediante el cálculo de la desviación seis sigma (±3 veces la desviación típica), la variable *oldbalanceOrg* (Saldo inicial antes de la transacción en la cuenta de origen) toma valores positivos y presenta outliers. Al tratarse de un dataset con posibles transacciones fraudulentas, es normal que esta variable contenga datos atípicos (correspondientes a saldos altos en cuenta origen). Al no encontrar valores negativos, caso que sí podríamos considerar outlier, no nos interesa trabajar sobre estos valores ya que el objeto de este trabajo es aprender a identificar y predecir posibles transacciones fraudulentas."
   ]
  },
  {
   "cell_type": "markdown",
   "metadata": {},
   "source": [
    " * **Boxplot para la variable newbalanceOrig**"
   ]
  },
  {
   "cell_type": "code",
   "execution_count": 31,
   "metadata": {},
   "outputs": [
    {
     "data": {
      "image/png": "[encoded data removed]",
      "text/plain": [
       "<Figure size 504x360 with 1 Axes>"
      ]
     },
     "metadata": {
      "needs_background": "light"
     },
     "output_type": "display_data"
    }
   ],
   "source": [
    "plt.figure(figsize=(7,5))\n",
    "sns.boxplot(data = df_sin_duplicados['newbalanceOrig'])\n",
    "plt.axhline(y=np.mean(df_sin_duplicados['newbalanceOrig']) + 3*np.std(df_sin_duplicados['newbalanceOrig']), color='r')\n",
    "plt.axhline(y=np.mean(df_sin_duplicados['newbalanceOrig']) - 3*np.std(df_sin_duplicados['newbalanceOrig']), color='r')\n",
    "plt.show()"
   ]
  },
  {
   "cell_type": "markdown",
   "metadata": {},
   "source": [
    "Como se puede observar, aplicando los límites mediante el cálculo de la desviación seis sigma (±3 veces la desviación típica), la variable *newbalanceOrig* (Nuevo saldo después de la transacción en la cuenta de origen) toma valores positivos y presenta outliers. Al no encontrar valores negativos, caso que sí podríamos considerar outlier, no nos interesa trabajar sobre estos valores ya que el objeto de este trabajo es aprender a identificar y predecir posibles transacciones fraudulentas."
   ]
  },
  {
   "cell_type": "markdown",
   "metadata": {},
   "source": [
    " * **Boxplot para la variable oldbalanceDest**"
   ]
  },
  {
   "cell_type": "code",
   "execution_count": 32,
   "metadata": {},
   "outputs": [
    {
     "data": {
      "image/png": "[encoded data removed]",
      "text/plain": [
       "<Figure size 504x360 with 1 Axes>"
      ]
     },
     "metadata": {
      "needs_background": "light"
     },
     "output_type": "display_data"
    }
   ],
   "source": [
    "plt.figure(figsize=(7,5))\n",
    "sns.boxplot(data = df_sin_duplicados['oldbalanceDest'])\n",
    "plt.axhline(y=np.mean(df_sin_duplicados['oldbalanceDest']) + 3*np.std(df_sin_duplicados['oldbalanceDest']), color='r')\n",
    "plt.axhline(y=np.mean(df_sin_duplicados['oldbalanceDest']) - 3*np.std(df_sin_duplicados['oldbalanceDest']), color='r')\n",
    "plt.show()"
   ]
  },
  {
   "cell_type": "markdown",
   "metadata": {},
   "source": [
    "Como se puede observar, aplicando los límites mediante el cálculo de la desviación seis sigma (±3 veces la desviación típica), la variable *oldbalanceDest* (Saldo inicial del receptor antes de la transacción) toma valores positivos y presenta outliers. Al no encontrar valores negativos, caso que sí podríamos considerar outlier, no nos interesa trabajar sobre estos valores ya que el objeto de este trabajo es aprender a identificar y predecir posibles transacciones fraudulentas."
   ]
  },
  {
   "cell_type": "markdown",
   "metadata": {},
   "source": [
    " * **Boxplot para la variable newbalanceDest**"
   ]
  },
  {
   "cell_type": "code",
   "execution_count": 33,
   "metadata": {},
   "outputs": [
    {
     "data": {
      "image/png": "[encoded data removed]",
      "text/plain": [
       "<Figure size 504x360 with 1 Axes>"
      ]
     },
     "metadata": {
      "needs_background": "light"
     },
     "output_type": "display_data"
    }
   ],
   "source": [
    "plt.figure(figsize=(7,5))\n",
    "sns.boxplot(data = df_sin_duplicados['newbalanceDest'])\n",
    "plt.axhline(y=np.mean(df_sin_duplicados['newbalanceDest']) + 3*np.std(df_sin_duplicados['newbalanceDest']), color='r')\n",
    "plt.axhline(y=np.mean(df_sin_duplicados['newbalanceDest']) - 3*np.std(df_sin_duplicados['newbalanceDest']), color='r')\n",
    "plt.show()"
   ]
  },
  {
   "cell_type": "markdown",
   "metadata": {},
   "source": [
    "Como se puede observar, aplicando los límites mediante el cálculo de la desviación seis sigma (±3 veces la desviación típica), la variable newbalanceDest (Nuevo saldo del receptor después de la transacción) toma valores positivos y presenta outliers. Al no encontrar valores negativos, caso que sí podríamos considerar outlier, no nos interesa trabajar sobre estos valores ya que el objeto de este trabajo es aprender a identificar y predecir posibles transacciones fraudulentas."
   ]
  },
  {
   "cell_type": "markdown",
   "metadata": {},
   "source": [
    "### Estudio de datos de tipo outlier en variables discretas"
   ]
  },
  {
   "cell_type": "markdown",
   "metadata": {},
   "source": [
    "Para analizar la existencia de datos de tipo outlier en las variables discretas: *isFraud* (Indicador de transacción realizadas por agentes fraudulentos) e *isFlaggedFraud* (Indicador de transacción ilegal), analizaremos la exitencia de valores distintos a 0 o 1."
   ]
  },
  {
   "cell_type": "code",
   "execution_count": 34,
   "metadata": {},
   "outputs": [
    {
     "data": {
      "text/html": [
       "<div>\n",
       "<style scoped>\n",
       "    .dataframe tbody tr th:only-of-type {\n",
       "        vertical-align: middle;\n",
       "    }\n",
       "\n",
       "    .dataframe tbody tr th {\n",
       "        vertical-align: top;\n",
       "    }\n",
       "\n",
       "    .dataframe thead th {\n",
       "        text-align: right;\n",
       "    }\n",
       "</style>\n",
       "<table border=\"1\" class=\"dataframe\">\n",
       "  <thead>\n",
       "    <tr style=\"text-align: right;\">\n",
       "      <th></th>\n",
       "      <th>nameOrig</th>\n",
       "    </tr>\n",
       "    <tr>\n",
       "      <th>isFraud</th>\n",
       "      <th></th>\n",
       "    </tr>\n",
       "  </thead>\n",
       "  <tbody>\n",
       "    <tr>\n",
       "      <th>0.0</th>\n",
       "      <td>6354407</td>\n",
       "    </tr>\n",
       "    <tr>\n",
       "      <th>1.0</th>\n",
       "      <td>8213</td>\n",
       "    </tr>\n",
       "  </tbody>\n",
       "</table>\n",
       "</div>"
      ],
      "text/plain": [
       "         nameOrig\n",
       "isFraud          \n",
       "0.0       6354407\n",
       "1.0          8213"
      ]
     },
     "execution_count": 34,
     "metadata": {},
     "output_type": "execute_result"
    }
   ],
   "source": [
    "df_sin_duplicados[[\"nameOrig\"]].groupby(df_sin_duplicados['isFraud']).count()"
   ]
  },
  {
   "cell_type": "code",
   "execution_count": 35,
   "metadata": {},
   "outputs": [
    {
     "data": {
      "text/html": [
       "<div>\n",
       "<style scoped>\n",
       "    .dataframe tbody tr th:only-of-type {\n",
       "        vertical-align: middle;\n",
       "    }\n",
       "\n",
       "    .dataframe tbody tr th {\n",
       "        vertical-align: top;\n",
       "    }\n",
       "\n",
       "    .dataframe thead th {\n",
       "        text-align: right;\n",
       "    }\n",
       "</style>\n",
       "<table border=\"1\" class=\"dataframe\">\n",
       "  <thead>\n",
       "    <tr style=\"text-align: right;\">\n",
       "      <th></th>\n",
       "      <th>nameOrig</th>\n",
       "    </tr>\n",
       "    <tr>\n",
       "      <th>isFlaggedFraud</th>\n",
       "      <th></th>\n",
       "    </tr>\n",
       "  </thead>\n",
       "  <tbody>\n",
       "    <tr>\n",
       "      <th>0.0</th>\n",
       "      <td>6362604</td>\n",
       "    </tr>\n",
       "    <tr>\n",
       "      <th>1.0</th>\n",
       "      <td>16</td>\n",
       "    </tr>\n",
       "  </tbody>\n",
       "</table>\n",
       "</div>"
      ],
      "text/plain": [
       "                nameOrig\n",
       "isFlaggedFraud          \n",
       "0.0              6362604\n",
       "1.0                   16"
      ]
     },
     "execution_count": 35,
     "metadata": {},
     "output_type": "execute_result"
    }
   ],
   "source": [
    "df_sin_duplicados[[\"nameOrig\"]].groupby(df_sin_duplicados['isFlaggedFraud']).count()"
   ]
  },
  {
   "cell_type": "markdown",
   "metadata": {},
   "source": [
    "Como se observa, las variables *isFraud* e *isFlaggedFraud* únicamente toman valores 0 ó 1."
   ]
  },
  {
   "cell_type": "markdown",
   "metadata": {},
   "source": [
    "### Estudio de datos de tipo outlier en la variable type"
   ]
  },
  {
   "cell_type": "markdown",
   "metadata": {},
   "source": [
    "La variable type, indica el tipo de transacción que se ha realizado. Según la bibliografía, esta variable sólo puede tomas 5 valores. Vamos a comprobarlo realizando el mismo análisis que en el caso anterior:"
   ]
  },
  {
   "cell_type": "code",
   "execution_count": 36,
   "metadata": {},
   "outputs": [
    {
     "data": {
      "text/html": [
       "<div>\n",
       "<style scoped>\n",
       "    .dataframe tbody tr th:only-of-type {\n",
       "        vertical-align: middle;\n",
       "    }\n",
       "\n",
       "    .dataframe tbody tr th {\n",
       "        vertical-align: top;\n",
       "    }\n",
       "\n",
       "    .dataframe thead th {\n",
       "        text-align: right;\n",
       "    }\n",
       "</style>\n",
       "<table border=\"1\" class=\"dataframe\">\n",
       "  <thead>\n",
       "    <tr style=\"text-align: right;\">\n",
       "      <th></th>\n",
       "      <th>nameOrig</th>\n",
       "    </tr>\n",
       "    <tr>\n",
       "      <th>type</th>\n",
       "      <th></th>\n",
       "    </tr>\n",
       "  </thead>\n",
       "  <tbody>\n",
       "    <tr>\n",
       "      <th>CASH_IN</th>\n",
       "      <td>1399284</td>\n",
       "    </tr>\n",
       "    <tr>\n",
       "      <th>CASH_OUT</th>\n",
       "      <td>2237500</td>\n",
       "    </tr>\n",
       "    <tr>\n",
       "      <th>DEBIT</th>\n",
       "      <td>41432</td>\n",
       "    </tr>\n",
       "    <tr>\n",
       "      <th>PAYMENT</th>\n",
       "      <td>2151495</td>\n",
       "    </tr>\n",
       "    <tr>\n",
       "      <th>TRANSFER</th>\n",
       "      <td>532909</td>\n",
       "    </tr>\n",
       "  </tbody>\n",
       "</table>\n",
       "</div>"
      ],
      "text/plain": [
       "          nameOrig\n",
       "type              \n",
       "CASH_IN    1399284\n",
       "CASH_OUT   2237500\n",
       "DEBIT        41432\n",
       "PAYMENT    2151495\n",
       "TRANSFER    532909"
      ]
     },
     "execution_count": 36,
     "metadata": {},
     "output_type": "execute_result"
    }
   ],
   "source": [
    "df_sin_duplicados[[\"nameOrig\"]].groupby(df_sin_duplicados['type']).count()"
   ]
  },
  {
   "cell_type": "markdown",
   "metadata": {},
   "source": [
    "Como se observa, la variable type, unicamente tomas los valores descritos en la bibliografía."
   ]
  },
  {
   "cell_type": "markdown",
   "metadata": {},
   "source": [
    "### Identificación de campos/variables con un único valor"
   ]
  },
  {
   "cell_type": "markdown",
   "metadata": {},
   "source": [
    "Evaluamos la exitencia de vairables que toman un único valor:"
   ]
  },
  {
   "cell_type": "code",
   "execution_count": 37,
   "metadata": {},
   "outputs": [
    {
     "data": {
      "text/plain": [
       "step              False\n",
       "type              False\n",
       "amount            False\n",
       "nameOrig          False\n",
       "oldbalanceOrg     False\n",
       "newbalanceOrig    False\n",
       "nameDest          False\n",
       "oldbalanceDest    False\n",
       "newbalanceDest    False\n",
       "isFraud           False\n",
       "isFlaggedFraud    False\n",
       "dtype: bool"
      ]
     },
     "execution_count": 37,
     "metadata": {},
     "output_type": "execute_result"
    }
   ],
   "source": [
    "df_sin_duplicados.apply(pd.Series.nunique) == 1"
   ]
  },
  {
   "cell_type": "markdown",
   "metadata": {},
   "source": [
    "No existen campos que tomen un solo valor"
   ]
  },
  {
   "cell_type": "markdown",
   "metadata": {},
   "source": [
    "## Exportamos el dataset"
   ]
  },
  {
   "cell_type": "markdown",
   "metadata": {},
   "source": [
    "Guardamos el dataset limpio, para poder utilizarlo en las siguientes fases del proceso"
   ]
  },
  {
   "cell_type": "code",
   "execution_count": 38,
   "metadata": {},
   "outputs": [],
   "source": [
    "df_sin_duplicados.to_csv('/tmp/df_clean.csv', index = False)"
   ]
  },
  {
   "cell_type": "code",
   "execution_count": 39,
   "metadata": {},
   "outputs": [
    {
     "name": "stdout",
     "output_type": "stream",
     "text": [
      "dataset_v0.csv\r\n",
      "df_clean.csv\r\n",
      "df_dirty.csv\r\n",
      "systemd-private-6c440eefc28c4d319793e82277e9b4cc-chronyd.service-MUrd4O\r\n"
     ]
    }
   ],
   "source": [
    "# chequeamos que en la ruta /tmp de la máquina se ha generado el fichero df_dirty.csv\n",
    "!ls /tmp"
   ]
  },
  {
   "cell_type": "code",
   "execution_count": 40,
   "metadata": {},
   "outputs": [],
   "source": [
    "s3.upload_file(Bucket = BUCKET_NAME, Key = 'df_clean.csv', Filename = '/tmp/df_clean.csv')"
   ]
  }
 ],
 "metadata": {
  "kernelspec": {
   "display_name": "Python 3",
   "language": "python",
   "name": "python3"
  },
  "language_info": {
   "codemirror_mode": {
    "name": "ipython",
    "version": 3
   },
   "file_extension": ".py",
   "mimetype": "text/x-python",
   "name": "python",
   "nbconvert_exporter": "python",
   "pygments_lexer": "ipython3",
   "version": "3.7.7"
  }
 },
 "nbformat": 4,
 "nbformat_minor": 2
}
