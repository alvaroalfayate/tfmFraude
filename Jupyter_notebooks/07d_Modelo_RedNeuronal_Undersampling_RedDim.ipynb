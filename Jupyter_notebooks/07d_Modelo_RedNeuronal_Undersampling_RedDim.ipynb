{
 "cells": [
  {
   "cell_type": "markdown",
   "metadata": {},
   "source": [
    "<img src=\"mbit_logo.png\" alt=\"drawing\" align=\"right\" style=\"float\" width=\"150\" height=\"150\"/>\n",
    "\n",
    "<font color=\"#D31525\"><h3 align=\"left\">Detección de fraude en transacciones financieras</h3></font>\n",
    "<font color=\"#2C3E50\"><h3 align=\"left\"> RED NEURONAL + REDUCCIÓN DE ATRIBUTOS + UNDERSAMPLING </h3></font>"
   ]
  },
  {
   "cell_type": "markdown",
   "metadata": {},
   "source": [
    "## Importar librerias\n",
    "En esta primera parte del código, se realizan las llamadas a las librerías que se utilizarán en el Notebook:"
   ]
  },
  {
   "cell_type": "code",
   "execution_count": 3,
   "metadata": {},
   "outputs": [],
   "source": [
    "# Paquetes de manipulación de datos\n",
    "import pandas as pd\n",
    "import numpy as np\n",
    "import boto3\n",
    "\n",
    "# Paquetes de visualización\n",
    "import matplotlib.pyplot as plt\n",
    "import seaborn as sns\n",
    "\n",
    "# Paquetes para normalizar los resultados\n",
    "from sklearn.preprocessing import StandardScaler\n",
    "from sklearn.pipeline      import make_pipeline\n",
    "\n",
    "# Paquetes para aplicar el modelo: Red neuronal\n",
    "from sklearn.model_selection import GridSearchCV           # grid de parámetros definido\n",
    "from sklearn.model_selection import RandomizedSearchCV     # grid de parámetros aleatorios sobre una determinada\n",
    "import sklearn.metrics as metrics\n",
    "from sklearn.metrics import classification_report\n",
    "from sklearn.metrics import confusion_matrix\n",
    "from sklearn.model_selection import cross_validate\n",
    "from sklearn.metrics import roc_auc_score\n",
    "from sklearn.model_selection import train_test_split\n",
    "from sklearn.neural_network import MLPClassifier"
   ]
  },
  {
   "cell_type": "markdown",
   "metadata": {},
   "source": [
    "## Importar DataSets\n",
    "Importamos los datasets Train-Test y Evaluación para los que se ha aplicado PCA y submuestreo para ajustar la distribución de la clase mayoritaria."
   ]
  },
  {
   "cell_type": "code",
   "execution_count": 4,
   "metadata": {},
   "outputs": [],
   "source": [
    "s3 = boto3.client(\"s3\")\n",
    "\n",
    "# Seleccionamos el bucket con el que vamos a trabajar\n",
    "BUCKET_NAME = 'tfmfraud'"
   ]
  },
  {
   "cell_type": "markdown",
   "metadata": {},
   "source": [
    "## TrainTest"
   ]
  },
  {
   "cell_type": "code",
   "execution_count": 5,
   "metadata": {},
   "outputs": [],
   "source": [
    "# Descargamos el fichero del bucket de s3 a la máquina EC2 para poder trabajar con él.\n",
    "s3.download_file(Bucket = BUCKET_NAME, Key = 'train_test_under_dis.csv',Filename = '/tmp/train_test_under_dis.csv')"
   ]
  },
  {
   "cell_type": "code",
   "execution_count": 6,
   "metadata": {},
   "outputs": [],
   "source": [
    "#Leemos el fichero y lo metemos en un dataframe.\n",
    "trainTestDis = pd.read_csv('/tmp/train_test_under_dis.csv', dtype={'rank':'category'})"
   ]
  },
  {
   "cell_type": "code",
   "execution_count": 7,
   "metadata": {},
   "outputs": [
    {
     "name": "stdout",
     "output_type": "stream",
     "text": [
      "(74130, 9)\n"
     ]
    }
   ],
   "source": [
    "print (trainTestDis.shape)"
   ]
  },
  {
   "cell_type": "code",
   "execution_count": 8,
   "metadata": {},
   "outputs": [
    {
     "data": {
      "text/html": [
       "<div>\n",
       "<style scoped>\n",
       "    .dataframe tbody tr th:only-of-type {\n",
       "        vertical-align: middle;\n",
       "    }\n",
       "\n",
       "    .dataframe tbody tr th {\n",
       "        vertical-align: top;\n",
       "    }\n",
       "\n",
       "    .dataframe thead th {\n",
       "        text-align: right;\n",
       "    }\n",
       "</style>\n",
       "<table border=\"1\" class=\"dataframe\">\n",
       "  <thead>\n",
       "    <tr style=\"text-align: right;\">\n",
       "      <th></th>\n",
       "      <th>balanceOrig</th>\n",
       "      <th>balanceDest</th>\n",
       "      <th>newbalanceDest</th>\n",
       "      <th>amount</th>\n",
       "      <th>day</th>\n",
       "      <th>hours_day</th>\n",
       "      <th>type</th>\n",
       "      <th>newbalanceOrig</th>\n",
       "      <th>isFraud</th>\n",
       "    </tr>\n",
       "  </thead>\n",
       "  <tbody>\n",
       "    <tr>\n",
       "      <th>0</th>\n",
       "      <td>181.0</td>\n",
       "      <td>0.00</td>\n",
       "      <td>0.00</td>\n",
       "      <td>181.00</td>\n",
       "      <td>1</td>\n",
       "      <td>1</td>\n",
       "      <td>TRANSFER</td>\n",
       "      <td>0.0</td>\n",
       "      <td>1.0</td>\n",
       "    </tr>\n",
       "    <tr>\n",
       "      <th>1</th>\n",
       "      <td>181.0</td>\n",
       "      <td>-21182.00</td>\n",
       "      <td>0.00</td>\n",
       "      <td>181.00</td>\n",
       "      <td>1</td>\n",
       "      <td>1</td>\n",
       "      <td>CASH_OUT</td>\n",
       "      <td>0.0</td>\n",
       "      <td>1.0</td>\n",
       "    </tr>\n",
       "    <tr>\n",
       "      <th>2</th>\n",
       "      <td>2806.0</td>\n",
       "      <td>-26202.00</td>\n",
       "      <td>0.00</td>\n",
       "      <td>2806.00</td>\n",
       "      <td>1</td>\n",
       "      <td>1</td>\n",
       "      <td>CASH_OUT</td>\n",
       "      <td>0.0</td>\n",
       "      <td>1.0</td>\n",
       "    </tr>\n",
       "    <tr>\n",
       "      <th>3</th>\n",
       "      <td>20128.0</td>\n",
       "      <td>5877.85</td>\n",
       "      <td>12145.85</td>\n",
       "      <td>20128.00</td>\n",
       "      <td>1</td>\n",
       "      <td>1</td>\n",
       "      <td>CASH_OUT</td>\n",
       "      <td>0.0</td>\n",
       "      <td>1.0</td>\n",
       "    </tr>\n",
       "    <tr>\n",
       "      <th>4</th>\n",
       "      <td>0.0</td>\n",
       "      <td>9291517.62</td>\n",
       "      <td>9291619.62</td>\n",
       "      <td>416001.33</td>\n",
       "      <td>1</td>\n",
       "      <td>1</td>\n",
       "      <td>CASH_OUT</td>\n",
       "      <td>0.0</td>\n",
       "      <td>1.0</td>\n",
       "    </tr>\n",
       "  </tbody>\n",
       "</table>\n",
       "</div>"
      ],
      "text/plain": [
       "   balanceOrig  balanceDest  newbalanceDest     amount  day  hours_day  \\\n",
       "0        181.0         0.00            0.00     181.00    1          1   \n",
       "1        181.0    -21182.00            0.00     181.00    1          1   \n",
       "2       2806.0    -26202.00            0.00    2806.00    1          1   \n",
       "3      20128.0      5877.85        12145.85   20128.00    1          1   \n",
       "4          0.0   9291517.62      9291619.62  416001.33    1          1   \n",
       "\n",
       "       type  newbalanceOrig  isFraud  \n",
       "0  TRANSFER             0.0      1.0  \n",
       "1  CASH_OUT             0.0      1.0  \n",
       "2  CASH_OUT             0.0      1.0  \n",
       "3  CASH_OUT             0.0      1.0  \n",
       "4  CASH_OUT             0.0      1.0  "
      ]
     },
     "execution_count": 8,
     "metadata": {},
     "output_type": "execute_result"
    }
   ],
   "source": [
    "trainTestDis.head()"
   ]
  },
  {
   "cell_type": "code",
   "execution_count": 9,
   "metadata": {},
   "outputs": [
    {
     "data": {
      "text/plain": [
       "0.0    66717\n",
       "1.0     7413\n",
       "Name: isFraud, dtype: int64"
      ]
     },
     "execution_count": 9,
     "metadata": {},
     "output_type": "execute_result"
    }
   ],
   "source": [
    "pd.value_counts(trainTestDis['isFraud'])"
   ]
  },
  {
   "cell_type": "code",
   "execution_count": 10,
   "metadata": {},
   "outputs": [],
   "source": [
    "# Eliminar el fichero de la ruta tmp de la máquina EC2 para no ocupar espacio.\n",
    "!rm /tmp/train_test_under_dis.csv"
   ]
  },
  {
   "cell_type": "markdown",
   "metadata": {},
   "source": [
    "## Evaluacion"
   ]
  },
  {
   "cell_type": "code",
   "execution_count": 11,
   "metadata": {},
   "outputs": [],
   "source": [
    "# Descargamos el fichero del bucket de s3 a la máquina EC2 para poder trabajar con él.\n",
    "s3.download_file(Bucket = BUCKET_NAME, Key = 'eval_under_dis.csv',Filename = '/tmp/eval_under_dis.csv')"
   ]
  },
  {
   "cell_type": "code",
   "execution_count": 12,
   "metadata": {},
   "outputs": [],
   "source": [
    "#Leemos el fichero y lo metemos en un dataframe.\n",
    "evalDis = pd.read_csv('/tmp/eval_under_dis.csv', dtype={'rank':'category'})"
   ]
  },
  {
   "cell_type": "code",
   "execution_count": 13,
   "metadata": {},
   "outputs": [
    {
     "name": "stdout",
     "output_type": "stream",
     "text": [
      "(80000, 9)\n"
     ]
    }
   ],
   "source": [
    "print (evalDis.shape)"
   ]
  },
  {
   "cell_type": "code",
   "execution_count": 14,
   "metadata": {
    "scrolled": true
   },
   "outputs": [
    {
     "data": {
      "text/html": [
       "<div>\n",
       "<style scoped>\n",
       "    .dataframe tbody tr th:only-of-type {\n",
       "        vertical-align: middle;\n",
       "    }\n",
       "\n",
       "    .dataframe tbody tr th {\n",
       "        vertical-align: top;\n",
       "    }\n",
       "\n",
       "    .dataframe thead th {\n",
       "        text-align: right;\n",
       "    }\n",
       "</style>\n",
       "<table border=\"1\" class=\"dataframe\">\n",
       "  <thead>\n",
       "    <tr style=\"text-align: right;\">\n",
       "      <th></th>\n",
       "      <th>balanceOrig</th>\n",
       "      <th>balanceDest</th>\n",
       "      <th>newbalanceDest</th>\n",
       "      <th>amount</th>\n",
       "      <th>day</th>\n",
       "      <th>hours_day</th>\n",
       "      <th>type</th>\n",
       "      <th>newbalanceOrig</th>\n",
       "      <th>isFraud</th>\n",
       "    </tr>\n",
       "  </thead>\n",
       "  <tbody>\n",
       "    <tr>\n",
       "      <th>0</th>\n",
       "      <td>10000000.00</td>\n",
       "      <td>10000000.00</td>\n",
       "      <td>11727027.89</td>\n",
       "      <td>10000000.00</td>\n",
       "      <td>18</td>\n",
       "      <td>17</td>\n",
       "      <td>CASH_OUT</td>\n",
       "      <td>0.0</td>\n",
       "      <td>1.0</td>\n",
       "    </tr>\n",
       "    <tr>\n",
       "      <th>1</th>\n",
       "      <td>545780.70</td>\n",
       "      <td>0.00</td>\n",
       "      <td>0.00</td>\n",
       "      <td>545780.70</td>\n",
       "      <td>22</td>\n",
       "      <td>18</td>\n",
       "      <td>TRANSFER</td>\n",
       "      <td>0.0</td>\n",
       "      <td>1.0</td>\n",
       "    </tr>\n",
       "    <tr>\n",
       "      <th>2</th>\n",
       "      <td>2079746.13</td>\n",
       "      <td>2079746.13</td>\n",
       "      <td>2079746.13</td>\n",
       "      <td>2079746.13</td>\n",
       "      <td>31</td>\n",
       "      <td>14</td>\n",
       "      <td>CASH_OUT</td>\n",
       "      <td>0.0</td>\n",
       "      <td>1.0</td>\n",
       "    </tr>\n",
       "    <tr>\n",
       "      <th>3</th>\n",
       "      <td>46081.45</td>\n",
       "      <td>0.00</td>\n",
       "      <td>0.00</td>\n",
       "      <td>46081.45</td>\n",
       "      <td>5</td>\n",
       "      <td>6</td>\n",
       "      <td>TRANSFER</td>\n",
       "      <td>0.0</td>\n",
       "      <td>1.0</td>\n",
       "    </tr>\n",
       "    <tr>\n",
       "      <th>4</th>\n",
       "      <td>50722.16</td>\n",
       "      <td>50722.15</td>\n",
       "      <td>72551.64</td>\n",
       "      <td>50722.16</td>\n",
       "      <td>17</td>\n",
       "      <td>14</td>\n",
       "      <td>CASH_OUT</td>\n",
       "      <td>0.0</td>\n",
       "      <td>1.0</td>\n",
       "    </tr>\n",
       "  </tbody>\n",
       "</table>\n",
       "</div>"
      ],
      "text/plain": [
       "   balanceOrig  balanceDest  newbalanceDest       amount  day  hours_day  \\\n",
       "0  10000000.00  10000000.00     11727027.89  10000000.00   18         17   \n",
       "1    545780.70         0.00            0.00    545780.70   22         18   \n",
       "2   2079746.13   2079746.13      2079746.13   2079746.13   31         14   \n",
       "3     46081.45         0.00            0.00     46081.45    5          6   \n",
       "4     50722.16     50722.15        72551.64     50722.16   17         14   \n",
       "\n",
       "       type  newbalanceOrig  isFraud  \n",
       "0  CASH_OUT             0.0      1.0  \n",
       "1  TRANSFER             0.0      1.0  \n",
       "2  CASH_OUT             0.0      1.0  \n",
       "3  TRANSFER             0.0      1.0  \n",
       "4  CASH_OUT             0.0      1.0  "
      ]
     },
     "execution_count": 14,
     "metadata": {},
     "output_type": "execute_result"
    }
   ],
   "source": [
    "evalDis.head()"
   ]
  },
  {
   "cell_type": "code",
   "execution_count": 15,
   "metadata": {},
   "outputs": [
    {
     "data": {
      "text/plain": [
       "0.0    79200\n",
       "1.0      800\n",
       "Name: isFraud, dtype: int64"
      ]
     },
     "execution_count": 15,
     "metadata": {},
     "output_type": "execute_result"
    }
   ],
   "source": [
    "pd.value_counts(evalDis['isFraud'])"
   ]
  },
  {
   "cell_type": "code",
   "execution_count": 16,
   "metadata": {},
   "outputs": [],
   "source": [
    "# Eliminar el fichero de la ruta tmp de la máquina EC2 para no ocupar espacio.\n",
    "!rm /tmp/eval_under_dis.csv"
   ]
  },
  {
   "cell_type": "markdown",
   "metadata": {},
   "source": [
    "## Red de Neuronas\n",
    "En este caso, para aplicar una red neuronal, vamos a normalizar los datos para mejorar los resultados:"
   ]
  },
  {
   "cell_type": "markdown",
   "metadata": {},
   "source": [
    "En primer lugar, debemos convertir a dummy la variable *type*:"
   ]
  },
  {
   "cell_type": "code",
   "execution_count": 17,
   "metadata": {},
   "outputs": [
    {
     "data": {
      "text/html": [
       "<div>\n",
       "<style scoped>\n",
       "    .dataframe tbody tr th:only-of-type {\n",
       "        vertical-align: middle;\n",
       "    }\n",
       "\n",
       "    .dataframe tbody tr th {\n",
       "        vertical-align: top;\n",
       "    }\n",
       "\n",
       "    .dataframe thead th {\n",
       "        text-align: right;\n",
       "    }\n",
       "</style>\n",
       "<table border=\"1\" class=\"dataframe\">\n",
       "  <thead>\n",
       "    <tr style=\"text-align: right;\">\n",
       "      <th></th>\n",
       "      <th>balanceOrig</th>\n",
       "      <th>balanceDest</th>\n",
       "      <th>newbalanceDest</th>\n",
       "      <th>amount</th>\n",
       "      <th>day</th>\n",
       "      <th>hours_day</th>\n",
       "      <th>newbalanceOrig</th>\n",
       "      <th>isFraud</th>\n",
       "      <th>type_TRANSFER</th>\n",
       "    </tr>\n",
       "  </thead>\n",
       "  <tbody>\n",
       "    <tr>\n",
       "      <th>0</th>\n",
       "      <td>181.0</td>\n",
       "      <td>0.00</td>\n",
       "      <td>0.00</td>\n",
       "      <td>181.00</td>\n",
       "      <td>1</td>\n",
       "      <td>1</td>\n",
       "      <td>0.0</td>\n",
       "      <td>1.0</td>\n",
       "      <td>1</td>\n",
       "    </tr>\n",
       "    <tr>\n",
       "      <th>1</th>\n",
       "      <td>181.0</td>\n",
       "      <td>-21182.00</td>\n",
       "      <td>0.00</td>\n",
       "      <td>181.00</td>\n",
       "      <td>1</td>\n",
       "      <td>1</td>\n",
       "      <td>0.0</td>\n",
       "      <td>1.0</td>\n",
       "      <td>0</td>\n",
       "    </tr>\n",
       "    <tr>\n",
       "      <th>2</th>\n",
       "      <td>2806.0</td>\n",
       "      <td>-26202.00</td>\n",
       "      <td>0.00</td>\n",
       "      <td>2806.00</td>\n",
       "      <td>1</td>\n",
       "      <td>1</td>\n",
       "      <td>0.0</td>\n",
       "      <td>1.0</td>\n",
       "      <td>0</td>\n",
       "    </tr>\n",
       "    <tr>\n",
       "      <th>3</th>\n",
       "      <td>20128.0</td>\n",
       "      <td>5877.85</td>\n",
       "      <td>12145.85</td>\n",
       "      <td>20128.00</td>\n",
       "      <td>1</td>\n",
       "      <td>1</td>\n",
       "      <td>0.0</td>\n",
       "      <td>1.0</td>\n",
       "      <td>0</td>\n",
       "    </tr>\n",
       "    <tr>\n",
       "      <th>4</th>\n",
       "      <td>0.0</td>\n",
       "      <td>9291517.62</td>\n",
       "      <td>9291619.62</td>\n",
       "      <td>416001.33</td>\n",
       "      <td>1</td>\n",
       "      <td>1</td>\n",
       "      <td>0.0</td>\n",
       "      <td>1.0</td>\n",
       "      <td>0</td>\n",
       "    </tr>\n",
       "  </tbody>\n",
       "</table>\n",
       "</div>"
      ],
      "text/plain": [
       "   balanceOrig  balanceDest  newbalanceDest     amount  day  hours_day  \\\n",
       "0        181.0         0.00            0.00     181.00    1          1   \n",
       "1        181.0    -21182.00            0.00     181.00    1          1   \n",
       "2       2806.0    -26202.00            0.00    2806.00    1          1   \n",
       "3      20128.0      5877.85        12145.85   20128.00    1          1   \n",
       "4          0.0   9291517.62      9291619.62  416001.33    1          1   \n",
       "\n",
       "   newbalanceOrig  isFraud  type_TRANSFER  \n",
       "0             0.0      1.0              1  \n",
       "1             0.0      1.0              0  \n",
       "2             0.0      1.0              0  \n",
       "3             0.0      1.0              0  \n",
       "4             0.0      1.0              0  "
      ]
     },
     "execution_count": 17,
     "metadata": {},
     "output_type": "execute_result"
    }
   ],
   "source": [
    "trainTestDis = pd.get_dummies(trainTestDis, drop_first=True)\n",
    "trainTestDis.head()"
   ]
  },
  {
   "cell_type": "code",
   "execution_count": 18,
   "metadata": {},
   "outputs": [
    {
     "data": {
      "text/html": [
       "<div>\n",
       "<style scoped>\n",
       "    .dataframe tbody tr th:only-of-type {\n",
       "        vertical-align: middle;\n",
       "    }\n",
       "\n",
       "    .dataframe tbody tr th {\n",
       "        vertical-align: top;\n",
       "    }\n",
       "\n",
       "    .dataframe thead th {\n",
       "        text-align: right;\n",
       "    }\n",
       "</style>\n",
       "<table border=\"1\" class=\"dataframe\">\n",
       "  <thead>\n",
       "    <tr style=\"text-align: right;\">\n",
       "      <th></th>\n",
       "      <th>balanceOrig</th>\n",
       "      <th>balanceDest</th>\n",
       "      <th>newbalanceDest</th>\n",
       "      <th>amount</th>\n",
       "      <th>day</th>\n",
       "      <th>hours_day</th>\n",
       "      <th>newbalanceOrig</th>\n",
       "      <th>isFraud</th>\n",
       "      <th>type_TRANSFER</th>\n",
       "    </tr>\n",
       "  </thead>\n",
       "  <tbody>\n",
       "    <tr>\n",
       "      <th>0</th>\n",
       "      <td>10000000.00</td>\n",
       "      <td>10000000.00</td>\n",
       "      <td>11727027.89</td>\n",
       "      <td>10000000.00</td>\n",
       "      <td>18</td>\n",
       "      <td>17</td>\n",
       "      <td>0.0</td>\n",
       "      <td>1.0</td>\n",
       "      <td>0</td>\n",
       "    </tr>\n",
       "    <tr>\n",
       "      <th>1</th>\n",
       "      <td>545780.70</td>\n",
       "      <td>0.00</td>\n",
       "      <td>0.00</td>\n",
       "      <td>545780.70</td>\n",
       "      <td>22</td>\n",
       "      <td>18</td>\n",
       "      <td>0.0</td>\n",
       "      <td>1.0</td>\n",
       "      <td>1</td>\n",
       "    </tr>\n",
       "    <tr>\n",
       "      <th>2</th>\n",
       "      <td>2079746.13</td>\n",
       "      <td>2079746.13</td>\n",
       "      <td>2079746.13</td>\n",
       "      <td>2079746.13</td>\n",
       "      <td>31</td>\n",
       "      <td>14</td>\n",
       "      <td>0.0</td>\n",
       "      <td>1.0</td>\n",
       "      <td>0</td>\n",
       "    </tr>\n",
       "    <tr>\n",
       "      <th>3</th>\n",
       "      <td>46081.45</td>\n",
       "      <td>0.00</td>\n",
       "      <td>0.00</td>\n",
       "      <td>46081.45</td>\n",
       "      <td>5</td>\n",
       "      <td>6</td>\n",
       "      <td>0.0</td>\n",
       "      <td>1.0</td>\n",
       "      <td>1</td>\n",
       "    </tr>\n",
       "    <tr>\n",
       "      <th>4</th>\n",
       "      <td>50722.16</td>\n",
       "      <td>50722.15</td>\n",
       "      <td>72551.64</td>\n",
       "      <td>50722.16</td>\n",
       "      <td>17</td>\n",
       "      <td>14</td>\n",
       "      <td>0.0</td>\n",
       "      <td>1.0</td>\n",
       "      <td>0</td>\n",
       "    </tr>\n",
       "  </tbody>\n",
       "</table>\n",
       "</div>"
      ],
      "text/plain": [
       "   balanceOrig  balanceDest  newbalanceDest       amount  day  hours_day  \\\n",
       "0  10000000.00  10000000.00     11727027.89  10000000.00   18         17   \n",
       "1    545780.70         0.00            0.00    545780.70   22         18   \n",
       "2   2079746.13   2079746.13      2079746.13   2079746.13   31         14   \n",
       "3     46081.45         0.00            0.00     46081.45    5          6   \n",
       "4     50722.16     50722.15        72551.64     50722.16   17         14   \n",
       "\n",
       "   newbalanceOrig  isFraud  type_TRANSFER  \n",
       "0             0.0      1.0              0  \n",
       "1             0.0      1.0              1  \n",
       "2             0.0      1.0              0  \n",
       "3             0.0      1.0              1  \n",
       "4             0.0      1.0              0  "
      ]
     },
     "execution_count": 18,
     "metadata": {},
     "output_type": "execute_result"
    }
   ],
   "source": [
    "evalDis = pd.get_dummies(evalDis, drop_first=True)\n",
    "evalDis.head()"
   ]
  },
  {
   "cell_type": "markdown",
   "metadata": {},
   "source": [
    "### Entrenamiento y test del modelo"
   ]
  },
  {
   "cell_type": "code",
   "execution_count": 19,
   "metadata": {},
   "outputs": [],
   "source": [
    "# Para iniciar con el modelo, separamos en X las variables independientes y en Y la variable dependiente:\n",
    "y = trainTestDis.loc[:, 'isFraud'].values\n",
    "X = trainTestDis.drop(columns=['isFraud']).values"
   ]
  },
  {
   "cell_type": "code",
   "execution_count": 20,
   "metadata": {},
   "outputs": [
    {
     "data": {
      "text/plain": [
       "((51891, 8), (22239, 8), (51891,), (22239,))"
      ]
     },
     "execution_count": 20,
     "metadata": {},
     "output_type": "execute_result"
    }
   ],
   "source": [
    "# Creamos los conjuntos de entrenamiento y test:\n",
    "seed = 7\n",
    "X_train, X_test, y_train, y_test = train_test_split(X, y, test_size=0.3, random_state=seed)\n",
    "\n",
    "# Verificamos los tamaños de los df:\n",
    "X_train.shape, X_test.shape, y_train.shape, y_test.shape"
   ]
  },
  {
   "cell_type": "code",
   "execution_count": 21,
   "metadata": {},
   "outputs": [],
   "source": [
    "# Configuramos una red de neuronas\n",
    "norm =StandardScaler()\n",
    "mlp=MLPClassifier(activation = 'relu', \n",
    "                  solver='adam', \n",
    "                  alpha=1e-5,\n",
    "                  max_iter=500,\n",
    "                  hidden_layer_sizes=(4, 1), \n",
    "                  random_state=1, \n",
    "                  verbose=True,\n",
    "                 early_stopping =True)\n",
    "mlpUnderRedDim=make_pipeline(norm, mlp)"
   ]
  },
  {
   "cell_type": "code",
   "execution_count": 22,
   "metadata": {},
   "outputs": [
    {
     "name": "stdout",
     "output_type": "stream",
     "text": [
      "Iteration 1, loss = 0.53101023\n",
      "Validation score: 0.874759\n",
      "Iteration 2, loss = 0.40107391\n",
      "Validation score: 0.922929\n",
      "Iteration 3, loss = 0.35632463\n",
      "Validation score: 0.922929\n",
      "Iteration 4, loss = 0.32239414\n",
      "Validation score: 0.927360\n",
      "Iteration 5, loss = 0.29183309\n",
      "Validation score: 0.934489\n",
      "Iteration 6, loss = 0.26310210\n",
      "Validation score: 0.942967\n",
      "Iteration 7, loss = 0.23682215\n",
      "Validation score: 0.949326\n",
      "Iteration 8, loss = 0.21361842\n",
      "Validation score: 0.954528\n",
      "Iteration 9, loss = 0.19364393\n",
      "Validation score: 0.959730\n",
      "Iteration 10, loss = 0.17635361\n",
      "Validation score: 0.962042\n",
      "Iteration 11, loss = 0.16117358\n",
      "Validation score: 0.963584\n",
      "Iteration 12, loss = 0.14766178\n",
      "Validation score: 0.964547\n",
      "Iteration 13, loss = 0.13520792\n",
      "Validation score: 0.967437\n",
      "Iteration 14, loss = 0.12423322\n",
      "Validation score: 0.970135\n",
      "Iteration 15, loss = 0.11568769\n",
      "Validation score: 0.970906\n",
      "Iteration 16, loss = 0.10897592\n",
      "Validation score: 0.971869\n",
      "Iteration 17, loss = 0.10334493\n",
      "Validation score: 0.972832\n",
      "Iteration 18, loss = 0.09847913\n",
      "Validation score: 0.973410\n",
      "Iteration 19, loss = 0.09428089\n",
      "Validation score: 0.974952\n",
      "Iteration 20, loss = 0.09053618\n",
      "Validation score: 0.974759\n",
      "Iteration 21, loss = 0.08716563\n",
      "Validation score: 0.975337\n",
      "Iteration 22, loss = 0.08420016\n",
      "Validation score: 0.976301\n",
      "Iteration 23, loss = 0.08145869\n",
      "Validation score: 0.975337\n",
      "Iteration 24, loss = 0.07909457\n",
      "Validation score: 0.975915\n",
      "Iteration 25, loss = 0.07689866\n",
      "Validation score: 0.977071\n",
      "Iteration 26, loss = 0.07491655\n",
      "Validation score: 0.976879\n",
      "Iteration 27, loss = 0.07307391\n",
      "Validation score: 0.977071\n",
      "Iteration 28, loss = 0.07149137\n",
      "Validation score: 0.977457\n",
      "Iteration 29, loss = 0.06996901\n",
      "Validation score: 0.977457\n",
      "Iteration 30, loss = 0.06854227\n",
      "Validation score: 0.977649\n",
      "Iteration 31, loss = 0.06726050\n",
      "Validation score: 0.977649\n",
      "Iteration 32, loss = 0.06601518\n",
      "Validation score: 0.978613\n",
      "Iteration 33, loss = 0.06499209\n",
      "Validation score: 0.978805\n",
      "Iteration 34, loss = 0.06387413\n",
      "Validation score: 0.978805\n",
      "Iteration 35, loss = 0.06296558\n",
      "Validation score: 0.979961\n",
      "Iteration 36, loss = 0.06211978\n",
      "Validation score: 0.979961\n",
      "Iteration 37, loss = 0.06133862\n",
      "Validation score: 0.979769\n",
      "Iteration 38, loss = 0.06051290\n",
      "Validation score: 0.980539\n",
      "Iteration 39, loss = 0.05967085\n",
      "Validation score: 0.980732\n",
      "Iteration 40, loss = 0.05904345\n",
      "Validation score: 0.980925\n",
      "Iteration 41, loss = 0.05832741\n",
      "Validation score: 0.980154\n",
      "Iteration 42, loss = 0.05756733\n",
      "Validation score: 0.980732\n",
      "Iteration 43, loss = 0.05708039\n",
      "Validation score: 0.981503\n",
      "Iteration 44, loss = 0.05648039\n",
      "Validation score: 0.981503\n",
      "Iteration 45, loss = 0.05589803\n",
      "Validation score: 0.981118\n",
      "Iteration 46, loss = 0.05546923\n",
      "Validation score: 0.980925\n",
      "Iteration 47, loss = 0.05492120\n",
      "Validation score: 0.981888\n",
      "Iteration 48, loss = 0.05442918\n",
      "Validation score: 0.982466\n",
      "Iteration 49, loss = 0.05394267\n",
      "Validation score: 0.982081\n",
      "Iteration 50, loss = 0.05342869\n",
      "Validation score: 0.982274\n",
      "Iteration 51, loss = 0.05305509\n",
      "Validation score: 0.982659\n",
      "Iteration 52, loss = 0.05240761\n",
      "Validation score: 0.981888\n",
      "Iteration 53, loss = 0.05203353\n",
      "Validation score: 0.982274\n",
      "Iteration 54, loss = 0.05154574\n",
      "Validation score: 0.981888\n",
      "Iteration 55, loss = 0.05118890\n",
      "Validation score: 0.982081\n",
      "Iteration 56, loss = 0.05068225\n",
      "Validation score: 0.983430\n",
      "Iteration 57, loss = 0.05030143\n",
      "Validation score: 0.983237\n",
      "Iteration 58, loss = 0.04987352\n",
      "Validation score: 0.982659\n",
      "Iteration 59, loss = 0.04948962\n",
      "Validation score: 0.982852\n",
      "Iteration 60, loss = 0.04903268\n",
      "Validation score: 0.983237\n",
      "Iteration 61, loss = 0.04876359\n",
      "Validation score: 0.983622\n",
      "Iteration 62, loss = 0.04838215\n",
      "Validation score: 0.983237\n",
      "Iteration 63, loss = 0.04797351\n",
      "Validation score: 0.983815\n",
      "Iteration 64, loss = 0.04766985\n",
      "Validation score: 0.984200\n",
      "Iteration 65, loss = 0.04720487\n",
      "Validation score: 0.982852\n",
      "Iteration 66, loss = 0.04683106\n",
      "Validation score: 0.984778\n",
      "Iteration 67, loss = 0.04649929\n",
      "Validation score: 0.983815\n",
      "Iteration 68, loss = 0.04620483\n",
      "Validation score: 0.984008\n",
      "Iteration 69, loss = 0.04593522\n",
      "Validation score: 0.984586\n",
      "Iteration 70, loss = 0.04552311\n",
      "Validation score: 0.983815\n",
      "Iteration 71, loss = 0.04528457\n",
      "Validation score: 0.983622\n",
      "Iteration 72, loss = 0.04497098\n",
      "Validation score: 0.984971\n",
      "Iteration 73, loss = 0.04459180\n",
      "Validation score: 0.985164\n",
      "Iteration 74, loss = 0.04419877\n",
      "Validation score: 0.985356\n",
      "Iteration 75, loss = 0.04411073\n",
      "Validation score: 0.984393\n",
      "Iteration 76, loss = 0.04373511\n",
      "Validation score: 0.984393\n",
      "Iteration 77, loss = 0.04341992\n",
      "Validation score: 0.984586\n",
      "Iteration 78, loss = 0.04318018\n",
      "Validation score: 0.984778\n",
      "Iteration 79, loss = 0.04274302\n",
      "Validation score: 0.985164\n",
      "Iteration 80, loss = 0.04250558\n",
      "Validation score: 0.985934\n",
      "Iteration 81, loss = 0.04227246\n",
      "Validation score: 0.986513\n",
      "Iteration 82, loss = 0.04182811\n",
      "Validation score: 0.985549\n",
      "Iteration 83, loss = 0.04171776\n",
      "Validation score: 0.986898\n",
      "Iteration 84, loss = 0.04127034\n",
      "Validation score: 0.985742\n",
      "Iteration 85, loss = 0.04112063\n",
      "Validation score: 0.985934\n",
      "Iteration 86, loss = 0.04079194\n",
      "Validation score: 0.985742\n",
      "Iteration 87, loss = 0.04058588\n",
      "Validation score: 0.986320\n",
      "Iteration 88, loss = 0.04050203\n",
      "Validation score: 0.987283\n",
      "Iteration 89, loss = 0.03991906\n",
      "Validation score: 0.986127\n",
      "Iteration 90, loss = 0.03971163\n",
      "Validation score: 0.986705\n",
      "Iteration 91, loss = 0.03960086\n",
      "Validation score: 0.987476\n",
      "Iteration 92, loss = 0.03921405\n",
      "Validation score: 0.988247\n",
      "Iteration 93, loss = 0.03900429\n",
      "Validation score: 0.987669\n",
      "Iteration 94, loss = 0.03873988\n",
      "Validation score: 0.986705\n",
      "Iteration 95, loss = 0.03856002\n",
      "Validation score: 0.986513\n",
      "Iteration 96, loss = 0.03842794\n",
      "Validation score: 0.985742\n",
      "Iteration 97, loss = 0.03809808\n",
      "Validation score: 0.987669\n",
      "Iteration 98, loss = 0.03784296\n",
      "Validation score: 0.987669\n",
      "Iteration 99, loss = 0.03751042\n",
      "Validation score: 0.988054\n",
      "Iteration 100, loss = 0.03727173\n",
      "Validation score: 0.987861\n",
      "Iteration 101, loss = 0.03711868\n",
      "Validation score: 0.988054\n",
      "Iteration 102, loss = 0.03686103\n",
      "Validation score: 0.988054\n",
      "Iteration 103, loss = 0.03667266\n",
      "Validation score: 0.987861\n",
      "Validation score did not improve more than tol=0.000100 for 10 consecutive epochs. Stopping.\n"
     ]
    },
    {
     "data": {
      "text/plain": [
       "Pipeline(steps=[('standardscaler', StandardScaler()),\n",
       "                ('mlpclassifier',\n",
       "                 MLPClassifier(alpha=1e-05, early_stopping=True,\n",
       "                               hidden_layer_sizes=(4, 1), max_iter=500,\n",
       "                               random_state=1, verbose=True))])"
      ]
     },
     "execution_count": 22,
     "metadata": {},
     "output_type": "execute_result"
    }
   ],
   "source": [
    "# Ajustar el modelo\n",
    "mlpUnderRedDim.fit(X_train, y_train)"
   ]
  },
  {
   "cell_type": "code",
   "execution_count": 23,
   "metadata": {},
   "outputs": [
    {
     "name": "stdout",
     "output_type": "stream",
     "text": [
      "              precision    recall  f1-score   support\n",
      "\n",
      "         0.0       0.99      1.00      0.99     20012\n",
      "         1.0       0.96      0.91      0.94      2227\n",
      "\n",
      "    accuracy                           0.99     22239\n",
      "   macro avg       0.97      0.96      0.96     22239\n",
      "weighted avg       0.99      0.99      0.99     22239\n",
      "\n",
      "                 Precicted No Default  Predicted Default\n",
      "True No Default                 19919                 93\n",
      "True Default                      190               2037\n"
     ]
    }
   ],
   "source": [
    "# Realizamos la predicción sobre el conjunto de test\n",
    "mlpUnderRedDim_pred=mlpUnderRedDim.predict(X_test)\n",
    "\n",
    "print(classification_report(y_test, mlpUnderRedDim_pred))\n",
    "\n",
    "conf=pd.DataFrame(\n",
    "    confusion_matrix(y_test, mlpUnderRedDim_pred),\n",
    "    columns=['Precicted No Default', 'Predicted Default'],\n",
    "    index  =['True No Default'     , 'True Default'     ]\n",
    ")\n",
    "print(conf)"
   ]
  },
  {
   "cell_type": "code",
   "execution_count": 24,
   "metadata": {},
   "outputs": [
    {
     "data": {
      "image/png": "[encoded data removed]",
      "text/plain": [
       "<Figure size 432x288 with 1 Axes>"
      ]
     },
     "metadata": {
      "needs_background": "light"
     },
     "output_type": "display_data"
    }
   ],
   "source": [
    "# Área bajo la curva ROC:  \n",
    "    # Para calcular el área bajo la curva ROC (AUC) es necesario obtener\n",
    "    # la probabilidad de salida del clasificador con `predict_proba`\n",
    "prediccion_prob = mlpUnderRedDim.predict_proba(X_test)\n",
    "#la primera columna corresponde a la etiqueta 'N'\n",
    "#Es necesario convertir los True Labels a un array lógico (1 para etiqueta N)\n",
    "roc_auc_score((y_test==0), prediccion_prob[:,0])\n",
    "\n",
    "probs = mlpUnderRedDim.predict_proba(X_test)\n",
    "preds = probs[:,1]\n",
    "fpr, tpr, threshold = metrics.roc_curve(y_test, preds)\n",
    "roc_auc = metrics.auc(fpr, tpr)\n",
    "\n",
    "plt.title('Receiver Operating Characteristic')\n",
    "plt.plot(fpr, tpr, 'b', label = 'AUC = %0.2f' % roc_auc)\n",
    "plt.legend(loc = 'lower right')\n",
    "plt.plot([0, 1], [0, 1],'r--')\n",
    "plt.xlim([0, 1])\n",
    "plt.ylim([0, 1])\n",
    "plt.ylabel('True Positive Rate')\n",
    "plt.xlabel('False Positive Rate')\n",
    "plt.show()"
   ]
  },
  {
   "cell_type": "markdown",
   "metadata": {},
   "source": [
    "### Clasificación de nuevos valores \n",
    "Aplicamos el modelo al dataframe de evaluación:"
   ]
  },
  {
   "cell_type": "code",
   "execution_count": 25,
   "metadata": {},
   "outputs": [],
   "source": [
    "# Para iniciar con el modelo, separamos en X las variables independientes y en Y la variable dependiente:\n",
    "evaly = evalDis.loc[:, 'isFraud'].values\n",
    "evalX = evalDis.drop(columns=['isFraud']).values"
   ]
  },
  {
   "cell_type": "code",
   "execution_count": 26,
   "metadata": {},
   "outputs": [
    {
     "data": {
      "text/plain": [
       "0.9948375"
      ]
     },
     "execution_count": 26,
     "metadata": {},
     "output_type": "execute_result"
    }
   ],
   "source": [
    "# Aplicamos el modelo\n",
    "mlpUnderRedDim.score(evalX, evaly)"
   ]
  },
  {
   "cell_type": "code",
   "execution_count": 27,
   "metadata": {},
   "outputs": [],
   "source": [
    "# Calculamos la predicción\n",
    "predEval = mlpUnderRedDim.predict(evalX)"
   ]
  },
  {
   "cell_type": "code",
   "execution_count": 28,
   "metadata": {},
   "outputs": [
    {
     "data": {
      "text/html": [
       "<div>\n",
       "<style scoped>\n",
       "    .dataframe tbody tr th:only-of-type {\n",
       "        vertical-align: middle;\n",
       "    }\n",
       "\n",
       "    .dataframe tbody tr th {\n",
       "        vertical-align: top;\n",
       "    }\n",
       "\n",
       "    .dataframe thead th {\n",
       "        text-align: right;\n",
       "    }\n",
       "</style>\n",
       "<table border=\"1\" class=\"dataframe\">\n",
       "  <thead>\n",
       "    <tr style=\"text-align: right;\">\n",
       "      <th></th>\n",
       "      <th>0_pred</th>\n",
       "      <th>1_pred</th>\n",
       "    </tr>\n",
       "  </thead>\n",
       "  <tbody>\n",
       "    <tr>\n",
       "      <th>0_true</th>\n",
       "      <td>78866</td>\n",
       "      <td>334</td>\n",
       "    </tr>\n",
       "    <tr>\n",
       "      <th>1_true</th>\n",
       "      <td>79</td>\n",
       "      <td>721</td>\n",
       "    </tr>\n",
       "  </tbody>\n",
       "</table>\n",
       "</div>"
      ],
      "text/plain": [
       "        0_pred  1_pred\n",
       "0_true   78866     334\n",
       "1_true      79     721"
      ]
     },
     "execution_count": 28,
     "metadata": {},
     "output_type": "execute_result"
    }
   ],
   "source": [
    "# Matriz de confusión\n",
    "cm=confusion_matrix(evaly, predEval)\n",
    "pd.DataFrame(cm, index=('0_true','1_true'), columns=('0_pred','1_pred'))"
   ]
  },
  {
   "cell_type": "code",
   "execution_count": 29,
   "metadata": {},
   "outputs": [
    {
     "name": "stdout",
     "output_type": "stream",
     "text": [
      "              precision    recall  f1-score   support\n",
      "\n",
      "         0.0       1.00      1.00      1.00     79200\n",
      "         1.0       0.68      0.90      0.78       800\n",
      "\n",
      "    accuracy                           0.99     80000\n",
      "   macro avg       0.84      0.95      0.89     80000\n",
      "weighted avg       1.00      0.99      1.00     80000\n",
      "\n"
     ]
    }
   ],
   "source": [
    "pru = np.where(predEval > 0.4,1,0)\n",
    "print(classification_report(evaly, pru))"
   ]
  },
  {
   "cell_type": "code",
   "execution_count": 30,
   "metadata": {},
   "outputs": [
    {
     "data": {
      "image/png": "[encoded data removed]",
      "text/plain": [
       "<Figure size 432x288 with 1 Axes>"
      ]
     },
     "metadata": {
      "needs_background": "light"
     },
     "output_type": "display_data"
    }
   ],
   "source": [
    "# Curva ROC\n",
    "probs_eval = mlpUnderRedDim.predict_proba(evalX)\n",
    "preds_eval = probs_eval[:,1]\n",
    "fpr_eval, tpr_eval, threshold_eval = metrics.roc_curve(evaly, preds_eval)\n",
    "roc_auc_eval = metrics.auc(fpr_eval, tpr_eval)\n",
    "\n",
    "plt.title('Receiver Operating Characteristic')\n",
    "plt.plot(fpr_eval, tpr_eval, 'b', label = 'AUC = %0.2f' % roc_auc_eval)\n",
    "plt.legend(loc = 'lower right')\n",
    "plt.plot([0, 1], [0, 1],'r--')\n",
    "plt.xlim([0, 1])\n",
    "plt.ylim([0, 1])\n",
    "plt.ylabel('True Positive Rate')\n",
    "plt.xlabel('False Positive Rate')\n",
    "plt.show()"
   ]
  },
  {
   "cell_type": "markdown",
   "metadata": {},
   "source": [
    "## Guardamos la predicción\n",
    "Guardamos la predicción realizada en el dataframe de Evaluación:"
   ]
  },
  {
   "cell_type": "code",
   "execution_count": 19,
   "metadata": {},
   "outputs": [
    {
     "data": {
      "text/html": [
       "<div>\n",
       "<style scoped>\n",
       "    .dataframe tbody tr th:only-of-type {\n",
       "        vertical-align: middle;\n",
       "    }\n",
       "\n",
       "    .dataframe tbody tr th {\n",
       "        vertical-align: top;\n",
       "    }\n",
       "\n",
       "    .dataframe thead th {\n",
       "        text-align: right;\n",
       "    }\n",
       "</style>\n",
       "<table border=\"1\" class=\"dataframe\">\n",
       "  <thead>\n",
       "    <tr style=\"text-align: right;\">\n",
       "      <th></th>\n",
       "      <th>balanceOrig</th>\n",
       "      <th>balanceDest</th>\n",
       "      <th>newbalanceDest</th>\n",
       "      <th>amount</th>\n",
       "      <th>day</th>\n",
       "      <th>hours_day</th>\n",
       "      <th>newbalanceOrig</th>\n",
       "      <th>isFraud</th>\n",
       "      <th>type_TRANSFER</th>\n",
       "      <th>NNUnderRedDim_pred</th>\n",
       "    </tr>\n",
       "  </thead>\n",
       "  <tbody>\n",
       "    <tr>\n",
       "      <td>0</td>\n",
       "      <td>447009.83</td>\n",
       "      <td>447009.83</td>\n",
       "      <td>492147.95</td>\n",
       "      <td>447009.83</td>\n",
       "      <td>13</td>\n",
       "      <td>15</td>\n",
       "      <td>0.0</td>\n",
       "      <td>1.0</td>\n",
       "      <td>0</td>\n",
       "      <td>1.0</td>\n",
       "    </tr>\n",
       "    <tr>\n",
       "      <td>1</td>\n",
       "      <td>5338162.80</td>\n",
       "      <td>5338162.79</td>\n",
       "      <td>5520058.37</td>\n",
       "      <td>5338162.80</td>\n",
       "      <td>15</td>\n",
       "      <td>19</td>\n",
       "      <td>0.0</td>\n",
       "      <td>1.0</td>\n",
       "      <td>0</td>\n",
       "      <td>1.0</td>\n",
       "    </tr>\n",
       "    <tr>\n",
       "      <td>2</td>\n",
       "      <td>537539.57</td>\n",
       "      <td>537539.56</td>\n",
       "      <td>545573.72</td>\n",
       "      <td>537539.57</td>\n",
       "      <td>31</td>\n",
       "      <td>16</td>\n",
       "      <td>0.0</td>\n",
       "      <td>1.0</td>\n",
       "      <td>0</td>\n",
       "      <td>1.0</td>\n",
       "    </tr>\n",
       "    <tr>\n",
       "      <td>3</td>\n",
       "      <td>148188.84</td>\n",
       "      <td>0.00</td>\n",
       "      <td>0.00</td>\n",
       "      <td>148188.84</td>\n",
       "      <td>3</td>\n",
       "      <td>15</td>\n",
       "      <td>0.0</td>\n",
       "      <td>1.0</td>\n",
       "      <td>1</td>\n",
       "      <td>1.0</td>\n",
       "    </tr>\n",
       "    <tr>\n",
       "      <td>4</td>\n",
       "      <td>216351.05</td>\n",
       "      <td>0.00</td>\n",
       "      <td>0.00</td>\n",
       "      <td>216351.05</td>\n",
       "      <td>5</td>\n",
       "      <td>9</td>\n",
       "      <td>0.0</td>\n",
       "      <td>1.0</td>\n",
       "      <td>1</td>\n",
       "      <td>1.0</td>\n",
       "    </tr>\n",
       "  </tbody>\n",
       "</table>\n",
       "</div>"
      ],
      "text/plain": [
       "   balanceOrig  balanceDest  newbalanceDest      amount  day  hours_day  \\\n",
       "0    447009.83    447009.83       492147.95   447009.83   13         15   \n",
       "1   5338162.80   5338162.79      5520058.37  5338162.80   15         19   \n",
       "2    537539.57    537539.56       545573.72   537539.57   31         16   \n",
       "3    148188.84         0.00            0.00   148188.84    3         15   \n",
       "4    216351.05         0.00            0.00   216351.05    5          9   \n",
       "\n",
       "   newbalanceOrig  isFraud  type_TRANSFER  NNUnderRedDim_pred  \n",
       "0             0.0      1.0              0                 1.0  \n",
       "1             0.0      1.0              0                 1.0  \n",
       "2             0.0      1.0              0                 1.0  \n",
       "3             0.0      1.0              1                 1.0  \n",
       "4             0.0      1.0              1                 1.0  "
      ]
     },
     "execution_count": 19,
     "metadata": {},
     "output_type": "execute_result"
    }
   ],
   "source": [
    "predNN = pd.DataFrame(predEval, columns = [\"NNUnderRedDim_pred\"])\n",
    "modelResult = pd.concat([evalDis, predNN[\"NNUnderRedDim_pred\"]],axis = 1)\n",
    "modelResult.head()"
   ]
  },
  {
   "cell_type": "code",
   "execution_count": 20,
   "metadata": {},
   "outputs": [
    {
     "data": {
      "text/html": [
       "<div>\n",
       "<style scoped>\n",
       "    .dataframe tbody tr th:only-of-type {\n",
       "        vertical-align: middle;\n",
       "    }\n",
       "\n",
       "    .dataframe tbody tr th {\n",
       "        vertical-align: top;\n",
       "    }\n",
       "\n",
       "    .dataframe thead th {\n",
       "        text-align: right;\n",
       "    }\n",
       "</style>\n",
       "<table border=\"1\" class=\"dataframe\">\n",
       "  <thead>\n",
       "    <tr style=\"text-align: right;\">\n",
       "      <th>NNUnderRedDim_pred</th>\n",
       "      <th>0.0</th>\n",
       "      <th>1.0</th>\n",
       "      <th>All</th>\n",
       "    </tr>\n",
       "    <tr>\n",
       "      <th>isFraud</th>\n",
       "      <th></th>\n",
       "      <th></th>\n",
       "      <th></th>\n",
       "    </tr>\n",
       "  </thead>\n",
       "  <tbody>\n",
       "    <tr>\n",
       "      <td>0.0</td>\n",
       "      <td>78879</td>\n",
       "      <td>321</td>\n",
       "      <td>79200</td>\n",
       "    </tr>\n",
       "    <tr>\n",
       "      <td>1.0</td>\n",
       "      <td>76</td>\n",
       "      <td>724</td>\n",
       "      <td>800</td>\n",
       "    </tr>\n",
       "    <tr>\n",
       "      <td>All</td>\n",
       "      <td>78955</td>\n",
       "      <td>1045</td>\n",
       "      <td>80000</td>\n",
       "    </tr>\n",
       "  </tbody>\n",
       "</table>\n",
       "</div>"
      ],
      "text/plain": [
       "NNUnderRedDim_pred    0.0   1.0    All\n",
       "isFraud                               \n",
       "0.0                 78879   321  79200\n",
       "1.0                    76   724    800\n",
       "All                 78955  1045  80000"
      ]
     },
     "execution_count": 20,
     "metadata": {},
     "output_type": "execute_result"
    }
   ],
   "source": [
    "pd.crosstab(index=modelResult['isFraud'],columns=modelResult['NNUnderRedDim_pred'], margins=True)"
   ]
  }
 ],
 "metadata": {
  "kernelspec": {
   "display_name": "Python 3",
   "language": "python",
   "name": "python3"
  },
  "language_info": {
   "codemirror_mode": {
    "name": "ipython",
    "version": 3
   },
   "file_extension": ".py",
   "mimetype": "text/x-python",
   "name": "python",
   "nbconvert_exporter": "python",
   "pygments_lexer": "ipython3",
   "version": "3.7.7"
  }
 },
 "nbformat": 4,
 "nbformat_minor": 2
}
