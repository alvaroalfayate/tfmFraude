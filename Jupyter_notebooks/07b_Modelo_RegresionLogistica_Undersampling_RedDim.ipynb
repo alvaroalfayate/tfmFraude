{
 "cells": [
  {
   "cell_type": "markdown",
   "metadata": {},
   "source": [
    "<img src=\"mbit_logo.png\" alt=\"drawing\" align=\"right\" style=\"float\" width=\"150\" height=\"150\"/>\n",
    "\n",
    "<font color=\"#D31525\"><h3 align=\"left\">Detección de fraude en transacciones financieras</h3></font>\n",
    "<font color=\"#2C3E50\"><h3 align=\"left\"> REGRESIÓN LOGÍSTICA + REDUCCIÓN DE ATRIBUTOS + UNDERSAMPLING </h3></font>"
   ]
  },
  {
   "cell_type": "markdown",
   "metadata": {},
   "source": [
    "## Importar librerias\n",
    "En esta primera parte del código, se realizan las llamadas a las librerías que se utilizarán en el Notebook:"
   ]
  },
  {
   "cell_type": "code",
   "execution_count": 36,
   "metadata": {},
   "outputs": [],
   "source": [
    "# Paquetes de manipulación de datos\n",
    "import numpy as np \n",
    "import pandas as pd \n",
    "import boto3\n",
    "\n",
    "# Paquetes de visualización\n",
    "import matplotlib.pyplot as plt\n",
    "plt.rc(\"font\", size=14)\n",
    "import seaborn as sns\n",
    "sns.set(style=\"white\") #white background style for seaborn plots\n",
    "sns.set(style=\"whitegrid\", color_codes=True)\n",
    "\n",
    "# Paquetes para aplicar el modelo: Regresión Logística\n",
    "from sklearn import model_selection\n",
    "from sklearn.metrics import accuracy_score, classification_report, precision_score, recall_score \n",
    "from sklearn.metrics import confusion_matrix, precision_recall_curve, roc_curve, auc, log_loss\n",
    "from sklearn.linear_model import LogisticRegression\n",
    "from sklearn.feature_selection import RFE\n",
    "import sklearn.metrics as metrics\n",
    "from sklearn.metrics import roc_auc_score"
   ]
  },
  {
   "cell_type": "markdown",
   "metadata": {},
   "source": [
    "## Importar DataSets\n",
    "Importamos los datasets Train-Test y Evaluación para los que se ha aplicado la reducción de atributos y submuestreo para ajustar la distribución de la clase mayoritaria."
   ]
  },
  {
   "cell_type": "code",
   "execution_count": 37,
   "metadata": {},
   "outputs": [],
   "source": [
    "s3 = boto3.client(\"s3\")\n",
    "\n",
    "# Seleccionamos el bucket con el que vamos a trabajar\n",
    "BUCKET_NAME = 'tfmfraud'"
   ]
  },
  {
   "cell_type": "markdown",
   "metadata": {},
   "source": [
    "## TrainTest"
   ]
  },
  {
   "cell_type": "code",
   "execution_count": 38,
   "metadata": {},
   "outputs": [],
   "source": [
    "# Descargamos el fichero del bucket de s3 a la máquina EC2 para poder trabajar con él.\n",
    "s3.download_file(Bucket = BUCKET_NAME, Key = 'train_test_under_dis.csv',Filename = '/tmp/train_test_under_dis.csv')"
   ]
  },
  {
   "cell_type": "code",
   "execution_count": 39,
   "metadata": {},
   "outputs": [],
   "source": [
    "#Leemos el fichero y lo metemos en un dataframe.\n",
    "trainTestDis = pd.read_csv('/tmp/train_test_under_dis.csv', dtype={'rank':'category'})"
   ]
  },
  {
   "cell_type": "code",
   "execution_count": 40,
   "metadata": {},
   "outputs": [
    {
     "name": "stdout",
     "output_type": "stream",
     "text": [
      "(74130, 9)\n"
     ]
    }
   ],
   "source": [
    "print (trainTestDis.shape)"
   ]
  },
  {
   "cell_type": "code",
   "execution_count": 41,
   "metadata": {},
   "outputs": [
    {
     "data": {
      "text/html": [
       "<div>\n",
       "<style scoped>\n",
       "    .dataframe tbody tr th:only-of-type {\n",
       "        vertical-align: middle;\n",
       "    }\n",
       "\n",
       "    .dataframe tbody tr th {\n",
       "        vertical-align: top;\n",
       "    }\n",
       "\n",
       "    .dataframe thead th {\n",
       "        text-align: right;\n",
       "    }\n",
       "</style>\n",
       "<table border=\"1\" class=\"dataframe\">\n",
       "  <thead>\n",
       "    <tr style=\"text-align: right;\">\n",
       "      <th></th>\n",
       "      <th>balanceOrig</th>\n",
       "      <th>balanceDest</th>\n",
       "      <th>newbalanceDest</th>\n",
       "      <th>amount</th>\n",
       "      <th>day</th>\n",
       "      <th>hours_day</th>\n",
       "      <th>type</th>\n",
       "      <th>newbalanceOrig</th>\n",
       "      <th>isFraud</th>\n",
       "    </tr>\n",
       "  </thead>\n",
       "  <tbody>\n",
       "    <tr>\n",
       "      <th>0</th>\n",
       "      <td>181.0</td>\n",
       "      <td>0.00</td>\n",
       "      <td>0.00</td>\n",
       "      <td>181.00</td>\n",
       "      <td>1</td>\n",
       "      <td>1</td>\n",
       "      <td>TRANSFER</td>\n",
       "      <td>0.0</td>\n",
       "      <td>1.0</td>\n",
       "    </tr>\n",
       "    <tr>\n",
       "      <th>1</th>\n",
       "      <td>181.0</td>\n",
       "      <td>-21182.00</td>\n",
       "      <td>0.00</td>\n",
       "      <td>181.00</td>\n",
       "      <td>1</td>\n",
       "      <td>1</td>\n",
       "      <td>CASH_OUT</td>\n",
       "      <td>0.0</td>\n",
       "      <td>1.0</td>\n",
       "    </tr>\n",
       "    <tr>\n",
       "      <th>2</th>\n",
       "      <td>2806.0</td>\n",
       "      <td>-26202.00</td>\n",
       "      <td>0.00</td>\n",
       "      <td>2806.00</td>\n",
       "      <td>1</td>\n",
       "      <td>1</td>\n",
       "      <td>CASH_OUT</td>\n",
       "      <td>0.0</td>\n",
       "      <td>1.0</td>\n",
       "    </tr>\n",
       "    <tr>\n",
       "      <th>3</th>\n",
       "      <td>20128.0</td>\n",
       "      <td>5877.85</td>\n",
       "      <td>12145.85</td>\n",
       "      <td>20128.00</td>\n",
       "      <td>1</td>\n",
       "      <td>1</td>\n",
       "      <td>CASH_OUT</td>\n",
       "      <td>0.0</td>\n",
       "      <td>1.0</td>\n",
       "    </tr>\n",
       "    <tr>\n",
       "      <th>4</th>\n",
       "      <td>0.0</td>\n",
       "      <td>9291517.62</td>\n",
       "      <td>9291619.62</td>\n",
       "      <td>416001.33</td>\n",
       "      <td>1</td>\n",
       "      <td>1</td>\n",
       "      <td>CASH_OUT</td>\n",
       "      <td>0.0</td>\n",
       "      <td>1.0</td>\n",
       "    </tr>\n",
       "  </tbody>\n",
       "</table>\n",
       "</div>"
      ],
      "text/plain": [
       "   balanceOrig  balanceDest  newbalanceDest     amount  day  hours_day  \\\n",
       "0        181.0         0.00            0.00     181.00    1          1   \n",
       "1        181.0    -21182.00            0.00     181.00    1          1   \n",
       "2       2806.0    -26202.00            0.00    2806.00    1          1   \n",
       "3      20128.0      5877.85        12145.85   20128.00    1          1   \n",
       "4          0.0   9291517.62      9291619.62  416001.33    1          1   \n",
       "\n",
       "       type  newbalanceOrig  isFraud  \n",
       "0  TRANSFER             0.0      1.0  \n",
       "1  CASH_OUT             0.0      1.0  \n",
       "2  CASH_OUT             0.0      1.0  \n",
       "3  CASH_OUT             0.0      1.0  \n",
       "4  CASH_OUT             0.0      1.0  "
      ]
     },
     "execution_count": 41,
     "metadata": {},
     "output_type": "execute_result"
    }
   ],
   "source": [
    "trainTestDis.head()"
   ]
  },
  {
   "cell_type": "code",
   "execution_count": 42,
   "metadata": {},
   "outputs": [
    {
     "data": {
      "text/plain": [
       "0.0    66717\n",
       "1.0     7413\n",
       "Name: isFraud, dtype: int64"
      ]
     },
     "execution_count": 42,
     "metadata": {},
     "output_type": "execute_result"
    }
   ],
   "source": [
    "pd.value_counts(trainTestDis['isFraud'])"
   ]
  },
  {
   "cell_type": "code",
   "execution_count": 43,
   "metadata": {},
   "outputs": [],
   "source": [
    "# Eliminar el fichero de la ruta tmp de la máquina EC2 para no ocupar espacio.\n",
    "!rm /tmp/train_test_under_dis.csv"
   ]
  },
  {
   "cell_type": "markdown",
   "metadata": {},
   "source": [
    "## Evaluacion"
   ]
  },
  {
   "cell_type": "code",
   "execution_count": 44,
   "metadata": {},
   "outputs": [],
   "source": [
    "# Descargamos el fichero del bucket de s3 a la máquina EC2 para poder trabajar con él.\n",
    "s3.download_file(Bucket = BUCKET_NAME, Key = 'eval_under_dis.csv',Filename = '/tmp/eval_under_dis.csv')"
   ]
  },
  {
   "cell_type": "code",
   "execution_count": 45,
   "metadata": {},
   "outputs": [],
   "source": [
    "#Leemos el fichero y lo metemos en un dataframe.\n",
    "evalDis = pd.read_csv('/tmp/eval_under_dis.csv', dtype={'rank':'category'})"
   ]
  },
  {
   "cell_type": "code",
   "execution_count": 46,
   "metadata": {},
   "outputs": [
    {
     "name": "stdout",
     "output_type": "stream",
     "text": [
      "(80000, 9)\n"
     ]
    }
   ],
   "source": [
    "print (evalDis.shape)"
   ]
  },
  {
   "cell_type": "code",
   "execution_count": 47,
   "metadata": {
    "scrolled": true
   },
   "outputs": [
    {
     "data": {
      "text/html": [
       "<div>\n",
       "<style scoped>\n",
       "    .dataframe tbody tr th:only-of-type {\n",
       "        vertical-align: middle;\n",
       "    }\n",
       "\n",
       "    .dataframe tbody tr th {\n",
       "        vertical-align: top;\n",
       "    }\n",
       "\n",
       "    .dataframe thead th {\n",
       "        text-align: right;\n",
       "    }\n",
       "</style>\n",
       "<table border=\"1\" class=\"dataframe\">\n",
       "  <thead>\n",
       "    <tr style=\"text-align: right;\">\n",
       "      <th></th>\n",
       "      <th>balanceOrig</th>\n",
       "      <th>balanceDest</th>\n",
       "      <th>newbalanceDest</th>\n",
       "      <th>amount</th>\n",
       "      <th>day</th>\n",
       "      <th>hours_day</th>\n",
       "      <th>type</th>\n",
       "      <th>newbalanceOrig</th>\n",
       "      <th>isFraud</th>\n",
       "    </tr>\n",
       "  </thead>\n",
       "  <tbody>\n",
       "    <tr>\n",
       "      <th>0</th>\n",
       "      <td>10000000.00</td>\n",
       "      <td>10000000.00</td>\n",
       "      <td>11727027.89</td>\n",
       "      <td>10000000.00</td>\n",
       "      <td>18</td>\n",
       "      <td>17</td>\n",
       "      <td>CASH_OUT</td>\n",
       "      <td>0.0</td>\n",
       "      <td>1.0</td>\n",
       "    </tr>\n",
       "    <tr>\n",
       "      <th>1</th>\n",
       "      <td>545780.70</td>\n",
       "      <td>0.00</td>\n",
       "      <td>0.00</td>\n",
       "      <td>545780.70</td>\n",
       "      <td>22</td>\n",
       "      <td>18</td>\n",
       "      <td>TRANSFER</td>\n",
       "      <td>0.0</td>\n",
       "      <td>1.0</td>\n",
       "    </tr>\n",
       "    <tr>\n",
       "      <th>2</th>\n",
       "      <td>2079746.13</td>\n",
       "      <td>2079746.13</td>\n",
       "      <td>2079746.13</td>\n",
       "      <td>2079746.13</td>\n",
       "      <td>31</td>\n",
       "      <td>14</td>\n",
       "      <td>CASH_OUT</td>\n",
       "      <td>0.0</td>\n",
       "      <td>1.0</td>\n",
       "    </tr>\n",
       "    <tr>\n",
       "      <th>3</th>\n",
       "      <td>46081.45</td>\n",
       "      <td>0.00</td>\n",
       "      <td>0.00</td>\n",
       "      <td>46081.45</td>\n",
       "      <td>5</td>\n",
       "      <td>6</td>\n",
       "      <td>TRANSFER</td>\n",
       "      <td>0.0</td>\n",
       "      <td>1.0</td>\n",
       "    </tr>\n",
       "    <tr>\n",
       "      <th>4</th>\n",
       "      <td>50722.16</td>\n",
       "      <td>50722.15</td>\n",
       "      <td>72551.64</td>\n",
       "      <td>50722.16</td>\n",
       "      <td>17</td>\n",
       "      <td>14</td>\n",
       "      <td>CASH_OUT</td>\n",
       "      <td>0.0</td>\n",
       "      <td>1.0</td>\n",
       "    </tr>\n",
       "  </tbody>\n",
       "</table>\n",
       "</div>"
      ],
      "text/plain": [
       "   balanceOrig  balanceDest  newbalanceDest       amount  day  hours_day  \\\n",
       "0  10000000.00  10000000.00     11727027.89  10000000.00   18         17   \n",
       "1    545780.70         0.00            0.00    545780.70   22         18   \n",
       "2   2079746.13   2079746.13      2079746.13   2079746.13   31         14   \n",
       "3     46081.45         0.00            0.00     46081.45    5          6   \n",
       "4     50722.16     50722.15        72551.64     50722.16   17         14   \n",
       "\n",
       "       type  newbalanceOrig  isFraud  \n",
       "0  CASH_OUT             0.0      1.0  \n",
       "1  TRANSFER             0.0      1.0  \n",
       "2  CASH_OUT             0.0      1.0  \n",
       "3  TRANSFER             0.0      1.0  \n",
       "4  CASH_OUT             0.0      1.0  "
      ]
     },
     "execution_count": 47,
     "metadata": {},
     "output_type": "execute_result"
    }
   ],
   "source": [
    "evalDis.head()"
   ]
  },
  {
   "cell_type": "code",
   "execution_count": 48,
   "metadata": {},
   "outputs": [
    {
     "data": {
      "text/plain": [
       "0.0    79200\n",
       "1.0      800\n",
       "Name: isFraud, dtype: int64"
      ]
     },
     "execution_count": 48,
     "metadata": {},
     "output_type": "execute_result"
    }
   ],
   "source": [
    "pd.value_counts(evalDis['isFraud'])"
   ]
  },
  {
   "cell_type": "code",
   "execution_count": 49,
   "metadata": {},
   "outputs": [],
   "source": [
    "# Eliminar el fichero de la ruta tmp de la máquina EC2 para no ocupar espacio.\n",
    "!rm /tmp/eval_under_dis.csv"
   ]
  },
  {
   "cell_type": "markdown",
   "metadata": {},
   "source": [
    "## Regresión Logística\n",
    "En este caso, para el modelo de Regresión Logística no es necesario aplicar normalización en los datos puesto que este tipo de modelos no se ven afectados por los ordenes de magnitud de los atributos."
   ]
  },
  {
   "cell_type": "markdown",
   "metadata": {},
   "source": [
    "Aplicamos la tacnica Dummie a los dataframe trainTest y evaluacion"
   ]
  },
  {
   "cell_type": "code",
   "execution_count": 50,
   "metadata": {},
   "outputs": [],
   "source": [
    "trainTestDisDummie = pd.get_dummies(trainTestDis, drop_first=True)"
   ]
  },
  {
   "cell_type": "code",
   "execution_count": 51,
   "metadata": {},
   "outputs": [
    {
     "data": {
      "text/html": [
       "<div>\n",
       "<style scoped>\n",
       "    .dataframe tbody tr th:only-of-type {\n",
       "        vertical-align: middle;\n",
       "    }\n",
       "\n",
       "    .dataframe tbody tr th {\n",
       "        vertical-align: top;\n",
       "    }\n",
       "\n",
       "    .dataframe thead th {\n",
       "        text-align: right;\n",
       "    }\n",
       "</style>\n",
       "<table border=\"1\" class=\"dataframe\">\n",
       "  <thead>\n",
       "    <tr style=\"text-align: right;\">\n",
       "      <th></th>\n",
       "      <th>balanceOrig</th>\n",
       "      <th>balanceDest</th>\n",
       "      <th>newbalanceDest</th>\n",
       "      <th>amount</th>\n",
       "      <th>day</th>\n",
       "      <th>hours_day</th>\n",
       "      <th>newbalanceOrig</th>\n",
       "      <th>isFraud</th>\n",
       "      <th>type_TRANSFER</th>\n",
       "    </tr>\n",
       "  </thead>\n",
       "  <tbody>\n",
       "    <tr>\n",
       "      <th>0</th>\n",
       "      <td>181.0</td>\n",
       "      <td>0.00</td>\n",
       "      <td>0.00</td>\n",
       "      <td>181.00</td>\n",
       "      <td>1</td>\n",
       "      <td>1</td>\n",
       "      <td>0.0</td>\n",
       "      <td>1.0</td>\n",
       "      <td>1</td>\n",
       "    </tr>\n",
       "    <tr>\n",
       "      <th>1</th>\n",
       "      <td>181.0</td>\n",
       "      <td>-21182.00</td>\n",
       "      <td>0.00</td>\n",
       "      <td>181.00</td>\n",
       "      <td>1</td>\n",
       "      <td>1</td>\n",
       "      <td>0.0</td>\n",
       "      <td>1.0</td>\n",
       "      <td>0</td>\n",
       "    </tr>\n",
       "    <tr>\n",
       "      <th>2</th>\n",
       "      <td>2806.0</td>\n",
       "      <td>-26202.00</td>\n",
       "      <td>0.00</td>\n",
       "      <td>2806.00</td>\n",
       "      <td>1</td>\n",
       "      <td>1</td>\n",
       "      <td>0.0</td>\n",
       "      <td>1.0</td>\n",
       "      <td>0</td>\n",
       "    </tr>\n",
       "    <tr>\n",
       "      <th>3</th>\n",
       "      <td>20128.0</td>\n",
       "      <td>5877.85</td>\n",
       "      <td>12145.85</td>\n",
       "      <td>20128.00</td>\n",
       "      <td>1</td>\n",
       "      <td>1</td>\n",
       "      <td>0.0</td>\n",
       "      <td>1.0</td>\n",
       "      <td>0</td>\n",
       "    </tr>\n",
       "    <tr>\n",
       "      <th>4</th>\n",
       "      <td>0.0</td>\n",
       "      <td>9291517.62</td>\n",
       "      <td>9291619.62</td>\n",
       "      <td>416001.33</td>\n",
       "      <td>1</td>\n",
       "      <td>1</td>\n",
       "      <td>0.0</td>\n",
       "      <td>1.0</td>\n",
       "      <td>0</td>\n",
       "    </tr>\n",
       "  </tbody>\n",
       "</table>\n",
       "</div>"
      ],
      "text/plain": [
       "   balanceOrig  balanceDest  newbalanceDest     amount  day  hours_day  \\\n",
       "0        181.0         0.00            0.00     181.00    1          1   \n",
       "1        181.0    -21182.00            0.00     181.00    1          1   \n",
       "2       2806.0    -26202.00            0.00    2806.00    1          1   \n",
       "3      20128.0      5877.85        12145.85   20128.00    1          1   \n",
       "4          0.0   9291517.62      9291619.62  416001.33    1          1   \n",
       "\n",
       "   newbalanceOrig  isFraud  type_TRANSFER  \n",
       "0             0.0      1.0              1  \n",
       "1             0.0      1.0              0  \n",
       "2             0.0      1.0              0  \n",
       "3             0.0      1.0              0  \n",
       "4             0.0      1.0              0  "
      ]
     },
     "execution_count": 51,
     "metadata": {},
     "output_type": "execute_result"
    }
   ],
   "source": [
    "trainTestDisDummie.head()"
   ]
  },
  {
   "cell_type": "code",
   "execution_count": 52,
   "metadata": {},
   "outputs": [],
   "source": [
    "evalDisDummie = pd.get_dummies(evalDis, drop_first=True)"
   ]
  },
  {
   "cell_type": "code",
   "execution_count": 53,
   "metadata": {
    "scrolled": true
   },
   "outputs": [
    {
     "data": {
      "text/html": [
       "<div>\n",
       "<style scoped>\n",
       "    .dataframe tbody tr th:only-of-type {\n",
       "        vertical-align: middle;\n",
       "    }\n",
       "\n",
       "    .dataframe tbody tr th {\n",
       "        vertical-align: top;\n",
       "    }\n",
       "\n",
       "    .dataframe thead th {\n",
       "        text-align: right;\n",
       "    }\n",
       "</style>\n",
       "<table border=\"1\" class=\"dataframe\">\n",
       "  <thead>\n",
       "    <tr style=\"text-align: right;\">\n",
       "      <th></th>\n",
       "      <th>balanceOrig</th>\n",
       "      <th>balanceDest</th>\n",
       "      <th>newbalanceDest</th>\n",
       "      <th>amount</th>\n",
       "      <th>day</th>\n",
       "      <th>hours_day</th>\n",
       "      <th>newbalanceOrig</th>\n",
       "      <th>isFraud</th>\n",
       "      <th>type_TRANSFER</th>\n",
       "    </tr>\n",
       "  </thead>\n",
       "  <tbody>\n",
       "    <tr>\n",
       "      <th>0</th>\n",
       "      <td>10000000.00</td>\n",
       "      <td>10000000.00</td>\n",
       "      <td>11727027.89</td>\n",
       "      <td>10000000.00</td>\n",
       "      <td>18</td>\n",
       "      <td>17</td>\n",
       "      <td>0.0</td>\n",
       "      <td>1.0</td>\n",
       "      <td>0</td>\n",
       "    </tr>\n",
       "    <tr>\n",
       "      <th>1</th>\n",
       "      <td>545780.70</td>\n",
       "      <td>0.00</td>\n",
       "      <td>0.00</td>\n",
       "      <td>545780.70</td>\n",
       "      <td>22</td>\n",
       "      <td>18</td>\n",
       "      <td>0.0</td>\n",
       "      <td>1.0</td>\n",
       "      <td>1</td>\n",
       "    </tr>\n",
       "    <tr>\n",
       "      <th>2</th>\n",
       "      <td>2079746.13</td>\n",
       "      <td>2079746.13</td>\n",
       "      <td>2079746.13</td>\n",
       "      <td>2079746.13</td>\n",
       "      <td>31</td>\n",
       "      <td>14</td>\n",
       "      <td>0.0</td>\n",
       "      <td>1.0</td>\n",
       "      <td>0</td>\n",
       "    </tr>\n",
       "    <tr>\n",
       "      <th>3</th>\n",
       "      <td>46081.45</td>\n",
       "      <td>0.00</td>\n",
       "      <td>0.00</td>\n",
       "      <td>46081.45</td>\n",
       "      <td>5</td>\n",
       "      <td>6</td>\n",
       "      <td>0.0</td>\n",
       "      <td>1.0</td>\n",
       "      <td>1</td>\n",
       "    </tr>\n",
       "    <tr>\n",
       "      <th>4</th>\n",
       "      <td>50722.16</td>\n",
       "      <td>50722.15</td>\n",
       "      <td>72551.64</td>\n",
       "      <td>50722.16</td>\n",
       "      <td>17</td>\n",
       "      <td>14</td>\n",
       "      <td>0.0</td>\n",
       "      <td>1.0</td>\n",
       "      <td>0</td>\n",
       "    </tr>\n",
       "  </tbody>\n",
       "</table>\n",
       "</div>"
      ],
      "text/plain": [
       "   balanceOrig  balanceDest  newbalanceDest       amount  day  hours_day  \\\n",
       "0  10000000.00  10000000.00     11727027.89  10000000.00   18         17   \n",
       "1    545780.70         0.00            0.00    545780.70   22         18   \n",
       "2   2079746.13   2079746.13      2079746.13   2079746.13   31         14   \n",
       "3     46081.45         0.00            0.00     46081.45    5          6   \n",
       "4     50722.16     50722.15        72551.64     50722.16   17         14   \n",
       "\n",
       "   newbalanceOrig  isFraud  type_TRANSFER  \n",
       "0             0.0      1.0              0  \n",
       "1             0.0      1.0              1  \n",
       "2             0.0      1.0              0  \n",
       "3             0.0      1.0              1  \n",
       "4             0.0      1.0              0  "
      ]
     },
     "execution_count": 53,
     "metadata": {},
     "output_type": "execute_result"
    }
   ],
   "source": [
    "evalDisDummie.head()"
   ]
  },
  {
   "cell_type": "markdown",
   "metadata": {},
   "source": [
    "### Entrenamiento y test del modelo"
   ]
  },
  {
   "cell_type": "code",
   "execution_count": 54,
   "metadata": {},
   "outputs": [],
   "source": [
    "# Para iniciar con el modelo, separamos en X las variables independientes y en Y la variable dependiente:\n",
    "X = np.array(trainTestDisDummie.drop(['isFraud'],1))\n",
    "y = np.array(trainTestDisDummie['isFraud'])"
   ]
  },
  {
   "cell_type": "code",
   "execution_count": 55,
   "metadata": {},
   "outputs": [
    {
     "data": {
      "text/plain": [
       "((51891, 8), (22239, 8), (51891,), (22239,))"
      ]
     },
     "execution_count": 55,
     "metadata": {},
     "output_type": "execute_result"
    }
   ],
   "source": [
    "# Creamos los conjuntos de entrenamiento y test:\n",
    "seed = 7\n",
    "X_train, X_test, y_train, y_test = model_selection.train_test_split(X, y, test_size=0.3, random_state=seed)\n",
    "\n",
    "# Verificamos los tamaños de los df:\n",
    "X_train.shape, X_test.shape, y_train.shape, y_test.shape"
   ]
  },
  {
   "cell_type": "code",
   "execution_count": 56,
   "metadata": {},
   "outputs": [
    {
     "data": {
      "text/plain": [
       "LogisticRegression()"
      ]
     },
     "execution_count": 56,
     "metadata": {},
     "output_type": "execute_result"
    }
   ],
   "source": [
    "# Creamos el modelo de Regresión Logística Y creamos nuestro modelo y\n",
    "# hacemos que se ajuste (fit) al conjunto de entradas X y salidas y de entrenamiento\n",
    "regLogUnderRedDim = LogisticRegression()\n",
    "regLogUnderRedDim.fit(X_train, y_train)"
   ]
  },
  {
   "cell_type": "code",
   "execution_count": 57,
   "metadata": {},
   "outputs": [
    {
     "name": "stderr",
     "output_type": "stream",
     "text": [
      "/home/ec2-user/anaconda3/lib/python3.7/site-packages/sklearn/model_selection/_split.py:297: FutureWarning: Setting a random_state has no effect since shuffle is False. This will raise an error in 0.24. You should leave random_state to its default (None), or set shuffle=True.\n",
      "  FutureWarning\n"
     ]
    },
    {
     "name": "stdout",
     "output_type": "stream",
     "text": [
      "Logistic Regression Undersampling PCA: 0.856625 (0.092106)\n"
     ]
    }
   ],
   "source": [
    "name='Logistic Regression Undersampling PCA'\n",
    "kfold = model_selection.KFold(n_splits=10, random_state=seed)\n",
    "cv_results = model_selection.cross_val_score(regLogUnderRedDim, X_train, y_train, cv=kfold, scoring='recall')\n",
    "msg = \"%s: %f (%f)\" % (name, cv_results.mean(), cv_results.std())\n",
    "print(msg)"
   ]
  },
  {
   "cell_type": "markdown",
   "metadata": {},
   "source": [
    "Una vez compilado el modelo, le hacemos clasificar el conjunto de entradas X_test utilizando el método `predict(X_test)`."
   ]
  },
  {
   "cell_type": "code",
   "execution_count": 58,
   "metadata": {},
   "outputs": [
    {
     "name": "stdout",
     "output_type": "stream",
     "text": [
      "0.9052537045352492\n"
     ]
    }
   ],
   "source": [
    "predictions = regLogUnderRedDim.predict(X_test)\n",
    "print(recall_score(y_test, predictions))"
   ]
  },
  {
   "cell_type": "code",
   "execution_count": 59,
   "metadata": {},
   "outputs": [
    {
     "name": "stdout",
     "output_type": "stream",
     "text": [
      "[[19422   590]\n",
      " [  211  2016]]\n"
     ]
    }
   ],
   "source": [
    "print(confusion_matrix(y_test, predictions))"
   ]
  },
  {
   "cell_type": "code",
   "execution_count": 60,
   "metadata": {},
   "outputs": [
    {
     "data": {
      "image/png": "[encoded data removed]",
      "text/plain": [
       "<Figure size 432x288 with 1 Axes>"
      ]
     },
     "metadata": {},
     "output_type": "display_data"
    }
   ],
   "source": [
    "# Área bajo la curva ROC:  \n",
    "    # Para calcular el área bajo la curva ROC (AUC) es necesario obtener\n",
    "    # la probabilidad de salida del clasificador con `predict_proba`\n",
    "prediccion_prob = regLogUnderRedDim.predict_proba(X_test)\n",
    "#la primera columna corresponde a la etiqueta 'N'\n",
    "#Es necesario convertir los True Labels a un array lógico (1 para etiqueta N)\n",
    "roc_auc_score((y_test==0), prediccion_prob[:,0])\n",
    "\n",
    "probs = regLogUnderRedDim.predict_proba(X_test)\n",
    "preds = probs[:,1]\n",
    "fpr, tpr, threshold = metrics.roc_curve(y_test, preds)\n",
    "roc_auc = metrics.auc(fpr, tpr)\n",
    "\n",
    "plt.title('Receiver Operating Characteristic')\n",
    "plt.plot(fpr, tpr, 'b', label = 'AUC = %0.2f' % roc_auc)\n",
    "plt.legend(loc = 'lower right')\n",
    "plt.plot([0, 1], [0, 1],'r--')\n",
    "plt.xlim([0, 1])\n",
    "plt.ylim([0, 1])\n",
    "plt.ylabel('True Positive Rate')\n",
    "plt.xlabel('False Positive Rate')\n",
    "plt.show()"
   ]
  },
  {
   "cell_type": "markdown",
   "metadata": {},
   "source": [
    "### Clasificación de nuevos valores"
   ]
  },
  {
   "cell_type": "code",
   "execution_count": 61,
   "metadata": {},
   "outputs": [],
   "source": [
    "# Para iniciar con el modelo, separamos en X las variables independientes y en Y la variable dependiente:\n",
    "evalX = np.array(evalDisDummie.drop(['isFraud'],1))\n",
    "evaly = np.array(evalDisDummie['isFraud'])"
   ]
  },
  {
   "cell_type": "code",
   "execution_count": 62,
   "metadata": {},
   "outputs": [
    {
     "data": {
      "text/plain": [
       "0.9715875"
      ]
     },
     "execution_count": 62,
     "metadata": {},
     "output_type": "execute_result"
    }
   ],
   "source": [
    "# Aplicamos el modelo\n",
    "regLogUnderRedDim.score(evalX, evaly)"
   ]
  },
  {
   "cell_type": "code",
   "execution_count": 63,
   "metadata": {},
   "outputs": [],
   "source": [
    "# Calculamos la predicción\n",
    "predEval = regLogUnderRedDim.predict(evalX)"
   ]
  },
  {
   "cell_type": "code",
   "execution_count": 64,
   "metadata": {},
   "outputs": [
    {
     "data": {
      "text/html": [
       "<div>\n",
       "<style scoped>\n",
       "    .dataframe tbody tr th:only-of-type {\n",
       "        vertical-align: middle;\n",
       "    }\n",
       "\n",
       "    .dataframe tbody tr th {\n",
       "        vertical-align: top;\n",
       "    }\n",
       "\n",
       "    .dataframe thead th {\n",
       "        text-align: right;\n",
       "    }\n",
       "</style>\n",
       "<table border=\"1\" class=\"dataframe\">\n",
       "  <thead>\n",
       "    <tr style=\"text-align: right;\">\n",
       "      <th></th>\n",
       "      <th>0_pred</th>\n",
       "      <th>1_pred</th>\n",
       "    </tr>\n",
       "  </thead>\n",
       "  <tbody>\n",
       "    <tr>\n",
       "      <th>0_true</th>\n",
       "      <td>77007</td>\n",
       "      <td>2193</td>\n",
       "    </tr>\n",
       "    <tr>\n",
       "      <th>1_true</th>\n",
       "      <td>80</td>\n",
       "      <td>720</td>\n",
       "    </tr>\n",
       "  </tbody>\n",
       "</table>\n",
       "</div>"
      ],
      "text/plain": [
       "        0_pred  1_pred\n",
       "0_true   77007    2193\n",
       "1_true      80     720"
      ]
     },
     "execution_count": 64,
     "metadata": {},
     "output_type": "execute_result"
    }
   ],
   "source": [
    "# Matriz de confusión\n",
    "cm=confusion_matrix(evaly, predEval)\n",
    "pd.DataFrame(cm, index=('0_true','1_true'), columns=('0_pred','1_pred'))"
   ]
  },
  {
   "cell_type": "code",
   "execution_count": 65,
   "metadata": {},
   "outputs": [
    {
     "name": "stdout",
     "output_type": "stream",
     "text": [
      "              precision    recall  f1-score   support\n",
      "\n",
      "         0.0       1.00      0.97      0.99     79200\n",
      "         1.0       0.25      0.90      0.39       800\n",
      "\n",
      "    accuracy                           0.97     80000\n",
      "   macro avg       0.62      0.94      0.69     80000\n",
      "weighted avg       0.99      0.97      0.98     80000\n",
      "\n"
     ]
    }
   ],
   "source": [
    "pru = np.where(predEval > 0.4,1,0)\n",
    "print(classification_report(evaly, pru))"
   ]
  },
  {
   "cell_type": "code",
   "execution_count": 66,
   "metadata": {},
   "outputs": [
    {
     "data": {
      "image/png": "[encoded data removed]",
      "text/plain": [
       "<Figure size 432x288 with 1 Axes>"
      ]
     },
     "metadata": {},
     "output_type": "display_data"
    }
   ],
   "source": [
    "# Curva ROC\n",
    "probs_eval = regLogUnderRedDim.predict_proba(evalX)\n",
    "preds_eval = probs_eval[:,1]\n",
    "fpr_eval, tpr_eval, threshold_eval = metrics.roc_curve(evaly, preds_eval)\n",
    "roc_auc_eval = metrics.auc(fpr_eval, tpr_eval)\n",
    "\n",
    "plt.title('Receiver Operating Characteristic')\n",
    "plt.plot(fpr_eval, tpr_eval, 'b', label = 'AUC = %0.2f' % roc_auc_eval)\n",
    "plt.legend(loc = 'lower right')\n",
    "plt.plot([0, 1], [0, 1],'r--')\n",
    "plt.xlim([0, 1])\n",
    "plt.ylim([0, 1])\n",
    "plt.ylabel('True Positive Rate')\n",
    "plt.xlabel('False Positive Rate')\n",
    "plt.show()"
   ]
  },
  {
   "cell_type": "markdown",
   "metadata": {},
   "source": [
    "## Guardamos la predicción\n",
    "Guardamos la predicción realizada en el dataframe de Evaluación:"
   ]
  },
  {
   "cell_type": "code",
   "execution_count": null,
   "metadata": {},
   "outputs": [],
   "source": [
    "predRL = pd.DataFrame(predEval, columns = [\"RLUnderRedDim_pred\"])\n",
    "modelResult = pd.concat([evalDis, predRL[\"RLUnderRedDim_pred\"]],axis = 1)\n",
    "modelResult.head()"
   ]
  },
  {
   "cell_type": "code",
   "execution_count": null,
   "metadata": {},
   "outputs": [],
   "source": [
    "pd.crosstab(index=modelResult['isFraud'],columns=modelResult['RLUnderRedDim_pred'], margins=True)"
   ]
  }
 ],
 "metadata": {
  "kernelspec": {
   "display_name": "Python 3",
   "language": "python",
   "name": "python3"
  },
  "language_info": {
   "codemirror_mode": {
    "name": "ipython",
    "version": 3
   },
   "file_extension": ".py",
   "mimetype": "text/x-python",
   "name": "python",
   "nbconvert_exporter": "python",
   "pygments_lexer": "ipython3",
   "version": "3.7.7"
  }
 },
 "nbformat": 4,
 "nbformat_minor": 2
}
