{
 "cells": [
  {
   "cell_type": "markdown",
   "metadata": {},
   "source": [
    "<img src=\"mbit_logo.png\" alt=\"drawing\" align=\"right\" style=\"float\" width=\"150\" height=\"150\"/>\n",
    "\n",
    "<font color=\"#D31525\"><h3 align=\"left\">Detección de fraude en transacciones financieras</h3></font>\n",
    "<font color=\"#2C3E50\"><h3 align=\"left\"> RANDOM FOREST + PCA + UNDERSAMPLING </h3></font>"
   ]
  },
  {
   "cell_type": "markdown",
   "metadata": {},
   "source": [
    "## Importar librerias\n",
    "En esta primera parte del código, se realizan las llamadas a las librerías que se utilizarán en el Notebook:"
   ]
  },
  {
   "cell_type": "code",
   "execution_count": 1,
   "metadata": {},
   "outputs": [],
   "source": [
    "# Paquetes de manipulación de datos\n",
    "import pandas as pd\n",
    "import numpy as np\n",
    "import boto3\n",
    "\n",
    "# Paquetes de visualización\n",
    "import matplotlib.pyplot as plt\n",
    "import seaborn as sns\n",
    "\n",
    "# Paquetes para aplicar el modelo: Random Forest\n",
    "from sklearn.model_selection import GridSearchCV           # grid de parámetros definido\n",
    "from sklearn.model_selection import RandomizedSearchCV     # grid de parámetros aleatorios sobre una determinada\n",
    "import sklearn.metrics as metrics\n",
    "from sklearn.metrics import classification_report\n",
    "from sklearn.metrics import confusion_matrix\n",
    "from sklearn.model_selection import cross_validate\n",
    "from sklearn.metrics import roc_auc_score\n",
    "from sklearn.ensemble import RandomForestClassifier\n",
    "from sklearn.model_selection import train_test_split"
   ]
  },
  {
   "cell_type": "markdown",
   "metadata": {},
   "source": [
    "## Definición de funciones  \n",
    "A continuación, definimos una función que se encargará de hacer ajuste de parámetros del algoritmo, de acuerdo a los parámetros pasados como argumento, y que mostrará un informe con los resultados obtenidos."
   ]
  },
  {
   "cell_type": "code",
   "execution_count": 2,
   "metadata": {},
   "outputs": [],
   "source": [
    "def doGridSearch(model, grid, scores, X_train, y_train, X_test, y_test, columns, indices):\n",
    "    for score in scores:\n",
    "        print(\"# Tuning hyper-parameters for %s\" % score)\n",
    "        print()\n",
    "\n",
    "        clf=GridSearchCV(model, grid, cv=3, scoring='%s' % score, iid=False)\n",
    "        clf.fit(X_train, y_train)\n",
    "\n",
    "        print(\"Best parameters set found on development set:\")\n",
    "        print()\n",
    "        print(clf.best_params_)\n",
    "        print()\n",
    "        print(\"Grid scores on development set:\")\n",
    "        print()\n",
    "\n",
    "        means=clf.cv_results_['mean_test_score']\n",
    "        stds =clf.cv_results_['std_test_score']\n",
    "\n",
    "        for mean, std, params in zip(means, stds, clf.cv_results_['params']):\n",
    "            print(\"%0.3f (+/-%0.03f) for %r\" % (mean, std * 2, params))\n",
    "        print()\n",
    "\n",
    "        print(\"Detailed classification report:\")\n",
    "        print()\n",
    "        print(\"The model is trained on the full development set.\")\n",
    "        print(\"The scores are computed on the full evaluation set.\")\n",
    "        print()\n",
    "        y_true, y_pred = y_test, clf.predict(X_test)\n",
    "        print(classification_report(y_true, y_pred))\n",
    "        print()\n",
    "\n",
    "        conf=pd.DataFrame(\n",
    "            confusion_matrix(y_test, y_pred),\n",
    "            columns=columns,\n",
    "            index  =indices\n",
    "        )\n",
    "        print(conf)\n",
    "        \n",
    "        return clf.best_estimator_"
   ]
  },
  {
   "cell_type": "markdown",
   "metadata": {},
   "source": [
    "## Importar DataSets\n",
    "Importamos los datasets Train-Test y Evaluación para los que se ha aplicado PCA y submuestreo para ajustar la distribución de la clase mayoritaria."
   ]
  },
  {
   "cell_type": "code",
   "execution_count": 3,
   "metadata": {},
   "outputs": [],
   "source": [
    "s3 = boto3.client(\"s3\")\n",
    "\n",
    "# Seleccionamos el bucket con el que vamos a trabajar\n",
    "BUCKET_NAME = 'tfmfraud'"
   ]
  },
  {
   "cell_type": "markdown",
   "metadata": {},
   "source": [
    "## TrainTest"
   ]
  },
  {
   "cell_type": "code",
   "execution_count": 4,
   "metadata": {},
   "outputs": [],
   "source": [
    "# Descargamos el fichero del bucket de s3 a la máquina EC2 para poder trabajar con él.\n",
    "s3.download_file(Bucket = BUCKET_NAME, Key = 'train_test_over_pca.csv',Filename = '/tmp/train_test_over_pca.csv')"
   ]
  },
  {
   "cell_type": "code",
   "execution_count": 5,
   "metadata": {},
   "outputs": [],
   "source": [
    "#Leemos el fichero y lo metemos en un dataframe.\n",
    "trainTestPca = pd.read_csv('/tmp/train_test_over_pca.csv', dtype={'rank':'category'})"
   ]
  },
  {
   "cell_type": "code",
   "execution_count": 6,
   "metadata": {},
   "outputs": [
    {
     "name": "stdout",
     "output_type": "stream",
     "text": [
      "(470000, 5)\n"
     ]
    }
   ],
   "source": [
    "print (trainTestPca.shape)"
   ]
  },
  {
   "cell_type": "code",
   "execution_count": 7,
   "metadata": {},
   "outputs": [
    {
     "data": {
      "text/html": [
       "<div>\n",
       "<style scoped>\n",
       "    .dataframe tbody tr th:only-of-type {\n",
       "        vertical-align: middle;\n",
       "    }\n",
       "\n",
       "    .dataframe tbody tr th {\n",
       "        vertical-align: top;\n",
       "    }\n",
       "\n",
       "    .dataframe thead th {\n",
       "        text-align: right;\n",
       "    }\n",
       "</style>\n",
       "<table border=\"1\" class=\"dataframe\">\n",
       "  <thead>\n",
       "    <tr style=\"text-align: right;\">\n",
       "      <th></th>\n",
       "      <th>PC0</th>\n",
       "      <th>PC1</th>\n",
       "      <th>PC2</th>\n",
       "      <th>PC3</th>\n",
       "      <th>isFraud</th>\n",
       "    </tr>\n",
       "  </thead>\n",
       "  <tbody>\n",
       "    <tr>\n",
       "      <th>0</th>\n",
       "      <td>-2.587585e+06</td>\n",
       "      <td>-438516.040597</td>\n",
       "      <td>16731.941171</td>\n",
       "      <td>42054.210743</td>\n",
       "      <td>1.0</td>\n",
       "    </tr>\n",
       "    <tr>\n",
       "      <th>1</th>\n",
       "      <td>-2.575372e+06</td>\n",
       "      <td>-454458.727901</td>\n",
       "      <td>-2238.486050</td>\n",
       "      <td>34600.500662</td>\n",
       "      <td>1.0</td>\n",
       "    </tr>\n",
       "    <tr>\n",
       "      <th>2</th>\n",
       "      <td>-2.587410e+06</td>\n",
       "      <td>-434868.610206</td>\n",
       "      <td>14605.315321</td>\n",
       "      <td>40424.161792</td>\n",
       "      <td>1.0</td>\n",
       "    </tr>\n",
       "    <tr>\n",
       "      <th>3</th>\n",
       "      <td>-2.572303e+06</td>\n",
       "      <td>-454589.613548</td>\n",
       "      <td>-8860.983138</td>\n",
       "      <td>31203.969577</td>\n",
       "      <td>1.0</td>\n",
       "    </tr>\n",
       "    <tr>\n",
       "      <th>4</th>\n",
       "      <td>-2.586258e+06</td>\n",
       "      <td>-410799.738130</td>\n",
       "      <td>572.015144</td>\n",
       "      <td>29667.701638</td>\n",
       "      <td>1.0</td>\n",
       "    </tr>\n",
       "  </tbody>\n",
       "</table>\n",
       "</div>"
      ],
      "text/plain": [
       "            PC0            PC1           PC2           PC3  isFraud\n",
       "0 -2.587585e+06 -438516.040597  16731.941171  42054.210743      1.0\n",
       "1 -2.575372e+06 -454458.727901  -2238.486050  34600.500662      1.0\n",
       "2 -2.587410e+06 -434868.610206  14605.315321  40424.161792      1.0\n",
       "3 -2.572303e+06 -454589.613548  -8860.983138  31203.969577      1.0\n",
       "4 -2.586258e+06 -410799.738130    572.015144  29667.701638      1.0"
      ]
     },
     "execution_count": 7,
     "metadata": {},
     "output_type": "execute_result"
    }
   ],
   "source": [
    "trainTestPca.head()"
   ]
  },
  {
   "cell_type": "code",
   "execution_count": 8,
   "metadata": {},
   "outputs": [
    {
     "data": {
      "text/plain": [
       "0.0    420800\n",
       "1.0     49200\n",
       "Name: isFraud, dtype: int64"
      ]
     },
     "execution_count": 8,
     "metadata": {},
     "output_type": "execute_result"
    }
   ],
   "source": [
    "pd.value_counts(trainTestPca['isFraud'])"
   ]
  },
  {
   "cell_type": "code",
   "execution_count": 9,
   "metadata": {},
   "outputs": [],
   "source": [
    "# Eliminar el fichero de la ruta tmp de la máquina EC2 para no ocupar espacio.\n",
    "!rm /tmp/train_test_over_pca.csv"
   ]
  },
  {
   "cell_type": "markdown",
   "metadata": {},
   "source": [
    "## Evaluacion"
   ]
  },
  {
   "cell_type": "code",
   "execution_count": 10,
   "metadata": {},
   "outputs": [],
   "source": [
    "# Descargamos el fichero del bucket de s3 a la máquina EC2 para poder trabajar con él.\n",
    "s3.download_file(Bucket = BUCKET_NAME, Key = 'eval_over_pca.csv',Filename = '/tmp/eval_over_pca.csv')"
   ]
  },
  {
   "cell_type": "code",
   "execution_count": 11,
   "metadata": {},
   "outputs": [],
   "source": [
    "#Leemos el fichero y lo metemos en un dataframe.\n",
    "evalPca = pd.read_csv('/tmp/eval_over_pca.csv', dtype={'rank':'category'})"
   ]
  },
  {
   "cell_type": "code",
   "execution_count": 12,
   "metadata": {},
   "outputs": [
    {
     "name": "stdout",
     "output_type": "stream",
     "text": [
      "(80000, 5)\n"
     ]
    }
   ],
   "source": [
    "print (evalPca.shape)"
   ]
  },
  {
   "cell_type": "code",
   "execution_count": 13,
   "metadata": {
    "scrolled": true
   },
   "outputs": [
    {
     "data": {
      "text/html": [
       "<div>\n",
       "<style scoped>\n",
       "    .dataframe tbody tr th:only-of-type {\n",
       "        vertical-align: middle;\n",
       "    }\n",
       "\n",
       "    .dataframe tbody tr th {\n",
       "        vertical-align: top;\n",
       "    }\n",
       "\n",
       "    .dataframe thead th {\n",
       "        text-align: right;\n",
       "    }\n",
       "</style>\n",
       "<table border=\"1\" class=\"dataframe\">\n",
       "  <thead>\n",
       "    <tr style=\"text-align: right;\">\n",
       "      <th></th>\n",
       "      <th>PC0</th>\n",
       "      <th>PC1</th>\n",
       "      <th>PC2</th>\n",
       "      <th>PC3</th>\n",
       "      <th>isFraud</th>\n",
       "    </tr>\n",
       "  </thead>\n",
       "  <tbody>\n",
       "    <tr>\n",
       "      <th>0</th>\n",
       "      <td>5.207935e+06</td>\n",
       "      <td>1.624910e+07</td>\n",
       "      <td>-1.693150e+05</td>\n",
       "      <td>-2.303496e+06</td>\n",
       "      <td>1.0</td>\n",
       "    </tr>\n",
       "    <tr>\n",
       "      <th>1</th>\n",
       "      <td>-8.297775e+05</td>\n",
       "      <td>6.762575e+04</td>\n",
       "      <td>-9.888326e+04</td>\n",
       "      <td>-6.125622e+04</td>\n",
       "      <td>1.0</td>\n",
       "    </tr>\n",
       "    <tr>\n",
       "      <th>2</th>\n",
       "      <td>-2.422555e+06</td>\n",
       "      <td>3.008502e+06</td>\n",
       "      <td>-1.993044e+06</td>\n",
       "      <td>-1.498430e+06</td>\n",
       "      <td>1.0</td>\n",
       "    </tr>\n",
       "    <tr>\n",
       "      <th>3</th>\n",
       "      <td>-2.585197e+06</td>\n",
       "      <td>-3.886420e+05</td>\n",
       "      <td>-1.234703e+04</td>\n",
       "      <td>1.976531e+04</td>\n",
       "      <td>1.0</td>\n",
       "    </tr>\n",
       "    <tr>\n",
       "      <th>4</th>\n",
       "      <td>-2.585782e+06</td>\n",
       "      <td>-4.008621e+05</td>\n",
       "      <td>-5.222108e+03</td>\n",
       "      <td>2.522653e+04</td>\n",
       "      <td>1.0</td>\n",
       "    </tr>\n",
       "  </tbody>\n",
       "</table>\n",
       "</div>"
      ],
      "text/plain": [
       "            PC0           PC1           PC2           PC3  isFraud\n",
       "0  5.207935e+06  1.624910e+07 -1.693150e+05 -2.303496e+06      1.0\n",
       "1 -8.297775e+05  6.762575e+04 -9.888326e+04 -6.125622e+04      1.0\n",
       "2 -2.422555e+06  3.008502e+06 -1.993044e+06 -1.498430e+06      1.0\n",
       "3 -2.585197e+06 -3.886420e+05 -1.234703e+04  1.976531e+04      1.0\n",
       "4 -2.585782e+06 -4.008621e+05 -5.222108e+03  2.522653e+04      1.0"
      ]
     },
     "execution_count": 13,
     "metadata": {},
     "output_type": "execute_result"
    }
   ],
   "source": [
    "evalPca.head()"
   ]
  },
  {
   "cell_type": "code",
   "execution_count": 14,
   "metadata": {},
   "outputs": [
    {
     "data": {
      "text/plain": [
       "0.0    79200\n",
       "1.0      800\n",
       "Name: isFraud, dtype: int64"
      ]
     },
     "execution_count": 14,
     "metadata": {},
     "output_type": "execute_result"
    }
   ],
   "source": [
    "pd.value_counts(evalPca['isFraud'])"
   ]
  },
  {
   "cell_type": "code",
   "execution_count": 15,
   "metadata": {},
   "outputs": [],
   "source": [
    "# Eliminar el fichero de la ruta tmp de la máquina EC2 para no ocupar espacio.\n",
    "!rm /tmp/eval_over_pca.csv"
   ]
  },
  {
   "cell_type": "markdown",
   "metadata": {},
   "source": [
    "## Random Forest\n",
    "En este caso, para el modelo de Random Forest no es necesario aplicar normalización en los datos puesto que este tipo de modelos no se ven afectados por los ordenes de magnitud de los atributos."
   ]
  },
  {
   "cell_type": "markdown",
   "metadata": {},
   "source": [
    "### Entrenamiento y test del modelo"
   ]
  },
  {
   "cell_type": "code",
   "execution_count": 16,
   "metadata": {},
   "outputs": [],
   "source": [
    "# Para iniciar con el modelo, separamos en X las variables independientes y en Y la variable dependiente:\n",
    "y = trainTestPca.loc[:, 'isFraud'].values\n",
    "X = trainTestPca.drop(columns=['isFraud']).values"
   ]
  },
  {
   "cell_type": "code",
   "execution_count": 17,
   "metadata": {},
   "outputs": [
    {
     "data": {
      "text/plain": [
       "((329000, 4), (141000, 4), (329000,), (141000,))"
      ]
     },
     "execution_count": 17,
     "metadata": {},
     "output_type": "execute_result"
    }
   ],
   "source": [
    "# Creamos los conjuntos de entrenamiento y test:\n",
    "seed = 7\n",
    "X_train, X_test, y_train, y_test = train_test_split(X, y, test_size=0.3, random_state=seed)\n",
    "\n",
    "# Verificamos los tamaños de los df:\n",
    "X_train.shape, X_test.shape, y_train.shape, y_test.shape"
   ]
  },
  {
   "cell_type": "code",
   "execution_count": 20,
   "metadata": {},
   "outputs": [],
   "source": [
    "# Creamos la malla de parámetros con los que se evaluará el algoritmo Random Forest\n",
    "    # n_estimators --> numero de arboles de decision del modelo\n",
    "    # max_features --> numero de elementos que va a utilizar el RandomForest\n",
    "    # max depth --> Numero máximo de profundidad del arbol ( numero de niveles)\n",
    "tuned_parameters={'n_estimators': [10, 50, 100, 200, 500],\n",
    "                  'max_features': ['auto', 'sqrt', 0.5, 0.7, 0.9, None],\n",
    "                  'max_depth'   : [5,10, 15,20]}"
   ]
  },
  {
   "cell_type": "code",
   "execution_count": 19,
   "metadata": {},
   "outputs": [
    {
     "name": "stdout",
     "output_type": "stream",
     "text": [
      "# Tuning hyper-parameters for recall\n",
      "\n"
     ]
    },
    {
     "name": "stderr",
     "output_type": "stream",
     "text": [
      "/home/ec2-user/anaconda3/lib/python3.7/site-packages/sklearn/model_selection/_search.py:849: FutureWarning: The parameter 'iid' is deprecated in 0.22 and will be removed in 0.24.\n",
      "  \"removed in 0.24.\", FutureWarning\n"
     ]
    },
    {
     "name": "stdout",
     "output_type": "stream",
     "text": [
      "Best parameters set found on development set:\n",
      "\n",
      "{'max_depth': 20, 'max_features': None, 'n_estimators': 500}\n",
      "\n",
      "Grid scores on development set:\n",
      "\n",
      "0.783 (+/-0.043) for {'max_depth': 5, 'max_features': 'auto', 'n_estimators': 10}\n",
      "0.773 (+/-0.020) for {'max_depth': 5, 'max_features': 'auto', 'n_estimators': 50}\n",
      "0.775 (+/-0.014) for {'max_depth': 5, 'max_features': 'auto', 'n_estimators': 100}\n",
      "0.775 (+/-0.013) for {'max_depth': 5, 'max_features': 'auto', 'n_estimators': 200}\n",
      "0.774 (+/-0.011) for {'max_depth': 5, 'max_features': 'auto', 'n_estimators': 500}\n",
      "0.778 (+/-0.028) for {'max_depth': 5, 'max_features': 'sqrt', 'n_estimators': 10}\n",
      "0.778 (+/-0.013) for {'max_depth': 5, 'max_features': 'sqrt', 'n_estimators': 50}\n",
      "0.782 (+/-0.010) for {'max_depth': 5, 'max_features': 'sqrt', 'n_estimators': 100}\n",
      "0.779 (+/-0.016) for {'max_depth': 5, 'max_features': 'sqrt', 'n_estimators': 200}\n",
      "0.778 (+/-0.016) for {'max_depth': 5, 'max_features': 'sqrt', 'n_estimators': 500}\n",
      "0.777 (+/-0.028) for {'max_depth': 5, 'max_features': 0.5, 'n_estimators': 10}\n",
      "0.774 (+/-0.022) for {'max_depth': 5, 'max_features': 0.5, 'n_estimators': 50}\n",
      "0.776 (+/-0.023) for {'max_depth': 5, 'max_features': 0.5, 'n_estimators': 100}\n",
      "0.776 (+/-0.011) for {'max_depth': 5, 'max_features': 0.5, 'n_estimators': 200}\n",
      "0.775 (+/-0.012) for {'max_depth': 5, 'max_features': 0.5, 'n_estimators': 500}\n",
      "0.786 (+/-0.008) for {'max_depth': 5, 'max_features': 0.7, 'n_estimators': 10}\n",
      "0.775 (+/-0.006) for {'max_depth': 5, 'max_features': 0.7, 'n_estimators': 50}\n",
      "0.774 (+/-0.011) for {'max_depth': 5, 'max_features': 0.7, 'n_estimators': 100}\n",
      "0.777 (+/-0.012) for {'max_depth': 5, 'max_features': 0.7, 'n_estimators': 200}\n",
      "0.775 (+/-0.015) for {'max_depth': 5, 'max_features': 0.7, 'n_estimators': 500}\n",
      "0.809 (+/-0.037) for {'max_depth': 5, 'max_features': 0.9, 'n_estimators': 10}\n",
      "0.831 (+/-0.014) for {'max_depth': 5, 'max_features': 0.9, 'n_estimators': 50}\n",
      "0.824 (+/-0.012) for {'max_depth': 5, 'max_features': 0.9, 'n_estimators': 100}\n",
      "0.822 (+/-0.021) for {'max_depth': 5, 'max_features': 0.9, 'n_estimators': 200}\n",
      "0.827 (+/-0.013) for {'max_depth': 5, 'max_features': 0.9, 'n_estimators': 500}\n",
      "0.838 (+/-0.009) for {'max_depth': 5, 'max_features': None, 'n_estimators': 10}\n",
      "0.838 (+/-0.008) for {'max_depth': 5, 'max_features': None, 'n_estimators': 50}\n",
      "0.838 (+/-0.008) for {'max_depth': 5, 'max_features': None, 'n_estimators': 100}\n",
      "0.838 (+/-0.008) for {'max_depth': 5, 'max_features': None, 'n_estimators': 200}\n",
      "0.838 (+/-0.008) for {'max_depth': 5, 'max_features': None, 'n_estimators': 500}\n",
      "0.880 (+/-0.006) for {'max_depth': 10, 'max_features': 'auto', 'n_estimators': 10}\n",
      "0.880 (+/-0.008) for {'max_depth': 10, 'max_features': 'auto', 'n_estimators': 50}\n",
      "0.879 (+/-0.008) for {'max_depth': 10, 'max_features': 'auto', 'n_estimators': 100}\n",
      "0.879 (+/-0.007) for {'max_depth': 10, 'max_features': 'auto', 'n_estimators': 200}\n",
      "0.878 (+/-0.007) for {'max_depth': 10, 'max_features': 'auto', 'n_estimators': 500}\n",
      "0.878 (+/-0.005) for {'max_depth': 10, 'max_features': 'sqrt', 'n_estimators': 10}\n",
      "0.879 (+/-0.007) for {'max_depth': 10, 'max_features': 'sqrt', 'n_estimators': 50}\n",
      "0.878 (+/-0.007) for {'max_depth': 10, 'max_features': 'sqrt', 'n_estimators': 100}\n",
      "0.879 (+/-0.007) for {'max_depth': 10, 'max_features': 'sqrt', 'n_estimators': 200}\n",
      "0.879 (+/-0.007) for {'max_depth': 10, 'max_features': 'sqrt', 'n_estimators': 500}\n",
      "0.881 (+/-0.007) for {'max_depth': 10, 'max_features': 0.5, 'n_estimators': 10}\n",
      "0.878 (+/-0.006) for {'max_depth': 10, 'max_features': 0.5, 'n_estimators': 50}\n",
      "0.879 (+/-0.009) for {'max_depth': 10, 'max_features': 0.5, 'n_estimators': 100}\n",
      "0.878 (+/-0.007) for {'max_depth': 10, 'max_features': 0.5, 'n_estimators': 200}\n",
      "0.879 (+/-0.007) for {'max_depth': 10, 'max_features': 0.5, 'n_estimators': 500}\n",
      "0.880 (+/-0.010) for {'max_depth': 10, 'max_features': 0.7, 'n_estimators': 10}\n",
      "0.879 (+/-0.010) for {'max_depth': 10, 'max_features': 0.7, 'n_estimators': 50}\n",
      "0.878 (+/-0.009) for {'max_depth': 10, 'max_features': 0.7, 'n_estimators': 100}\n",
      "0.879 (+/-0.006) for {'max_depth': 10, 'max_features': 0.7, 'n_estimators': 200}\n",
      "0.879 (+/-0.006) for {'max_depth': 10, 'max_features': 0.7, 'n_estimators': 500}\n",
      "0.883 (+/-0.009) for {'max_depth': 10, 'max_features': 0.9, 'n_estimators': 10}\n",
      "0.880 (+/-0.006) for {'max_depth': 10, 'max_features': 0.9, 'n_estimators': 50}\n",
      "0.881 (+/-0.008) for {'max_depth': 10, 'max_features': 0.9, 'n_estimators': 100}\n",
      "0.881 (+/-0.009) for {'max_depth': 10, 'max_features': 0.9, 'n_estimators': 200}\n",
      "0.881 (+/-0.008) for {'max_depth': 10, 'max_features': 0.9, 'n_estimators': 500}\n",
      "0.883 (+/-0.011) for {'max_depth': 10, 'max_features': None, 'n_estimators': 10}\n",
      "0.883 (+/-0.005) for {'max_depth': 10, 'max_features': None, 'n_estimators': 50}\n",
      "0.883 (+/-0.005) for {'max_depth': 10, 'max_features': None, 'n_estimators': 100}\n",
      "0.884 (+/-0.009) for {'max_depth': 10, 'max_features': None, 'n_estimators': 200}\n",
      "0.883 (+/-0.006) for {'max_depth': 10, 'max_features': None, 'n_estimators': 500}\n",
      "0.929 (+/-0.001) for {'max_depth': 15, 'max_features': 'auto', 'n_estimators': 10}\n",
      "0.933 (+/-0.007) for {'max_depth': 15, 'max_features': 'auto', 'n_estimators': 50}\n",
      "0.930 (+/-0.006) for {'max_depth': 15, 'max_features': 'auto', 'n_estimators': 100}\n",
      "0.931 (+/-0.005) for {'max_depth': 15, 'max_features': 'auto', 'n_estimators': 200}\n",
      "0.931 (+/-0.004) for {'max_depth': 15, 'max_features': 'auto', 'n_estimators': 500}\n",
      "0.932 (+/-0.007) for {'max_depth': 15, 'max_features': 'sqrt', 'n_estimators': 10}\n",
      "0.932 (+/-0.004) for {'max_depth': 15, 'max_features': 'sqrt', 'n_estimators': 50}\n",
      "0.932 (+/-0.006) for {'max_depth': 15, 'max_features': 'sqrt', 'n_estimators': 100}\n",
      "0.932 (+/-0.005) for {'max_depth': 15, 'max_features': 'sqrt', 'n_estimators': 200}\n",
      "0.931 (+/-0.004) for {'max_depth': 15, 'max_features': 'sqrt', 'n_estimators': 500}\n",
      "0.930 (+/-0.009) for {'max_depth': 15, 'max_features': 0.5, 'n_estimators': 10}\n",
      "0.932 (+/-0.006) for {'max_depth': 15, 'max_features': 0.5, 'n_estimators': 50}\n",
      "0.931 (+/-0.005) for {'max_depth': 15, 'max_features': 0.5, 'n_estimators': 100}\n",
      "0.931 (+/-0.005) for {'max_depth': 15, 'max_features': 0.5, 'n_estimators': 200}\n",
      "0.932 (+/-0.005) for {'max_depth': 15, 'max_features': 0.5, 'n_estimators': 500}\n",
      "0.930 (+/-0.008) for {'max_depth': 15, 'max_features': 0.7, 'n_estimators': 10}\n",
      "0.931 (+/-0.005) for {'max_depth': 15, 'max_features': 0.7, 'n_estimators': 50}\n",
      "0.932 (+/-0.006) for {'max_depth': 15, 'max_features': 0.7, 'n_estimators': 100}\n",
      "0.932 (+/-0.007) for {'max_depth': 15, 'max_features': 0.7, 'n_estimators': 200}\n",
      "0.932 (+/-0.005) for {'max_depth': 15, 'max_features': 0.7, 'n_estimators': 500}\n",
      "0.938 (+/-0.002) for {'max_depth': 15, 'max_features': 0.9, 'n_estimators': 10}\n",
      "0.939 (+/-0.007) for {'max_depth': 15, 'max_features': 0.9, 'n_estimators': 50}\n",
      "0.939 (+/-0.004) for {'max_depth': 15, 'max_features': 0.9, 'n_estimators': 100}\n",
      "0.939 (+/-0.004) for {'max_depth': 15, 'max_features': 0.9, 'n_estimators': 200}\n",
      "0.939 (+/-0.004) for {'max_depth': 15, 'max_features': 0.9, 'n_estimators': 500}\n",
      "0.938 (+/-0.002) for {'max_depth': 15, 'max_features': None, 'n_estimators': 10}\n",
      "0.937 (+/-0.007) for {'max_depth': 15, 'max_features': None, 'n_estimators': 50}\n",
      "0.938 (+/-0.004) for {'max_depth': 15, 'max_features': None, 'n_estimators': 100}\n",
      "0.936 (+/-0.006) for {'max_depth': 15, 'max_features': None, 'n_estimators': 200}\n",
      "0.937 (+/-0.005) for {'max_depth': 15, 'max_features': None, 'n_estimators': 500}\n",
      "0.953 (+/-0.005) for {'max_depth': 20, 'max_features': 'auto', 'n_estimators': 10}\n",
      "0.956 (+/-0.003) for {'max_depth': 20, 'max_features': 'auto', 'n_estimators': 50}\n",
      "0.957 (+/-0.005) for {'max_depth': 20, 'max_features': 'auto', 'n_estimators': 100}\n",
      "0.957 (+/-0.004) for {'max_depth': 20, 'max_features': 'auto', 'n_estimators': 200}\n",
      "0.957 (+/-0.004) for {'max_depth': 20, 'max_features': 'auto', 'n_estimators': 500}\n",
      "0.953 (+/-0.006) for {'max_depth': 20, 'max_features': 'sqrt', 'n_estimators': 10}\n",
      "0.956 (+/-0.004) for {'max_depth': 20, 'max_features': 'sqrt', 'n_estimators': 50}\n",
      "0.957 (+/-0.003) for {'max_depth': 20, 'max_features': 'sqrt', 'n_estimators': 100}\n",
      "0.957 (+/-0.004) for {'max_depth': 20, 'max_features': 'sqrt', 'n_estimators': 200}\n",
      "0.957 (+/-0.003) for {'max_depth': 20, 'max_features': 'sqrt', 'n_estimators': 500}\n",
      "0.953 (+/-0.007) for {'max_depth': 20, 'max_features': 0.5, 'n_estimators': 10}\n",
      "0.956 (+/-0.002) for {'max_depth': 20, 'max_features': 0.5, 'n_estimators': 50}\n",
      "0.956 (+/-0.004) for {'max_depth': 20, 'max_features': 0.5, 'n_estimators': 100}\n",
      "0.957 (+/-0.004) for {'max_depth': 20, 'max_features': 0.5, 'n_estimators': 200}\n",
      "0.957 (+/-0.004) for {'max_depth': 20, 'max_features': 0.5, 'n_estimators': 500}\n",
      "0.953 (+/-0.004) for {'max_depth': 20, 'max_features': 0.7, 'n_estimators': 10}\n",
      "0.956 (+/-0.003) for {'max_depth': 20, 'max_features': 0.7, 'n_estimators': 50}\n",
      "0.956 (+/-0.002) for {'max_depth': 20, 'max_features': 0.7, 'n_estimators': 100}\n",
      "0.957 (+/-0.003) for {'max_depth': 20, 'max_features': 0.7, 'n_estimators': 200}\n",
      "0.957 (+/-0.004) for {'max_depth': 20, 'max_features': 0.7, 'n_estimators': 500}\n",
      "0.955 (+/-0.005) for {'max_depth': 20, 'max_features': 0.9, 'n_estimators': 10}\n",
      "0.959 (+/-0.004) for {'max_depth': 20, 'max_features': 0.9, 'n_estimators': 50}\n",
      "0.960 (+/-0.004) for {'max_depth': 20, 'max_features': 0.9, 'n_estimators': 100}\n",
      "0.960 (+/-0.005) for {'max_depth': 20, 'max_features': 0.9, 'n_estimators': 200}\n",
      "0.960 (+/-0.003) for {'max_depth': 20, 'max_features': 0.9, 'n_estimators': 500}\n",
      "0.955 (+/-0.006) for {'max_depth': 20, 'max_features': None, 'n_estimators': 10}\n",
      "0.960 (+/-0.004) for {'max_depth': 20, 'max_features': None, 'n_estimators': 50}\n",
      "0.960 (+/-0.004) for {'max_depth': 20, 'max_features': None, 'n_estimators': 100}\n",
      "0.961 (+/-0.004) for {'max_depth': 20, 'max_features': None, 'n_estimators': 200}\n",
      "0.961 (+/-0.004) for {'max_depth': 20, 'max_features': None, 'n_estimators': 500}\n",
      "\n",
      "Detailed classification report:\n",
      "\n",
      "The model is trained on the full development set.\n",
      "The scores are computed on the full evaluation set.\n",
      "\n"
     ]
    },
    {
     "name": "stdout",
     "output_type": "stream",
     "text": [
      "              precision    recall  f1-score   support\n",
      "\n",
      "         0.0       1.00      1.00      1.00    126109\n",
      "         1.0       0.97      0.97      0.97     14891\n",
      "\n",
      "    accuracy                           0.99    141000\n",
      "   macro avg       0.98      0.98      0.98    141000\n",
      "weighted avg       0.99      0.99      0.99    141000\n",
      "\n",
      "\n",
      "        Predicted 0  Predicted 1\n",
      "True 0       125677          432\n",
      "True 1          501        14390\n"
     ]
    }
   ],
   "source": [
    "# Ejecutamos el modelo sobre los datos:\n",
    "randomForestUnderPca = doGridSearch(RandomForestClassifier(),\n",
    "                          tuned_parameters, \n",
    "                          ['recall'],\n",
    "                          X_train, y_train, X_test, y_test,\n",
    "                          ['Predicted 0', 'Predicted 1'], ['True 0', 'True 1'])"
   ]
  },
  {
   "cell_type": "markdown",
   "metadata": {},
   "source": [
    "{'max_depth': 20, 'max_features': None, 'n_estimators': 500}"
   ]
  },
  {
   "cell_type": "code",
   "execution_count": 18,
   "metadata": {},
   "outputs": [],
   "source": [
    "randomForestUnderPca = RandomForestClassifier(n_estimators=500, max_depth=20,max_features=None)"
   ]
  },
  {
   "cell_type": "code",
   "execution_count": 19,
   "metadata": {},
   "outputs": [
    {
     "data": {
      "text/plain": [
       "RandomForestClassifier(max_depth=20, max_features=None, n_estimators=500)"
      ]
     },
     "execution_count": 19,
     "metadata": {},
     "output_type": "execute_result"
    }
   ],
   "source": [
    "randomForestUnderPca.fit(X_train, y_train)"
   ]
  },
  {
   "cell_type": "code",
   "execution_count": 20,
   "metadata": {},
   "outputs": [
    {
     "data": {
      "text/plain": [
       "(0.999258358662614, 0.9932836879432624)"
      ]
     },
     "execution_count": 20,
     "metadata": {},
     "output_type": "execute_result"
    }
   ],
   "source": [
    "randomForestUnderPca.score(X_train, y_train), randomForestUnderPca.score(X_test, y_test)"
   ]
  },
  {
   "cell_type": "code",
   "execution_count": 21,
   "metadata": {},
   "outputs": [],
   "source": [
    "randomForestUnderPca_pred = randomForestUnderPca.predict(X_test)"
   ]
  },
  {
   "cell_type": "code",
   "execution_count": 22,
   "metadata": {},
   "outputs": [
    {
     "data": {
      "text/html": [
       "<div>\n",
       "<style scoped>\n",
       "    .dataframe tbody tr th:only-of-type {\n",
       "        vertical-align: middle;\n",
       "    }\n",
       "\n",
       "    .dataframe tbody tr th {\n",
       "        vertical-align: top;\n",
       "    }\n",
       "\n",
       "    .dataframe thead th {\n",
       "        text-align: right;\n",
       "    }\n",
       "</style>\n",
       "<table border=\"1\" class=\"dataframe\">\n",
       "  <thead>\n",
       "    <tr style=\"text-align: right;\">\n",
       "      <th></th>\n",
       "      <th>0_pred</th>\n",
       "      <th>1_pred</th>\n",
       "    </tr>\n",
       "  </thead>\n",
       "  <tbody>\n",
       "    <tr>\n",
       "      <th>0_true</th>\n",
       "      <td>125665</td>\n",
       "      <td>444</td>\n",
       "    </tr>\n",
       "    <tr>\n",
       "      <th>1_true</th>\n",
       "      <td>503</td>\n",
       "      <td>14388</td>\n",
       "    </tr>\n",
       "  </tbody>\n",
       "</table>\n",
       "</div>"
      ],
      "text/plain": [
       "        0_pred  1_pred\n",
       "0_true  125665     444\n",
       "1_true     503   14388"
      ]
     },
     "execution_count": 22,
     "metadata": {},
     "output_type": "execute_result"
    }
   ],
   "source": [
    "# Matriz de confusión\n",
    "cm=confusion_matrix(y_test, randomForestUnderPca_pred)\n",
    "pd.DataFrame(cm, index=('0_true','1_true'), columns=('0_pred','1_pred'))"
   ]
  },
  {
   "cell_type": "code",
   "execution_count": 23,
   "metadata": {},
   "outputs": [
    {
     "name": "stdout",
     "output_type": "stream",
     "text": [
      "              precision    recall  f1-score   support\n",
      "\n",
      "         0.0       1.00      1.00      1.00    126109\n",
      "         1.0       0.97      0.97      0.97     14891\n",
      "\n",
      "    accuracy                           0.99    141000\n",
      "   macro avg       0.98      0.98      0.98    141000\n",
      "weighted avg       0.99      0.99      0.99    141000\n",
      "\n"
     ]
    }
   ],
   "source": [
    "# Podemos ver un informe más completo del clasificador con la métrica classification_report:\n",
    "print(classification_report(y_test, randomForestUnderPca_pred))"
   ]
  },
  {
   "cell_type": "markdown",
   "metadata": {},
   "source": [
    "donde,  \n",
    "`precision` es la especificidad: TP/(TP+FN) (positivos predichos sobre el total de positivos)  \n",
    "`recall` es el Valor predictivo positivo: TP/(TP+FP) (acierto de los predichos como positivos)  \n",
    "`support` indica el número de muestras en cada clase en el conjunto de test (suma por filas en la matriz de confusión)"
   ]
  },
  {
   "cell_type": "code",
   "execution_count": 24,
   "metadata": {},
   "outputs": [
    {
     "data": {
      "image/png": "[encoded data removed]",
      "text/plain": [
       "<Figure size 432x288 with 1 Axes>"
      ]
     },
     "metadata": {
      "needs_background": "light"
     },
     "output_type": "display_data"
    }
   ],
   "source": [
    "# Área bajo la curva ROC:  \n",
    "    # Para calcular el área bajo la curva ROC (AUC) es necesario obtener\n",
    "    # la probabilidad de salida del clasificador con `predict_proba`\n",
    "prediccion_prob = randomForestUnderPca.predict_proba(X_test)\n",
    "#la primera columna corresponde a la etiqueta 'N'\n",
    "#Es necesario convertir los True Labels a un array lógico (1 para etiqueta N)\n",
    "roc_auc_score((y_test==0), prediccion_prob[:,0])\n",
    "\n",
    "probs = randomForestUnderPca.predict_proba(X_test)\n",
    "preds = probs[:,1]\n",
    "fpr, tpr, threshold = metrics.roc_curve(y_test, preds)\n",
    "roc_auc = metrics.auc(fpr, tpr)\n",
    "\n",
    "plt.title('Receiver Operating Characteristic')\n",
    "plt.plot(fpr, tpr, 'b', label = 'AUC = %0.2f' % roc_auc)\n",
    "plt.legend(loc = 'lower right')\n",
    "plt.plot([0, 1], [0, 1],'r--')\n",
    "plt.xlim([0, 1])\n",
    "plt.ylim([0, 1])\n",
    "plt.ylabel('True Positive Rate')\n",
    "plt.xlabel('False Positive Rate')\n",
    "plt.show()"
   ]
  },
  {
   "cell_type": "markdown",
   "metadata": {},
   "source": [
    "### Clasificación de nuevos valores \n",
    "Aplicamos el modelo al dataframe de evaluación:"
   ]
  },
  {
   "cell_type": "code",
   "execution_count": 25,
   "metadata": {},
   "outputs": [],
   "source": [
    "# Para iniciar con el modelo, separamos en X las variables independientes y en Y la variable dependiente:\n",
    "evaly = evalPca.loc[:, 'isFraud'].values\n",
    "evalX = evalPca.drop(columns=['isFraud']).values"
   ]
  },
  {
   "cell_type": "code",
   "execution_count": 26,
   "metadata": {},
   "outputs": [
    {
     "data": {
      "text/plain": [
       "0.9964125"
      ]
     },
     "execution_count": 26,
     "metadata": {},
     "output_type": "execute_result"
    }
   ],
   "source": [
    "# Aplicamos el modelo\n",
    "randomForestUnderPca.score(evalX, evaly)"
   ]
  },
  {
   "cell_type": "code",
   "execution_count": 27,
   "metadata": {},
   "outputs": [],
   "source": [
    "# Calculamos la predicción\n",
    "predEval = randomForestUnderPca.predict(evalX)"
   ]
  },
  {
   "cell_type": "code",
   "execution_count": 28,
   "metadata": {},
   "outputs": [
    {
     "data": {
      "text/html": [
       "<div>\n",
       "<style scoped>\n",
       "    .dataframe tbody tr th:only-of-type {\n",
       "        vertical-align: middle;\n",
       "    }\n",
       "\n",
       "    .dataframe tbody tr th {\n",
       "        vertical-align: top;\n",
       "    }\n",
       "\n",
       "    .dataframe thead th {\n",
       "        text-align: right;\n",
       "    }\n",
       "</style>\n",
       "<table border=\"1\" class=\"dataframe\">\n",
       "  <thead>\n",
       "    <tr style=\"text-align: right;\">\n",
       "      <th></th>\n",
       "      <th>0_pred</th>\n",
       "      <th>1_pred</th>\n",
       "    </tr>\n",
       "  </thead>\n",
       "  <tbody>\n",
       "    <tr>\n",
       "      <th>0_true</th>\n",
       "      <td>78933</td>\n",
       "      <td>267</td>\n",
       "    </tr>\n",
       "    <tr>\n",
       "      <th>1_true</th>\n",
       "      <td>20</td>\n",
       "      <td>780</td>\n",
       "    </tr>\n",
       "  </tbody>\n",
       "</table>\n",
       "</div>"
      ],
      "text/plain": [
       "        0_pred  1_pred\n",
       "0_true   78933     267\n",
       "1_true      20     780"
      ]
     },
     "execution_count": 28,
     "metadata": {},
     "output_type": "execute_result"
    }
   ],
   "source": [
    "# Matriz de confusión\n",
    "cm=confusion_matrix(evaly, predEval)\n",
    "pd.DataFrame(cm, index=('0_true','1_true'), columns=('0_pred','1_pred'))"
   ]
  },
  {
   "cell_type": "code",
   "execution_count": 29,
   "metadata": {},
   "outputs": [
    {
     "name": "stdout",
     "output_type": "stream",
     "text": [
      "              precision    recall  f1-score   support\n",
      "\n",
      "         0.0       1.00      1.00      1.00     79200\n",
      "         1.0       0.74      0.97      0.84       800\n",
      "\n",
      "    accuracy                           1.00     80000\n",
      "   macro avg       0.87      0.99      0.92     80000\n",
      "weighted avg       1.00      1.00      1.00     80000\n",
      "\n"
     ]
    }
   ],
   "source": [
    "pru = np.where(predEval > 0.4,1,0)\n",
    "print(classification_report(evaly, pru))"
   ]
  },
  {
   "cell_type": "code",
   "execution_count": 30,
   "metadata": {},
   "outputs": [
    {
     "data": {
      "image/png": "[encoded data removed]",
      "text/plain": [
       "<Figure size 432x288 with 1 Axes>"
      ]
     },
     "metadata": {
      "needs_background": "light"
     },
     "output_type": "display_data"
    }
   ],
   "source": [
    "# Curva ROC\n",
    "probs_eval = randomForestUnderPca.predict_proba(evalX)\n",
    "preds_eval = probs_eval[:,1]\n",
    "fpr_eval, tpr_eval, threshold_eval = metrics.roc_curve(evaly, preds_eval)\n",
    "roc_auc_eval = metrics.auc(fpr_eval, tpr_eval)\n",
    "\n",
    "plt.title('Receiver Operating Characteristic')\n",
    "plt.plot(fpr_eval, tpr_eval, 'b', label = 'AUC = %0.2f' % roc_auc_eval)\n",
    "plt.legend(loc = 'lower right')\n",
    "plt.plot([0, 1], [0, 1],'r--')\n",
    "plt.xlim([0, 1])\n",
    "plt.ylim([0, 1])\n",
    "plt.ylabel('True Positive Rate')\n",
    "plt.xlabel('False Positive Rate')\n",
    "plt.show()"
   ]
  },
  {
   "cell_type": "markdown",
   "metadata": {},
   "source": [
    "## Guardamos la predicción\n",
    "Guardamos la predicción realizada en el dataframe de Evaluación:"
   ]
  },
  {
   "cell_type": "code",
   "execution_count": 32,
   "metadata": {},
   "outputs": [
    {
     "data": {
      "text/html": [
       "<div>\n",
       "<style scoped>\n",
       "    .dataframe tbody tr th:only-of-type {\n",
       "        vertical-align: middle;\n",
       "    }\n",
       "\n",
       "    .dataframe tbody tr th {\n",
       "        vertical-align: top;\n",
       "    }\n",
       "\n",
       "    .dataframe thead th {\n",
       "        text-align: right;\n",
       "    }\n",
       "</style>\n",
       "<table border=\"1\" class=\"dataframe\">\n",
       "  <thead>\n",
       "    <tr style=\"text-align: right;\">\n",
       "      <th></th>\n",
       "      <th>PC0</th>\n",
       "      <th>PC1</th>\n",
       "      <th>PC2</th>\n",
       "      <th>PC3</th>\n",
       "      <th>isFraud</th>\n",
       "      <th>RFOverPCA_pred</th>\n",
       "    </tr>\n",
       "  </thead>\n",
       "  <tbody>\n",
       "    <tr>\n",
       "      <th>0</th>\n",
       "      <td>5.207935e+06</td>\n",
       "      <td>1.624910e+07</td>\n",
       "      <td>-1.693150e+05</td>\n",
       "      <td>-2.303496e+06</td>\n",
       "      <td>1.0</td>\n",
       "      <td>1.0</td>\n",
       "    </tr>\n",
       "    <tr>\n",
       "      <th>1</th>\n",
       "      <td>-8.297775e+05</td>\n",
       "      <td>6.762575e+04</td>\n",
       "      <td>-9.888326e+04</td>\n",
       "      <td>-6.125622e+04</td>\n",
       "      <td>1.0</td>\n",
       "      <td>1.0</td>\n",
       "    </tr>\n",
       "    <tr>\n",
       "      <th>2</th>\n",
       "      <td>-2.422555e+06</td>\n",
       "      <td>3.008502e+06</td>\n",
       "      <td>-1.993044e+06</td>\n",
       "      <td>-1.498430e+06</td>\n",
       "      <td>1.0</td>\n",
       "      <td>1.0</td>\n",
       "    </tr>\n",
       "    <tr>\n",
       "      <th>3</th>\n",
       "      <td>-2.585197e+06</td>\n",
       "      <td>-3.886420e+05</td>\n",
       "      <td>-1.234703e+04</td>\n",
       "      <td>1.976531e+04</td>\n",
       "      <td>1.0</td>\n",
       "      <td>1.0</td>\n",
       "    </tr>\n",
       "    <tr>\n",
       "      <th>4</th>\n",
       "      <td>-2.585782e+06</td>\n",
       "      <td>-4.008621e+05</td>\n",
       "      <td>-5.222108e+03</td>\n",
       "      <td>2.522653e+04</td>\n",
       "      <td>1.0</td>\n",
       "      <td>1.0</td>\n",
       "    </tr>\n",
       "  </tbody>\n",
       "</table>\n",
       "</div>"
      ],
      "text/plain": [
       "            PC0           PC1           PC2           PC3  isFraud  \\\n",
       "0  5.207935e+06  1.624910e+07 -1.693150e+05 -2.303496e+06      1.0   \n",
       "1 -8.297775e+05  6.762575e+04 -9.888326e+04 -6.125622e+04      1.0   \n",
       "2 -2.422555e+06  3.008502e+06 -1.993044e+06 -1.498430e+06      1.0   \n",
       "3 -2.585197e+06 -3.886420e+05 -1.234703e+04  1.976531e+04      1.0   \n",
       "4 -2.585782e+06 -4.008621e+05 -5.222108e+03  2.522653e+04      1.0   \n",
       "\n",
       "   RFOverPCA_pred  \n",
       "0             1.0  \n",
       "1             1.0  \n",
       "2             1.0  \n",
       "3             1.0  \n",
       "4             1.0  "
      ]
     },
     "execution_count": 32,
     "metadata": {},
     "output_type": "execute_result"
    }
   ],
   "source": [
    "predRF = pd.DataFrame(predEval, columns = [\"RFOverPCA_pred\"])\n",
    "modelResult = pd.concat([evalPca, predRF[\"RFOverPCA_pred\"]],axis = 1)\n",
    "modelResult.head()"
   ]
  },
  {
   "cell_type": "code",
   "execution_count": 34,
   "metadata": {},
   "outputs": [
    {
     "data": {
      "text/html": [
       "<div>\n",
       "<style scoped>\n",
       "    .dataframe tbody tr th:only-of-type {\n",
       "        vertical-align: middle;\n",
       "    }\n",
       "\n",
       "    .dataframe tbody tr th {\n",
       "        vertical-align: top;\n",
       "    }\n",
       "\n",
       "    .dataframe thead th {\n",
       "        text-align: right;\n",
       "    }\n",
       "</style>\n",
       "<table border=\"1\" class=\"dataframe\">\n",
       "  <thead>\n",
       "    <tr style=\"text-align: right;\">\n",
       "      <th>RFOverPCA_pred</th>\n",
       "      <th>0.0</th>\n",
       "      <th>1.0</th>\n",
       "      <th>All</th>\n",
       "    </tr>\n",
       "    <tr>\n",
       "      <th>isFraud</th>\n",
       "      <th></th>\n",
       "      <th></th>\n",
       "      <th></th>\n",
       "    </tr>\n",
       "  </thead>\n",
       "  <tbody>\n",
       "    <tr>\n",
       "      <th>0.0</th>\n",
       "      <td>78930</td>\n",
       "      <td>270</td>\n",
       "      <td>79200</td>\n",
       "    </tr>\n",
       "    <tr>\n",
       "      <th>1.0</th>\n",
       "      <td>21</td>\n",
       "      <td>779</td>\n",
       "      <td>800</td>\n",
       "    </tr>\n",
       "    <tr>\n",
       "      <th>All</th>\n",
       "      <td>78951</td>\n",
       "      <td>1049</td>\n",
       "      <td>80000</td>\n",
       "    </tr>\n",
       "  </tbody>\n",
       "</table>\n",
       "</div>"
      ],
      "text/plain": [
       "RFOverPCA_pred    0.0   1.0    All\n",
       "isFraud                           \n",
       "0.0             78930   270  79200\n",
       "1.0                21   779    800\n",
       "All             78951  1049  80000"
      ]
     },
     "execution_count": 34,
     "metadata": {},
     "output_type": "execute_result"
    }
   ],
   "source": [
    "pd.crosstab(index=modelResult['isFraud'],columns=modelResult['RFOverPCA_pred'], margins=True)"
   ]
  },
  {
   "cell_type": "code",
   "execution_count": 38,
   "metadata": {},
   "outputs": [],
   "source": [
    "modelResult.to_csv('/tmp/eval_over_pca_pred_rf.csv', index = False)"
   ]
  },
  {
   "cell_type": "code",
   "execution_count": 39,
   "metadata": {},
   "outputs": [],
   "source": [
    "s3.upload_file(Bucket = BUCKET_NAME, Key = 'eval_over_pca_pred_rf.csv', Filename = '/tmp/eval_over_pca_pred_rf.csv')"
   ]
  },
  {
   "cell_type": "code",
   "execution_count": 40,
   "metadata": {},
   "outputs": [],
   "source": [
    "# Eliminar el fichero de la ruta tmp de la máquina EC2 para no ocupar espacio.\n",
    "!rm /tmp/eval_over_pca_pred_rf.csv"
   ]
  },
  {
   "cell_type": "code",
   "execution_count": null,
   "metadata": {},
   "outputs": [],
   "source": []
  }
 ],
 "metadata": {
  "kernelspec": {
   "display_name": "Python 3",
   "language": "python",
   "name": "python3"
  },
  "language_info": {
   "codemirror_mode": {
    "name": "ipython",
    "version": 3
   },
   "file_extension": ".py",
   "mimetype": "text/x-python",
   "name": "python",
   "nbconvert_exporter": "python",
   "pygments_lexer": "ipython3",
   "version": "3.7.7"
  }
 },
 "nbformat": 4,
 "nbformat_minor": 2
}
