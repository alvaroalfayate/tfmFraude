{
 "cells": [
  {
   "cell_type": "markdown",
   "metadata": {},
   "source": [
    "<img src=\"mbit_logo.png\" alt=\"drawing\" align=\"right\" style=\"float\" width=\"150\" height=\"150\"/>\n",
    "\n",
    "<font color=\"#D31525\"><h3 align=\"left\">Detección de fraude en transacciones financieras</h3></font>\n",
    "<font color=\"#2C3E50\"><h3 align=\"left\"> RANDOM FOREST + PCA + UNDERSAMPLING </h3></font>"
   ]
  },
  {
   "cell_type": "markdown",
   "metadata": {},
   "source": [
    "## Importar librerias\n",
    "En esta primera parte del código, se realizan las llamadas a las librerías que se utilizarán en el Notebook:"
   ]
  },
  {
   "cell_type": "code",
   "execution_count": 1,
   "metadata": {},
   "outputs": [],
   "source": [
    "# Paquetes de manipulación de datos\n",
    "import pandas as pd\n",
    "import numpy as np\n",
    "import boto3\n",
    "\n",
    "# Paquetes de visualización\n",
    "import matplotlib.pyplot as plt\n",
    "import seaborn as sns\n",
    "\n",
    "# Paquetes para aplicar el modelo: Random Forest\n",
    "from sklearn.model_selection import GridSearchCV           # grid de parámetros definido\n",
    "from sklearn.model_selection import RandomizedSearchCV     # grid de parámetros aleatorios sobre una determinada\n",
    "import sklearn.metrics as metrics\n",
    "from sklearn.metrics import classification_report\n",
    "from sklearn.metrics import confusion_matrix\n",
    "from sklearn.model_selection import cross_validate\n",
    "from sklearn.metrics import roc_auc_score\n",
    "from sklearn.ensemble import RandomForestClassifier\n",
    "from sklearn.model_selection import train_test_split"
   ]
  },
  {
   "cell_type": "markdown",
   "metadata": {},
   "source": [
    "## Definición de funciones  \n",
    "A continuación, definimos una función que se encargará de hacer ajuste de parámetros del algoritmo, de acuerdo a los parámetros pasados como argumento, y que mostrará un informe con los resultados obtenidos."
   ]
  },
  {
   "cell_type": "code",
   "execution_count": 2,
   "metadata": {},
   "outputs": [],
   "source": [
    "def doGridSearch(model, grid, scores, X_train, y_train, X_test, y_test, columns, indices):\n",
    "    for score in scores:\n",
    "        print(\"# Tuning hyper-parameters for %s\" % score)\n",
    "        print()\n",
    "\n",
    "        clf=GridSearchCV(model, grid, cv=3, scoring='%s' % score, iid=False)\n",
    "        clf.fit(X_train, y_train)\n",
    "\n",
    "        print(\"Best parameters set found on development set:\")\n",
    "        print()\n",
    "        print(clf.best_params_)\n",
    "        print()\n",
    "        print(\"Grid scores on development set:\")\n",
    "        print()\n",
    "\n",
    "        means=clf.cv_results_['mean_test_score']\n",
    "        stds =clf.cv_results_['std_test_score']\n",
    "\n",
    "        for mean, std, params in zip(means, stds, clf.cv_results_['params']):\n",
    "            print(\"%0.3f (+/-%0.03f) for %r\" % (mean, std * 2, params))\n",
    "        print()\n",
    "\n",
    "        print(\"Detailed classification report:\")\n",
    "        print()\n",
    "        print(\"The model is trained on the full development set.\")\n",
    "        print(\"The scores are computed on the full evaluation set.\")\n",
    "        print()\n",
    "        y_true, y_pred = y_test, clf.predict(X_test)\n",
    "        print(classification_report(y_true, y_pred))\n",
    "        print()\n",
    "\n",
    "        conf=pd.DataFrame(\n",
    "            confusion_matrix(y_test, y_pred),\n",
    "            columns=columns,\n",
    "            index  =indices\n",
    "        )\n",
    "        print(conf)\n",
    "        \n",
    "        return clf.best_estimator_"
   ]
  },
  {
   "cell_type": "markdown",
   "metadata": {},
   "source": [
    "## Importar DataSets\n",
    "Importamos los datasets Train-Test y Evaluación para los que se ha aplicado PCA y submuestreo para ajustar la distribución de la clase mayoritaria."
   ]
  },
  {
   "cell_type": "code",
   "execution_count": 3,
   "metadata": {},
   "outputs": [],
   "source": [
    "s3 = boto3.client(\"s3\")\n",
    "\n",
    "# Seleccionamos el bucket con el que vamos a trabajar\n",
    "BUCKET_NAME = 'tfmfraud'"
   ]
  },
  {
   "cell_type": "markdown",
   "metadata": {},
   "source": [
    "## TrainTest"
   ]
  },
  {
   "cell_type": "code",
   "execution_count": 4,
   "metadata": {},
   "outputs": [],
   "source": [
    "# Descargamos el fichero del bucket de s3 a la máquina EC2 para poder trabajar con él.\n",
    "s3.download_file(Bucket = BUCKET_NAME, Key = 'train_test_under_pca.csv',Filename = '/tmp/train_test_under_pca.csv')"
   ]
  },
  {
   "cell_type": "code",
   "execution_count": 5,
   "metadata": {},
   "outputs": [],
   "source": [
    "#Leemos el fichero y lo metemos en un dataframe.\n",
    "trainTestPca = pd.read_csv('/tmp/train_test_under_pca.csv', dtype={'rank':'category'})"
   ]
  },
  {
   "cell_type": "code",
   "execution_count": 6,
   "metadata": {},
   "outputs": [
    {
     "name": "stdout",
     "output_type": "stream",
     "text": [
      "(74130, 5)\n"
     ]
    }
   ],
   "source": [
    "print (trainTestPca.shape)"
   ]
  },
  {
   "cell_type": "code",
   "execution_count": 7,
   "metadata": {},
   "outputs": [
    {
     "data": {
      "text/html": [
       "<div>\n",
       "<style scoped>\n",
       "    .dataframe tbody tr th:only-of-type {\n",
       "        vertical-align: middle;\n",
       "    }\n",
       "\n",
       "    .dataframe tbody tr th {\n",
       "        vertical-align: top;\n",
       "    }\n",
       "\n",
       "    .dataframe thead th {\n",
       "        text-align: right;\n",
       "    }\n",
       "</style>\n",
       "<table border=\"1\" class=\"dataframe\">\n",
       "  <thead>\n",
       "    <tr style=\"text-align: right;\">\n",
       "      <th></th>\n",
       "      <th>PC0</th>\n",
       "      <th>PC1</th>\n",
       "      <th>PC2</th>\n",
       "      <th>PC3</th>\n",
       "      <th>isFraud</th>\n",
       "    </tr>\n",
       "  </thead>\n",
       "  <tbody>\n",
       "    <tr>\n",
       "      <th>0</th>\n",
       "      <td>-2.568416e+06</td>\n",
       "      <td>-418753.356792</td>\n",
       "      <td>-26107.093843</td>\n",
       "      <td>36123.614588</td>\n",
       "      <td>1.0</td>\n",
       "    </tr>\n",
       "    <tr>\n",
       "      <th>1</th>\n",
       "      <td>-2.556271e+06</td>\n",
       "      <td>-435297.382974</td>\n",
       "      <td>-7558.987926</td>\n",
       "      <td>28869.723793</td>\n",
       "      <td>1.0</td>\n",
       "    </tr>\n",
       "    <tr>\n",
       "      <th>2</th>\n",
       "      <td>-2.568229e+06</td>\n",
       "      <td>-415170.264690</td>\n",
       "      <td>-23825.616824</td>\n",
       "      <td>34557.111152</td>\n",
       "      <td>1.0</td>\n",
       "    </tr>\n",
       "    <tr>\n",
       "      <th>3</th>\n",
       "      <td>-2.553205e+06</td>\n",
       "      <td>-435635.120416</td>\n",
       "      <td>-881.727142</td>\n",
       "      <td>25584.094128</td>\n",
       "      <td>1.0</td>\n",
       "    </tr>\n",
       "    <tr>\n",
       "      <th>4</th>\n",
       "      <td>-2.566995e+06</td>\n",
       "      <td>-391525.951775</td>\n",
       "      <td>-8770.475899</td>\n",
       "      <td>24219.978765</td>\n",
       "      <td>1.0</td>\n",
       "    </tr>\n",
       "  </tbody>\n",
       "</table>\n",
       "</div>"
      ],
      "text/plain": [
       "            PC0            PC1           PC2           PC3  isFraud\n",
       "0 -2.568416e+06 -418753.356792 -26107.093843  36123.614588      1.0\n",
       "1 -2.556271e+06 -435297.382974  -7558.987926  28869.723793      1.0\n",
       "2 -2.568229e+06 -415170.264690 -23825.616824  34557.111152      1.0\n",
       "3 -2.553205e+06 -435635.120416   -881.727142  25584.094128      1.0\n",
       "4 -2.566995e+06 -391525.951775  -8770.475899  24219.978765      1.0"
      ]
     },
     "execution_count": 7,
     "metadata": {},
     "output_type": "execute_result"
    }
   ],
   "source": [
    "trainTestPca.head()"
   ]
  },
  {
   "cell_type": "code",
   "execution_count": 8,
   "metadata": {},
   "outputs": [
    {
     "data": {
      "text/plain": [
       "0.0    66717\n",
       "1.0     7413\n",
       "Name: isFraud, dtype: int64"
      ]
     },
     "execution_count": 8,
     "metadata": {},
     "output_type": "execute_result"
    }
   ],
   "source": [
    "pd.value_counts(trainTestPca['isFraud'])"
   ]
  },
  {
   "cell_type": "code",
   "execution_count": 9,
   "metadata": {},
   "outputs": [],
   "source": [
    "# Eliminar el fichero de la ruta tmp de la máquina EC2 para no ocupar espacio.\n",
    "!rm /tmp/train_test_under_pca.csv"
   ]
  },
  {
   "cell_type": "markdown",
   "metadata": {},
   "source": [
    "## Evaluacion"
   ]
  },
  {
   "cell_type": "code",
   "execution_count": 10,
   "metadata": {},
   "outputs": [],
   "source": [
    "# Descargamos el fichero del bucket de s3 a la máquina EC2 para poder trabajar con él.\n",
    "s3.download_file(Bucket = BUCKET_NAME, Key = 'eval_under_pca.csv',Filename = '/tmp/eval_under_pca.csv')"
   ]
  },
  {
   "cell_type": "code",
   "execution_count": 11,
   "metadata": {},
   "outputs": [],
   "source": [
    "#Leemos el fichero y lo metemos en un dataframe.\n",
    "evalPca = pd.read_csv('/tmp/eval_under_pca.csv', dtype={'rank':'category'})"
   ]
  },
  {
   "cell_type": "code",
   "execution_count": 12,
   "metadata": {},
   "outputs": [
    {
     "name": "stdout",
     "output_type": "stream",
     "text": [
      "(80000, 5)\n"
     ]
    }
   ],
   "source": [
    "print (evalPca.shape)"
   ]
  },
  {
   "cell_type": "code",
   "execution_count": 13,
   "metadata": {
    "scrolled": true
   },
   "outputs": [
    {
     "data": {
      "text/html": [
       "<div>\n",
       "<style scoped>\n",
       "    .dataframe tbody tr th:only-of-type {\n",
       "        vertical-align: middle;\n",
       "    }\n",
       "\n",
       "    .dataframe tbody tr th {\n",
       "        vertical-align: top;\n",
       "    }\n",
       "\n",
       "    .dataframe thead th {\n",
       "        text-align: right;\n",
       "    }\n",
       "</style>\n",
       "<table border=\"1\" class=\"dataframe\">\n",
       "  <thead>\n",
       "    <tr style=\"text-align: right;\">\n",
       "      <th></th>\n",
       "      <th>PC0</th>\n",
       "      <th>PC1</th>\n",
       "      <th>PC2</th>\n",
       "      <th>PC3</th>\n",
       "      <th>isFraud</th>\n",
       "    </tr>\n",
       "  </thead>\n",
       "  <tbody>\n",
       "    <tr>\n",
       "      <th>0</th>\n",
       "      <td>-2.440498e+06</td>\n",
       "      <td>2.032612e+06</td>\n",
       "      <td>1.534761e+06</td>\n",
       "      <td>-1.035596e+06</td>\n",
       "      <td>1.0</td>\n",
       "    </tr>\n",
       "    <tr>\n",
       "      <th>1</th>\n",
       "      <td>-1.555564e+06</td>\n",
       "      <td>-3.347021e+05</td>\n",
       "      <td>5.046703e+04</td>\n",
       "      <td>6.319293e+03</td>\n",
       "      <td>1.0</td>\n",
       "    </tr>\n",
       "    <tr>\n",
       "      <th>2</th>\n",
       "      <td>-2.550707e+06</td>\n",
       "      <td>-7.939223e+04</td>\n",
       "      <td>1.899757e+05</td>\n",
       "      <td>-1.122428e+05</td>\n",
       "      <td>1.0</td>\n",
       "    </tr>\n",
       "    <tr>\n",
       "      <th>3</th>\n",
       "      <td>-8.871237e+05</td>\n",
       "      <td>2.460477e+06</td>\n",
       "      <td>1.405758e+05</td>\n",
       "      <td>-3.504298e+05</td>\n",
       "      <td>1.0</td>\n",
       "    </tr>\n",
       "    <tr>\n",
       "      <th>4</th>\n",
       "      <td>-2.558167e+06</td>\n",
       "      <td>-2.223525e+05</td>\n",
       "      <td>9.894805e+04</td>\n",
       "      <td>-4.974151e+04</td>\n",
       "      <td>1.0</td>\n",
       "    </tr>\n",
       "  </tbody>\n",
       "</table>\n",
       "</div>"
      ],
      "text/plain": [
       "            PC0           PC1           PC2           PC3  isFraud\n",
       "0 -2.440498e+06  2.032612e+06  1.534761e+06 -1.035596e+06      1.0\n",
       "1 -1.555564e+06 -3.347021e+05  5.046703e+04  6.319293e+03      1.0\n",
       "2 -2.550707e+06 -7.939223e+04  1.899757e+05 -1.122428e+05      1.0\n",
       "3 -8.871237e+05  2.460477e+06  1.405758e+05 -3.504298e+05      1.0\n",
       "4 -2.558167e+06 -2.223525e+05  9.894805e+04 -4.974151e+04      1.0"
      ]
     },
     "execution_count": 13,
     "metadata": {},
     "output_type": "execute_result"
    }
   ],
   "source": [
    "evalPca.head()"
   ]
  },
  {
   "cell_type": "code",
   "execution_count": 14,
   "metadata": {},
   "outputs": [
    {
     "data": {
      "text/plain": [
       "0.0    79200\n",
       "1.0      800\n",
       "Name: isFraud, dtype: int64"
      ]
     },
     "execution_count": 14,
     "metadata": {},
     "output_type": "execute_result"
    }
   ],
   "source": [
    "pd.value_counts(evalPca['isFraud'])"
   ]
  },
  {
   "cell_type": "code",
   "execution_count": 15,
   "metadata": {},
   "outputs": [],
   "source": [
    "# Eliminar el fichero de la ruta tmp de la máquina EC2 para no ocupar espacio.\n",
    "!rm /tmp/eval_under_pca.csv"
   ]
  },
  {
   "cell_type": "markdown",
   "metadata": {},
   "source": [
    "## Random Forest\n",
    "En este caso, para el modelo de Random Forest no es necesario aplicar normalización en los datos puesto que este tipo de modelos no se ven afectados por los ordenes de magnitud de los atributos."
   ]
  },
  {
   "cell_type": "markdown",
   "metadata": {},
   "source": [
    "### Entrenamiento y test del modelo"
   ]
  },
  {
   "cell_type": "code",
   "execution_count": 18,
   "metadata": {},
   "outputs": [],
   "source": [
    "# Para iniciar con el modelo, separamos en X las variables independientes y en Y la variable dependiente:\n",
    "y = trainTestPca.loc[:, 'isFraud'].values\n",
    "X = trainTestPca.drop(columns=['isFraud']).values"
   ]
  },
  {
   "cell_type": "code",
   "execution_count": 19,
   "metadata": {},
   "outputs": [
    {
     "data": {
      "text/plain": [
       "((51891, 4), (22239, 4), (51891,), (22239,))"
      ]
     },
     "execution_count": 19,
     "metadata": {},
     "output_type": "execute_result"
    }
   ],
   "source": [
    "# Creamos los conjuntos de entrenamiento y test:\n",
    "seed = 7\n",
    "X_train, X_test, y_train, y_test = train_test_split(X, y, test_size=0.3, random_state=seed)\n",
    "\n",
    "# Verificamos los tamaños de los df:\n",
    "X_train.shape, X_test.shape, y_train.shape, y_test.shape"
   ]
  },
  {
   "cell_type": "code",
   "execution_count": 18,
   "metadata": {},
   "outputs": [],
   "source": [
    "# Creamos la malla de parámetros con los que se evaluará el algoritmo Random Forest\n",
    "    # n_estimators --> numero de arboles de decision del modelo\n",
    "    # max_features --> numero de elementos que va a utilizar el RandomForest\n",
    "    # max depth --> Numero máximo de profundidad del arbol ( numero de niveles)\n",
    "tuned_parameters={'n_estimators': [10, 50, 100, 200, 500],\n",
    "                  'max_features': ['auto', 'sqrt', 0.5, 0.7, 0.9, None],\n",
    "                  'max_depth'   : [5,10, 15,20]}"
   ]
  },
  {
   "cell_type": "code",
   "execution_count": 9,
   "metadata": {},
   "outputs": [
    {
     "name": "stdout",
     "output_type": "stream",
     "text": [
      "# Tuning hyper-parameters for recall\n",
      "\n",
      "Best parameters set found on development set:\n",
      "\n",
      "{'max_depth': 20, 'max_features': None, 'n_estimators': 200}\n",
      "\n",
      "Grid scores on development set:\n",
      "\n",
      "0.766 (+/-0.022) for {'max_depth': 5, 'max_features': 'auto', 'n_estimators': 10}\n",
      "0.770 (+/-0.039) for {'max_depth': 5, 'max_features': 'auto', 'n_estimators': 50}\n",
      "0.771 (+/-0.037) for {'max_depth': 5, 'max_features': 'auto', 'n_estimators': 100}\n",
      "0.767 (+/-0.037) for {'max_depth': 5, 'max_features': 'auto', 'n_estimators': 200}\n",
      "0.767 (+/-0.034) for {'max_depth': 5, 'max_features': 'auto', 'n_estimators': 500}\n",
      "0.771 (+/-0.014) for {'max_depth': 5, 'max_features': 'sqrt', 'n_estimators': 10}\n",
      "0.767 (+/-0.038) for {'max_depth': 5, 'max_features': 'sqrt', 'n_estimators': 50}\n",
      "0.767 (+/-0.037) for {'max_depth': 5, 'max_features': 'sqrt', 'n_estimators': 100}\n",
      "0.768 (+/-0.039) for {'max_depth': 5, 'max_features': 'sqrt', 'n_estimators': 200}\n",
      "0.768 (+/-0.037) for {'max_depth': 5, 'max_features': 'sqrt', 'n_estimators': 500}\n",
      "0.762 (+/-0.045) for {'max_depth': 5, 'max_features': 0.5, 'n_estimators': 10}\n",
      "0.763 (+/-0.040) for {'max_depth': 5, 'max_features': 0.5, 'n_estimators': 50}\n",
      "0.769 (+/-0.039) for {'max_depth': 5, 'max_features': 0.5, 'n_estimators': 100}\n",
      "0.770 (+/-0.032) for {'max_depth': 5, 'max_features': 0.5, 'n_estimators': 200}\n",
      "0.770 (+/-0.038) for {'max_depth': 5, 'max_features': 0.5, 'n_estimators': 500}\n",
      "0.776 (+/-0.038) for {'max_depth': 5, 'max_features': 0.7, 'n_estimators': 10}\n",
      "0.768 (+/-0.036) for {'max_depth': 5, 'max_features': 0.7, 'n_estimators': 50}\n",
      "0.770 (+/-0.035) for {'max_depth': 5, 'max_features': 0.7, 'n_estimators': 100}\n",
      "0.770 (+/-0.039) for {'max_depth': 5, 'max_features': 0.7, 'n_estimators': 200}\n",
      "0.766 (+/-0.038) for {'max_depth': 5, 'max_features': 0.7, 'n_estimators': 500}\n",
      "0.795 (+/-0.039) for {'max_depth': 5, 'max_features': 0.9, 'n_estimators': 10}\n",
      "0.782 (+/-0.041) for {'max_depth': 5, 'max_features': 0.9, 'n_estimators': 50}\n",
      "0.781 (+/-0.039) for {'max_depth': 5, 'max_features': 0.9, 'n_estimators': 100}\n",
      "0.777 (+/-0.037) for {'max_depth': 5, 'max_features': 0.9, 'n_estimators': 200}\n",
      "0.778 (+/-0.034) for {'max_depth': 5, 'max_features': 0.9, 'n_estimators': 500}\n",
      "0.819 (+/-0.019) for {'max_depth': 5, 'max_features': None, 'n_estimators': 10}\n",
      "0.802 (+/-0.057) for {'max_depth': 5, 'max_features': None, 'n_estimators': 50}\n",
      "0.793 (+/-0.033) for {'max_depth': 5, 'max_features': None, 'n_estimators': 100}\n",
      "0.792 (+/-0.031) for {'max_depth': 5, 'max_features': None, 'n_estimators': 200}\n",
      "0.798 (+/-0.020) for {'max_depth': 5, 'max_features': None, 'n_estimators': 500}\n",
      "0.871 (+/-0.026) for {'max_depth': 10, 'max_features': 'auto', 'n_estimators': 10}\n",
      "0.870 (+/-0.017) for {'max_depth': 10, 'max_features': 'auto', 'n_estimators': 50}\n",
      "0.872 (+/-0.019) for {'max_depth': 10, 'max_features': 'auto', 'n_estimators': 100}\n",
      "0.873 (+/-0.017) for {'max_depth': 10, 'max_features': 'auto', 'n_estimators': 200}\n",
      "0.871 (+/-0.016) for {'max_depth': 10, 'max_features': 'auto', 'n_estimators': 500}\n",
      "0.867 (+/-0.016) for {'max_depth': 10, 'max_features': 'sqrt', 'n_estimators': 10}\n",
      "0.872 (+/-0.011) for {'max_depth': 10, 'max_features': 'sqrt', 'n_estimators': 50}\n",
      "0.874 (+/-0.020) for {'max_depth': 10, 'max_features': 'sqrt', 'n_estimators': 100}\n",
      "0.871 (+/-0.018) for {'max_depth': 10, 'max_features': 'sqrt', 'n_estimators': 200}\n",
      "0.872 (+/-0.017) for {'max_depth': 10, 'max_features': 'sqrt', 'n_estimators': 500}\n",
      "0.869 (+/-0.017) for {'max_depth': 10, 'max_features': 0.5, 'n_estimators': 10}\n",
      "0.871 (+/-0.020) for {'max_depth': 10, 'max_features': 0.5, 'n_estimators': 50}\n",
      "0.872 (+/-0.017) for {'max_depth': 10, 'max_features': 0.5, 'n_estimators': 100}\n",
      "0.871 (+/-0.019) for {'max_depth': 10, 'max_features': 0.5, 'n_estimators': 200}\n",
      "0.873 (+/-0.019) for {'max_depth': 10, 'max_features': 0.5, 'n_estimators': 500}\n",
      "0.862 (+/-0.020) for {'max_depth': 10, 'max_features': 0.7, 'n_estimators': 10}\n",
      "0.870 (+/-0.014) for {'max_depth': 10, 'max_features': 0.7, 'n_estimators': 50}\n",
      "0.874 (+/-0.022) for {'max_depth': 10, 'max_features': 0.7, 'n_estimators': 100}\n",
      "0.872 (+/-0.019) for {'max_depth': 10, 'max_features': 0.7, 'n_estimators': 200}\n",
      "0.873 (+/-0.018) for {'max_depth': 10, 'max_features': 0.7, 'n_estimators': 500}\n",
      "0.875 (+/-0.030) for {'max_depth': 10, 'max_features': 0.9, 'n_estimators': 10}\n",
      "0.877 (+/-0.020) for {'max_depth': 10, 'max_features': 0.9, 'n_estimators': 50}\n",
      "0.877 (+/-0.014) for {'max_depth': 10, 'max_features': 0.9, 'n_estimators': 100}\n",
      "0.878 (+/-0.018) for {'max_depth': 10, 'max_features': 0.9, 'n_estimators': 200}\n",
      "0.876 (+/-0.018) for {'max_depth': 10, 'max_features': 0.9, 'n_estimators': 500}\n",
      "0.873 (+/-0.011) for {'max_depth': 10, 'max_features': None, 'n_estimators': 10}\n",
      "0.877 (+/-0.018) for {'max_depth': 10, 'max_features': None, 'n_estimators': 50}\n",
      "0.877 (+/-0.016) for {'max_depth': 10, 'max_features': None, 'n_estimators': 100}\n",
      "0.880 (+/-0.019) for {'max_depth': 10, 'max_features': None, 'n_estimators': 200}\n",
      "0.879 (+/-0.018) for {'max_depth': 10, 'max_features': None, 'n_estimators': 500}\n",
      "0.894 (+/-0.017) for {'max_depth': 15, 'max_features': 'auto', 'n_estimators': 10}\n",
      "0.896 (+/-0.016) for {'max_depth': 15, 'max_features': 'auto', 'n_estimators': 50}\n",
      "0.897 (+/-0.012) for {'max_depth': 15, 'max_features': 'auto', 'n_estimators': 100}\n",
      "0.895 (+/-0.016) for {'max_depth': 15, 'max_features': 'auto', 'n_estimators': 200}\n",
      "0.896 (+/-0.014) for {'max_depth': 15, 'max_features': 'auto', 'n_estimators': 500}\n",
      "0.891 (+/-0.011) for {'max_depth': 15, 'max_features': 'sqrt', 'n_estimators': 10}\n",
      "0.897 (+/-0.019) for {'max_depth': 15, 'max_features': 'sqrt', 'n_estimators': 50}\n",
      "0.896 (+/-0.016) for {'max_depth': 15, 'max_features': 'sqrt', 'n_estimators': 100}\n",
      "0.896 (+/-0.015) for {'max_depth': 15, 'max_features': 'sqrt', 'n_estimators': 200}\n",
      "0.896 (+/-0.016) for {'max_depth': 15, 'max_features': 'sqrt', 'n_estimators': 500}\n",
      "0.900 (+/-0.016) for {'max_depth': 15, 'max_features': 0.5, 'n_estimators': 10}\n",
      "0.896 (+/-0.012) for {'max_depth': 15, 'max_features': 0.5, 'n_estimators': 50}\n",
      "0.896 (+/-0.017) for {'max_depth': 15, 'max_features': 0.5, 'n_estimators': 100}\n",
      "0.898 (+/-0.012) for {'max_depth': 15, 'max_features': 0.5, 'n_estimators': 200}\n",
      "0.898 (+/-0.014) for {'max_depth': 15, 'max_features': 0.5, 'n_estimators': 500}\n",
      "0.896 (+/-0.016) for {'max_depth': 15, 'max_features': 0.7, 'n_estimators': 10}\n",
      "0.893 (+/-0.018) for {'max_depth': 15, 'max_features': 0.7, 'n_estimators': 50}\n",
      "0.896 (+/-0.015) for {'max_depth': 15, 'max_features': 0.7, 'n_estimators': 100}\n",
      "0.896 (+/-0.017) for {'max_depth': 15, 'max_features': 0.7, 'n_estimators': 200}\n",
      "0.897 (+/-0.014) for {'max_depth': 15, 'max_features': 0.7, 'n_estimators': 500}\n",
      "0.896 (+/-0.026) for {'max_depth': 15, 'max_features': 0.9, 'n_estimators': 10}\n",
      "0.901 (+/-0.016) for {'max_depth': 15, 'max_features': 0.9, 'n_estimators': 50}\n",
      "0.902 (+/-0.012) for {'max_depth': 15, 'max_features': 0.9, 'n_estimators': 100}\n",
      "0.901 (+/-0.013) for {'max_depth': 15, 'max_features': 0.9, 'n_estimators': 200}\n",
      "0.903 (+/-0.010) for {'max_depth': 15, 'max_features': 0.9, 'n_estimators': 500}\n",
      "0.899 (+/-0.018) for {'max_depth': 15, 'max_features': None, 'n_estimators': 10}\n",
      "0.903 (+/-0.016) for {'max_depth': 15, 'max_features': None, 'n_estimators': 50}\n",
      "0.904 (+/-0.016) for {'max_depth': 15, 'max_features': None, 'n_estimators': 100}\n",
      "0.904 (+/-0.011) for {'max_depth': 15, 'max_features': None, 'n_estimators': 200}\n",
      "0.904 (+/-0.012) for {'max_depth': 15, 'max_features': None, 'n_estimators': 500}\n",
      "0.895 (+/-0.007) for {'max_depth': 20, 'max_features': 'auto', 'n_estimators': 10}\n",
      "0.903 (+/-0.012) for {'max_depth': 20, 'max_features': 'auto', 'n_estimators': 50}\n",
      "0.907 (+/-0.016) for {'max_depth': 20, 'max_features': 'auto', 'n_estimators': 100}\n",
      "0.903 (+/-0.012) for {'max_depth': 20, 'max_features': 'auto', 'n_estimators': 200}\n",
      "0.905 (+/-0.012) for {'max_depth': 20, 'max_features': 'auto', 'n_estimators': 500}\n",
      "0.895 (+/-0.017) for {'max_depth': 20, 'max_features': 'sqrt', 'n_estimators': 10}\n",
      "0.904 (+/-0.011) for {'max_depth': 20, 'max_features': 'sqrt', 'n_estimators': 50}\n",
      "0.902 (+/-0.013) for {'max_depth': 20, 'max_features': 'sqrt', 'n_estimators': 100}\n",
      "0.906 (+/-0.013) for {'max_depth': 20, 'max_features': 'sqrt', 'n_estimators': 200}\n",
      "0.905 (+/-0.010) for {'max_depth': 20, 'max_features': 'sqrt', 'n_estimators': 500}\n",
      "0.897 (+/-0.018) for {'max_depth': 20, 'max_features': 0.5, 'n_estimators': 10}\n",
      "0.903 (+/-0.012) for {'max_depth': 20, 'max_features': 0.5, 'n_estimators': 50}\n",
      "0.903 (+/-0.010) for {'max_depth': 20, 'max_features': 0.5, 'n_estimators': 100}\n",
      "0.902 (+/-0.014) for {'max_depth': 20, 'max_features': 0.5, 'n_estimators': 200}\n",
      "0.903 (+/-0.011) for {'max_depth': 20, 'max_features': 0.5, 'n_estimators': 500}\n",
      "0.895 (+/-0.021) for {'max_depth': 20, 'max_features': 0.7, 'n_estimators': 10}\n",
      "0.902 (+/-0.013) for {'max_depth': 20, 'max_features': 0.7, 'n_estimators': 50}\n",
      "0.904 (+/-0.010) for {'max_depth': 20, 'max_features': 0.7, 'n_estimators': 100}\n",
      "0.905 (+/-0.012) for {'max_depth': 20, 'max_features': 0.7, 'n_estimators': 200}\n",
      "0.904 (+/-0.012) for {'max_depth': 20, 'max_features': 0.7, 'n_estimators': 500}\n",
      "0.893 (+/-0.011) for {'max_depth': 20, 'max_features': 0.9, 'n_estimators': 10}\n",
      "0.905 (+/-0.014) for {'max_depth': 20, 'max_features': 0.9, 'n_estimators': 50}\n",
      "0.907 (+/-0.013) for {'max_depth': 20, 'max_features': 0.9, 'n_estimators': 100}\n",
      "0.906 (+/-0.013) for {'max_depth': 20, 'max_features': 0.9, 'n_estimators': 200}\n",
      "0.907 (+/-0.015) for {'max_depth': 20, 'max_features': 0.9, 'n_estimators': 500}\n",
      "0.897 (+/-0.018) for {'max_depth': 20, 'max_features': None, 'n_estimators': 10}\n",
      "0.903 (+/-0.013) for {'max_depth': 20, 'max_features': None, 'n_estimators': 50}\n",
      "0.907 (+/-0.010) for {'max_depth': 20, 'max_features': None, 'n_estimators': 100}\n",
      "0.908 (+/-0.008) for {'max_depth': 20, 'max_features': None, 'n_estimators': 200}\n",
      "0.907 (+/-0.011) for {'max_depth': 20, 'max_features': None, 'n_estimators': 500}\n",
      "\n",
      "Detailed classification report:\n",
      "\n",
      "The model is trained on the full development set.\n",
      "The scores are computed on the full evaluation set.\n",
      "\n"
     ]
    },
    {
     "name": "stdout",
     "output_type": "stream",
     "text": [
      "              precision    recall  f1-score   support\n",
      "\n",
      "         0.0       0.99      0.99      0.99     20012\n",
      "         1.0       0.95      0.91      0.93      2227\n",
      "\n",
      "    accuracy                           0.99     22239\n",
      "   macro avg       0.97      0.95      0.96     22239\n",
      "weighted avg       0.99      0.99      0.99     22239\n",
      "\n",
      "\n",
      "        Predicted 0  Predicted 1\n",
      "True 0        19908          104\n",
      "True 1          192         2035\n"
     ]
    }
   ],
   "source": [
    "# Ejecutamos el modelo sobre los datos:\n",
    "randomForestUnderPca = doGridSearch(RandomForestClassifier(),\n",
    "                          tuned_parameters, \n",
    "                          ['recall'],\n",
    "                          X_train, y_train, X_test, y_test,\n",
    "                          ['Predicted 0', 'Predicted 1'], ['True 0', 'True 1'])"
   ]
  },
  {
   "cell_type": "markdown",
   "metadata": {},
   "source": [
    "{'max_depth': 20, 'max_features': None, 'n_estimators': 200}"
   ]
  },
  {
   "cell_type": "code",
   "execution_count": 20,
   "metadata": {},
   "outputs": [],
   "source": [
    "randomForestUnderPca = RandomForestClassifier(n_estimators=200, max_depth=20,max_features=None)"
   ]
  },
  {
   "cell_type": "code",
   "execution_count": 21,
   "metadata": {},
   "outputs": [
    {
     "data": {
      "text/plain": [
       "RandomForestClassifier(max_depth=20, max_features=None, n_estimators=200)"
      ]
     },
     "execution_count": 21,
     "metadata": {},
     "output_type": "execute_result"
    }
   ],
   "source": [
    "randomForestUnderPca.fit(X_train, y_train)"
   ]
  },
  {
   "cell_type": "code",
   "execution_count": 22,
   "metadata": {},
   "outputs": [
    {
     "data": {
      "text/plain": [
       "(0.9999421865063306, 0.9862403885066775)"
      ]
     },
     "execution_count": 22,
     "metadata": {},
     "output_type": "execute_result"
    }
   ],
   "source": [
    "randomForestUnderPca.score(X_train, y_train), randomForestUnderPca.score(X_test, y_test)"
   ]
  },
  {
   "cell_type": "code",
   "execution_count": 23,
   "metadata": {},
   "outputs": [],
   "source": [
    "randomForestUnderPca_pred = randomForestUnderPca.predict(X_test)"
   ]
  },
  {
   "cell_type": "code",
   "execution_count": 24,
   "metadata": {},
   "outputs": [
    {
     "data": {
      "text/html": [
       "<div>\n",
       "<style scoped>\n",
       "    .dataframe tbody tr th:only-of-type {\n",
       "        vertical-align: middle;\n",
       "    }\n",
       "\n",
       "    .dataframe tbody tr th {\n",
       "        vertical-align: top;\n",
       "    }\n",
       "\n",
       "    .dataframe thead th {\n",
       "        text-align: right;\n",
       "    }\n",
       "</style>\n",
       "<table border=\"1\" class=\"dataframe\">\n",
       "  <thead>\n",
       "    <tr style=\"text-align: right;\">\n",
       "      <th></th>\n",
       "      <th>0_pred</th>\n",
       "      <th>1_pred</th>\n",
       "    </tr>\n",
       "  </thead>\n",
       "  <tbody>\n",
       "    <tr>\n",
       "      <th>0_true</th>\n",
       "      <td>19901</td>\n",
       "      <td>111</td>\n",
       "    </tr>\n",
       "    <tr>\n",
       "      <th>1_true</th>\n",
       "      <td>195</td>\n",
       "      <td>2032</td>\n",
       "    </tr>\n",
       "  </tbody>\n",
       "</table>\n",
       "</div>"
      ],
      "text/plain": [
       "        0_pred  1_pred\n",
       "0_true   19901     111\n",
       "1_true     195    2032"
      ]
     },
     "execution_count": 24,
     "metadata": {},
     "output_type": "execute_result"
    }
   ],
   "source": [
    "# Matriz de confusión\n",
    "cm=confusion_matrix(y_test, randomForestUnderPca_pred)\n",
    "pd.DataFrame(cm, index=('0_true','1_true'), columns=('0_pred','1_pred'))"
   ]
  },
  {
   "cell_type": "code",
   "execution_count": 25,
   "metadata": {},
   "outputs": [
    {
     "name": "stdout",
     "output_type": "stream",
     "text": [
      "              precision    recall  f1-score   support\n",
      "\n",
      "         0.0       0.99      0.99      0.99     20012\n",
      "         1.0       0.95      0.91      0.93      2227\n",
      "\n",
      "    accuracy                           0.99     22239\n",
      "   macro avg       0.97      0.95      0.96     22239\n",
      "weighted avg       0.99      0.99      0.99     22239\n",
      "\n"
     ]
    }
   ],
   "source": [
    "# Podemos ver un informe más completo del clasificador con la métrica classification_report:\n",
    "print(classification_report(y_test, randomForestUnderPca_pred))"
   ]
  },
  {
   "cell_type": "markdown",
   "metadata": {},
   "source": [
    "donde,  \n",
    "`precision` es la especificidad: TP/(TP+FN) (positivos predichos sobre el total de positivos)  \n",
    "`recall` es el Valor predictivo positivo: TP/(TP+FP) (acierto de los predichos como positivos)  \n",
    "`support` indica el número de muestras en cada clase en el conjunto de test (suma por filas en la matriz de confusión)"
   ]
  },
  {
   "cell_type": "code",
   "execution_count": 26,
   "metadata": {},
   "outputs": [
    {
     "data": {
      "image/png": "[encoded data removed]",
      "text/plain": [
       "<Figure size 432x288 with 1 Axes>"
      ]
     },
     "metadata": {
      "needs_background": "light"
     },
     "output_type": "display_data"
    }
   ],
   "source": [
    "# Área bajo la curva ROC:  \n",
    "    # Para calcular el área bajo la curva ROC (AUC) es necesario obtener\n",
    "    # la probabilidad de salida del clasificador con `predict_proba`\n",
    "prediccion_prob = randomForestUnderPca.predict_proba(X_test)\n",
    "#la primera columna corresponde a la etiqueta 'N'\n",
    "#Es necesario convertir los True Labels a un array lógico (1 para etiqueta N)\n",
    "roc_auc_score((y_test==0), prediccion_prob[:,0])\n",
    "\n",
    "probs = randomForestUnderPca.predict_proba(X_test)\n",
    "preds = probs[:,1]\n",
    "fpr, tpr, threshold = metrics.roc_curve(y_test, preds)\n",
    "roc_auc = metrics.auc(fpr, tpr)\n",
    "\n",
    "plt.title('Receiver Operating Characteristic')\n",
    "plt.plot(fpr, tpr, 'b', label = 'AUC = %0.2f' % roc_auc)\n",
    "plt.legend(loc = 'lower right')\n",
    "plt.plot([0, 1], [0, 1],'r--')\n",
    "plt.xlim([0, 1])\n",
    "plt.ylim([0, 1])\n",
    "plt.ylabel('True Positive Rate')\n",
    "plt.xlabel('False Positive Rate')\n",
    "plt.show()"
   ]
  },
  {
   "cell_type": "markdown",
   "metadata": {},
   "source": [
    "### Clasificación de nuevos valores \n",
    "Aplicamos el modelo al dataframe de evaluación:"
   ]
  },
  {
   "cell_type": "code",
   "execution_count": 27,
   "metadata": {},
   "outputs": [],
   "source": [
    "# Para iniciar con el modelo, separamos en X las variables independientes y en Y la variable dependiente:\n",
    "evaly = evalPca.loc[:, 'isFraud'].values\n",
    "evalX = evalPca.drop(columns=['isFraud']).values"
   ]
  },
  {
   "cell_type": "code",
   "execution_count": 28,
   "metadata": {},
   "outputs": [
    {
     "data": {
      "text/plain": [
       "0.994275"
      ]
     },
     "execution_count": 28,
     "metadata": {},
     "output_type": "execute_result"
    }
   ],
   "source": [
    "# Aplicamos el modelo\n",
    "randomForestUnderPca.score(evalX, evaly)"
   ]
  },
  {
   "cell_type": "code",
   "execution_count": 29,
   "metadata": {},
   "outputs": [],
   "source": [
    "# Calculamos la predicción\n",
    "predEval = randomForestUnderPca.predict(evalX)"
   ]
  },
  {
   "cell_type": "code",
   "execution_count": 30,
   "metadata": {},
   "outputs": [
    {
     "data": {
      "text/html": [
       "<div>\n",
       "<style scoped>\n",
       "    .dataframe tbody tr th:only-of-type {\n",
       "        vertical-align: middle;\n",
       "    }\n",
       "\n",
       "    .dataframe tbody tr th {\n",
       "        vertical-align: top;\n",
       "    }\n",
       "\n",
       "    .dataframe thead th {\n",
       "        text-align: right;\n",
       "    }\n",
       "</style>\n",
       "<table border=\"1\" class=\"dataframe\">\n",
       "  <thead>\n",
       "    <tr style=\"text-align: right;\">\n",
       "      <th></th>\n",
       "      <th>0_pred</th>\n",
       "      <th>1_pred</th>\n",
       "    </tr>\n",
       "  </thead>\n",
       "  <tbody>\n",
       "    <tr>\n",
       "      <th>0_true</th>\n",
       "      <td>78815</td>\n",
       "      <td>385</td>\n",
       "    </tr>\n",
       "    <tr>\n",
       "      <th>1_true</th>\n",
       "      <td>73</td>\n",
       "      <td>727</td>\n",
       "    </tr>\n",
       "  </tbody>\n",
       "</table>\n",
       "</div>"
      ],
      "text/plain": [
       "        0_pred  1_pred\n",
       "0_true   78815     385\n",
       "1_true      73     727"
      ]
     },
     "execution_count": 30,
     "metadata": {},
     "output_type": "execute_result"
    }
   ],
   "source": [
    "# Matriz de confusión\n",
    "cm=confusion_matrix(evaly, predEval)\n",
    "pd.DataFrame(cm, index=('0_true','1_true'), columns=('0_pred','1_pred'))"
   ]
  },
  {
   "cell_type": "code",
   "execution_count": 31,
   "metadata": {},
   "outputs": [
    {
     "name": "stdout",
     "output_type": "stream",
     "text": [
      "              precision    recall  f1-score   support\n",
      "\n",
      "         0.0       1.00      1.00      1.00     79200\n",
      "         1.0       0.65      0.91      0.76       800\n",
      "\n",
      "    accuracy                           0.99     80000\n",
      "   macro avg       0.83      0.95      0.88     80000\n",
      "weighted avg       1.00      0.99      0.99     80000\n",
      "\n"
     ]
    }
   ],
   "source": [
    "pru = np.where(predEval > 0.4,1,0)\n",
    "print(classification_report(evaly, pru))"
   ]
  },
  {
   "cell_type": "code",
   "execution_count": 32,
   "metadata": {},
   "outputs": [
    {
     "data": {
      "image/png": "[encoded data removed]",
      "text/plain": [
       "<Figure size 432x288 with 1 Axes>"
      ]
     },
     "metadata": {
      "needs_background": "light"
     },
     "output_type": "display_data"
    }
   ],
   "source": [
    "# Curva ROC\n",
    "probs_eval = randomForestUnderPca.predict_proba(evalX)\n",
    "preds_eval = probs_eval[:,1]\n",
    "fpr_eval, tpr_eval, threshold_eval = metrics.roc_curve(evaly, preds_eval)\n",
    "roc_auc_eval = metrics.auc(fpr_eval, tpr_eval)\n",
    "\n",
    "plt.title('Receiver Operating Characteristic')\n",
    "plt.plot(fpr_eval, tpr_eval, 'b', label = 'AUC = %0.2f' % roc_auc_eval)\n",
    "plt.legend(loc = 'lower right')\n",
    "plt.plot([0, 1], [0, 1],'r--')\n",
    "plt.xlim([0, 1])\n",
    "plt.ylim([0, 1])\n",
    "plt.ylabel('True Positive Rate')\n",
    "plt.xlabel('False Positive Rate')\n",
    "plt.show()"
   ]
  },
  {
   "cell_type": "markdown",
   "metadata": {},
   "source": [
    "## Guardamos la predicción\n",
    "Guardamos la predicción realizada en el dataframe de Evaluación:"
   ]
  },
  {
   "cell_type": "code",
   "execution_count": 21,
   "metadata": {},
   "outputs": [
    {
     "data": {
      "text/html": [
       "<div>\n",
       "<style scoped>\n",
       "    .dataframe tbody tr th:only-of-type {\n",
       "        vertical-align: middle;\n",
       "    }\n",
       "\n",
       "    .dataframe tbody tr th {\n",
       "        vertical-align: top;\n",
       "    }\n",
       "\n",
       "    .dataframe thead th {\n",
       "        text-align: right;\n",
       "    }\n",
       "</style>\n",
       "<table border=\"1\" class=\"dataframe\">\n",
       "  <thead>\n",
       "    <tr style=\"text-align: right;\">\n",
       "      <th></th>\n",
       "      <th>PC0</th>\n",
       "      <th>PC1</th>\n",
       "      <th>PC2</th>\n",
       "      <th>PC3</th>\n",
       "      <th>isFraud</th>\n",
       "      <th>RFUnderPCA_pred</th>\n",
       "    </tr>\n",
       "  </thead>\n",
       "  <tbody>\n",
       "    <tr>\n",
       "      <td>0</td>\n",
       "      <td>-2.100031e+06</td>\n",
       "      <td>4.656290e+05</td>\n",
       "      <td>20430.461566</td>\n",
       "      <td>-9.374458e+04</td>\n",
       "      <td>1.0</td>\n",
       "      <td>1.0</td>\n",
       "    </tr>\n",
       "    <tr>\n",
       "      <td>1</td>\n",
       "      <td>2.429940e+06</td>\n",
       "      <td>1.029284e+07</td>\n",
       "      <td>599933.978468</td>\n",
       "      <td>-1.412732e+06</td>\n",
       "      <td>1.0</td>\n",
       "      <td>1.0</td>\n",
       "    </tr>\n",
       "    <tr>\n",
       "      <td>2</td>\n",
       "      <td>-2.071870e+06</td>\n",
       "      <td>6.522836e+05</td>\n",
       "      <td>35366.030956</td>\n",
       "      <td>-1.175537e+05</td>\n",
       "      <td>1.0</td>\n",
       "      <td>1.0</td>\n",
       "    </tr>\n",
       "    <tr>\n",
       "      <td>3</td>\n",
       "      <td>-2.549971e+06</td>\n",
       "      <td>-2.140229e+05</td>\n",
       "      <td>-132302.820399</td>\n",
       "      <td>-6.358643e+04</td>\n",
       "      <td>1.0</td>\n",
       "      <td>1.0</td>\n",
       "    </tr>\n",
       "    <tr>\n",
       "      <td>4</td>\n",
       "      <td>-2.545410e+06</td>\n",
       "      <td>-1.153373e+05</td>\n",
       "      <td>-179789.156408</td>\n",
       "      <td>-1.053899e+05</td>\n",
       "      <td>1.0</td>\n",
       "      <td>1.0</td>\n",
       "    </tr>\n",
       "  </tbody>\n",
       "</table>\n",
       "</div>"
      ],
      "text/plain": [
       "            PC0           PC1            PC2           PC3  isFraud  \\\n",
       "0 -2.100031e+06  4.656290e+05   20430.461566 -9.374458e+04      1.0   \n",
       "1  2.429940e+06  1.029284e+07  599933.978468 -1.412732e+06      1.0   \n",
       "2 -2.071870e+06  6.522836e+05   35366.030956 -1.175537e+05      1.0   \n",
       "3 -2.549971e+06 -2.140229e+05 -132302.820399 -6.358643e+04      1.0   \n",
       "4 -2.545410e+06 -1.153373e+05 -179789.156408 -1.053899e+05      1.0   \n",
       "\n",
       "   RFUnderPCA_pred  \n",
       "0              1.0  \n",
       "1              1.0  \n",
       "2              1.0  \n",
       "3              1.0  \n",
       "4              1.0  "
      ]
     },
     "execution_count": 21,
     "metadata": {},
     "output_type": "execute_result"
    }
   ],
   "source": [
    "predRF = pd.DataFrame(predEval, columns = [\"RFUnderPCA_pred\"])\n",
    "modelResult = pd.concat([evalPca, predRF[\"RFUnderPCA_pred\"]],axis = 1)\n",
    "modelResult.head()"
   ]
  },
  {
   "cell_type": "code",
   "execution_count": 22,
   "metadata": {},
   "outputs": [
    {
     "data": {
      "text/html": [
       "<div>\n",
       "<style scoped>\n",
       "    .dataframe tbody tr th:only-of-type {\n",
       "        vertical-align: middle;\n",
       "    }\n",
       "\n",
       "    .dataframe tbody tr th {\n",
       "        vertical-align: top;\n",
       "    }\n",
       "\n",
       "    .dataframe thead th {\n",
       "        text-align: right;\n",
       "    }\n",
       "</style>\n",
       "<table border=\"1\" class=\"dataframe\">\n",
       "  <thead>\n",
       "    <tr style=\"text-align: right;\">\n",
       "      <th>RFUnderPCA_pred</th>\n",
       "      <th>0.0</th>\n",
       "      <th>1.0</th>\n",
       "      <th>All</th>\n",
       "    </tr>\n",
       "    <tr>\n",
       "      <th>isFraud</th>\n",
       "      <th></th>\n",
       "      <th></th>\n",
       "      <th></th>\n",
       "    </tr>\n",
       "  </thead>\n",
       "  <tbody>\n",
       "    <tr>\n",
       "      <td>0.0</td>\n",
       "      <td>78727</td>\n",
       "      <td>473</td>\n",
       "      <td>79200</td>\n",
       "    </tr>\n",
       "    <tr>\n",
       "      <td>1.0</td>\n",
       "      <td>82</td>\n",
       "      <td>718</td>\n",
       "      <td>800</td>\n",
       "    </tr>\n",
       "    <tr>\n",
       "      <td>All</td>\n",
       "      <td>78809</td>\n",
       "      <td>1191</td>\n",
       "      <td>80000</td>\n",
       "    </tr>\n",
       "  </tbody>\n",
       "</table>\n",
       "</div>"
      ],
      "text/plain": [
       "RFUnderPCA_pred    0.0   1.0    All\n",
       "isFraud                            \n",
       "0.0              78727   473  79200\n",
       "1.0                 82   718    800\n",
       "All              78809  1191  80000"
      ]
     },
     "execution_count": 22,
     "metadata": {},
     "output_type": "execute_result"
    }
   ],
   "source": [
    "pd.crosstab(index=modelResult['isFraud'],columns=modelResult['RFUnderPCA_pred'], margins=True)"
   ]
  }
 ],
 "metadata": {
  "kernelspec": {
   "display_name": "Python 3",
   "language": "python",
   "name": "python3"
  },
  "language_info": {
   "codemirror_mode": {
    "name": "ipython",
    "version": 3
   },
   "file_extension": ".py",
   "mimetype": "text/x-python",
   "name": "python",
   "nbconvert_exporter": "python",
   "pygments_lexer": "ipython3",
   "version": "3.7.7"
  }
 },
 "nbformat": 4,
 "nbformat_minor": 2
}
