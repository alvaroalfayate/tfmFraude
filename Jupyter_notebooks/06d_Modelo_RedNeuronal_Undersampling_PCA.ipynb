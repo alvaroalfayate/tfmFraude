{
 "cells": [
  {
   "cell_type": "markdown",
   "metadata": {},
   "source": [
    "<img src=\"mbit_logo.png\" alt=\"drawing\" align=\"right\" style=\"float\" width=\"150\" height=\"150\"/>\n",
    "\n",
    "<font color=\"#D31525\"><h3 align=\"left\">Detección de fraude en transacciones financieras</h3></font>\n",
    "<font color=\"#2C3E50\"><h3 align=\"left\"> RED NEURONAL + PCA + UNDERSAMPLING </h3></font>"
   ]
  },
  {
   "cell_type": "markdown",
   "metadata": {},
   "source": [
    "## Importar librerias\n",
    "En esta primera parte del código, se realizan las llamadas a las librerías que se utilizarán en el Notebook:"
   ]
  },
  {
   "cell_type": "code",
   "execution_count": 6,
   "metadata": {},
   "outputs": [],
   "source": [
    "# Paquetes de manipulación de datos\n",
    "import pandas as pd\n",
    "import numpy as np\n",
    "import boto3\n",
    "\n",
    "# Paquetes de visualización\n",
    "import matplotlib.pyplot as plt\n",
    "import seaborn as sns\n",
    "\n",
    "# Paquetes para normalizar los resultados\n",
    "from sklearn.preprocessing import StandardScaler\n",
    "from sklearn.pipeline      import make_pipeline\n",
    "\n",
    "# Paquetes para aplicar el modelo: Red neuronal\n",
    "from sklearn.model_selection import GridSearchCV           # grid de parámetros definido\n",
    "from sklearn.model_selection import RandomizedSearchCV     # grid de parámetros aleatorios sobre una determinada\n",
    "import sklearn.metrics as metrics\n",
    "from sklearn.metrics import classification_report\n",
    "from sklearn.metrics import confusion_matrix\n",
    "from sklearn.model_selection import cross_validate\n",
    "from sklearn.metrics import roc_auc_score\n",
    "from sklearn.model_selection import train_test_split\n",
    "from sklearn.neural_network import MLPClassifier"
   ]
  },
  {
   "cell_type": "markdown",
   "metadata": {},
   "source": [
    "## Importar DataSets\n",
    "Importamos los datasets Train-Test y Evaluación para los que se ha aplicado PCA y submuestreo para ajustar la distribución de la clase mayoritaria."
   ]
  },
  {
   "cell_type": "code",
   "execution_count": 7,
   "metadata": {},
   "outputs": [],
   "source": [
    "s3 = boto3.client(\"s3\")\n",
    "\n",
    "# Seleccionamos el bucket con el que vamos a trabajar\n",
    "BUCKET_NAME = 'tfmfraud'"
   ]
  },
  {
   "cell_type": "markdown",
   "metadata": {},
   "source": [
    "## TrainTest"
   ]
  },
  {
   "cell_type": "code",
   "execution_count": 8,
   "metadata": {},
   "outputs": [],
   "source": [
    "# Descargamos el fichero del bucket de s3 a la máquina EC2 para poder trabajar con él.\n",
    "s3.download_file(Bucket = BUCKET_NAME, Key = 'train_test_under_pca.csv',Filename = '/tmp/train_test_under_pca.csv')"
   ]
  },
  {
   "cell_type": "code",
   "execution_count": 9,
   "metadata": {},
   "outputs": [],
   "source": [
    "#Leemos el fichero y lo metemos en un dataframe.\n",
    "trainTestPca = pd.read_csv('/tmp/train_test_under_pca.csv', dtype={'rank':'category'})"
   ]
  },
  {
   "cell_type": "code",
   "execution_count": 10,
   "metadata": {},
   "outputs": [
    {
     "name": "stdout",
     "output_type": "stream",
     "text": [
      "(74130, 5)\n"
     ]
    }
   ],
   "source": [
    "print (trainTestPca.shape)"
   ]
  },
  {
   "cell_type": "code",
   "execution_count": 11,
   "metadata": {},
   "outputs": [
    {
     "data": {
      "text/html": [
       "<div>\n",
       "<style scoped>\n",
       "    .dataframe tbody tr th:only-of-type {\n",
       "        vertical-align: middle;\n",
       "    }\n",
       "\n",
       "    .dataframe tbody tr th {\n",
       "        vertical-align: top;\n",
       "    }\n",
       "\n",
       "    .dataframe thead th {\n",
       "        text-align: right;\n",
       "    }\n",
       "</style>\n",
       "<table border=\"1\" class=\"dataframe\">\n",
       "  <thead>\n",
       "    <tr style=\"text-align: right;\">\n",
       "      <th></th>\n",
       "      <th>PC0</th>\n",
       "      <th>PC1</th>\n",
       "      <th>PC2</th>\n",
       "      <th>PC3</th>\n",
       "      <th>isFraud</th>\n",
       "    </tr>\n",
       "  </thead>\n",
       "  <tbody>\n",
       "    <tr>\n",
       "      <th>0</th>\n",
       "      <td>-2.568416e+06</td>\n",
       "      <td>-418753.356792</td>\n",
       "      <td>-26107.093843</td>\n",
       "      <td>36123.614588</td>\n",
       "      <td>1.0</td>\n",
       "    </tr>\n",
       "    <tr>\n",
       "      <th>1</th>\n",
       "      <td>-2.556271e+06</td>\n",
       "      <td>-435297.382974</td>\n",
       "      <td>-7558.987926</td>\n",
       "      <td>28869.723793</td>\n",
       "      <td>1.0</td>\n",
       "    </tr>\n",
       "    <tr>\n",
       "      <th>2</th>\n",
       "      <td>-2.568229e+06</td>\n",
       "      <td>-415170.264690</td>\n",
       "      <td>-23825.616824</td>\n",
       "      <td>34557.111152</td>\n",
       "      <td>1.0</td>\n",
       "    </tr>\n",
       "    <tr>\n",
       "      <th>3</th>\n",
       "      <td>-2.553205e+06</td>\n",
       "      <td>-435635.120416</td>\n",
       "      <td>-881.727142</td>\n",
       "      <td>25584.094128</td>\n",
       "      <td>1.0</td>\n",
       "    </tr>\n",
       "    <tr>\n",
       "      <th>4</th>\n",
       "      <td>-2.566995e+06</td>\n",
       "      <td>-391525.951775</td>\n",
       "      <td>-8770.475899</td>\n",
       "      <td>24219.978765</td>\n",
       "      <td>1.0</td>\n",
       "    </tr>\n",
       "  </tbody>\n",
       "</table>\n",
       "</div>"
      ],
      "text/plain": [
       "            PC0            PC1           PC2           PC3  isFraud\n",
       "0 -2.568416e+06 -418753.356792 -26107.093843  36123.614588      1.0\n",
       "1 -2.556271e+06 -435297.382974  -7558.987926  28869.723793      1.0\n",
       "2 -2.568229e+06 -415170.264690 -23825.616824  34557.111152      1.0\n",
       "3 -2.553205e+06 -435635.120416   -881.727142  25584.094128      1.0\n",
       "4 -2.566995e+06 -391525.951775  -8770.475899  24219.978765      1.0"
      ]
     },
     "execution_count": 11,
     "metadata": {},
     "output_type": "execute_result"
    }
   ],
   "source": [
    "trainTestPca.head()"
   ]
  },
  {
   "cell_type": "code",
   "execution_count": 12,
   "metadata": {},
   "outputs": [
    {
     "data": {
      "text/plain": [
       "0.0    66717\n",
       "1.0     7413\n",
       "Name: isFraud, dtype: int64"
      ]
     },
     "execution_count": 12,
     "metadata": {},
     "output_type": "execute_result"
    }
   ],
   "source": [
    "pd.value_counts(trainTestPca['isFraud'])"
   ]
  },
  {
   "cell_type": "code",
   "execution_count": 13,
   "metadata": {},
   "outputs": [],
   "source": [
    "# Eliminar el fichero de la ruta tmp de la máquina EC2 para no ocupar espacio.\n",
    "!rm /tmp/train_test_under_pca.csv"
   ]
  },
  {
   "cell_type": "markdown",
   "metadata": {},
   "source": [
    "## Evaluacion"
   ]
  },
  {
   "cell_type": "code",
   "execution_count": 14,
   "metadata": {},
   "outputs": [],
   "source": [
    "# Descargamos el fichero del bucket de s3 a la máquina EC2 para poder trabajar con él.\n",
    "s3.download_file(Bucket = BUCKET_NAME, Key = 'eval_under_pca.csv',Filename = '/tmp/eval_under_pca.csv')"
   ]
  },
  {
   "cell_type": "code",
   "execution_count": 15,
   "metadata": {},
   "outputs": [],
   "source": [
    "#Leemos el fichero y lo metemos en un dataframe.\n",
    "evalPca = pd.read_csv('/tmp/eval_under_pca.csv', dtype={'rank':'category'})"
   ]
  },
  {
   "cell_type": "code",
   "execution_count": 16,
   "metadata": {},
   "outputs": [
    {
     "name": "stdout",
     "output_type": "stream",
     "text": [
      "(80000, 5)\n"
     ]
    }
   ],
   "source": [
    "print (evalPca.shape)"
   ]
  },
  {
   "cell_type": "code",
   "execution_count": 17,
   "metadata": {
    "scrolled": true
   },
   "outputs": [
    {
     "data": {
      "text/html": [
       "<div>\n",
       "<style scoped>\n",
       "    .dataframe tbody tr th:only-of-type {\n",
       "        vertical-align: middle;\n",
       "    }\n",
       "\n",
       "    .dataframe tbody tr th {\n",
       "        vertical-align: top;\n",
       "    }\n",
       "\n",
       "    .dataframe thead th {\n",
       "        text-align: right;\n",
       "    }\n",
       "</style>\n",
       "<table border=\"1\" class=\"dataframe\">\n",
       "  <thead>\n",
       "    <tr style=\"text-align: right;\">\n",
       "      <th></th>\n",
       "      <th>PC0</th>\n",
       "      <th>PC1</th>\n",
       "      <th>PC2</th>\n",
       "      <th>PC3</th>\n",
       "      <th>isFraud</th>\n",
       "    </tr>\n",
       "  </thead>\n",
       "  <tbody>\n",
       "    <tr>\n",
       "      <th>0</th>\n",
       "      <td>-2.440498e+06</td>\n",
       "      <td>2.032612e+06</td>\n",
       "      <td>1.534761e+06</td>\n",
       "      <td>-1.035596e+06</td>\n",
       "      <td>1.0</td>\n",
       "    </tr>\n",
       "    <tr>\n",
       "      <th>1</th>\n",
       "      <td>-1.555564e+06</td>\n",
       "      <td>-3.347021e+05</td>\n",
       "      <td>5.046703e+04</td>\n",
       "      <td>6.319293e+03</td>\n",
       "      <td>1.0</td>\n",
       "    </tr>\n",
       "    <tr>\n",
       "      <th>2</th>\n",
       "      <td>-2.550707e+06</td>\n",
       "      <td>-7.939223e+04</td>\n",
       "      <td>1.899757e+05</td>\n",
       "      <td>-1.122428e+05</td>\n",
       "      <td>1.0</td>\n",
       "    </tr>\n",
       "    <tr>\n",
       "      <th>3</th>\n",
       "      <td>-8.871237e+05</td>\n",
       "      <td>2.460477e+06</td>\n",
       "      <td>1.405758e+05</td>\n",
       "      <td>-3.504298e+05</td>\n",
       "      <td>1.0</td>\n",
       "    </tr>\n",
       "    <tr>\n",
       "      <th>4</th>\n",
       "      <td>-2.558167e+06</td>\n",
       "      <td>-2.223525e+05</td>\n",
       "      <td>9.894805e+04</td>\n",
       "      <td>-4.974151e+04</td>\n",
       "      <td>1.0</td>\n",
       "    </tr>\n",
       "  </tbody>\n",
       "</table>\n",
       "</div>"
      ],
      "text/plain": [
       "            PC0           PC1           PC2           PC3  isFraud\n",
       "0 -2.440498e+06  2.032612e+06  1.534761e+06 -1.035596e+06      1.0\n",
       "1 -1.555564e+06 -3.347021e+05  5.046703e+04  6.319293e+03      1.0\n",
       "2 -2.550707e+06 -7.939223e+04  1.899757e+05 -1.122428e+05      1.0\n",
       "3 -8.871237e+05  2.460477e+06  1.405758e+05 -3.504298e+05      1.0\n",
       "4 -2.558167e+06 -2.223525e+05  9.894805e+04 -4.974151e+04      1.0"
      ]
     },
     "execution_count": 17,
     "metadata": {},
     "output_type": "execute_result"
    }
   ],
   "source": [
    "evalPca.head()"
   ]
  },
  {
   "cell_type": "code",
   "execution_count": 18,
   "metadata": {},
   "outputs": [
    {
     "data": {
      "text/plain": [
       "0.0    79200\n",
       "1.0      800\n",
       "Name: isFraud, dtype: int64"
      ]
     },
     "execution_count": 18,
     "metadata": {},
     "output_type": "execute_result"
    }
   ],
   "source": [
    "pd.value_counts(evalPca['isFraud'])"
   ]
  },
  {
   "cell_type": "code",
   "execution_count": 19,
   "metadata": {},
   "outputs": [],
   "source": [
    "# Eliminar el fichero de la ruta tmp de la máquina EC2 para no ocupar espacio.\n",
    "!rm /tmp/eval_under_pca.csv"
   ]
  },
  {
   "cell_type": "markdown",
   "metadata": {},
   "source": [
    "## Red de Neuronas\n",
    "En este caso, para aplicar una red neuronal, vamos a normalizar los datos para mejorar los resultados:"
   ]
  },
  {
   "cell_type": "markdown",
   "metadata": {},
   "source": [
    "### Entrenamiento y test del modelo"
   ]
  },
  {
   "cell_type": "code",
   "execution_count": 20,
   "metadata": {},
   "outputs": [],
   "source": [
    "## Para iniciar con el modelo, separamos en X las variables independientes y en Y la variable dependiente:\n",
    "y = trainTestPca.loc[:, 'isFraud'].values\n",
    "X = trainTestPca.drop(columns=['isFraud']).values"
   ]
  },
  {
   "cell_type": "code",
   "execution_count": 21,
   "metadata": {},
   "outputs": [
    {
     "data": {
      "text/plain": [
       "((51891, 4), (22239, 4), (51891,), (22239,))"
      ]
     },
     "execution_count": 21,
     "metadata": {},
     "output_type": "execute_result"
    }
   ],
   "source": [
    "# Creamos los conjuntos de entrenamiento y test:\n",
    "seed = 7\n",
    "X_train, X_test, y_train, y_test = train_test_split(X, y, test_size=0.3, random_state=seed)\n",
    "\n",
    "# Verificamos los tamaños de los df:\n",
    "X_train.shape, X_test.shape, y_train.shape, y_test.shape"
   ]
  },
  {
   "cell_type": "markdown",
   "metadata": {},
   "source": [
    "En una red neuronal, la Función de Activación de un nodo define la salida de un nodo dada una entrada o un conjunto de entradas. Hemos probado las funciones de activación 'relu' y 'logistic' y para este caso, mediante la función de activación logistica obtenemos mejores resultados:"
   ]
  },
  {
   "cell_type": "code",
   "execution_count": 22,
   "metadata": {},
   "outputs": [],
   "source": [
    "# Configuramos una red de neuronas\n",
    "norm =StandardScaler()\n",
    "mlp=MLPClassifier(activation = 'logistic', \n",
    "                  solver='adam', \n",
    "                  alpha=1e-5,\n",
    "                  max_iter=500,\n",
    "                  hidden_layer_sizes=(3, 1), \n",
    "                  random_state=1, \n",
    "                  verbose=True,\n",
    "                 early_stopping =True)\n",
    "mlpUnderPca=make_pipeline(norm, mlp)"
   ]
  },
  {
   "cell_type": "code",
   "execution_count": 23,
   "metadata": {},
   "outputs": [
    {
     "name": "stdout",
     "output_type": "stream",
     "text": [
      "Iteration 1, loss = 0.75584163\n",
      "Validation score: 0.912139\n",
      "Iteration 2, loss = 0.57013521\n",
      "Validation score: 0.900000\n",
      "Iteration 3, loss = 0.44159830\n",
      "Validation score: 0.900000\n",
      "Iteration 4, loss = 0.37277594\n",
      "Validation score: 0.900000\n",
      "Iteration 5, loss = 0.33709318\n",
      "Validation score: 0.900000\n",
      "Iteration 6, loss = 0.31747431\n",
      "Validation score: 0.900000\n",
      "Iteration 7, loss = 0.30563605\n",
      "Validation score: 0.900000\n",
      "Iteration 8, loss = 0.29743016\n",
      "Validation score: 0.900000\n",
      "Iteration 9, loss = 0.29058542\n",
      "Validation score: 0.900000\n",
      "Iteration 10, loss = 0.28391236\n",
      "Validation score: 0.900000\n",
      "Iteration 11, loss = 0.27689898\n",
      "Validation score: 0.900000\n",
      "Iteration 12, loss = 0.26935583\n",
      "Validation score: 0.900000\n",
      "Validation score did not improve more than tol=0.000100 for 10 consecutive epochs. Stopping.\n"
     ]
    },
    {
     "data": {
      "text/plain": [
       "Pipeline(steps=[('standardscaler', StandardScaler()),\n",
       "                ('mlpclassifier',\n",
       "                 MLPClassifier(activation='logistic', alpha=1e-05,\n",
       "                               early_stopping=True, hidden_layer_sizes=(3, 1),\n",
       "                               max_iter=500, random_state=1, verbose=True))])"
      ]
     },
     "execution_count": 23,
     "metadata": {},
     "output_type": "execute_result"
    }
   ],
   "source": [
    "# Ajustar el modelo\n",
    "mlpUnderPca.fit(X_train, y_train)"
   ]
  },
  {
   "cell_type": "code",
   "execution_count": 24,
   "metadata": {},
   "outputs": [
    {
     "name": "stdout",
     "output_type": "stream",
     "text": [
      "              precision    recall  f1-score   support\n",
      "\n",
      "         0.0       0.91      1.00      0.95     20012\n",
      "         1.0       1.00      0.12      0.21      2227\n",
      "\n",
      "    accuracy                           0.91     22239\n",
      "   macro avg       0.96      0.56      0.58     22239\n",
      "weighted avg       0.92      0.91      0.88     22239\n",
      "\n",
      "                 Precicted No Default  Predicted Default\n",
      "True No Default                 20012                  0\n",
      "True Default                     1970                257\n"
     ]
    }
   ],
   "source": [
    "# Realizamos la predicción sobre el conjunto de test\n",
    "mlpUnderPca_pred=mlpUnderPca.predict(X_test)\n",
    "\n",
    "print(classification_report(y_test, mlpUnderPca_pred))\n",
    "\n",
    "conf=pd.DataFrame(\n",
    "    confusion_matrix(y_test, mlpUnderPca_pred),\n",
    "    columns=['Precicted No Default', 'Predicted Default'],\n",
    "    index  =['True No Default'     , 'True Default'     ]\n",
    ")\n",
    "print(conf)"
   ]
  },
  {
   "cell_type": "code",
   "execution_count": 25,
   "metadata": {},
   "outputs": [
    {
     "data": {
      "image/png": "[encoded data removed]",
      "text/plain": [
       "<Figure size 432x288 with 1 Axes>"
      ]
     },
     "metadata": {
      "needs_background": "light"
     },
     "output_type": "display_data"
    }
   ],
   "source": [
    "# Área bajo la curva ROC:  \n",
    "    # Para calcular el área bajo la curva ROC (AUC) es necesario obtener\n",
    "    # la probabilidad de salida del clasificador con `predict_proba`\n",
    "prediccion_prob = mlpUnderPca.predict_proba(X_test)\n",
    "#la primera columna corresponde a la etiqueta 'N'\n",
    "#Es necesario convertir los True Labels a un array lógico (1 para etiqueta N)\n",
    "roc_auc_score((y_test==0), prediccion_prob[:,0])\n",
    "\n",
    "probs = mlpUnderPca.predict_proba(X_test)\n",
    "preds = probs[:,1]\n",
    "fpr, tpr, threshold = metrics.roc_curve(y_test, preds)\n",
    "roc_auc = metrics.auc(fpr, tpr)\n",
    "\n",
    "plt.title('Receiver Operating Characteristic')\n",
    "plt.plot(fpr, tpr, 'b', label = 'AUC = %0.2f' % roc_auc)\n",
    "plt.legend(loc = 'lower right')\n",
    "plt.plot([0, 1], [0, 1],'r--')\n",
    "plt.xlim([0, 1])\n",
    "plt.ylim([0, 1])\n",
    "plt.ylabel('True Positive Rate')\n",
    "plt.xlabel('False Positive Rate')\n",
    "plt.show()"
   ]
  },
  {
   "cell_type": "markdown",
   "metadata": {},
   "source": [
    "### Clasificación de nuevos valores \n",
    "Aplicamos el modelo al dataframe de evaluación:"
   ]
  },
  {
   "cell_type": "code",
   "execution_count": 26,
   "metadata": {},
   "outputs": [],
   "source": [
    "# Para iniciar con el modelo, separamos en X las variables independientes y en Y la variable dependiente:\n",
    "evaly = evalPca.loc[:, 'isFraud'].values\n",
    "evalX = evalPca.drop(columns=['isFraud']).values"
   ]
  },
  {
   "cell_type": "code",
   "execution_count": 27,
   "metadata": {},
   "outputs": [
    {
     "data": {
      "text/plain": [
       "0.9914"
      ]
     },
     "execution_count": 27,
     "metadata": {},
     "output_type": "execute_result"
    }
   ],
   "source": [
    "# Aplicamos el modelo\n",
    "mlpUnderPca.score(evalX, evaly)"
   ]
  },
  {
   "cell_type": "code",
   "execution_count": 28,
   "metadata": {},
   "outputs": [],
   "source": [
    "# Calculamos la predicción\n",
    "predEval = mlpUnderPca.predict(evalX)"
   ]
  },
  {
   "cell_type": "code",
   "execution_count": 29,
   "metadata": {},
   "outputs": [
    {
     "data": {
      "text/html": [
       "<div>\n",
       "<style scoped>\n",
       "    .dataframe tbody tr th:only-of-type {\n",
       "        vertical-align: middle;\n",
       "    }\n",
       "\n",
       "    .dataframe tbody tr th {\n",
       "        vertical-align: top;\n",
       "    }\n",
       "\n",
       "    .dataframe thead th {\n",
       "        text-align: right;\n",
       "    }\n",
       "</style>\n",
       "<table border=\"1\" class=\"dataframe\">\n",
       "  <thead>\n",
       "    <tr style=\"text-align: right;\">\n",
       "      <th></th>\n",
       "      <th>0_pred</th>\n",
       "      <th>1_pred</th>\n",
       "    </tr>\n",
       "  </thead>\n",
       "  <tbody>\n",
       "    <tr>\n",
       "      <th>0_true</th>\n",
       "      <td>79200</td>\n",
       "      <td>0</td>\n",
       "    </tr>\n",
       "    <tr>\n",
       "      <th>1_true</th>\n",
       "      <td>688</td>\n",
       "      <td>112</td>\n",
       "    </tr>\n",
       "  </tbody>\n",
       "</table>\n",
       "</div>"
      ],
      "text/plain": [
       "        0_pred  1_pred\n",
       "0_true   79200       0\n",
       "1_true     688     112"
      ]
     },
     "execution_count": 29,
     "metadata": {},
     "output_type": "execute_result"
    }
   ],
   "source": [
    "# Matriz de confusión\n",
    "cm=confusion_matrix(evaly, predEval)\n",
    "pd.DataFrame(cm, index=('0_true','1_true'), columns=('0_pred','1_pred'))"
   ]
  },
  {
   "cell_type": "code",
   "execution_count": 30,
   "metadata": {},
   "outputs": [
    {
     "name": "stdout",
     "output_type": "stream",
     "text": [
      "              precision    recall  f1-score   support\n",
      "\n",
      "         0.0       0.99      1.00      1.00     79200\n",
      "         1.0       1.00      0.14      0.25       800\n",
      "\n",
      "    accuracy                           0.99     80000\n",
      "   macro avg       1.00      0.57      0.62     80000\n",
      "weighted avg       0.99      0.99      0.99     80000\n",
      "\n"
     ]
    }
   ],
   "source": [
    "pru = np.where(predEval > 0.4,1,0)\n",
    "print(classification_report(evaly, pru))"
   ]
  },
  {
   "cell_type": "code",
   "execution_count": 31,
   "metadata": {},
   "outputs": [
    {
     "data": {
      "image/png": "[encoded data removed]",
      "text/plain": [
       "<Figure size 432x288 with 1 Axes>"
      ]
     },
     "metadata": {
      "needs_background": "light"
     },
     "output_type": "display_data"
    }
   ],
   "source": [
    "# Curva ROC\n",
    "probs_eval = mlpUnderPca.predict_proba(evalX)\n",
    "preds_eval = probs_eval[:,1]\n",
    "fpr_eval, tpr_eval, threshold_eval = metrics.roc_curve(evaly, preds_eval)\n",
    "roc_auc_eval = metrics.auc(fpr_eval, tpr_eval)\n",
    "\n",
    "plt.title('Receiver Operating Characteristic')\n",
    "plt.plot(fpr_eval, tpr_eval, 'b', label = 'AUC = %0.2f' % roc_auc_eval)\n",
    "plt.legend(loc = 'lower right')\n",
    "plt.plot([0, 1], [0, 1],'r--')\n",
    "plt.xlim([0, 1])\n",
    "plt.ylim([0, 1])\n",
    "plt.ylabel('True Positive Rate')\n",
    "plt.xlabel('False Positive Rate')\n",
    "plt.show()"
   ]
  },
  {
   "cell_type": "markdown",
   "metadata": {},
   "source": [
    "## Guardamos la predicción\n",
    "Guardamos la predicción realizada en el dataframe de Evaluación:"
   ]
  },
  {
   "cell_type": "code",
   "execution_count": 18,
   "metadata": {},
   "outputs": [
    {
     "data": {
      "text/html": [
       "<div>\n",
       "<style scoped>\n",
       "    .dataframe tbody tr th:only-of-type {\n",
       "        vertical-align: middle;\n",
       "    }\n",
       "\n",
       "    .dataframe tbody tr th {\n",
       "        vertical-align: top;\n",
       "    }\n",
       "\n",
       "    .dataframe thead th {\n",
       "        text-align: right;\n",
       "    }\n",
       "</style>\n",
       "<table border=\"1\" class=\"dataframe\">\n",
       "  <thead>\n",
       "    <tr style=\"text-align: right;\">\n",
       "      <th></th>\n",
       "      <th>PC0</th>\n",
       "      <th>PC1</th>\n",
       "      <th>PC2</th>\n",
       "      <th>PC3</th>\n",
       "      <th>isFraud</th>\n",
       "      <th>NNUnderPCA_pred</th>\n",
       "    </tr>\n",
       "  </thead>\n",
       "  <tbody>\n",
       "    <tr>\n",
       "      <td>0</td>\n",
       "      <td>-2.100031e+06</td>\n",
       "      <td>4.656290e+05</td>\n",
       "      <td>20430.461566</td>\n",
       "      <td>-9.374458e+04</td>\n",
       "      <td>1.0</td>\n",
       "      <td>0.0</td>\n",
       "    </tr>\n",
       "    <tr>\n",
       "      <td>1</td>\n",
       "      <td>2.429940e+06</td>\n",
       "      <td>1.029284e+07</td>\n",
       "      <td>599933.978468</td>\n",
       "      <td>-1.412732e+06</td>\n",
       "      <td>1.0</td>\n",
       "      <td>1.0</td>\n",
       "    </tr>\n",
       "    <tr>\n",
       "      <td>2</td>\n",
       "      <td>-2.071870e+06</td>\n",
       "      <td>6.522836e+05</td>\n",
       "      <td>35366.030956</td>\n",
       "      <td>-1.175537e+05</td>\n",
       "      <td>1.0</td>\n",
       "      <td>0.0</td>\n",
       "    </tr>\n",
       "    <tr>\n",
       "      <td>3</td>\n",
       "      <td>-2.549971e+06</td>\n",
       "      <td>-2.140229e+05</td>\n",
       "      <td>-132302.820399</td>\n",
       "      <td>-6.358643e+04</td>\n",
       "      <td>1.0</td>\n",
       "      <td>0.0</td>\n",
       "    </tr>\n",
       "    <tr>\n",
       "      <td>4</td>\n",
       "      <td>-2.545410e+06</td>\n",
       "      <td>-1.153373e+05</td>\n",
       "      <td>-179789.156408</td>\n",
       "      <td>-1.053899e+05</td>\n",
       "      <td>1.0</td>\n",
       "      <td>0.0</td>\n",
       "    </tr>\n",
       "  </tbody>\n",
       "</table>\n",
       "</div>"
      ],
      "text/plain": [
       "            PC0           PC1            PC2           PC3  isFraud  \\\n",
       "0 -2.100031e+06  4.656290e+05   20430.461566 -9.374458e+04      1.0   \n",
       "1  2.429940e+06  1.029284e+07  599933.978468 -1.412732e+06      1.0   \n",
       "2 -2.071870e+06  6.522836e+05   35366.030956 -1.175537e+05      1.0   \n",
       "3 -2.549971e+06 -2.140229e+05 -132302.820399 -6.358643e+04      1.0   \n",
       "4 -2.545410e+06 -1.153373e+05 -179789.156408 -1.053899e+05      1.0   \n",
       "\n",
       "   NNUnderPCA_pred  \n",
       "0              0.0  \n",
       "1              1.0  \n",
       "2              0.0  \n",
       "3              0.0  \n",
       "4              0.0  "
      ]
     },
     "execution_count": 18,
     "metadata": {},
     "output_type": "execute_result"
    }
   ],
   "source": [
    "predNN = pd.DataFrame(predEval, columns = [\"NNUnderPCA_pred\"])\n",
    "modelResult = pd.concat([evalPca, predNN[\"NNUnderPCA_pred\"]],axis = 1)\n",
    "modelResult.head()"
   ]
  },
  {
   "cell_type": "code",
   "execution_count": 19,
   "metadata": {},
   "outputs": [
    {
     "data": {
      "text/html": [
       "<div>\n",
       "<style scoped>\n",
       "    .dataframe tbody tr th:only-of-type {\n",
       "        vertical-align: middle;\n",
       "    }\n",
       "\n",
       "    .dataframe tbody tr th {\n",
       "        vertical-align: top;\n",
       "    }\n",
       "\n",
       "    .dataframe thead th {\n",
       "        text-align: right;\n",
       "    }\n",
       "</style>\n",
       "<table border=\"1\" class=\"dataframe\">\n",
       "  <thead>\n",
       "    <tr style=\"text-align: right;\">\n",
       "      <th>NNUnderPCA_pred</th>\n",
       "      <th>0.0</th>\n",
       "      <th>1.0</th>\n",
       "      <th>All</th>\n",
       "    </tr>\n",
       "    <tr>\n",
       "      <th>isFraud</th>\n",
       "      <th></th>\n",
       "      <th></th>\n",
       "      <th></th>\n",
       "    </tr>\n",
       "  </thead>\n",
       "  <tbody>\n",
       "    <tr>\n",
       "      <td>0.0</td>\n",
       "      <td>79066</td>\n",
       "      <td>134</td>\n",
       "      <td>79200</td>\n",
       "    </tr>\n",
       "    <tr>\n",
       "      <td>1.0</td>\n",
       "      <td>711</td>\n",
       "      <td>89</td>\n",
       "      <td>800</td>\n",
       "    </tr>\n",
       "    <tr>\n",
       "      <td>All</td>\n",
       "      <td>79777</td>\n",
       "      <td>223</td>\n",
       "      <td>80000</td>\n",
       "    </tr>\n",
       "  </tbody>\n",
       "</table>\n",
       "</div>"
      ],
      "text/plain": [
       "NNUnderPCA_pred    0.0  1.0    All\n",
       "isFraud                           \n",
       "0.0              79066  134  79200\n",
       "1.0                711   89    800\n",
       "All              79777  223  80000"
      ]
     },
     "execution_count": 19,
     "metadata": {},
     "output_type": "execute_result"
    }
   ],
   "source": [
    "pd.crosstab(index=modelResult['isFraud'],columns=modelResult['NNUnderPCA_pred'], margins=True)"
   ]
  }
 ],
 "metadata": {
  "kernelspec": {
   "display_name": "Python 3",
   "language": "python",
   "name": "python3"
  },
  "language_info": {
   "codemirror_mode": {
    "name": "ipython",
    "version": 3
   },
   "file_extension": ".py",
   "mimetype": "text/x-python",
   "name": "python",
   "nbconvert_exporter": "python",
   "pygments_lexer": "ipython3",
   "version": "3.7.7"
  }
 },
 "nbformat": 4,
 "nbformat_minor": 2
}
