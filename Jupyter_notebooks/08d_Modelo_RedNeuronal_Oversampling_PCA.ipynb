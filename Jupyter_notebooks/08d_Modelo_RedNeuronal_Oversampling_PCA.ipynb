{
 "cells": [
  {
   "cell_type": "markdown",
   "metadata": {},
   "source": [
    "<img src=\"mbit_logo.png\" alt=\"drawing\" align=\"right\" style=\"float\" width=\"150\" height=\"150\"/>\n",
    "\n",
    "<font color=\"#D31525\"><h3 align=\"left\">Detección de fraude en transacciones financieras</h3></font>\n",
    "<font color=\"#2C3E50\"><h3 align=\"left\"> RED NEURONAL + PCA + UNDERSAMPLING </h3></font>"
   ]
  },
  {
   "cell_type": "markdown",
   "metadata": {},
   "source": [
    "## Importar librerias\n",
    "En esta primera parte del código, se realizan las llamadas a las librerías que se utilizarán en el Notebook:"
   ]
  },
  {
   "cell_type": "code",
   "execution_count": 1,
   "metadata": {},
   "outputs": [],
   "source": [
    "# Paquetes de manipulación de datos\n",
    "import pandas as pd\n",
    "import numpy as np\n",
    "import boto3\n",
    "\n",
    "# Paquetes de visualización\n",
    "import matplotlib.pyplot as plt\n",
    "import seaborn as sns\n",
    "\n",
    "# Paquetes para normalizar los resultados\n",
    "from sklearn.preprocessing import StandardScaler\n",
    "from sklearn.pipeline      import make_pipeline\n",
    "\n",
    "# Paquetes para aplicar el modelo: Red neuronal\n",
    "from sklearn.model_selection import GridSearchCV           # grid de parámetros definido\n",
    "from sklearn.model_selection import RandomizedSearchCV     # grid de parámetros aleatorios sobre una determinada\n",
    "import sklearn.metrics as metrics\n",
    "from sklearn.metrics import classification_report\n",
    "from sklearn.metrics import confusion_matrix\n",
    "from sklearn.model_selection import cross_validate\n",
    "from sklearn.metrics import roc_auc_score\n",
    "from sklearn.model_selection import train_test_split\n",
    "from sklearn.neural_network import MLPClassifier"
   ]
  },
  {
   "cell_type": "markdown",
   "metadata": {},
   "source": [
    "# Definición de funciones  \n",
    "A continuación, definimos una función que se encargará de hacer ajuste de parámetros del algoritmo, de acuerdo a los parámetros pasados como argumento, y que mostrará un informe con los resultados obtenidos."
   ]
  },
  {
   "cell_type": "code",
   "execution_count": 2,
   "metadata": {},
   "outputs": [],
   "source": [
    "def doGridSearch(model, grid, scores, X_train, y_train, X_test, y_test, columns, indices):\n",
    "    for score in scores:\n",
    "        print(\"# Tuning hyper-parameters for %s\" % score)\n",
    "        print()\n",
    "\n",
    "        clf=GridSearchCV(model, grid, cv=3, scoring='%s' % score, iid=False)\n",
    "        clf.fit(X_train, y_train)\n",
    "\n",
    "        print(\"Best parameters set found on development set:\")\n",
    "        print()\n",
    "        print(clf.best_params_)\n",
    "        print()\n",
    "        print(\"Grid scores on development set:\")\n",
    "        print()\n",
    "\n",
    "        means=clf.cv_results_['mean_test_score']\n",
    "        stds =clf.cv_results_['std_test_score']\n",
    "\n",
    "        for mean, std, params in zip(means, stds, clf.cv_results_['params']):\n",
    "            print(\"%0.3f (+/-%0.03f) for %r\" % (mean, std * 2, params))\n",
    "        print()\n",
    "\n",
    "        print(\"Detailed classification report:\")\n",
    "        print()\n",
    "        print(\"The model is trained on the full development set.\")\n",
    "        print(\"The scores are computed on the full evaluation set.\")\n",
    "        print()\n",
    "        y_true, y_pred = y_test, clf.predict(X_test)\n",
    "        print(classification_report(y_true, y_pred))\n",
    "        print()\n",
    "\n",
    "        conf=pd.DataFrame(\n",
    "            confusion_matrix(y_test, y_pred),\n",
    "            columns=columns,\n",
    "            index  =indices\n",
    "        )\n",
    "        print(conf)\n",
    "        \n",
    "        return clf.best_estimator_"
   ]
  },
  {
   "cell_type": "markdown",
   "metadata": {},
   "source": [
    "## Importar DataSets\n",
    "Importamos los datasets Train-Test y Evaluación para los que se ha aplicado PCA y submuestreo para ajustar la distribución de la clase mayoritaria."
   ]
  },
  {
   "cell_type": "code",
   "execution_count": 3,
   "metadata": {},
   "outputs": [],
   "source": [
    "s3 = boto3.client(\"s3\")\n",
    "\n",
    "# Seleccionamos el bucket con el que vamos a trabajar\n",
    "BUCKET_NAME = 'tfmfraud'"
   ]
  },
  {
   "cell_type": "markdown",
   "metadata": {},
   "source": [
    "## TrainTest"
   ]
  },
  {
   "cell_type": "code",
   "execution_count": 4,
   "metadata": {},
   "outputs": [],
   "source": [
    "# Descargamos el fichero del bucket de s3 a la máquina EC2 para poder trabajar con él.\n",
    "s3.download_file(Bucket = BUCKET_NAME, Key = 'train_test_over_pca.csv',Filename = '/tmp/train_test_over_pca.csv')"
   ]
  },
  {
   "cell_type": "code",
   "execution_count": 5,
   "metadata": {},
   "outputs": [],
   "source": [
    "#Leemos el fichero y lo metemos en un dataframe.\n",
    "trainTestPca = pd.read_csv('/tmp/train_test_over_pca.csv', dtype={'rank':'category'})"
   ]
  },
  {
   "cell_type": "code",
   "execution_count": 6,
   "metadata": {},
   "outputs": [
    {
     "name": "stdout",
     "output_type": "stream",
     "text": [
      "(470000, 5)\n"
     ]
    }
   ],
   "source": [
    "print (trainTestPca.shape)"
   ]
  },
  {
   "cell_type": "code",
   "execution_count": 7,
   "metadata": {},
   "outputs": [
    {
     "data": {
      "text/html": [
       "<div>\n",
       "<style scoped>\n",
       "    .dataframe tbody tr th:only-of-type {\n",
       "        vertical-align: middle;\n",
       "    }\n",
       "\n",
       "    .dataframe tbody tr th {\n",
       "        vertical-align: top;\n",
       "    }\n",
       "\n",
       "    .dataframe thead th {\n",
       "        text-align: right;\n",
       "    }\n",
       "</style>\n",
       "<table border=\"1\" class=\"dataframe\">\n",
       "  <thead>\n",
       "    <tr style=\"text-align: right;\">\n",
       "      <th></th>\n",
       "      <th>PC0</th>\n",
       "      <th>PC1</th>\n",
       "      <th>PC2</th>\n",
       "      <th>PC3</th>\n",
       "      <th>isFraud</th>\n",
       "    </tr>\n",
       "  </thead>\n",
       "  <tbody>\n",
       "    <tr>\n",
       "      <th>0</th>\n",
       "      <td>-2.587585e+06</td>\n",
       "      <td>-438516.040597</td>\n",
       "      <td>16731.941171</td>\n",
       "      <td>42054.210743</td>\n",
       "      <td>1.0</td>\n",
       "    </tr>\n",
       "    <tr>\n",
       "      <th>1</th>\n",
       "      <td>-2.575372e+06</td>\n",
       "      <td>-454458.727901</td>\n",
       "      <td>-2238.486050</td>\n",
       "      <td>34600.500662</td>\n",
       "      <td>1.0</td>\n",
       "    </tr>\n",
       "    <tr>\n",
       "      <th>2</th>\n",
       "      <td>-2.587410e+06</td>\n",
       "      <td>-434868.610206</td>\n",
       "      <td>14605.315321</td>\n",
       "      <td>40424.161792</td>\n",
       "      <td>1.0</td>\n",
       "    </tr>\n",
       "    <tr>\n",
       "      <th>3</th>\n",
       "      <td>-2.572303e+06</td>\n",
       "      <td>-454589.613548</td>\n",
       "      <td>-8860.983138</td>\n",
       "      <td>31203.969577</td>\n",
       "      <td>1.0</td>\n",
       "    </tr>\n",
       "    <tr>\n",
       "      <th>4</th>\n",
       "      <td>-2.586258e+06</td>\n",
       "      <td>-410799.738130</td>\n",
       "      <td>572.015144</td>\n",
       "      <td>29667.701638</td>\n",
       "      <td>1.0</td>\n",
       "    </tr>\n",
       "  </tbody>\n",
       "</table>\n",
       "</div>"
      ],
      "text/plain": [
       "            PC0            PC1           PC2           PC3  isFraud\n",
       "0 -2.587585e+06 -438516.040597  16731.941171  42054.210743      1.0\n",
       "1 -2.575372e+06 -454458.727901  -2238.486050  34600.500662      1.0\n",
       "2 -2.587410e+06 -434868.610206  14605.315321  40424.161792      1.0\n",
       "3 -2.572303e+06 -454589.613548  -8860.983138  31203.969577      1.0\n",
       "4 -2.586258e+06 -410799.738130    572.015144  29667.701638      1.0"
      ]
     },
     "execution_count": 7,
     "metadata": {},
     "output_type": "execute_result"
    }
   ],
   "source": [
    "trainTestPca.head()"
   ]
  },
  {
   "cell_type": "code",
   "execution_count": 8,
   "metadata": {},
   "outputs": [
    {
     "data": {
      "text/plain": [
       "0.0    420800\n",
       "1.0     49200\n",
       "Name: isFraud, dtype: int64"
      ]
     },
     "execution_count": 8,
     "metadata": {},
     "output_type": "execute_result"
    }
   ],
   "source": [
    "pd.value_counts(trainTestPca['isFraud'])"
   ]
  },
  {
   "cell_type": "code",
   "execution_count": 9,
   "metadata": {},
   "outputs": [],
   "source": [
    "# Eliminar el fichero de la ruta tmp de la máquina EC2 para no ocupar espacio.\n",
    "!rm /tmp/train_test_over_pca.csv"
   ]
  },
  {
   "cell_type": "markdown",
   "metadata": {},
   "source": [
    "## Evaluacion"
   ]
  },
  {
   "cell_type": "code",
   "execution_count": 10,
   "metadata": {},
   "outputs": [],
   "source": [
    "# Descargamos el fichero del bucket de s3 a la máquina EC2 para poder trabajar con él.\n",
    "s3.download_file(Bucket = BUCKET_NAME, Key = 'eval_over_pca.csv',Filename = '/tmp/eval_over_pca.csv')"
   ]
  },
  {
   "cell_type": "code",
   "execution_count": 11,
   "metadata": {},
   "outputs": [],
   "source": [
    "#Leemos el fichero y lo metemos en un dataframe.\n",
    "evalPca = pd.read_csv('/tmp/eval_over_pca.csv', dtype={'rank':'category'})"
   ]
  },
  {
   "cell_type": "code",
   "execution_count": 12,
   "metadata": {},
   "outputs": [
    {
     "name": "stdout",
     "output_type": "stream",
     "text": [
      "(80000, 5)\n"
     ]
    }
   ],
   "source": [
    "print (evalPca.shape)"
   ]
  },
  {
   "cell_type": "code",
   "execution_count": 13,
   "metadata": {
    "scrolled": true
   },
   "outputs": [
    {
     "data": {
      "text/html": [
       "<div>\n",
       "<style scoped>\n",
       "    .dataframe tbody tr th:only-of-type {\n",
       "        vertical-align: middle;\n",
       "    }\n",
       "\n",
       "    .dataframe tbody tr th {\n",
       "        vertical-align: top;\n",
       "    }\n",
       "\n",
       "    .dataframe thead th {\n",
       "        text-align: right;\n",
       "    }\n",
       "</style>\n",
       "<table border=\"1\" class=\"dataframe\">\n",
       "  <thead>\n",
       "    <tr style=\"text-align: right;\">\n",
       "      <th></th>\n",
       "      <th>PC0</th>\n",
       "      <th>PC1</th>\n",
       "      <th>PC2</th>\n",
       "      <th>PC3</th>\n",
       "      <th>isFraud</th>\n",
       "    </tr>\n",
       "  </thead>\n",
       "  <tbody>\n",
       "    <tr>\n",
       "      <th>0</th>\n",
       "      <td>5.207935e+06</td>\n",
       "      <td>1.624910e+07</td>\n",
       "      <td>-1.693150e+05</td>\n",
       "      <td>-2.303496e+06</td>\n",
       "      <td>1.0</td>\n",
       "    </tr>\n",
       "    <tr>\n",
       "      <th>1</th>\n",
       "      <td>-8.297775e+05</td>\n",
       "      <td>6.762575e+04</td>\n",
       "      <td>-9.888326e+04</td>\n",
       "      <td>-6.125622e+04</td>\n",
       "      <td>1.0</td>\n",
       "    </tr>\n",
       "    <tr>\n",
       "      <th>2</th>\n",
       "      <td>-2.422555e+06</td>\n",
       "      <td>3.008502e+06</td>\n",
       "      <td>-1.993044e+06</td>\n",
       "      <td>-1.498430e+06</td>\n",
       "      <td>1.0</td>\n",
       "    </tr>\n",
       "    <tr>\n",
       "      <th>3</th>\n",
       "      <td>-2.585197e+06</td>\n",
       "      <td>-3.886420e+05</td>\n",
       "      <td>-1.234703e+04</td>\n",
       "      <td>1.976531e+04</td>\n",
       "      <td>1.0</td>\n",
       "    </tr>\n",
       "    <tr>\n",
       "      <th>4</th>\n",
       "      <td>-2.585782e+06</td>\n",
       "      <td>-4.008621e+05</td>\n",
       "      <td>-5.222108e+03</td>\n",
       "      <td>2.522653e+04</td>\n",
       "      <td>1.0</td>\n",
       "    </tr>\n",
       "  </tbody>\n",
       "</table>\n",
       "</div>"
      ],
      "text/plain": [
       "            PC0           PC1           PC2           PC3  isFraud\n",
       "0  5.207935e+06  1.624910e+07 -1.693150e+05 -2.303496e+06      1.0\n",
       "1 -8.297775e+05  6.762575e+04 -9.888326e+04 -6.125622e+04      1.0\n",
       "2 -2.422555e+06  3.008502e+06 -1.993044e+06 -1.498430e+06      1.0\n",
       "3 -2.585197e+06 -3.886420e+05 -1.234703e+04  1.976531e+04      1.0\n",
       "4 -2.585782e+06 -4.008621e+05 -5.222108e+03  2.522653e+04      1.0"
      ]
     },
     "execution_count": 13,
     "metadata": {},
     "output_type": "execute_result"
    }
   ],
   "source": [
    "evalPca.head()"
   ]
  },
  {
   "cell_type": "code",
   "execution_count": 14,
   "metadata": {},
   "outputs": [
    {
     "data": {
      "text/plain": [
       "0.0    79200\n",
       "1.0      800\n",
       "Name: isFraud, dtype: int64"
      ]
     },
     "execution_count": 14,
     "metadata": {},
     "output_type": "execute_result"
    }
   ],
   "source": [
    "pd.value_counts(evalPca['isFraud'])"
   ]
  },
  {
   "cell_type": "code",
   "execution_count": 15,
   "metadata": {},
   "outputs": [],
   "source": [
    "# Eliminar el fichero de la ruta tmp de la máquina EC2 para no ocupar espacio.\n",
    "!rm /tmp/eval_over_pca.csv"
   ]
  },
  {
   "cell_type": "markdown",
   "metadata": {},
   "source": [
    "## Red de Neuronas\n",
    "En este caso, para aplicar una red neuronal, vamos a normalizar los datos para mejorar los resultados:"
   ]
  },
  {
   "cell_type": "markdown",
   "metadata": {},
   "source": [
    "### Entrenamiento y test del modelo"
   ]
  },
  {
   "cell_type": "code",
   "execution_count": 16,
   "metadata": {},
   "outputs": [],
   "source": [
    "# Para iniciar con el modelo, separamos en X las variables independientes y en Y la variable dependiente:\n",
    "y = trainTestPca.loc[:, 'isFraud'].values\n",
    "X = trainTestPca.drop(columns=['isFraud']).values"
   ]
  },
  {
   "cell_type": "code",
   "execution_count": 17,
   "metadata": {},
   "outputs": [
    {
     "data": {
      "text/plain": [
       "((329000, 4), (141000, 4), (329000,), (141000,))"
      ]
     },
     "execution_count": 17,
     "metadata": {},
     "output_type": "execute_result"
    }
   ],
   "source": [
    "# Creamos los conjuntos de entrenamiento y test:\n",
    "seed = 7\n",
    "X_train, X_test, y_train, y_test = train_test_split(X, y, test_size=0.3, random_state=seed)\n",
    "\n",
    "# Verificamos los tamaños de los df:\n",
    "X_train.shape, X_test.shape, y_train.shape, y_test.shape"
   ]
  },
  {
   "cell_type": "code",
   "execution_count": 18,
   "metadata": {},
   "outputs": [],
   "source": [
    "# Configuramos una red de neuronas\n",
    "norm =StandardScaler()\n",
    "mlp=MLPClassifier(solver='adam', alpha=1e-5, hidden_layer_sizes=(4, 1), random_state=1, verbose=True)\n",
    "mlpUnderPca=make_pipeline(norm, mlp)"
   ]
  },
  {
   "cell_type": "code",
   "execution_count": 19,
   "metadata": {},
   "outputs": [
    {
     "name": "stdout",
     "output_type": "stream",
     "text": [
      "Iteration 1, loss = 0.31626865\n",
      "Iteration 2, loss = 0.15737790\n",
      "Iteration 3, loss = 0.12957285\n",
      "Iteration 4, loss = 0.11386432\n",
      "Iteration 5, loss = 0.10091003\n",
      "Iteration 6, loss = 0.09042822\n",
      "Iteration 7, loss = 0.08259171\n",
      "Iteration 8, loss = 0.07692567\n",
      "Iteration 9, loss = 0.07294712\n",
      "Iteration 10, loss = 0.06997081\n",
      "Iteration 11, loss = 0.06764437\n",
      "Iteration 12, loss = 0.06580960\n",
      "Iteration 13, loss = 0.06426064\n",
      "Iteration 14, loss = 0.06292659\n",
      "Iteration 15, loss = 0.06175153\n",
      "Iteration 16, loss = 0.06068545\n",
      "Iteration 17, loss = 0.05963076\n",
      "Iteration 18, loss = 0.05874302\n",
      "Iteration 19, loss = 0.05792486\n",
      "Iteration 20, loss = 0.05711216\n",
      "Iteration 21, loss = 0.05640080\n",
      "Iteration 22, loss = 0.05577028\n",
      "Iteration 23, loss = 0.05515737\n",
      "Iteration 24, loss = 0.05451980\n",
      "Iteration 25, loss = 0.05416705\n",
      "Iteration 26, loss = 0.05366118\n",
      "Iteration 27, loss = 0.05320237\n",
      "Iteration 28, loss = 0.05264461\n",
      "Iteration 29, loss = 0.05252461\n",
      "Iteration 30, loss = 0.05192208\n",
      "Iteration 31, loss = 0.05157251\n",
      "Iteration 32, loss = 0.05121995\n",
      "Iteration 33, loss = 0.05102679\n",
      "Iteration 34, loss = 0.05052671\n",
      "Iteration 35, loss = 0.04958000\n",
      "Iteration 36, loss = 0.04836241\n",
      "Iteration 37, loss = 0.04736437\n",
      "Iteration 38, loss = 0.04696029\n",
      "Iteration 39, loss = 0.04680085\n",
      "Iteration 40, loss = 0.04647150\n",
      "Iteration 41, loss = 0.04588455\n",
      "Iteration 42, loss = 0.04552938\n",
      "Iteration 43, loss = 0.04492786\n",
      "Iteration 44, loss = 0.04435668\n",
      "Iteration 45, loss = 0.04401308\n",
      "Iteration 46, loss = 0.04373005\n",
      "Iteration 47, loss = 0.04325659\n",
      "Iteration 48, loss = 0.04318744\n",
      "Iteration 49, loss = 0.04252487\n",
      "Iteration 50, loss = 0.04269390\n",
      "Iteration 51, loss = 0.04235456\n",
      "Iteration 52, loss = 0.04215882\n",
      "Iteration 53, loss = 0.04165555\n",
      "Iteration 54, loss = 0.04173219\n",
      "Iteration 55, loss = 0.04105031\n",
      "Iteration 56, loss = 0.04076772\n",
      "Iteration 57, loss = 0.04045038\n",
      "Iteration 58, loss = 0.03999829\n",
      "Iteration 59, loss = 0.03976428\n",
      "Iteration 60, loss = 0.03960091\n",
      "Iteration 61, loss = 0.03910250\n",
      "Iteration 62, loss = 0.03900646\n",
      "Iteration 63, loss = 0.03881695\n",
      "Iteration 64, loss = 0.03825280\n",
      "Iteration 65, loss = 0.03818514\n",
      "Iteration 66, loss = 0.03855156\n",
      "Iteration 67, loss = 0.03769237\n",
      "Iteration 68, loss = 0.03774292\n",
      "Iteration 69, loss = 0.03739293\n",
      "Iteration 70, loss = 0.03716425\n",
      "Iteration 71, loss = 0.03733292\n",
      "Iteration 72, loss = 0.03687977\n",
      "Iteration 73, loss = 0.03704407\n",
      "Iteration 74, loss = 0.03688886\n",
      "Iteration 75, loss = 0.03685032\n",
      "Iteration 76, loss = 0.03639375\n",
      "Iteration 77, loss = 0.03654032\n",
      "Iteration 78, loss = 0.03645816\n",
      "Iteration 79, loss = 0.03615365\n",
      "Iteration 80, loss = 0.03685441\n",
      "Iteration 81, loss = 0.03658406\n",
      "Iteration 82, loss = 0.03564055\n",
      "Iteration 83, loss = 0.03610465\n",
      "Iteration 84, loss = 0.03551608\n",
      "Iteration 85, loss = 0.03533548\n",
      "Iteration 86, loss = 0.03539067\n",
      "Iteration 87, loss = 0.03553822\n",
      "Iteration 88, loss = 0.03556476\n",
      "Iteration 89, loss = 0.03497011\n",
      "Iteration 90, loss = 0.03513124\n",
      "Iteration 91, loss = 0.03478738\n",
      "Iteration 92, loss = 0.03492199\n",
      "Iteration 93, loss = 0.03541209\n",
      "Iteration 94, loss = 0.03524143\n",
      "Iteration 95, loss = 0.03489656\n",
      "Iteration 96, loss = 0.03467182\n",
      "Iteration 97, loss = 0.03534854\n",
      "Iteration 98, loss = 0.03465514\n",
      "Iteration 99, loss = 0.03473858\n",
      "Iteration 100, loss = 0.03469565\n",
      "Iteration 101, loss = 0.03461925\n",
      "Iteration 102, loss = 0.03417186\n",
      "Iteration 103, loss = 0.03469075\n",
      "Iteration 104, loss = 0.03452915\n",
      "Iteration 105, loss = 0.03475569\n",
      "Iteration 106, loss = 0.03527566\n",
      "Iteration 107, loss = 0.03384575\n",
      "Iteration 108, loss = 0.03386076\n",
      "Iteration 109, loss = 0.03456414\n",
      "Iteration 110, loss = 0.03402264\n",
      "Iteration 111, loss = 0.03397392\n",
      "Iteration 112, loss = 0.03426529\n",
      "Iteration 113, loss = 0.03447617\n",
      "Iteration 114, loss = 0.03495601\n",
      "Iteration 115, loss = 0.03411664\n",
      "Iteration 116, loss = 0.03358325\n",
      "Iteration 117, loss = 0.03378790\n",
      "Iteration 118, loss = 0.03392614\n",
      "Iteration 119, loss = 0.03377653\n",
      "Iteration 120, loss = 0.03377599\n",
      "Iteration 121, loss = 0.03407964\n",
      "Iteration 122, loss = 0.03350645\n",
      "Iteration 123, loss = 0.03418935\n",
      "Iteration 124, loss = 0.03327280\n",
      "Iteration 125, loss = 0.03379580\n",
      "Iteration 126, loss = 0.03363493\n",
      "Iteration 127, loss = 0.03412751\n",
      "Iteration 128, loss = 0.03342321\n",
      "Iteration 129, loss = 0.03379561\n",
      "Iteration 130, loss = 0.03423144\n",
      "Iteration 131, loss = 0.03326903\n",
      "Iteration 132, loss = 0.03368052\n",
      "Iteration 133, loss = 0.03423829\n",
      "Iteration 134, loss = 0.03382576\n",
      "Iteration 135, loss = 0.03326984\n",
      "Training loss did not improve more than tol=0.000100 for 10 consecutive epochs. Stopping.\n"
     ]
    },
    {
     "data": {
      "text/plain": [
       "Pipeline(steps=[('standardscaler', StandardScaler()),\n",
       "                ('mlpclassifier',\n",
       "                 MLPClassifier(alpha=1e-05, hidden_layer_sizes=(4, 1),\n",
       "                               random_state=1, verbose=True))])"
      ]
     },
     "execution_count": 19,
     "metadata": {},
     "output_type": "execute_result"
    }
   ],
   "source": [
    "# Ajustar el modelo\n",
    "mlpUnderPca.fit(X_train, y_train)"
   ]
  },
  {
   "cell_type": "code",
   "execution_count": 20,
   "metadata": {},
   "outputs": [
    {
     "name": "stdout",
     "output_type": "stream",
     "text": [
      "              precision    recall  f1-score   support\n",
      "\n",
      "         0.0       0.99      1.00      1.00    126109\n",
      "         1.0       0.97      0.95      0.96     14891\n",
      "\n",
      "    accuracy                           0.99    141000\n",
      "   macro avg       0.98      0.97      0.98    141000\n",
      "weighted avg       0.99      0.99      0.99    141000\n",
      "\n",
      "                 Precicted No Default  Predicted Default\n",
      "True No Default                125597                512\n",
      "True Default                      687              14204\n"
     ]
    }
   ],
   "source": [
    "# Realizamos la predicción sobre el conjunto de test\n",
    "mlpUnderPca_pred=mlpUnderPca.predict(X_test)\n",
    "\n",
    "print(classification_report(y_test, mlpUnderPca_pred))\n",
    "\n",
    "conf=pd.DataFrame(\n",
    "    confusion_matrix(y_test, mlpUnderPca_pred),\n",
    "    columns=['Precicted No Default', 'Predicted Default'],\n",
    "    index  =['True No Default'     , 'True Default'     ]\n",
    ")\n",
    "print(conf)"
   ]
  },
  {
   "cell_type": "code",
   "execution_count": 21,
   "metadata": {},
   "outputs": [
    {
     "data": {
      "image/png": "[encoded data removed]",
      "text/plain": [
       "<Figure size 432x288 with 1 Axes>"
      ]
     },
     "metadata": {
      "needs_background": "light"
     },
     "output_type": "display_data"
    }
   ],
   "source": [
    "# Área bajo la curva ROC:  \n",
    "    # Para calcular el área bajo la curva ROC (AUC) es necesario obtener\n",
    "    # la probabilidad de salida del clasificador con `predict_proba`\n",
    "prediccion_prob = mlpUnderPca.predict_proba(X_test)\n",
    "#la primera columna corresponde a la etiqueta 'N'\n",
    "#Es necesario convertir los True Labels a un array lógico (1 para etiqueta N)\n",
    "roc_auc_score((y_test==0), prediccion_prob[:,0])\n",
    "\n",
    "probs = mlpUnderPca.predict_proba(X_test)\n",
    "preds = probs[:,1]\n",
    "fpr, tpr, threshold = metrics.roc_curve(y_test, preds)\n",
    "roc_auc = metrics.auc(fpr, tpr)\n",
    "\n",
    "plt.title('Receiver Operating Characteristic')\n",
    "plt.plot(fpr, tpr, 'b', label = 'AUC = %0.2f' % roc_auc)\n",
    "plt.legend(loc = 'lower right')\n",
    "plt.plot([0, 1], [0, 1],'r--')\n",
    "plt.xlim([0, 1])\n",
    "plt.ylim([0, 1])\n",
    "plt.ylabel('True Positive Rate')\n",
    "plt.xlabel('False Positive Rate')\n",
    "plt.show()"
   ]
  },
  {
   "cell_type": "markdown",
   "metadata": {},
   "source": [
    "### Clasificación de nuevos valores \n",
    "Aplicamos el modelo al dataframe de evaluación:"
   ]
  },
  {
   "cell_type": "code",
   "execution_count": 22,
   "metadata": {},
   "outputs": [],
   "source": [
    "# Para iniciar con el modelo, separamos en X las variables independientes y en Y la variable dependiente:\n",
    "evaly = evalPca.loc[:, 'isFraud'].values\n",
    "evalX = evalPca.drop(columns=['isFraud']).values"
   ]
  },
  {
   "cell_type": "code",
   "execution_count": 23,
   "metadata": {},
   "outputs": [
    {
     "data": {
      "text/plain": [
       "0.9954625"
      ]
     },
     "execution_count": 23,
     "metadata": {},
     "output_type": "execute_result"
    }
   ],
   "source": [
    "# Aplicamos el modelo\n",
    "mlpUnderPca.score(evalX, evaly)"
   ]
  },
  {
   "cell_type": "code",
   "execution_count": 24,
   "metadata": {},
   "outputs": [],
   "source": [
    "# Calculamos la predicción\n",
    "predEval = mlpUnderPca.predict(evalX)"
   ]
  },
  {
   "cell_type": "code",
   "execution_count": 25,
   "metadata": {},
   "outputs": [
    {
     "data": {
      "text/html": [
       "<div>\n",
       "<style scoped>\n",
       "    .dataframe tbody tr th:only-of-type {\n",
       "        vertical-align: middle;\n",
       "    }\n",
       "\n",
       "    .dataframe tbody tr th {\n",
       "        vertical-align: top;\n",
       "    }\n",
       "\n",
       "    .dataframe thead th {\n",
       "        text-align: right;\n",
       "    }\n",
       "</style>\n",
       "<table border=\"1\" class=\"dataframe\">\n",
       "  <thead>\n",
       "    <tr style=\"text-align: right;\">\n",
       "      <th></th>\n",
       "      <th>0_pred</th>\n",
       "      <th>1_pred</th>\n",
       "    </tr>\n",
       "  </thead>\n",
       "  <tbody>\n",
       "    <tr>\n",
       "      <th>0_true</th>\n",
       "      <td>78872</td>\n",
       "      <td>328</td>\n",
       "    </tr>\n",
       "    <tr>\n",
       "      <th>1_true</th>\n",
       "      <td>35</td>\n",
       "      <td>765</td>\n",
       "    </tr>\n",
       "  </tbody>\n",
       "</table>\n",
       "</div>"
      ],
      "text/plain": [
       "        0_pred  1_pred\n",
       "0_true   78872     328\n",
       "1_true      35     765"
      ]
     },
     "execution_count": 25,
     "metadata": {},
     "output_type": "execute_result"
    }
   ],
   "source": [
    "# Matriz de confusión\n",
    "cm=confusion_matrix(evaly, predEval)\n",
    "pd.DataFrame(cm, index=('0_true','1_true'), columns=('0_pred','1_pred'))"
   ]
  },
  {
   "cell_type": "code",
   "execution_count": 26,
   "metadata": {},
   "outputs": [
    {
     "name": "stdout",
     "output_type": "stream",
     "text": [
      "              precision    recall  f1-score   support\n",
      "\n",
      "         0.0       1.00      1.00      1.00     79200\n",
      "         1.0       0.70      0.96      0.81       800\n",
      "\n",
      "    accuracy                           1.00     80000\n",
      "   macro avg       0.85      0.98      0.90     80000\n",
      "weighted avg       1.00      1.00      1.00     80000\n",
      "\n"
     ]
    }
   ],
   "source": [
    "pru = np.where(predEval > 0.4,1,0)\n",
    "print(classification_report(evaly, pru))"
   ]
  },
  {
   "cell_type": "code",
   "execution_count": 27,
   "metadata": {},
   "outputs": [
    {
     "data": {
      "image/png": "[encoded data removed]",
      "text/plain": [
       "<Figure size 432x288 with 1 Axes>"
      ]
     },
     "metadata": {
      "needs_background": "light"
     },
     "output_type": "display_data"
    }
   ],
   "source": [
    "# Curva ROC\n",
    "probs_eval = mlpUnderPca.predict_proba(evalX)\n",
    "preds_eval = probs_eval[:,1]\n",
    "fpr_eval, tpr_eval, threshold_eval = metrics.roc_curve(evaly, preds_eval)\n",
    "roc_auc_eval = metrics.auc(fpr_eval, tpr_eval)\n",
    "\n",
    "plt.title('Receiver Operating Characteristic')\n",
    "plt.plot(fpr_eval, tpr_eval, 'b', label = 'AUC = %0.2f' % roc_auc_eval)\n",
    "plt.legend(loc = 'lower right')\n",
    "plt.plot([0, 1], [0, 1],'r--')\n",
    "plt.xlim([0, 1])\n",
    "plt.ylim([0, 1])\n",
    "plt.ylabel('True Positive Rate')\n",
    "plt.xlabel('False Positive Rate')\n",
    "plt.show()"
   ]
  },
  {
   "cell_type": "markdown",
   "metadata": {},
   "source": [
    "## Guardamos la predicción\n",
    "Guardamos la predicción realizada en el dataframe de Evaluación:"
   ]
  },
  {
   "cell_type": "code",
   "execution_count": 28,
   "metadata": {},
   "outputs": [
    {
     "data": {
      "text/html": [
       "<div>\n",
       "<style scoped>\n",
       "    .dataframe tbody tr th:only-of-type {\n",
       "        vertical-align: middle;\n",
       "    }\n",
       "\n",
       "    .dataframe tbody tr th {\n",
       "        vertical-align: top;\n",
       "    }\n",
       "\n",
       "    .dataframe thead th {\n",
       "        text-align: right;\n",
       "    }\n",
       "</style>\n",
       "<table border=\"1\" class=\"dataframe\">\n",
       "  <thead>\n",
       "    <tr style=\"text-align: right;\">\n",
       "      <th></th>\n",
       "      <th>PC0</th>\n",
       "      <th>PC1</th>\n",
       "      <th>PC2</th>\n",
       "      <th>PC3</th>\n",
       "      <th>isFraud</th>\n",
       "      <th>NNUnderPCA_pred</th>\n",
       "    </tr>\n",
       "  </thead>\n",
       "  <tbody>\n",
       "    <tr>\n",
       "      <th>0</th>\n",
       "      <td>5.207935e+06</td>\n",
       "      <td>1.624910e+07</td>\n",
       "      <td>-1.693150e+05</td>\n",
       "      <td>-2.303496e+06</td>\n",
       "      <td>1.0</td>\n",
       "      <td>1.0</td>\n",
       "    </tr>\n",
       "    <tr>\n",
       "      <th>1</th>\n",
       "      <td>-8.297775e+05</td>\n",
       "      <td>6.762575e+04</td>\n",
       "      <td>-9.888326e+04</td>\n",
       "      <td>-6.125622e+04</td>\n",
       "      <td>1.0</td>\n",
       "      <td>1.0</td>\n",
       "    </tr>\n",
       "    <tr>\n",
       "      <th>2</th>\n",
       "      <td>-2.422555e+06</td>\n",
       "      <td>3.008502e+06</td>\n",
       "      <td>-1.993044e+06</td>\n",
       "      <td>-1.498430e+06</td>\n",
       "      <td>1.0</td>\n",
       "      <td>1.0</td>\n",
       "    </tr>\n",
       "    <tr>\n",
       "      <th>3</th>\n",
       "      <td>-2.585197e+06</td>\n",
       "      <td>-3.886420e+05</td>\n",
       "      <td>-1.234703e+04</td>\n",
       "      <td>1.976531e+04</td>\n",
       "      <td>1.0</td>\n",
       "      <td>1.0</td>\n",
       "    </tr>\n",
       "    <tr>\n",
       "      <th>4</th>\n",
       "      <td>-2.585782e+06</td>\n",
       "      <td>-4.008621e+05</td>\n",
       "      <td>-5.222108e+03</td>\n",
       "      <td>2.522653e+04</td>\n",
       "      <td>1.0</td>\n",
       "      <td>1.0</td>\n",
       "    </tr>\n",
       "  </tbody>\n",
       "</table>\n",
       "</div>"
      ],
      "text/plain": [
       "            PC0           PC1           PC2           PC3  isFraud  \\\n",
       "0  5.207935e+06  1.624910e+07 -1.693150e+05 -2.303496e+06      1.0   \n",
       "1 -8.297775e+05  6.762575e+04 -9.888326e+04 -6.125622e+04      1.0   \n",
       "2 -2.422555e+06  3.008502e+06 -1.993044e+06 -1.498430e+06      1.0   \n",
       "3 -2.585197e+06 -3.886420e+05 -1.234703e+04  1.976531e+04      1.0   \n",
       "4 -2.585782e+06 -4.008621e+05 -5.222108e+03  2.522653e+04      1.0   \n",
       "\n",
       "   NNUnderPCA_pred  \n",
       "0              1.0  \n",
       "1              1.0  \n",
       "2              1.0  \n",
       "3              1.0  \n",
       "4              1.0  "
      ]
     },
     "execution_count": 28,
     "metadata": {},
     "output_type": "execute_result"
    }
   ],
   "source": [
    "predNN = pd.DataFrame(predEval, columns = [\"NNUnderPCA_pred\"])\n",
    "modelResult = pd.concat([evalPca, predNN[\"NNUnderPCA_pred\"]],axis = 1)\n",
    "modelResult.head()"
   ]
  },
  {
   "cell_type": "code",
   "execution_count": 29,
   "metadata": {},
   "outputs": [
    {
     "data": {
      "text/html": [
       "<div>\n",
       "<style scoped>\n",
       "    .dataframe tbody tr th:only-of-type {\n",
       "        vertical-align: middle;\n",
       "    }\n",
       "\n",
       "    .dataframe tbody tr th {\n",
       "        vertical-align: top;\n",
       "    }\n",
       "\n",
       "    .dataframe thead th {\n",
       "        text-align: right;\n",
       "    }\n",
       "</style>\n",
       "<table border=\"1\" class=\"dataframe\">\n",
       "  <thead>\n",
       "    <tr style=\"text-align: right;\">\n",
       "      <th>NNUnderPCA_pred</th>\n",
       "      <th>0.0</th>\n",
       "      <th>1.0</th>\n",
       "      <th>All</th>\n",
       "    </tr>\n",
       "    <tr>\n",
       "      <th>isFraud</th>\n",
       "      <th></th>\n",
       "      <th></th>\n",
       "      <th></th>\n",
       "    </tr>\n",
       "  </thead>\n",
       "  <tbody>\n",
       "    <tr>\n",
       "      <th>0.0</th>\n",
       "      <td>78872</td>\n",
       "      <td>328</td>\n",
       "      <td>79200</td>\n",
       "    </tr>\n",
       "    <tr>\n",
       "      <th>1.0</th>\n",
       "      <td>35</td>\n",
       "      <td>765</td>\n",
       "      <td>800</td>\n",
       "    </tr>\n",
       "    <tr>\n",
       "      <th>All</th>\n",
       "      <td>78907</td>\n",
       "      <td>1093</td>\n",
       "      <td>80000</td>\n",
       "    </tr>\n",
       "  </tbody>\n",
       "</table>\n",
       "</div>"
      ],
      "text/plain": [
       "NNUnderPCA_pred    0.0   1.0    All\n",
       "isFraud                            \n",
       "0.0              78872   328  79200\n",
       "1.0                 35   765    800\n",
       "All              78907  1093  80000"
      ]
     },
     "execution_count": 29,
     "metadata": {},
     "output_type": "execute_result"
    }
   ],
   "source": [
    "pd.crosstab(index=modelResult['isFraud'],columns=modelResult['NNUnderPCA_pred'], margins=True)"
   ]
  },
  {
   "cell_type": "code",
   "execution_count": 30,
   "metadata": {},
   "outputs": [],
   "source": [
    "modelResult.to_csv('/tmp/eval_over_pca_pred_rn.csv', index = False)"
   ]
  },
  {
   "cell_type": "code",
   "execution_count": 31,
   "metadata": {},
   "outputs": [],
   "source": [
    "s3.upload_file(Bucket = BUCKET_NAME, Key = 'eval_over_pca_pred_rn.csv', Filename = '/tmp/eval_over_pca_pred_rn.csv')"
   ]
  },
  {
   "cell_type": "code",
   "execution_count": 32,
   "metadata": {},
   "outputs": [],
   "source": [
    "# Eliminar el fichero de la ruta tmp de la máquina EC2 para no ocupar espacio.\n",
    "!rm /tmp/eval_over_pca_pred_rn.csv"
   ]
  },
  {
   "cell_type": "code",
   "execution_count": null,
   "metadata": {},
   "outputs": [],
   "source": []
  }
 ],
 "metadata": {
  "kernelspec": {
   "display_name": "Python 3",
   "language": "python",
   "name": "python3"
  },
  "language_info": {
   "codemirror_mode": {
    "name": "ipython",
    "version": 3
   },
   "file_extension": ".py",
   "mimetype": "text/x-python",
   "name": "python",
   "nbconvert_exporter": "python",
   "pygments_lexer": "ipython3",
   "version": "3.7.7"
  }
 },
 "nbformat": 4,
 "nbformat_minor": 2
}
